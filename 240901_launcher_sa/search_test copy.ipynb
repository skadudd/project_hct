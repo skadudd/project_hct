{
 "cells": [
  {
   "cell_type": "code",
   "execution_count": 214,
   "metadata": {},
   "outputs": [],
   "source": [
    "import re\n",
    "import pandas as pd\n",
    "import requests\n",
    "from bs4 import BeautifulSoup\n",
    "import random\n",
    "import datetime\n",
    "# from fake_useragent import UserAgent\n",
    "import time\n",
    "import json\n",
    "\n",
    "from itertools import combinations\n",
    "from difflib import SequenceMatcher\n",
    "\n",
    "# from google.cloud import bigquery\n",
    "# from google.cloud.bigquery import job\n",
    "from tqdm import tqdm\n",
    "import pandas as pd\n",
    "# import google.auth\n",
    "\n",
    "from openai import OpenAI\n",
    "import openai\n",
    "\n",
    "import konlpy\n",
    "from konlpy.tag import Kkma, Komoran, Okt, Hannanum\n",
    "\n",
    "# PROJCECT = 'ballosodeuk'\n",
    "# credentials, project = google.auth.default(\n",
    "#     scopes=[\n",
    "#         \"https://www.googleapis.com/auth/drive\",\n",
    "#         \"https://www.googleapis.com/auth/bigquery\",\n",
    "#     ]\n",
    "# )\n",
    "# bq = bigquery.Client(credentials=credentials,project=PROJCECT)\n",
    "\n",
    "# key = pd.read_csv('./aikey.csv')['key'].values # OpenAI Secret\n",
    "okt = Okt()\n"
   ]
  },
  {
   "cell_type": "markdown",
   "metadata": {},
   "source": [
    "실험 검색어 >> "
   ]
  },
  {
   "cell_type": "code",
   "execution_count": 3,
   "metadata": {},
   "outputs": [
    {
     "data": {
      "text/html": [
       "<div>\n",
       "<style scoped>\n",
       "    .dataframe tbody tr th:only-of-type {\n",
       "        vertical-align: middle;\n",
       "    }\n",
       "\n",
       "    .dataframe tbody tr th {\n",
       "        vertical-align: top;\n",
       "    }\n",
       "\n",
       "    .dataframe thead th {\n",
       "        text-align: right;\n",
       "    }\n",
       "</style>\n",
       "<table border=\"1\" class=\"dataframe\">\n",
       "  <thead>\n",
       "    <tr style=\"text-align: right;\">\n",
       "      <th></th>\n",
       "      <th>sub_id</th>\n",
       "      <th>product_name</th>\n",
       "      <th>ori_url</th>\n",
       "      <th>product_id</th>\n",
       "      <th>item_id</th>\n",
       "      <th>vendoritemid</th>\n",
       "    </tr>\n",
       "  </thead>\n",
       "  <tbody>\n",
       "    <tr>\n",
       "      <th>0</th>\n",
       "      <td>270f7075-5d2f-3aaf-bdc3-5e2e240608e4</td>\n",
       "      <td>대도갤러리 키높이 올루바 긴문형 12자 장롱세트</td>\n",
       "      <td>https://www.coupang.com/vp/products/100064921?...</td>\n",
       "      <td>100064921</td>\n",
       "      <td>305756598</td>\n",
       "      <td>70316548415</td>\n",
       "    </tr>\n",
       "    <tr>\n",
       "      <th>1</th>\n",
       "      <td>6213b1e4-21e3-34ec-bbd3-1f009478fc59</td>\n",
       "      <td>1+1 특가이벤트 춘하추동 흑풍 올림찌</td>\n",
       "      <td>https://www.coupang.com/vp/products/100076920?...</td>\n",
       "      <td>100076920</td>\n",
       "      <td>305787463</td>\n",
       "      <td>3754104624</td>\n",
       "    </tr>\n",
       "  </tbody>\n",
       "</table>\n",
       "</div>"
      ],
      "text/plain": [
       "                                 sub_id                product_name  \\\n",
       "0  270f7075-5d2f-3aaf-bdc3-5e2e240608e4  대도갤러리 키높이 올루바 긴문형 12자 장롱세트   \n",
       "1  6213b1e4-21e3-34ec-bbd3-1f009478fc59       1+1 특가이벤트 춘하추동 흑풍 올림찌   \n",
       "\n",
       "                                             ori_url product_id    item_id  \\\n",
       "0  https://www.coupang.com/vp/products/100064921?...  100064921  305756598   \n",
       "1  https://www.coupang.com/vp/products/100076920?...  100076920  305787463   \n",
       "\n",
       "  vendoritemid  \n",
       "0  70316548415  \n",
       "1   3754104624  "
      ]
     },
     "execution_count": 3,
     "metadata": {},
     "output_type": "execute_result"
    }
   ],
   "source": [
    "search_df = pd.read_csv(r\"C:\\Users\\Owner\\Downloads\\240902_cp_sampledata.csv\",dtype=str)\n",
    "search_df.head(2)"
   ]
  },
  {
   "cell_type": "markdown",
   "metadata": {},
   "source": [
    "gpt api > 이것도 메소드로 넣을까??\n"
   ]
  },
  {
   "cell_type": "code",
   "execution_count": 193,
   "metadata": {},
   "outputs": [
    {
     "name": "stdout",
     "output_type": "stream",
     "text": [
      "ChatCompletionMessage(content='Hello! How can I assist you today?', refusal=None, role='assistant', function_call=None, tool_calls=None)\n"
     ]
    }
   ],
   "source": [
    "client = OpenAI(api_key=key[1], organization='org-b1AmHOsZydHwAp7obHQA860F')\n",
    "\n",
    "completion = client.chat.completions.create(\n",
    "  model=\"gpt-3.5-turbo-0125\",\n",
    "  messages=[\n",
    "    {\"role\": \"system\", \"content\": \"You are a helpful assistant.\"},\n",
    "    {\"role\": \"user\", \"content\": \"Hello!\"}\n",
    "  ]\n",
    ")\n",
    "\n",
    "print(completion.choices[0].message)\n"
   ]
  },
  {
   "cell_type": "markdown",
   "metadata": {},
   "source": [
    "## 작업\n",
    "\n",
    "### 목표\n",
    ">상세\n",
    "- 기획팀에서 정리한 상품 데이터를 기반으로 매칭률 60% 이상을 맞추는 것이 목표 \n",
    "- 상품명, 아이템ID, 제품ID, 벤더 ID 피처 컬럼이 있음.\n",
    "- 상품명의 10자를 서치API로 전달하여 10개의 상품리스트를 얻게 됨.\n",
    "- 전달한 상품명의 피처컬럼이 상품리스트 10개의 피처리스트에 있으면 성공.\n",
    "\n",
    ">참조\n",
    "- 벤더 ID가 없는 상품도 있는데, 그럼 나머지 2개가 맞아야 함.\n",
    "- 10개 이상의 리스트를 받아서 몇위인지 확인하는 등의 시도도 해보셔도 됨.\n",
    "- 기획에서 얻은 쿠팡 상품 DB가 잘못된 케이스도 좀 있다고 함.. 일단 로직 돌려보시고, 정 이상하면 검증하기로 해요\n",
    "\n",
    ">메소드 설명\n",
    "- get_randQuery : 상품명 추출\n",
    "- get_options : 쿠팡 상품명 구조 상, \",\" 이후는 옵션임. 옵션과 상품명을 분기하는 기능.\n",
    "- query_logic_forward : 검색어 생성, 앞 10자\n",
    "- query_logic_backward : 검색어 생성, 뒤 10자\n",
    "- get_morps : 검색어 생성 - 유사도, 어절 및 형태소 추출\n",
    "- similarity : 검색어 생성 - 유사도, 유사도 추출\n",
    "- find_top_combinations : 검색어 생성, 어절 조합의 유사도 기준 정렬\n",
    "- get_json_from_url : 서치API 리퀘스트\n",
    "- get_parse_itemId : 서치 API 검색 결과 정리를 위한 기능\n",
    "- set_table : 서치 API 검색 결과 테이블"
   ]
  },
  {
   "cell_type": "code",
   "execution_count": 365,
   "metadata": {},
   "outputs": [],
   "source": [
    "class coupang_sa():\n",
    "    def __init__(self,dataset):\n",
    "        self.search_df = dataset\n",
    "\n",
    "        self.random_queryset = self.get_randQuery()\n",
    "        self.query_options = self.get_options()\n",
    "        self.querymorphs = self.get_morps()\n",
    "        \n",
    "    ## 모수 추출\n",
    "    def get_randQuery(self) -> list : #\n",
    "        rand = random.randint(1,len(search_df))\n",
    "        rand_query = list(search_df['product_name'])[rand]\n",
    "        return rand_query\n",
    "\n",
    "    ## 옵션 추출 basic\n",
    "    def get_options(self) -> list:\n",
    "        split_query = re.split(\",\",self.random_queryset)\n",
    "        if len(split_query) == 1:\n",
    "            return split_query\n",
    "        else:\n",
    "            del split_query[0]\n",
    "            return split_query\n",
    "            \n",
    "    def query_logic_forward(self):\n",
    "        seed = self.query_options[0]\n",
    "        forward = ''\n",
    "        # 앞 10자\n",
    "        for i in range(len(seed)):\n",
    "            forward += seed[i]\n",
    "\n",
    "            if len(\"\".join(forward.split())) == 11:\n",
    "                print(forward, len(\"\".join(forward.split())))\n",
    "\n",
    "                break\n",
    "\n",
    "        return forward\n",
    "\n",
    "    def query_logic_backward(self):\n",
    "        seed = self.query_options[0]\n",
    "        backward = ''\n",
    "        # 뒤 10자\n",
    "        for i in range(len(seed) -1,-1,-1):\n",
    "            backward += seed[i]\n",
    "\n",
    "            if len(\"\".join(backward.split())) == 11:\n",
    "                backward = backward[::-1]\n",
    "                print(backward, len(\"\".join(backward.split())))\n",
    "\n",
    "                break\n",
    "\n",
    "        return backward\n",
    "\n",
    "    def get_morps(self) -> list :\n",
    "        phrases = okt.phrases(self.random_queryset)\n",
    "        return phrases\n",
    "\n",
    "    ## 키워드 추출 intermediate\n",
    "    def similarity(self, a, b) -> float:\n",
    "        return SequenceMatcher(None, a, b).ratio()\n",
    "    \n",
    "    def find_top_combinations(self, max_len=11, top_n=5) -> list[tuple[str,float]]:\n",
    "        combinations_list = []\n",
    "        # print(self.querymorphs)\n",
    "        # print(self.random_queryset)\n",
    "        for r in range(1, len(self.querymorphs) + 1):\n",
    "            for combo in combinations(self.querymorphs, r):\n",
    "                combined_phrase = \" \".join(combo).replace(\" \", \"\")\n",
    "                if len(combined_phrase) <= max_len:\n",
    "                    sim = self.similarity(self.random_queryset, combined_phrase)\n",
    "                    combinations_list.append((\" \".join(combo), sim))\n",
    "\n",
    "        # print(111222,self.querymorphs, self.random_queryset)\n",
    "        combinations_list.sort(key=lambda x: x[1], reverse=True)\n",
    "        return combinations_list[:top_n]\n",
    "    \n",
    "    # 서치api 작동\n",
    "    def get_json_from_url(self, query) -> json : \n",
    "        url = f'https://api.adjoin.co.kr/cou/api.php?code=balsosa1&q={query}&c=10'\n",
    "        try:\n",
    "            response = requests.get(url)\n",
    "            response.raise_for_status()  \n",
    "            data = response.json() \n",
    "            return data\n",
    "        except requests.exceptions.HTTPError as http_err:\n",
    "            print(f\"HTTP error occurred: {http_err}\") \n",
    "        except Exception as err:\n",
    "            print(f\"An error occurred: {err}\")\n",
    "        return None\n",
    "    \n",
    "    def get_parse_itemId(self, items,order) -> list :\n",
    "        if order == 'itemid':\n",
    "            parsed = re.search(r'itemId%3D(\\d+)', items).group(1)\n",
    "        elif order == 'verdorItemId':\n",
    "            parsed = re.search(r'vendorItemId%3D(\\d+)', items).group(1)\n",
    "        \n",
    "        return parsed\n",
    "\n",
    "    def set_table(self, json_data) -> pd.DataFrame :\n",
    "        product_name = [str(item['productName']) for item in json_data['data']['productData']]\n",
    "        product_id = [str(item['productId']) for item in json_data['data']['productData']]\n",
    "        item_id = [self.get_parse_itemId(item['productUrl'],'itemid') for item in json_data['data']['productData']]\n",
    "        vendor_id = [self.get_parse_itemId(item['productUrl'],'verdorItemId') for item in json_data['data']['productData']]\n",
    "\n",
    "        api_df = pd.DataFrame({\n",
    "            'product_name' : product_name,\n",
    "            'product_id' : product_id,\n",
    "            'item_id' : item_id,\n",
    "            'vendor_id' : vendor_id})\n",
    "        \n",
    "        return api_df\n",
    "    \n"
   ]
  },
  {
   "cell_type": "code",
   "execution_count": 366,
   "metadata": {},
   "outputs": [
    {
     "name": "stdout",
     "output_type": "stream",
     "text": [
      "크리스찬 [Christ 11\n",
      "T217 네이비 체크 셔츠 11\n"
     ]
    },
    {
     "data": {
      "text/plain": [
       "['크리스찬 [Christ', 'T217 네이비 체크 셔츠']"
      ]
     },
     "execution_count": 366,
     "metadata": {},
     "output_type": "execute_result"
    }
   ],
   "source": [
    "dataset = pd.read_csv(r\"C:\\Users\\Owner\\Downloads\\240902_cp_sampledata.csv\",dtype=str)\n",
    "\n",
    "cp = coupang_sa(dataset)\n",
    "\n",
    "cp.query_logic()\n"
   ]
  },
  {
   "cell_type": "code",
   "execution_count": 233,
   "metadata": {},
   "outputs": [
    {
     "data": {
      "text/plain": [
       "float"
      ]
     },
     "execution_count": 233,
     "metadata": {},
     "output_type": "execute_result"
    }
   ],
   "source": [
    "type(cp.similarity('감사합니다','감사다'))"
   ]
  }
 ],
 "metadata": {
  "kernelspec": {
   "display_name": "pymc",
   "language": "python",
   "name": "python3"
  },
  "language_info": {
   "codemirror_mode": {
    "name": "ipython",
    "version": 3
   },
   "file_extension": ".py",
   "mimetype": "text/x-python",
   "name": "python",
   "nbconvert_exporter": "python",
   "pygments_lexer": "ipython3",
   "version": "3.9.18"
  }
 },
 "nbformat": 4,
 "nbformat_minor": 2
}
