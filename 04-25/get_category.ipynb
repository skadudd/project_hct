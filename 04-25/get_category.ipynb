{
 "cells": [
  {
   "cell_type": "code",
   "execution_count": null,
   "metadata": {},
   "outputs": [],
   "source": [
    "import pandas as pd\n",
    "from google.cloud import bigquery\n",
    "from google.cloud.bigquery import job\n",
    "from datetime import date, timedelta\n",
    "# 판다스 엑셀 익스포트를 위한 라이브러리\n",
    "import openpyxl\n",
    "\n",
    "\n",
    "PROJECT = \"ballosodeuk\"\n",
    "bq = bigquery.Client(project=PROJECT)\n",
    "\n",
    "\n",
    "query = \"\"\"\n",
    "select a.*, survival_prob, is_churn, current_shoji, frequency, recency, monetary, grade, loyalty_segment, days_since_last_activity\n",
    "from\n",
    "  (\n",
    "    select * from `dm.agg_user_category_rank`\n",
    "    where power_1_2 is not null\n",
    "  ) a\n",
    "left join\n",
    "  (\n",
    "    select user_id, survival_prob, is_churn, loyalty_segment, days_since_last_activity\n",
    "    from `dm.agg_user_churn_daily`\n",
    "    where cur_date = current_date() - 1\n",
    "  ) b on a.user_id = b.user_id\n",
    "left join \n",
    "  (\n",
    "    select *\n",
    "    from `dm.agg_user_rfm_daily`\n",
    "    where register_dt = current_date() -1\n",
    "  ) c on a.user_id = c.user_id\n",
    "\"\"\"\n",
    "\n",
    "df = bq.query(query).to_dataframe()"
   ]
  },
  {
   "cell_type": "code",
   "execution_count": 94,
   "metadata": {},
   "outputs": [],
   "source": [
    "# df.to_excel('seg_power.xlsx', engine='openpyxl', encoding='utf-8-sig', index=False)"
   ]
  },
  {
   "cell_type": "code",
   "execution_count": null,
   "metadata": {},
   "outputs": [],
   "source": [
    "df.is_churn.value_counts()"
   ]
  },
  {
   "cell_type": "code",
   "execution_count": null,
   "metadata": {},
   "outputs": [],
   "source": [
    "df.info()"
   ]
  },
  {
   "cell_type": "code",
   "execution_count": null,
   "metadata": {},
   "outputs": [],
   "source": [
    "# 전처리 및 null 처리\n",
    "import re\n",
    "import datetime\n",
    "today = datetime.datetime.now().date()\n",
    "\n",
    "df.latest_order_dt = pd.to_datetime(df.latest_order_dt)\n",
    "\n",
    "df['latest_order_dt'] = (today - df.latest_order_dt.dt.date).dt.days\n",
    "df.info()\n",
    "\n",
    "\n",
    "power_cols = [col for col in df.columns.tolist() if col.startswith('power')]\n",
    "ranking_cols = [col for col in df.columns.tolist() if col.startswith('ranking')]\n",
    "df[power_cols] = df[power_cols].fillna(0)\n",
    "df[power_cols] = df[power_cols].astype(float)\n",
    "\n",
    "df['power_1_2'] = df['power_1_2'].fillna(0)\n",
    "df['power_1_2'] = df['power_1_2'].astype(float)\n",
    "\n",
    "df['current_shoji'] = df['current_shoji'].fillna(0)\n",
    "df['current_shoji'] = df['current_shoji'].astype(float)\n",
    "\n",
    "df['frequency'] = df['frequency'].fillna(0)\n",
    "df['frequency'] = df['frequency'].astype(float)\n",
    "\n",
    "df['is_churn'] = df['is_churn'].fillna(True)\n",
    "\n",
    "df['recency'] = df['recency'].fillna(0)\n",
    "df['recency'] = df['recency'].astype(float)\n",
    "\n",
    "df['monetary'] = df['monetary'].fillna(0)\n",
    "df['monetary'] = df['monetary'].astype(float)\n",
    "\n",
    "df['grade'] = df['grade'].fillna(\"DEAD\")\n",
    "df['grade'] = df['grade'].astype(str)\n",
    "\n",
    "df['current_shoji'] = df['current_shoji'].fillna(0)\n",
    "df['current_shoji'] = df['current_shoji'].astype(float)\n",
    "\n",
    "df['survival_prob'] = df['survival_prob'].fillna(0)\n",
    "df['survival_prob'] = df['survival_prob'].astype(float)\n",
    "\n",
    "df['loyalty_segment'] = df['loyalty_segment'].fillna(\"DEAD\")\n",
    "df['loyalty_segment'] = df['loyalty_segment'].astype(str)\n",
    "\n",
    "df['days_since_last_activity'] = df['days_since_last_activity'].fillna(9999)\n",
    "df['days_since_last_activity'] = df['days_since_last_activity'].astype(float)\n",
    "\n"
   ]
  },
  {
   "cell_type": "code",
   "execution_count": 101,
   "metadata": {},
   "outputs": [],
   "source": [
    "# 스파스 인코딩\n",
    "\n",
    "power_cols = [col for col in df.columns.tolist() if col.startswith('power')]\n",
    "ranking_cols = [col for col in df.columns.tolist() if col.startswith('ranking')]\n",
    "tst = df[ranking_cols+power_cols].copy()\n",
    "\n",
    "pivot_dfs = []\n",
    "\n",
    "# ranking_1_x와 power_1_x 처리\n",
    "for i in range(1, 6):  \n",
    "    # NaN 값을 피벗 전에 처리\n",
    "    temp_df = tst[[f'ranking_1_{i}', f'power_1_{i}']].copy()\n",
    "    temp_df[f'ranking_1_{i}'] = temp_df[f'ranking_1_{i}'].fillna('unknown')  # 또는 다른 값으로 대체\n",
    "    \n",
    "    pivot_df = temp_df.melt(\n",
    "        id_vars=[f'ranking_1_{i}'], \n",
    "        value_vars=[f'power_1_{i}']\n",
    "    ).reset_index()\\\n",
    "    .pivot(\n",
    "        index='index', \n",
    "        columns=f'ranking_1_{i}', \n",
    "        values='value'\n",
    "    ).fillna(0)\n",
    "    \n",
    "    # unknown 컬럼 제거 (필요한 경우)\n",
    "    if 'unknown' in pivot_df.columns:\n",
    "        pivot_df = pivot_df.drop('unknown', axis=1)\n",
    "    \n",
    "    pivot_df.columns = [f'{col}_1_{i}' for col in pivot_df.columns]\n",
    "    pivot_dfs.append(pivot_df)\n",
    "\n",
    "# ranking_2_x와 power_2_x 처리도 동일하게 수정\n",
    "for i in range(1, 11):\n",
    "    temp_df = tst[[f'ranking_2_{i}', f'power_2_{i}']].copy()\n",
    "    temp_df[f'ranking_2_{i}'] = temp_df[f'ranking_2_{i}'].fillna('unknown')\n",
    "    \n",
    "    pivot_df = temp_df.melt(\n",
    "        id_vars=[f'ranking_2_{i}'], \n",
    "        value_vars=[f'power_2_{i}']\n",
    "    ).reset_index()\\\n",
    "    .pivot(\n",
    "        index='index', \n",
    "        columns=f'ranking_2_{i}', \n",
    "        values='value'\n",
    "    ).fillna(0)\n",
    "    \n",
    "    if 'unknown' in pivot_df.columns:\n",
    "        pivot_df = pivot_df.drop('unknown', axis=1)\n",
    "        \n",
    "    pivot_df.columns = [f'{col}_2_{i}' for col in pivot_df.columns]\n",
    "    pivot_dfs.append(pivot_df)\n",
    "\n",
    "# 모든 피벗 테이블을 index를 기준으로 결합\n",
    "final_df = pd.concat(pivot_dfs, axis=1)"
   ]
  },
  {
   "cell_type": "code",
   "execution_count": null,
   "metadata": {},
   "outputs": [],
   "source": [
    "final_df"
   ]
  },
  {
   "cell_type": "code",
   "execution_count": 69,
   "metadata": {},
   "outputs": [],
   "source": [
    "df_list = df[['depth1_list','depth1plus_list', 'depth3_list']]\n",
    "df_num = df[['user_id','latest_order_dt', 'total_purchase_count','survival_prob', 'is_churn',\n",
    "       'current_shoji', 'frequency', 'recency', 'monetary', 'grade',\n",
    "       'loyalty_segment', 'days_since_last_activity']]\n",
    "\n"
   ]
  },
  {
   "cell_type": "code",
   "execution_count": null,
   "metadata": {},
   "outputs": [],
   "source": [
    "df_num_sp = df_num.merge(final_df, left_index=True, right_index=True)\n",
    "df_num_sp.grade.value_counts()"
   ]
  },
  {
   "cell_type": "code",
   "execution_count": null,
   "metadata": {},
   "outputs": [],
   "source": [
    "df_num_sp = df_num_sp.query(\"grade != 'DEAD'\")\n",
    "df_num_sp.head()"
   ]
  },
  {
   "cell_type": "markdown",
   "metadata": {},
   "source": [
    "## 모델"
   ]
  },
  {
   "cell_type": "code",
   "execution_count": 88,
   "metadata": {},
   "outputs": [],
   "source": [
    "# from sklearn.model_selection import train_test_split\n",
    "# from sklearn.ensemble import RandomForestClassifier\n",
    "# from sklearn.metrics import accuracy_score, classification_report\n",
    "# from sklearn.preprocessing import StandardScaler\n",
    "# from sklearn.preprocessing import OneHotEncoder\n",
    "# from sklearn.preprocessing import LabelEncoder\n",
    "\n",
    "# from sklearn.compose import ColumnTransformer\n",
    "# from sklearn.pipeline import Pipeline\n",
    "\n",
    "pd.options.display.max_columns = None\n",
    "\n",
    "\n",
    "\n"
   ]
  },
  {
   "cell_type": "code",
   "execution_count": null,
   "metadata": {},
   "outputs": [],
   "source": [
    "# le = LabelEncoder()\n",
    "# sc = StandardScaler()\n",
    "\n",
    "# grade_order = {\n",
    "#     'IRON': 0,    # 가장 낮은 등급\n",
    "#     'SILVER': 1,\n",
    "#     'GOLD': 2,\n",
    "#     'VIP': 3,     # 가장 높은 등급\n",
    "# }\n",
    "\n",
    "# # 순서대로 매핑\n",
    "# df_num_sp['grade_encoded'] = df_num_sp['grade'].map(grade_order)\n",
    "\n",
    "df_num_sp['is_churn'] = df_num_sp.is_churn.map({True: 1, False: 0})"
   ]
  },
  {
   "cell_type": "code",
   "execution_count": null,
   "metadata": {},
   "outputs": [],
   "source": [
    "\n",
    "df_num_sp"
   ]
  },
  {
   "cell_type": "code",
   "execution_count": null,
   "metadata": {},
   "outputs": [],
   "source": [
    "df_num_sp.nan_1_4.value_counts()"
   ]
  }
 ],
 "metadata": {
  "kernelspec": {
   "display_name": "pymc",
   "language": "python",
   "name": "python3"
  },
  "language_info": {
   "codemirror_mode": {
    "name": "ipython",
    "version": 3
   },
   "file_extension": ".py",
   "mimetype": "text/x-python",
   "name": "python",
   "nbconvert_exporter": "python",
   "pygments_lexer": "ipython3",
   "version": "3.9.18"
  }
 },
 "nbformat": 4,
 "nbformat_minor": 2
}
