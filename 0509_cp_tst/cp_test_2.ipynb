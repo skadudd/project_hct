{
 "cells": [
  {
   "cell_type": "code",
   "execution_count": 2,
   "metadata": {},
   "outputs": [],
   "source": [
    "import pandas as pd\n",
    "import numpy as np\n",
    "import os\n",
    "import sys\n",
    "import json\n",
    "import requests\n",
    "import gc\n",
    "from tqdm import tqdm\n",
    "from datetime import datetime, timedelta\n",
    "import openpyxl\n",
    "pd.options.display.max_columns = 100\n",
    "pd.options.display.max_rows=1000\n",
    "\n",
    "pd.options.display.max_columns = 100\n",
    "pd.options.display.max_rows=1000\n"
   ]
  },
  {
   "cell_type": "code",
   "execution_count": 3,
   "metadata": {},
   "outputs": [],
   "source": [
    "access_key = pd.read_csv('../../cp_data.csv').iloc[0,1]\n",
    "secret_key = pd.read_csv('../../cp_data.csv').iloc[1,1]"
   ]
  },
  {
   "cell_type": "code",
   "execution_count": 7,
   "metadata": {},
   "outputs": [],
   "source": [
    "report_type = 'orders'\n",
    "report_type = 'cancels'"
   ]
  },
  {
   "cell_type": "code",
   "execution_count": 225,
   "metadata": {},
   "outputs": [
    {
     "name": "stdout",
     "output_type": "stream",
     "text": [
      "Error retrieving data: No error message available\n"
     ]
    }
   ],
   "source": [
    "# # 원본\n",
    "# import requests \n",
    "# import hmac\n",
    "# import hashlib\n",
    "# from time import gmtime, strftime\n",
    "\n",
    "# REQUEST_METHOD = \"GET\"\n",
    "# DOMAIN = \"https://api-gateway.coupang.com\"\n",
    "# URL = f\"/v2/providers/affiliate_open_api/apis/openapi/v1/reports/{report_type}\"\n",
    "\n",
    "# # Replace with your own ACCESS_KEY, SECRET_KEY, startDate, endDate\n",
    "# ACCESS_KEY = access_key\n",
    "# SECRET_KEY = secret_key\n",
    "# startDate = \"20240403\"\n",
    "# endDate = \"20240508\"\n",
    "# # Assuming subId is not required, if needed add it to the query parameters\n",
    "\n",
    "# def generateHmac(method, url, secretKey, accessKey, queryString=\"\"):\n",
    "#     # Correct formatting for date-time if needed\n",
    "#     datetimeGMT = strftime('%y%m%d', gmtime()) + 'T' + strftime('%H%M%S', gmtime()) + 'Z'\n",
    "#     message = datetimeGMT + method + url + queryString\n",
    "\n",
    "#     signature = hmac.new(bytes(secretKey, 'utf-8'), \n",
    "#                          message.encode('utf-8'), \n",
    "#                          hashlib.sha256).hexdigest()\n",
    "\n",
    "#     return \"CEA algorithm=HmacSHA256, access-key={}, signed-date={}, signature={}\".format(accessKey, datetimeGMT, signature)\n",
    "\n",
    "\n",
    "# def fetch_data(page):\n",
    "#     queryString = \"startDate={}&endDate={}&page={}\".format(startDate, endDate, page)\n",
    "#     fullURL = \"{}{}?{}\".format(DOMAIN, URL, queryString)\n",
    "#     authorization = generateHmac(REQUEST_METHOD, URL, SECRET_KEY, ACCESS_KEY, queryString)\n",
    "#     response = requests.request(method=REQUEST_METHOD, url=fullURL,\n",
    "#                                 headers={\n",
    "#                                     \"Authorization\": authorization,\n",
    "#                                     \"Content-Type\": \"application/json\"\n",
    "#                                 })\n",
    "#     return response.json()\n",
    "\n",
    "# def main():\n",
    "#     page = 0\n",
    "#     results = []\n",
    "\n",
    "#     while True:\n",
    "#         try:\n",
    "#             response = fetch_data(page)\n",
    "#             if 'data' in response:\n",
    "#                 results.extend(response['data'])\n",
    "#                 if len(response['data']) < 1000:\n",
    "#                     break\n",
    "#                 page += 1\n",
    "#                 print(response['data'])\n",
    "#             else:\n",
    "#                 # Handle errors or missing 'data' key\n",
    "#                 print(f\"Error retrieving data: {response.get('message', 'No error message available')}\")\n",
    "#                 break\n",
    "#         except:\n",
    "#             print(\"pass\")\n",
    "#         print(f\"Total items fetched: {len(results)}\")\n",
    "\n",
    "#     return results\n",
    "\n",
    "# # Execute the main function to handle pagination\n",
    "# all_data = main()\n",
    "# df = pd.DataFrame(all_data)"
   ]
  },
  {
   "cell_type": "code",
   "execution_count": 9,
   "metadata": {},
   "outputs": [
    {
     "name": "stderr",
     "output_type": "stream",
     "text": [
      "Fetching date ranges:  33%|███▎      | 1/3 [00:03<00:07,  3.77s/it]"
     ]
    },
    {
     "name": "stdout",
     "output_type": "stream",
     "text": [
      "Failed to fetch data: HT|TP 504 - {\n",
      "  \"code\" : \"ERROR\",\n",
      "  \"message\" : \"Request timed out, if the situation continues consider applying timeout extension.\",\n",
      "  \"transactionId\" : \"f9aee26e-d51f-4f1f-b9ff-d3a2fdcb2ecc\"\n",
      "}\n"
     ]
    },
    {
     "name": "stderr",
     "output_type": "stream",
     "text": [
      "Fetching date ranges:  67%|██████▋   | 2/3 [00:06<00:03,  3.42s/it]"
     ]
    },
    {
     "name": "stdout",
     "output_type": "stream",
     "text": [
      "Failed to fetch data: HT|TP 504 - {\n",
      "  \"code\" : \"ERROR\",\n",
      "  \"message\" : \"Request timed out, if the situation continues consider applying timeout extension.\",\n",
      "  \"transactionId\" : \"d0a34e83-083a-43ae-9c7c-e5cfe9c3d372\"\n",
      "}\n"
     ]
    },
    {
     "name": "stderr",
     "output_type": "stream",
     "text": [
      "Fetching date ranges:  67%|██████▋   | 2/3 [00:07<00:03,  3.84s/it]\n"
     ]
    }
   ],
   "source": [
    "## 날짜 페이징\n",
    "import requests \n",
    "import hmac\n",
    "import hashlib\n",
    "from time import gmtime, strftime\n",
    "from datetime import datetime, timedelta\n",
    "import pandas as pd\n",
    "\n",
    "REQUEST_METHOD = \"GET\"\n",
    "DOMAIN = \"https://api-gateway.coupang.com\"\n",
    "URL = f\"/v2/providers/affiliate_open_api/apis/openapi/v1/reports/{report_type}\"\n",
    "\n",
    "\n",
    "def generateHmac(method, url, secretKey, accessKey, queryString=\"\"):\n",
    "    datetimeGMT = strftime('%y%m%d', gmtime()) + 'T' + strftime('%H%M%S', gmtime()) + 'Z'\n",
    "    message = datetimeGMT + method + url + queryString\n",
    "    signature = hmac.new(bytes(secretKey, 'utf-8'), message.encode('utf-8'), hashlib.sha256).hexdigest()\n",
    "    return f\"CEA algorithm=HmacSHA256, access-key={accessKey}, signed-date={datetimeGMT}, signature={signature}\"\n",
    "\n",
    "from tqdm import tqdm  # Import tqdm\n",
    "\n",
    "def fetch_data(startDate, endDate, page):\n",
    "    queryString = f\"startDate={startDate}&endDate={endDate}&page={page}\"\n",
    "    fullURL = f\"{DOMAIN}{URL}?{queryString}\"\n",
    "    authorization = generateHmac(REQUEST_METHOD, URL, SECRET_KEY, ACCESS_KEY, queryString)\n",
    "    headers = {\"Authorization\": authorization, \"Content-Type\": \"application/json\"}\n",
    "    response = requests.get(fullURL, headers=headers)\n",
    "    \n",
    "    if response.status_code != 200:\n",
    "        print(f\"Failed to fetch data: HT|TP {response.status_code} - {response.text}\")\n",
    "        return None\n",
    "    \n",
    "    try:\n",
    "        return response.json()\n",
    "    except ValueError:\n",
    "        print(f\"Failed to decode JSON from response: {response.text}\")\n",
    "        return None\n",
    "\n",
    "def fetch_data_in_chunks(start_date, end_date):\n",
    "    start = datetime.strptime(start_date, '%Y%m%d')\n",
    "    end = datetime.strptime(end_date, '%Y%m%d')\n",
    "    results = []\n",
    "\n",
    "    date_range = (end - start).days // 30 + 1  # Calculate the number of chunks\n",
    "    date_chunks = tqdm(range(date_range), desc=\"Fetching date ranges\")\n",
    "\n",
    "    for _ in date_chunks:\n",
    "        chunk_end = start + timedelta(days=29)\n",
    "        if chunk_end > end:\n",
    "            chunk_end = end\n",
    "\n",
    "        page = 0\n",
    "        while True:\n",
    "            response = fetch_data(start.strftime('%Y%m%d'), chunk_end.strftime('%Y%m%d'), page)\n",
    "            if response:\n",
    "                data = response.get('data', [])\n",
    "                if data:\n",
    "                    results.extend(data)\n",
    "                    if len(data) < 1000:\n",
    "                        break\n",
    "                    page += 1\n",
    "                else:\n",
    "                    break\n",
    "            else:\n",
    "                break\n",
    "\n",
    "        start = chunk_end + timedelta(days=1)\n",
    "        if start > end:\n",
    "            break\n",
    "\n",
    "    return results\n",
    "\n",
    "# Define your access keys and date range\n",
    "ACCESS_KEY = access_key\n",
    "SECRET_KEY = secret_key\n",
    "start_date = \"20240301\"\n",
    "end_date = \"20240509\"\n",
    "\n",
    "# Collect all data\n",
    "all_data = fetch_data_in_chunks(start_date, end_date)\n",
    "df = pd.DataFrame(all_data)\n",
    "\n"
   ]
  },
  {
   "cell_type": "code",
   "execution_count": 6,
   "metadata": {},
   "outputs": [],
   "source": [
    "# df.to_parquet('../result/0301-0509_cp_orderReport_2.parquet')\n",
    "\n",
    "df.to_parquet('../result/0301-0509_cp_cancelReport_2.parquet')"
   ]
  },
  {
   "cell_type": "code",
   "execution_count": 310,
   "metadata": {},
   "outputs": [],
   "source": [
    "cancel = pd.read_parquet('../result/0301-0509_cp_cancelReport_2.parquet')\n",
    "order = pd.read_parquet('../result/0301-0509_cp_orderReport_2.parquet')\n",
    "origin = pd.read_excel('../result/129603-daily-trend-AF3155932-2024-04-03-2024-05-01.xlsx',engine='openpyxl',sheet_name=1)\n",
    "\n",
    "order.rename(columns={'date':'orderDate'},inplace=True)"
   ]
  },
  {
   "cell_type": "code",
   "execution_count": 311,
   "metadata": {},
   "outputs": [
    {
     "data": {
      "text/plain": [
       "1189406999.01"
      ]
     },
     "execution_count": 311,
     "metadata": {},
     "output_type": "execute_result"
    }
   ],
   "source": [
    "order.gmv.sum() + cancel.query(\"date >= '20240403'\").gmv.sum()"
   ]
  },
  {
   "cell_type": "code",
   "execution_count": 312,
   "metadata": {},
   "outputs": [
    {
     "data": {
      "text/plain": [
       "['orderDate',\n",
       " 'trackingCode',\n",
       " 'subId',\n",
       " 'subParam',\n",
       " 'addtag',\n",
       " 'ctag',\n",
       " 'orderId',\n",
       " 'productId']"
      ]
     },
     "execution_count": 312,
     "metadata": {},
     "output_type": "execute_result"
    }
   ],
   "source": [
    "lst = cancel.columns.tolist()\n",
    "del lst[1]\n",
    "lst[0:8]"
   ]
  },
  {
   "cell_type": "markdown",
   "metadata": {},
   "source": [
    "2 행 정도 빔. 당연한 오차"
   ]
  },
  {
   "cell_type": "code",
   "execution_count": 313,
   "metadata": {},
   "outputs": [
    {
     "data": {
      "text/html": [
       "<div>\n",
       "<style scoped>\n",
       "    .dataframe tbody tr th:only-of-type {\n",
       "        vertical-align: middle;\n",
       "    }\n",
       "\n",
       "    .dataframe tbody tr th {\n",
       "        vertical-align: top;\n",
       "    }\n",
       "\n",
       "    .dataframe thead th {\n",
       "        text-align: right;\n",
       "    }\n",
       "</style>\n",
       "<table border=\"1\" class=\"dataframe\">\n",
       "  <thead>\n",
       "    <tr style=\"text-align: right;\">\n",
       "      <th></th>\n",
       "      <th>orderDate</th>\n",
       "      <th>date</th>\n",
       "      <th>trackingCode</th>\n",
       "      <th>subId</th>\n",
       "      <th>subParam</th>\n",
       "      <th>addtag</th>\n",
       "      <th>ctag</th>\n",
       "      <th>orderId</th>\n",
       "      <th>productId</th>\n",
       "      <th>productName_x</th>\n",
       "      <th>quantity_x</th>\n",
       "      <th>gmv_x</th>\n",
       "      <th>commissionRate_x</th>\n",
       "      <th>commission_x</th>\n",
       "      <th>productName_y</th>\n",
       "      <th>quantity_y</th>\n",
       "      <th>gmv_y</th>\n",
       "      <th>commissionRate_y</th>\n",
       "      <th>commission_y</th>\n",
       "      <th>_merge</th>\n",
       "    </tr>\n",
       "  </thead>\n",
       "  <tbody>\n",
       "    <tr>\n",
       "      <th>68</th>\n",
       "      <td>20240410</td>\n",
       "      <td>20240502</td>\n",
       "      <td>AF3155932</td>\n",
       "      <td>homecoin</td>\n",
       "      <td>8f8ac1bc-37a0-4640-a921-fb15b80e28fb</td>\n",
       "      <td>400</td>\n",
       "      <td>6382265775</td>\n",
       "      <td>8244947719083851</td>\n",
       "      <td>7873223097</td>\n",
       "      <td>카멜레온360 송풍구형 스마트폰 차량용 거치대 A type</td>\n",
       "      <td>-1</td>\n",
       "      <td>-18900.0</td>\n",
       "      <td>5.25</td>\n",
       "      <td>-993.0</td>\n",
       "      <td>NaN</td>\n",
       "      <td>NaN</td>\n",
       "      <td>NaN</td>\n",
       "      <td>NaN</td>\n",
       "      <td>NaN</td>\n",
       "      <td>left_only</td>\n",
       "    </tr>\n",
       "    <tr>\n",
       "      <th>2236</th>\n",
       "      <td>20240411</td>\n",
       "      <td>20240412</td>\n",
       "      <td>AF3155932</td>\n",
       "      <td>homecoin</td>\n",
       "      <td>8b35cd09-b081-41bb-8b8f-1ab6e56f3422</td>\n",
       "      <td>460</td>\n",
       "      <td>6927276760</td>\n",
       "      <td>8004943516605005</td>\n",
       "      <td>8026199285</td>\n",
       "      <td>다누리 뽀로로 복숭아맛 유아 비타민C 60g</td>\n",
       "      <td>-1</td>\n",
       "      <td>-3720.0</td>\n",
       "      <td>5.25</td>\n",
       "      <td>-196.0</td>\n",
       "      <td>NaN</td>\n",
       "      <td>NaN</td>\n",
       "      <td>NaN</td>\n",
       "      <td>NaN</td>\n",
       "      <td>NaN</td>\n",
       "      <td>left_only</td>\n",
       "    </tr>\n",
       "    <tr>\n",
       "      <th>2408</th>\n",
       "      <td>20240411</td>\n",
       "      <td>20240412</td>\n",
       "      <td>AF3155932</td>\n",
       "      <td>homecoin</td>\n",
       "      <td>00558564-50a3-4eb6-aaa2-18cc2ea50b27</td>\n",
       "      <td>460</td>\n",
       "      <td>7320739567</td>\n",
       "      <td>8864943316144724</td>\n",
       "      <td>8026199285</td>\n",
       "      <td>다누리 뽀로로 복숭아맛 유아 비타민C 60g</td>\n",
       "      <td>-3</td>\n",
       "      <td>-11160.0</td>\n",
       "      <td>5.25</td>\n",
       "      <td>-586.0</td>\n",
       "      <td>NaN</td>\n",
       "      <td>NaN</td>\n",
       "      <td>NaN</td>\n",
       "      <td>NaN</td>\n",
       "      <td>NaN</td>\n",
       "      <td>left_only</td>\n",
       "    </tr>\n",
       "  </tbody>\n",
       "</table>\n",
       "</div>"
      ],
      "text/plain": [
       "     orderDate      date trackingCode     subId  \\\n",
       "68    20240410  20240502    AF3155932  homecoin   \n",
       "2236  20240411  20240412    AF3155932  homecoin   \n",
       "2408  20240411  20240412    AF3155932  homecoin   \n",
       "\n",
       "                                  subParam addtag        ctag  \\\n",
       "68    8f8ac1bc-37a0-4640-a921-fb15b80e28fb    400  6382265775   \n",
       "2236  8b35cd09-b081-41bb-8b8f-1ab6e56f3422    460  6927276760   \n",
       "2408  00558564-50a3-4eb6-aaa2-18cc2ea50b27    460  7320739567   \n",
       "\n",
       "               orderId   productId                     productName_x  \\\n",
       "68    8244947719083851  7873223097  카멜레온360 송풍구형 스마트폰 차량용 거치대 A type   \n",
       "2236  8004943516605005  8026199285          다누리 뽀로로 복숭아맛 유아 비타민C 60g   \n",
       "2408  8864943316144724  8026199285          다누리 뽀로로 복숭아맛 유아 비타민C 60g   \n",
       "\n",
       "      quantity_x    gmv_x  commissionRate_x  commission_x productName_y  \\\n",
       "68            -1 -18900.0              5.25        -993.0           NaN   \n",
       "2236          -1  -3720.0              5.25        -196.0           NaN   \n",
       "2408          -3 -11160.0              5.25        -586.0           NaN   \n",
       "\n",
       "      quantity_y  gmv_y  commissionRate_y  commission_y     _merge  \n",
       "68           NaN    NaN               NaN           NaN  left_only  \n",
       "2236         NaN    NaN               NaN           NaN  left_only  \n",
       "2408         NaN    NaN               NaN           NaN  left_only  "
      ]
     },
     "execution_count": 313,
     "metadata": {},
     "output_type": "execute_result"
    }
   ],
   "source": [
    "tt = pd.merge(cancel.query(\"orderDate >= '20240403' and orderDate <= '20240501' \") ,order, on=lst[0:8] ,how='left',indicator=True)\n",
    "tt[tt['_merge']=='left_only']"
   ]
  },
  {
   "cell_type": "markdown",
   "metadata": {},
   "source": [
    "데이터 처리"
   ]
  },
  {
   "cell_type": "code",
   "execution_count": 314,
   "metadata": {},
   "outputs": [
    {
     "data": {
      "text/plain": [
       "(80224, 80218)"
      ]
     },
     "execution_count": 314,
     "metadata": {},
     "output_type": "execute_result"
    }
   ],
   "source": [
    "lst = order.columns.tolist()\n",
    "\n",
    "lst\n",
    "len(pd.merge(order, cancel.query(\"orderDate >= '20240403' and orderDate <= '20240501' \"), on=lst[0:8] ,how='left',indicator=True)),len(order)"
   ]
  },
  {
   "cell_type": "code",
   "execution_count": 315,
   "metadata": {},
   "outputs": [
    {
     "name": "stdout",
     "output_type": "stream",
     "text": [
      "Duplicate keys found in 'cancel':       orderDate      date trackingCode     subId  \\\n",
      "index                                              \n",
      "204    20240319  20240503    AF3155932  homecoin   \n",
      "413    20240413  20240504    AF3155932  homecoin   \n",
      "615    20240406  20240506    AF3155932  homecoin   \n",
      "114    20240301  20240301    AF3155932  homecoin   \n",
      "1042   20240304  20240306    AF3155932  homecoin   \n",
      "1203   20240306  20240307    AF3155932  homecoin   \n",
      "1395   20240306  20240308    AF3155932  homecoin   \n",
      "1813   20240304  20240310    AF3155932  homecoin   \n",
      "2034   20240301  20240312    AF3155932  homecoin   \n",
      "3278   20240310  20240318    AF3155932  homecoin   \n",
      "3374   20240316  20240318    AF3155932  homecoin   \n",
      "3645   20240319  20240320    AF3155932  homecoin   \n",
      "3671   20240316  20240320    AF3155932  homecoin   \n",
      "5054   20240310  20240327    AF3155932  homecoin   \n",
      "5792   20240330  20240330    AF3155932  homecoin   \n",
      "5860   20240330  20240331    AF3155932  homecoin   \n",
      "7470   20240405  20240406    AF3155932  homecoin   \n",
      "7909   20240405  20240408    AF3155932  homecoin   \n",
      "8778   20240405  20240412    AF3155932  homecoin   \n",
      "8898   20240403  20240412    AF3155932  homecoin   \n",
      "9694   20240406  20240415    AF3155932  homecoin   \n",
      "10651  20240413  20240419    AF3155932  homecoin   \n",
      "10764  20240417  20240420    AF3155932  homecoin   \n",
      "10980  20240405  20240421    AF3155932  homecoin   \n",
      "11392  20240403  20240424    AF3155932  homecoin   \n",
      "11454  20240417  20240424    AF3155932  homecoin   \n",
      "\n",
      "                                   subParam addtag        ctag  \\\n",
      "index                                                            \n",
      "204                                            460  7835961914   \n",
      "413    1e957c9e-41e8-433d-9e75-cab62e6623c7    460  7355789934   \n",
      "615    f1b39c08-8cca-46ea-aca9-42f95712a4cc    460   339904863   \n",
      "114                                            400  7558136593   \n",
      "1042                                           460  7774432473   \n",
      "1203                                           400  6513644363   \n",
      "1395                                           400  6513644363   \n",
      "1813                                           460  7774432473   \n",
      "2034                                           400  7558136593   \n",
      "3278                                           460  6991015357   \n",
      "3374                                           460  7828171887   \n",
      "3645                                           460  7835961914   \n",
      "3671                                           460  7828171887   \n",
      "5054                                           460  6991015357   \n",
      "5792                                           400  7147533199   \n",
      "5860                                           400  7147533199   \n",
      "7470   37860ebb-332d-45bd-affa-a98ef834d7f6    460  7455973773   \n",
      "7909   6b2e4650-214d-4087-b99f-1140d531316a    400  7580769904   \n",
      "8778   37860ebb-332d-45bd-affa-a98ef834d7f6    460  7455973773   \n",
      "8898                                           400  7485578240   \n",
      "9694   f1b39c08-8cca-46ea-aca9-42f95712a4cc    460   339904863   \n",
      "10651  1e957c9e-41e8-433d-9e75-cab62e6623c7    460  7355789934   \n",
      "10764  30c4c19d-8a9c-462b-b27d-39357e469d9e    460  7981882914   \n",
      "10980  6b2e4650-214d-4087-b99f-1140d531316a    400  7580769904   \n",
      "11392                                          400  7485578240   \n",
      "11454  30c4c19d-8a9c-462b-b27d-39357e469d9e    460  7981882914   \n",
      "\n",
      "                orderId       productId  \\\n",
      "index                                     \n",
      "204    8914945482548967  10000010186133   \n",
      "413    8324948016397565      7073143015   \n",
      "615    8844946213115168      7122171028   \n",
      "114    8814944785475252      6340362544   \n",
      "1042   8264948483353756      7549476474   \n",
      "1203   8924943983211777      6716126199   \n",
      "1395   8924943983211777      6716126199   \n",
      "1813   8264948483353756      7549476474   \n",
      "2034   8814944785475252      6340362544   \n",
      "3278   8814944986824720      7595733026   \n",
      "3374   8214940780628224      6495326289   \n",
      "3645   8914945482548967  10000010186133   \n",
      "3671   8214940780628224      6495326289   \n",
      "5054   8814944986824720      7595733026   \n",
      "5792   8054946114294497      7569727314   \n",
      "5860   8054946114294497      7569727314   \n",
      "7470   8914945515977832      1361650011   \n",
      "7909   8604948213025882      6320364957   \n",
      "8778   8914945515977832      1361650011   \n",
      "8898   8834949515676748      6673869379   \n",
      "9694   8844946213115168      7122171028   \n",
      "10651  8324948016397565      7073143015   \n",
      "10764  8674940112521105      7690174904   \n",
      "10980  8604948213025882      6320364957   \n",
      "11392  8834949515676748      6673869379   \n",
      "11454  8674940112521105      7690174904   \n",
      "\n",
      "                                             productName  quantity      gmv  \\\n",
      "index                                                                         \n",
      "204     [경주] 경주 뽀로로아쿠아빌리지 종일권 특가 (~4/30)#_D:B [와우회원] 종일권        -2 -33800.0   \n",
      "413                           투데이앤룩 여성용 블리 스트라이프 보트넥 티셔츠        -1 -10410.0   \n",
      "615                   여성용 타오민 컬러풀 V넥 베이직 반팔티 cpt11681k31        -1  -7630.0   \n",
      "114    이브컴퍼니 남성용 9부10부 히든 버클 구김방지 링클프리 남자 스판 슬랙스 5컬러 ...        -1 -24900.0   \n",
      "1042                            바블링브룩 여성용 프릴 브이넥 긴팔 블라우스        -1 -18850.0   \n",
      "1203                            세컨그라운드 여성용 투버튼 와이드 데님 팬츠        -1 -17680.0   \n",
      "1395                            세컨그라운드 여성용 투버튼 와이드 데님 팬츠        -1 -25270.0   \n",
      "1813                            바블링브룩 여성용 프릴 브이넥 긴팔 블라우스        -1 -17900.0   \n",
      "2034   이브컴퍼니 남성용 9부10부 히든 버클 구김방지 링클프리 남자 스판 슬랙스 5컬러 ...        -2 -49800.0   \n",
      "3278                           아피나르 여성용 뒷트임 쫀쫀 H라인 롱 스커트        -1 -12540.0   \n",
      "3374                  플랜데이 여성용 3컬러 하이웨스트 원핀턱 와이드 슬랙스 미디움        -1 -18760.0   \n",
      "3645    [경주] 경주 뽀로로아쿠아빌리지 종일권 특가 (~4/30)#_D:B [와우회원] 종일권        -1 -16900.0   \n",
      "3671                  플랜데이 여성용 3컬러 하이웨스트 원핀턱 와이드 슬랙스 미디움        -1 -17160.0   \n",
      "5054                           아피나르 여성용 뒷트임 쫀쫀 H라인 롱 스커트        -1 -11900.0   \n",
      "5792                              피어니스트 여성용 지퍼 카라 오버핏 셔츠        -1 -20100.0   \n",
      "5860                              피어니스트 여성용 지퍼 카라 오버핏 셔츠        -1 -20100.0   \n",
      "7470                           쓰리엠 컴포트 그립 에어 여름용 코팅 작업장갑        -1  -2000.0   \n",
      "7909                                 워너프 탱크 베어 링 휴대폰 케이스        -1  -9900.0   \n",
      "8778                           쓰리엠 컴포트 그립 에어 여름용 코팅 작업장갑        -1  -5550.0   \n",
      "8898                                 ELLE PARIS 여성 봄버 자켓        -1 -31490.0   \n",
      "9694                  여성용 타오민 컬러풀 V넥 베이직 반팔티 cpt11681k31        -1  -8090.0   \n",
      "10651                         투데이앤룩 여성용 블리 스트라이프 보트넥 티셔츠        -1 -12400.0   \n",
      "10764                           릴렛티 999레벨 6세대 푸쉬팝 팝잇 게임기        -1  -6950.0   \n",
      "10980                                워너프 탱크 베어 링 휴대폰 케이스        -1  -9900.0   \n",
      "11392                                ELLE PARIS 여성 봄버 자켓        -1 -31490.0   \n",
      "11454                           릴렛티 999레벨 6세대 푸쉬팝 팝잇 게임기        -1  -6950.0   \n",
      "\n",
      "       commissionRate  commission  \n",
      "index                              \n",
      "204              5.25     -1775.0  \n",
      "413              5.25      -547.0  \n",
      "615              5.25      -401.0  \n",
      "114              5.25     -1308.0  \n",
      "1042             5.25      -990.0  \n",
      "1203             5.25      -929.0  \n",
      "1395             5.25     -1327.0  \n",
      "1813             5.25      -940.0  \n",
      "2034             5.25     -2616.0  \n",
      "3278             5.25      -659.0  \n",
      "3374             5.25      -985.0  \n",
      "3645             5.25      -888.0  \n",
      "3671             5.25      -901.0  \n",
      "5054             5.25      -625.0  \n",
      "5792             5.25     -1056.0  \n",
      "5860             5.25     -1056.0  \n",
      "7470             5.25      -105.0  \n",
      "7909             5.25      -520.0  \n",
      "8778             5.25      -292.0  \n",
      "8898             3.00      -945.0  \n",
      "9694             5.25      -425.0  \n",
      "10651            5.25      -651.0  \n",
      "10764            5.25      -365.0  \n",
      "10980            5.25      -520.0  \n",
      "11392            3.00      -945.0  \n",
      "11454            5.25      -365.0  \n"
     ]
    }
   ],
   "source": [
    "# 중복 키 확인\n",
    "duplicate_keys = cancel.duplicated(subset=lst[0:8], keep=False)\n",
    "if duplicate_keys.any():\n",
    "    print(f\"Duplicate keys found in 'cancel': {cancel[duplicate_keys]}\")\n",
    "    # 중복 제거 또는 다른 방식의 처리를 결정할 수 있음\n",
    "    # 예: 중복 제거\n",
    "    cancel = cancel.drop_duplicates(subset=lst[0:8], keep='first')\n"
   ]
  },
  {
   "cell_type": "code",
   "execution_count": 316,
   "metadata": {},
   "outputs": [
    {
     "name": "stdout",
     "output_type": "stream",
     "text": [
      "Original Order Length: 80218\n",
      "Merged DataFrame Length: 80218\n",
      "Only in Order DataFrame Length: 74526\n",
      "Both in DataFrames Length: 5692\n",
      "Length after removing duplicates: 80218\n"
     ]
    }
   ],
   "source": [
    "# 병합 실행\n",
    "merged_df = pd.merge(order, cancel.query(\"orderDate >= '20240403' and orderDate <= '20240501'\"), on=lst[0:8], how='left', indicator=True)\n",
    "\n",
    "# 병합 결과에서 'left_only'는 'order' 데이터프레임에만 있는 데이터\n",
    "# 'both'는 두 데이터프레임에 모두 존재하는 데이터\n",
    "only_in_order = merged_df[merged_df['_merge'] == 'left_only']\n",
    "both_in = merged_df[merged_df['_merge'] == 'both']\n",
    "\n",
    "print(f\"Original Order Length: {len(order)}\")\n",
    "print(f\"Merged DataFrame Length: {len(merged_df)}\")\n",
    "print(f\"Only in Order DataFrame Length: {len(only_in_order)}\")\n",
    "print(f\"Both in DataFrames Length: {len(both_in)}\")\n",
    "\n",
    "# 중복 제거 후 데이터 확인\n",
    "merged_df.drop_duplicates(subset=lst[0:8], keep='first', inplace=True)\n",
    "print(f\"Length after removing duplicates: {len(merged_df)}\")\n",
    "\n",
    "merged_df = merged_df.iloc[:,0:-1]\n",
    "merged_df.rename(columns={'productName_x':'productName','quantity_x':'quantity','commissionRate_x':'commissionRate','commission_x':'commission','gmv_x':'gmv',\\\n",
    "                          'quantity_y':'refund_quantity','commission_y':'refund_commission','gmv_y':'refund_gmv'\n",
    "                          },inplace=True)\n",
    "merged_df.drop(['commissionRate_y','productName_y','commissionRate_y'],axis=1,inplace=True)\n",
    "merged_df.fillna(0,inplace=True)\n",
    "\n",
    "merged_df['total_gmv'] = merged_df['gmv'] + merged_df['refund_gmv']\n",
    "merged_df['total_commission'] = merged_df['commission'] + merged_df['refund_commission']\n",
    "merged_df['total_quantity'] = merged_df['quantity'] + merged_df['refund_quantity']"
   ]
  },
  {
   "cell_type": "markdown",
   "metadata": {},
   "source": [
    "검증\n",
    "오더날짜 기준 (오더 건과 해당 취소건만 집계)\n",
    "일일 날짜 기준 (해당 날짜의 오더건과 해당일 발생한 이전 주문 총합의 취소건)\n",
    "\n",
    "일일 날짜 기준으로 취소건을 집계할 경우, 오더날짜 기준의 취소건 대비 많으므로 조금 더 많은 주문 수와 매출이 집계됨\n",
    "\n",
    "매출로 1천만원, "
   ]
  },
  {
   "cell_type": "code",
   "execution_count": 317,
   "metadata": {},
   "outputs": [
    {
     "name": "stdout",
     "output_type": "stream",
     "text": [
      "96845.0\n",
      "1220113724.01\n",
      "61258829.0\n"
     ]
    }
   ],
   "source": [
    "## 오더 기준 주문 정보 (API)\n",
    "print(merged_df.total_quantity.sum())\n",
    "print(merged_df.total_gmv.sum())\n",
    "print(merged_df.total_commission.sum())"
   ]
  },
  {
   "cell_type": "code",
   "execution_count": 318,
   "metadata": {},
   "outputs": [
    {
     "name": "stdout",
     "output_type": "stream",
     "text": [
      "96654.0\n",
      "1219449378.01\n",
      "61226111.0\n"
     ]
    }
   ],
   "source": [
    "## 오더 기준 주문 정보 (API) + 무정보 데이터 제외\n",
    "print(merged_df.query(\"subId != '' and total_gmv > 0 \").total_quantity.sum())\n",
    "print(merged_df.query(\"subId != '' and total_gmv > 0 \").total_gmv.sum())\n",
    "print(merged_df.query(\"subId != '' and total_gmv > 0 \").total_commission.sum())"
   ]
  },
  {
   "cell_type": "code",
   "execution_count": 319,
   "metadata": {},
   "outputs": [
    {
     "name": "stdout",
     "output_type": "stream",
     "text": [
      "96727\n",
      "1216498106.01\n",
      "61064482.0\n"
     ]
    }
   ],
   "source": [
    "## 일일 기준 주문 정보 (API)\n",
    "print(order.quantity.sum() + cancel.query(\"date >= '20240403' and date <= '20240501'\").quantity.sum())\n",
    "print(order.gmv.sum() + cancel.query(\"date >= '20240403' and date <= '20240501'\").gmv.sum())\n",
    "print(order.commission.sum() + cancel.query(\"date >= '20240403' and date <= '20240501'\").commission.sum())"
   ]
  },
  {
   "cell_type": "code",
   "execution_count": 320,
   "metadata": {},
   "outputs": [
    {
     "data": {
      "text/plain": [
       "Index(['orderDate', 'trackingCode', 'subId', 'subParam', 'addtag', 'ctag',\n",
       "       'orderId', 'productId', 'productName', 'quantity', 'gmv',\n",
       "       'commissionRate', 'commission'],\n",
       "      dtype='object')"
      ]
     },
     "execution_count": 320,
     "metadata": {},
     "output_type": "execute_result"
    }
   ],
   "source": [
    "order.columns"
   ]
  },
  {
   "cell_type": "code",
   "execution_count": 321,
   "metadata": {},
   "outputs": [
    {
     "name": "stdout",
     "output_type": "stream",
     "text": [
      "81966\n",
      "1020047124\n",
      "52061504\n",
      "62559\n"
     ]
    }
   ],
   "source": [
    "## 일일 기준 주문 정보 (리포트)\n",
    "origin['total_quantity'] = origin['판매 수량'] + origin['취소 수량']\n",
    "origin['total_gmv'] = origin['매출 액'] + origin['취소 액']\n",
    "origin['total_commission'] = origin['수익'] + origin['취소 수익']\n",
    "\n",
    "print(origin.total_quantity.sum())\n",
    "print(origin.total_gmv.sum())\n",
    "print(origin.total_commission.sum())\n",
    "print(len(origin))"
   ]
  },
  {
   "cell_type": "code",
   "execution_count": 322,
   "metadata": {},
   "outputs": [
    {
     "data": {
      "text/plain": [
       "1220113724.01"
      ]
     },
     "execution_count": 322,
     "metadata": {},
     "output_type": "execute_result"
    }
   ],
   "source": [
    "merged_df.total_gmv.sum()"
   ]
  },
  {
   "cell_type": "code",
   "execution_count": 327,
   "metadata": {},
   "outputs": [],
   "source": [
    "merged_df.to_excel('../result/result_0403_0509.xlsx',engine='openpyxl')\n",
    "merged_df.to_csv('../result/result_0403_0509.csv',encoding='utf-8-sig')"
   ]
  }
 ],
 "metadata": {
  "kernelspec": {
   "display_name": "pymc",
   "language": "python",
   "name": "python3"
  },
  "language_info": {
   "codemirror_mode": {
    "name": "ipython",
    "version": 3
   },
   "file_extension": ".py",
   "mimetype": "text/x-python",
   "name": "python",
   "nbconvert_exporter": "python",
   "pygments_lexer": "ipython3",
   "version": "3.9.18"
  }
 },
 "nbformat": 4,
 "nbformat_minor": 2
}
