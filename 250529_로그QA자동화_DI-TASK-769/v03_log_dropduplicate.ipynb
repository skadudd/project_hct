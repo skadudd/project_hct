{
 "cells": [
  {
   "cell_type": "code",
   "execution_count": 13,
   "metadata": {},
   "outputs": [],
   "source": [
    "import pandas as pd\n",
    "from datetime import datetime"
   ]
  },
  {
   "cell_type": "code",
   "execution_count": 16,
   "metadata": {},
   "outputs": [],
   "source": [
    "df = pd.read_excel('C:\\FTC_downloads\\code\\git\\project_hct\\/250529_로그QA자동화_DI-TASK-769\\/result\\log_analysis_result.xlsx')\n",
    "df.drop_duplicates(subset=['page_id','click_type','act_type','click_text'], inplace=True)\n",
    "df.to_excel('C:\\FTC_downloads\\code\\git\\project_hct\\/250529_로그QA자동화_DI-TASK-769\\/result\\log_analysis_result_dropduplicate.xlsx', index=False)\n"
   ]
  }
 ],
 "metadata": {
  "kernelspec": {
   "display_name": "pymc",
   "language": "python",
   "name": "python3"
  },
  "language_info": {
   "codemirror_mode": {
    "name": "ipython",
    "version": 3
   },
   "file_extension": ".py",
   "mimetype": "text/x-python",
   "name": "python",
   "nbconvert_exporter": "python",
   "pygments_lexer": "ipython3",
   "version": "3.9.18"
  }
 },
 "nbformat": 4,
 "nbformat_minor": 2
}
