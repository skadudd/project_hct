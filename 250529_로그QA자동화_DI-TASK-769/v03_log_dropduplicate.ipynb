{
 "cells": [
  {
   "cell_type": "code",
   "execution_count": 13,
   "metadata": {},
   "outputs": [],
   "source": [
    "import pandas as pd\n",
    "from datetime import datetime"
   ]
  },
  {
   "cell_type": "code",
   "execution_count": 30,
   "metadata": {},
   "outputs": [],
   "source": [
    "read_file = 'log_analysis_combined.xlsx'\n",
    "\n",
    "df = pd.read_excel(f'C:\\FTC_downloads\\code\\git\\project_hct\\/250529_로그QA자동화_DI-TASK-769\\/result\\{read_file}')\n",
    "df.drop_duplicates(subset=['page_id','click_type','act_type'], inplace=True)\n",
    "df.to_excel('C:\\FTC_downloads\\code\\git\\project_hct\\/250529_로그QA자동화_DI-TASK-769\\/result\\log_analysis_result_dropduplicate.xlsx', index=False)\n"
   ]
  }
 ],
 "metadata": {
  "kernelspec": {
   "display_name": "pymc",
   "language": "python",
   "name": "python3"
  },
  "language_info": {
   "codemirror_mode": {
    "name": "ipython",
    "version": 3
   },
   "file_extension": ".py",
   "mimetype": "text/x-python",
   "name": "python",
   "nbconvert_exporter": "python",
   "pygments_lexer": "ipython3",
   "version": "3.9.18"
  }
 },
 "nbformat": 4,
 "nbformat_minor": 2
}
