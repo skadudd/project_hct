{
 "cells": [
  {
   "cell_type": "code",
   "execution_count": 5,
   "id": "da9c562b",
   "metadata": {},
   "outputs": [],
   "source": [
    "import pandas as pd\n",
    "import os\n",
    "import glob\n",
    "import re"
   ]
  },
  {
   "cell_type": "code",
   "execution_count": null,
   "id": "5e7f897b",
   "metadata": {},
   "outputs": [],
   "source": [
    "\n",
    "# data 폴더 경로 설정\n",
    "data_folder = 'data'\n",
    "\n",
    "# data 폴더 내의 모든 CSV 파일 찾기\n",
    "csv_files = glob.glob(os.path.join(data_folder, '*.csv'))\n",
    "\n",
    "print(f\"발견된 CSV 파일 수: {len(csv_files)}\")\n",
    "print(\"파일 목록:\")\n",
    "for file in csv_files:\n",
    "    print(f\"  - {os.path.basename(file)}\")\n",
    "\n",
    "# 모든 CSV 파일을 읽어서 딕셔너리에 저장\n",
    "dataframes = {}\n",
    "\n",
    "for csv_file in csv_files:\n",
    "    filename = os.path.basename(csv_file)\n",
    "    try:\n",
    "        # CSV 파일 읽기 (인코딩 문제가 있을 수 있으므로 utf-8로 시도)\n",
    "        df = pd.read_csv(csv_file, encoding='utf-8')\n",
    "        dataframes[filename] = df\n",
    "        print(f\"\\n{filename} 읽기 완료:\")\n",
    "        print(f\"  - 행 수: {len(df)}\")\n",
    "        print(f\"  - 열 수: {len(df.columns)}\")\n",
    "        print(f\"  - 열 이름: {list(df.columns)}\")\n",
    "    except UnicodeDecodeError:\n",
    "        # utf-8로 읽기 실패시 cp949로 시도\n",
    "        try:\n",
    "            df = pd.read_csv(csv_file, encoding='cp949')\n",
    "            dataframes[filename] = df\n",
    "            print(f\"\\n{filename} 읽기 완료 (cp949 인코딩):\")\n",
    "            print(f\"  - 행 수: {len(df)}\")\n",
    "            print(f\"  - 열 수: {len(df.columns)}\")\n",
    "            print(f\"  - 열 이름: {list(df.columns)}\")\n",
    "        except Exception as e:\n",
    "            print(f\"\\n{filename} 읽기 실패: {e}\")\n",
    "\n",
    "print(f\"\\n총 {len(dataframes)}개 파일을 성공적으로 읽었습니다.\")\n",
    "\n",
    "# 첫 번째 파일의 처음 몇 행 확인\n",
    "if dataframes:\n",
    "    first_file = list(dataframes.keys())[0]\n",
    "    print(f\"\\n{first_file}의 처음 5행:\")\n",
    "    print(dataframes[first_file].head())\n",
    "\n"
   ]
  },
  {
   "cell_type": "code",
   "execution_count": null,
   "id": "1258ccfa",
   "metadata": {},
   "outputs": [],
   "source": [
    "# dataframes의 모든 데이터프레임을 세로로 합치기\n",
    "import pandas as pd\n",
    "\n",
    "df_union = pd.concat(dataframes.values(), ignore_index=True)\n",
    "# 컬럼명에 '$'가 포함된 경우, '$'를 제거하여 컬럼명을 수정\n",
    "df_union.columns = df_union.columns.str.replace('$', '', regex=False)\n",
    "df_union['event_time'] = pd.to_datetime(df_union['event_time'])\n",
    "\n",
    "df_union"
   ]
  },
  {
   "cell_type": "code",
   "execution_count": 56,
   "id": "92c46dca",
   "metadata": {},
   "outputs": [
    {
     "data": {
      "text/html": [
       "<div>\n",
       "<style scoped>\n",
       "    .dataframe tbody tr th:only-of-type {\n",
       "        vertical-align: middle;\n",
       "    }\n",
       "\n",
       "    .dataframe tbody tr th {\n",
       "        vertical-align: top;\n",
       "    }\n",
       "\n",
       "    .dataframe thead th {\n",
       "        text-align: right;\n",
       "    }\n",
       "</style>\n",
       "<table border=\"1\" class=\"dataframe\">\n",
       "  <thead>\n",
       "    <tr style=\"text-align: right;\">\n",
       "      <th></th>\n",
       "      <th>user_id</th>\n",
       "      <th>event_time_count</th>\n",
       "      <th>event_time_min</th>\n",
       "      <th>event_time_max</th>\n",
       "    </tr>\n",
       "  </thead>\n",
       "  <tbody>\n",
       "    <tr>\n",
       "      <th>35899</th>\n",
       "      <td>nan</td>\n",
       "      <td>2</td>\n",
       "      <td>2025-07-14 22:33:11</td>\n",
       "      <td>2025-07-14 22:33:12</td>\n",
       "    </tr>\n",
       "  </tbody>\n",
       "</table>\n",
       "</div>"
      ],
      "text/plain": [
       "      user_id  event_time_count      event_time_min      event_time_max\n",
       "35899     nan                 2 2025-07-14 22:33:11 2025-07-14 22:33:12"
      ]
     },
     "execution_count": 56,
     "metadata": {},
     "output_type": "execute_result"
    }
   ],
   "source": [
    "df = df_union[['event_time', 'user_id']]\n",
    "df = df.groupby('user_id').agg(event_time_count=('event_time', 'count'),\n",
    "                         event_time_min=('event_time', 'min'),\n",
    "                         event_time_max=('event_time', 'max')).reset_index()\n",
    "\n",
    "# user_id 컬럼에 float 형태의 문자열('1.0' 등)이 포함되어 int로 변환이 실패함\n",
    "# 소수점 이하가 0인 경우 int로 변환, 그렇지 않으면 에러 발생\n",
    "def safe_int_convert(x):\n",
    "    try:\n",
    "        f = float(x)\n",
    "        if f.is_integer():\n",
    "            return int(f)\n",
    "        else:\n",
    "            return x  # 변환 불가한 값은 그대로 반환\n",
    "    except:\n",
    "        return x\n",
    "\n",
    "df['user_id'] = df['user_id'].apply(safe_int_convert)\n",
    "\n",
    "df.query('user_id == \"nan\"')"
   ]
  },
  {
   "cell_type": "code",
   "execution_count": 61,
   "id": "da9ec2ce",
   "metadata": {},
   "outputs": [],
   "source": [
    "df.sort_values(by='event_time_max', ascending=False)\n",
    "df.sort_values(by='event_time_min', ascending=True)\n",
    "\n",
    "df.to_excel('df.xlsx', index=False)"
   ]
  }
 ],
 "metadata": {
  "kernelspec": {
   "display_name": "pymc",
   "language": "python",
   "name": "python3"
  },
  "language_info": {
   "codemirror_mode": {
    "name": "ipython",
    "version": 3
   },
   "file_extension": ".py",
   "mimetype": "text/x-python",
   "name": "python",
   "nbconvert_exporter": "python",
   "pygments_lexer": "ipython3",
   "version": "3.9.18"
  }
 },
 "nbformat": 4,
 "nbformat_minor": 5
}
