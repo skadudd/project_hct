{
 "cells": [
  {
   "cell_type": "code",
   "execution_count": 1,
   "metadata": {},
   "outputs": [],
   "source": [
    "from collections import defaultdict\n",
    "import pandas as pd\n",
    "import numpy as np\n",
    "import scipy.sparse\n",
    "import scipy.sparse.linalg"
   ]
  },
  {
   "cell_type": "markdown",
   "id": "04e5d4ff",
   "metadata": {},
   "source": [
    "```mermaid\n",
    "graph TD\n",
    "    A[게임 시작: (0, 2n)] --> B[BFS로 모든 가능한 상태 탐색]\n",
    "    B --> C[각 상태에서 전이 확률 계산]\n",
    "    C --> D[희소 행렬로 전이 행렬 구성]\n",
    "    D --> E[기본 행렬 계산: N = (I-Q)^-1]\n",
    "    E --> F[기대 턴 수 = N × 1]\n",
    "    F --> G[실패 확률 분포 계산]\n",
    "```"
   ]
  },
  {
   "cell_type": "code",
   "execution_count": 2,
   "id": "f1f15e8e",
   "metadata": {},
   "outputs": [],
   "source": [
    "def remove_last_row_column(sparse_matrix):\n",
    "    \"\"\"목적: 마르코프 체인에서 흡수 상태(게임 완료 상태)를 제외한 Q 행렬을 만들기 위함\"\"\"\n",
    "    \"\"\"용도: 기대 턴 수 계산에 필요한 기본 행렬(Fundamental Matrix) 계산\"\"\"\n",
    "    num_states = sparse_matrix.shape[0]\n",
    "    row_mask = np.ones(sparse_matrix.shape[0], dtype=bool)\n",
    "    row_mask[num_states-1] = False\n",
    "    col_mask = np.ones(sparse_matrix.shape[1], dtype=bool)\n",
    "    col_mask[num_states-1] = False\n",
    "    return sparse_matrix[row_mask][:,col_mask]"
   ]
  },
  {
   "cell_type": "code",
   "execution_count": 3,
   "id": "6b7f396d",
   "metadata": {},
   "outputs": [],
   "source": [
    "def get_markov_chain(number_of_pairs, entire_matrix=False, extra_info=False):\n",
    "    \"\"\"마르코프 체인의 전이 확률을 계산하는 핵심\"\"\"\n",
    "    # α/β: 첫 번째 카드가 이미 알고 있는 색상일 확률\n",
    "    # (1-α/β) × 1/(β-1): 처음 본 색상이 운 좋게 바로 매칭될 확률\n",
    "    # (1-α/β) × α/(β-1): 첫 카드는 새 색상, 두 번째는 기억 속 색상\n",
    "    # (1-α/β) × (1-(α+1)/(β-1)): 두 카드 모두 새로운 서로 다른 색상\n",
    "    \n",
    "    queue = [(0, 2 * number_of_pairs)]\n",
    "    adjacency_list = {}\n",
    "\n",
    "    while queue:\n",
    "        curr_state = queue.pop(0)  # FIFO로 변경하여 BFS 보장\n",
    "        alpha, beta = curr_state\n",
    "        \n",
    "        if curr_state in adjacency_list:  # 이미 처리된 상태는 건너뛰기\n",
    "            continue\n",
    "    \n",
    "        if alpha < 0 or beta < 0:\n",
    "            continue\n",
    "  \n",
    "        next_states = {}\n",
    "        if alpha > beta or (alpha + beta) % 2 == 1: # Know more knowns than unknowns or there is a duplicate in the flipped cards\n",
    "            next_states[(alpha - 1, beta)] = 1\n",
    "        elif alpha == 0 and beta == 0:\n",
    "            next_states[(0, 0)] = 1\n",
    "        elif alpha == beta:\n",
    "            next_states[(alpha - 1, beta - 1)] = 1\n",
    "        else:\n",
    "            next_states[(alpha - 1, beta - 1)] = alpha / beta\n",
    "            next_states[(alpha + 2, beta - 2)] = (1 - alpha/beta) * (1 - (alpha+1)/(beta-1))\n",
    "            next_states[(alpha + 1, beta - 2)] = (1 - alpha/beta) * (alpha / (beta - 1))\n",
    "            next_states[(alpha, beta - 2)]     = (1 - alpha/beta) * 1 / (beta - 1)\n",
    "\n",
    "        # 유효한 상태만 추가 (음수나 불가능한 상태 제외)\n",
    "        valid_next_states = {}\n",
    "        for state, prob in next_states.items():\n",
    "            if prob > 0 and state[0] >= 0 and state[1] >= 0:\n",
    "                valid_next_states[state] = prob\n",
    "                if state not in adjacency_list:  # 아직 처리되지 않은 상태만 큐에 추가\n",
    "                    queue.append(state)\n",
    "\n",
    "        adjacency_list[curr_state] = valid_next_states\n",
    "\n",
    "    # 모든 상태가 수집된 후 마르코프 체인 행렬 구성\n",
    "    num_states = len(adjacency_list)\n",
    "    markov_chain = scipy.sparse.lil_matrix((num_states, num_states))\n",
    "\n",
    "    # Build enumeration for states\n",
    "    sorted_keys = sorted(list(adjacency_list.keys()), key=lambda pair: -sum(pair))\n",
    "    keys_to_index = {key: index for index, key in enumerate(sorted_keys)}\n",
    "\n",
    "    for state, neighbors in adjacency_list.items():\n",
    "        for destination, probability in neighbors.items():\n",
    "            if destination in keys_to_index:  # 목적지 상태가 존재하는지 확인\n",
    "                markov_chain[(keys_to_index[state], keys_to_index[destination])] = probability\n",
    "    \n",
    "    if not entire_matrix: # Get block matrix for fundamental matrix calculation\n",
    "        to_return = remove_last_row_column(markov_chain)\n",
    "    else:\n",
    "        to_return = scipy.sparse.csr_matrix(markov_chain)\n",
    "\n",
    "    if extra_info:\n",
    "        return to_return, { \"adjacency_list\": adjacency_list, \"keys_to_index\": keys_to_index, \"sorted_keys\": sorted_keys }\n",
    "    return to_return"
   ]
  },
  {
   "cell_type": "code",
   "execution_count": 4,
   "id": "77cce7ef",
   "metadata": {},
   "outputs": [],
   "source": [
    "def get_case_info(n_pairs):\n",
    "    \"\"\"기대 턴 수 계산: (I - Q)^(-1) × 1\"\"\"\n",
    "    # 흡수 마르코프 체인의 핵심 공식을 사용:\n",
    "        # 기본 행렬: N = (I - Q)^(-1)\n",
    "        # 기대 흡수 시간: N × 1\n",
    "        \n",
    "    markov_matrix = get_markov_chain(n_pairs, entire_matrix=True)\n",
    "    Q_matrix = remove_last_row_column(markov_matrix)\n",
    "\n",
    "    # Solve with the fundamental matrix\n",
    "    expected_number_of_turns = scipy.sparse.linalg.spsolve( scipy.sparse.eye(Q_matrix.shape[0]) - Q_matrix, np.ones(Q_matrix.shape[0]))[0]\n",
    "    expected_number_of_failures = expected_number_of_turns - n_pairs\n",
    "\n",
    "    starting_point = np.zeros(markov_matrix.shape[0])\n",
    "    starting_point[0] = 1\n",
    "\n",
    "    first_chance_to_win = markov_matrix.T ** n_pairs\n",
    "    prob_vector = first_chance_to_win @ starting_point\n",
    "    chance_to_finish_with_failures = [prob_vector[-1]]\n",
    "\n",
    "    # Almost all the processing time is calculating the failure distribution\n",
    "    for number_of_failures in range(n_pairs):\n",
    "        next_prob_vector = markov_matrix.T @ prob_vector\n",
    "        chance_to_finish_with_failures.append(next_prob_vector[-1] - prob_vector[-1])\n",
    "        prob_vector = next_prob_vector\n",
    "    \n",
    "    return np.array(chance_to_finish_with_failures)\n",
    "\n",
    "\n"
   ]
  },
  {
   "cell_type": "code",
   "execution_count": 5,
   "id": "69b77960",
   "metadata": {},
   "outputs": [
    {
     "data": {
      "text/html": [
       "<div>\n",
       "<style scoped>\n",
       "    .dataframe tbody tr th:only-of-type {\n",
       "        vertical-align: middle;\n",
       "    }\n",
       "\n",
       "    .dataframe tbody tr th {\n",
       "        vertical-align: top;\n",
       "    }\n",
       "\n",
       "    .dataframe thead th {\n",
       "        text-align: right;\n",
       "    }\n",
       "</style>\n",
       "<table border=\"1\" class=\"dataframe\">\n",
       "  <thead>\n",
       "    <tr style=\"text-align: right;\">\n",
       "      <th></th>\n",
       "      <th>0</th>\n",
       "    </tr>\n",
       "  </thead>\n",
       "  <tbody>\n",
       "    <tr>\n",
       "      <th>0</th>\n",
       "      <td>0.000007</td>\n",
       "    </tr>\n",
       "    <tr>\n",
       "      <th>1</th>\n",
       "      <td>0.000829</td>\n",
       "    </tr>\n",
       "    <tr>\n",
       "      <th>2</th>\n",
       "      <td>0.027972</td>\n",
       "    </tr>\n",
       "    <tr>\n",
       "      <th>3</th>\n",
       "      <td>0.283450</td>\n",
       "    </tr>\n",
       "    <tr>\n",
       "      <th>4</th>\n",
       "      <td>0.567521</td>\n",
       "    </tr>\n",
       "    <tr>\n",
       "      <th>5</th>\n",
       "      <td>0.119288</td>\n",
       "    </tr>\n",
       "    <tr>\n",
       "      <th>6</th>\n",
       "      <td>0.000932</td>\n",
       "    </tr>\n",
       "    <tr>\n",
       "      <th>7</th>\n",
       "      <td>0.000000</td>\n",
       "    </tr>\n",
       "  </tbody>\n",
       "</table>\n",
       "</div>"
      ],
      "text/plain": [
       "          0\n",
       "0  0.000007\n",
       "1  0.000829\n",
       "2  0.027972\n",
       "3  0.283450\n",
       "4  0.567521\n",
       "5  0.119288\n",
       "6  0.000932\n",
       "7  0.000000"
      ]
     },
     "execution_count": 5,
     "metadata": {},
     "output_type": "execute_result"
    }
   ],
   "source": [
    "pd.DataFrame(get_case_info(7))"
   ]
  },
  {
   "cell_type": "code",
   "execution_count": 6,
   "id": "f1b225da",
   "metadata": {},
   "outputs": [
    {
     "data": {
      "text/plain": [
       "<10x10 sparse matrix of type '<class 'numpy.float64'>'\n",
       "\twith 16 stored elements in Compressed Sparse Row format>"
      ]
     },
     "execution_count": 6,
     "metadata": {},
     "output_type": "execute_result"
    }
   ],
   "source": [
    "get_markov_chain(3, entire_matrix=True)"
   ]
  }
 ],
 "metadata": {
  "kernelspec": {
   "display_name": "pymc",
   "language": "python",
   "name": "python3"
  },
  "language_info": {
   "codemirror_mode": {
    "name": "ipython",
    "version": 3
   },
   "file_extension": ".py",
   "mimetype": "text/x-python",
   "name": "python",
   "nbconvert_exporter": "python",
   "pygments_lexer": "ipython3",
   "version": "3.9.18"
  }
 },
 "nbformat": 4,
 "nbformat_minor": 5
}
