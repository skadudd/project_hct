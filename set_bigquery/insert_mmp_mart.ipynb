{
 "cells": [
  {
   "cell_type": "code",
   "execution_count": 157,
   "metadata": {},
   "outputs": [],
   "source": [
    "from google.cloud import bigquery\n",
    "from google.cloud.bigquery import job\n",
    "from google.cloud.bigquery import SchemaField\n",
    "import pandas as pd\n",
    "import datetime as dt\n",
    "import numpy as np\n",
    "import re\n",
    "import os\n",
    "from tqdm import tqdm\n",
    "import pandas as pd\n",
    "PROJCECT = 'ballosodeuk'\n",
    "bq = bigquery.Client(project=PROJCECT)"
   ]
  },
  {
   "cell_type": "code",
   "execution_count": 158,
   "metadata": {},
   "outputs": [],
   "source": [
    "# 클라이언트 설정\n",
    "client = bigquery.Client()\n",
    "query_name = \"0711_동적쿼리테스트\"\n",
    "# SQL 파일 읽기\n",
    "# file = './query/쿠팡0403_0509.sql'\n",
    "file = f'../query/{query_name}.sql'\n",
    "with open(file, 'r') as file:\n",
    "    query = file.read()\n"
   ]
  },
  {
   "cell_type": "code",
   "execution_count": 226,
   "metadata": {},
   "outputs": [],
   "source": [
    "\n",
    "# 쿼리 실행\n",
    "job_config = bigquery.QueryJobConfig()\n",
    "query_job = client.query(query, job_config=job_config)\n",
    "\n",
    "df = query_job.to_dataframe()"
   ]
  },
  {
   "cell_type": "code",
   "execution_count": 227,
   "metadata": {},
   "outputs": [],
   "source": [
    "df_copy = df.copy()"
   ]
  },
  {
   "cell_type": "markdown",
   "metadata": {},
   "source": [
    "### 1. 신규 DF의 컬럼 추론\n",
    "- 새로운 컬럼 생성 대응\n",
    "- 기존 스키마 Order 로 정렬"
   ]
  },
  {
   "cell_type": "code",
   "execution_count": 14,
   "metadata": {},
   "outputs": [],
   "source": [
    "def infer_schema_from_dataframe(df):\n",
    "    \"\"\"데이터프레임에서 스키마 추론.\"\"\"\n",
    "    def infer_field_type(value):\n",
    "        if isinstance(value, dict):\n",
    "            subfields = {k: infer_field_type(v) for k, v in value.items()}\n",
    "            return {\"type\": \"RECORD\", \"fields\": subfields}\n",
    "        elif isinstance(value, (np.ndarray, list)) and len(value) > 0 and isinstance(value[0], dict):\n",
    "            subfields = {k: infer_field_type(v) for k, v in value[0].items()}\n",
    "            return {\"type\": \"RECORD\", \"mode\": \"REPEATED\", \"fields\": subfields}\n",
    "        elif isinstance(value, (np.ndarray, list)):\n",
    "            return {\"type\": \"STRING\", \"mode\": \"REPEATED\"}\n",
    "        elif pd.api.types.is_integer_dtype(type(value)):\n",
    "            return \"INTEGER\"\n",
    "        elif pd.api.types.is_float_dtype(type(value)):\n",
    "            return \"FLOAT\"\n",
    "        elif pd.api.types.is_bool_dtype(type(value)):\n",
    "            return \"BOOLEAN\"\n",
    "        elif pd.api.types.is_datetime64_any_dtype(type(value)):\n",
    "            return \"TIMESTAMP\"\n",
    "        elif isinstance(value, pd.Timestamp):\n",
    "            return \"DATE\"\n",
    "        else:\n",
    "            return \"STRING\"\n",
    "    \n",
    "    schema = {}\n",
    "    \n",
    "    for row in range(len(df)):\n",
    "        post_schema = {col: infer_field_type(df[col].iloc[row]) for col in df.columns}        \n",
    "        schema = merge_schemas(schema, post_schema)\n",
    "\n",
    "    return schema"
   ]
  },
  {
   "cell_type": "markdown",
   "metadata": {},
   "source": [
    "### 2. 신규 Df의 filed 타겟 값 찾기"
   ]
  },
  {
   "cell_type": "code",
   "execution_count": 162,
   "metadata": {},
   "outputs": [],
   "source": [
    "def find_tg_field(tg_schema):\n",
    "    \n",
    "    def find_keys(data, pattern):\n",
    "        matches = []\n",
    "        if isinstance(data, dict):\n",
    "            for key, value in data.items():\n",
    "                if re.match(pattern, key):\n",
    "                    matches.append(key)\n",
    "                if isinstance(value, dict):\n",
    "                    matches.extend(find_keys(value, pattern))\n",
    "                elif isinstance(value, list):\n",
    "                    for item in value:\n",
    "                        matches.extend(find_keys(item, pattern))\n",
    "        return matches\n",
    "\n",
    "    tg_field = tg_schema['e']['fields']['d']\n",
    "\n",
    "    pattern = r'^_field'\n",
    "    matches = find_keys(tg_field, pattern)\n",
    "\n",
    "    return matches[0]    "
   ]
  },
  {
   "cell_type": "markdown",
   "metadata": {},
   "source": [
    "### 2. 신규 DF의 field Key-Value 삭제"
   ]
  },
  {
   "cell_type": "code",
   "execution_count": 100,
   "metadata": {},
   "outputs": [],
   "source": [
    "def pop_error_new_df(df,tg):\n",
    "    tg = '_field_10'\n",
    "    for index, row in df.iterrows():\n",
    "        for e_item in row['e']:\n",
    "            for d_item in e_item['d']:\n",
    "                if tg in d_item:\n",
    "                    d_item.pop(tg)"
   ]
  },
  {
   "cell_type": "markdown",
   "metadata": {},
   "source": [
    "### 3. 기존 테이블 수집"
   ]
  },
  {
   "cell_type": "code",
   "execution_count": 6,
   "metadata": {},
   "outputs": [],
   "source": [
    "def get_current_schema(table_ref):\n",
    "    \"\"\"기존 테이블의 스키마를 가져옵니다.\"\"\"\n",
    "    table = client.get_table(table_ref)\n",
    "    # return {field.name: field for field in table.schema}\n",
    "    return table.schema"
   ]
  },
  {
   "cell_type": "markdown",
   "metadata": {},
   "source": [
    "### 4. 기존 테이블 스키마의 객체화"
   ]
  },
  {
   "cell_type": "code",
   "execution_count": 7,
   "metadata": {},
   "outputs": [],
   "source": [
    "# 기존 스키마 추출\n",
    "def convert_schema_fields(schema):\n",
    "    def convert_field(field):\n",
    "        if field.field_type == 'RECORD':\n",
    "            return {\n",
    "                \"type\": field.field_type,\n",
    "                \"mode\": field.mode,\n",
    "                \"fields\": {subfield.name: convert_field(subfield) for subfield in field.fields}\n",
    "            }\n",
    "        elif field.field_type == 'STRING' and field.mode == 'REPEATED':\n",
    "            return {\n",
    "                \"type\": field.field_type,\n",
    "                \"mode\": field.mode,\n",
    "                \"fields\": {subfield.name: convert_field(subfield) for subfield in field.fields} if field.fields else {}\n",
    "            }\n",
    "        else:\n",
    "            return field.field_type\n",
    "\n",
    "    return {field.name: convert_field(field) for field in schema}"
   ]
  },
  {
   "cell_type": "markdown",
   "metadata": {},
   "source": [
    "### 5. 신/구 스키마 병합\n",
    "- 교집합 요소는 구, 신규는 신"
   ]
  },
  {
   "cell_type": "code",
   "execution_count": 8,
   "metadata": {},
   "outputs": [],
   "source": [
    "def merge_schemas(schema1, schema2):\n",
    "    if isinstance(schema1, dict) and isinstance(schema2, dict):\n",
    "        merged = {}\n",
    "        for key in set(schema1.keys()).union(set(schema2.keys())):\n",
    "            if key in schema1 and key in schema2:\n",
    "                if schema1[key] == schema2[key]:\n",
    "                    merged[key] = schema1[key]\n",
    "                else:\n",
    "                    merged[key] = merge_schemas(schema1[key], schema2[key])\n",
    "            elif key in schema1:\n",
    "                merged[key] = schema1[key]\n",
    "            elif key in schema2:\n",
    "                merged[key] = schema2[key]\n",
    "        return merged\n",
    "    else:\n",
    "        return schema1 if schema1 == schema2 else \"STRING\""
   ]
  },
  {
   "cell_type": "markdown",
   "metadata": {},
   "source": [
    "### 6. 통합 스키마 정렬"
   ]
  },
  {
   "cell_type": "code",
   "execution_count": 9,
   "metadata": {},
   "outputs": [],
   "source": [
    "def order_schema(schema, order):\n",
    "    ordered_schema = {}\n",
    "    for key in order:\n",
    "        if key in schema:\n",
    "            ordered_schema[key] = schema[key]\n",
    "    return ordered_schema"
   ]
  },
  {
   "cell_type": "markdown",
   "metadata": {},
   "source": [
    "### 7. 통합 스키마의 BQ 스킴 변환"
   ]
  },
  {
   "cell_type": "code",
   "execution_count": 10,
   "metadata": {},
   "outputs": [],
   "source": [
    "def convert_to_schema_fields(schema):\n",
    "    \"\"\"스키마 딕셔너리를 SchemaField 객체로 변환.\"\"\"\n",
    "    fields = []\n",
    "    for name, dtype in schema.items():\n",
    "        if isinstance(dtype, dict):\n",
    "            subfields = convert_to_schema_fields(dtype.get(\"fields\", {}))\n",
    "            mode = dtype.get(\"mode\", \"NULLABLE\")\n",
    "            fields.append(SchemaField(name, dtype[\"type\"], mode=mode, fields=subfields))\n",
    "        else:\n",
    "            fields.append(SchemaField(name, dtype))\n",
    "    return fields\n"
   ]
  },
  {
   "cell_type": "markdown",
   "metadata": {},
   "source": [
    "### 8. 기존 BQ 테이블 스키마 업데이트"
   ]
  },
  {
   "cell_type": "code",
   "execution_count": 206,
   "metadata": {},
   "outputs": [],
   "source": [
    "def update_table_schema(table_ref, merged_schema):\n",
    "    \"\"\"테이블 스키마에 새 열을 추가합니다.\"\"\"\n",
    "    table = client.get_table(table_ref)\n",
    "    table.schema = merged_schema\n",
    "    client.update_table(table, [\"schema\"])\n",
    "    print(f\"테이블 {table_ref}의 스키마가 업데이트되었습니다: {merged_schema}\")\n",
    "    "
   ]
  },
  {
   "cell_type": "markdown",
   "metadata": {},
   "source": [
    "### 10. BQ 테이블로 현재 DF 업로드"
   ]
  },
  {
   "cell_type": "code",
   "execution_count": 12,
   "metadata": {},
   "outputs": [],
   "source": [
    "def load_data_to_bigquery(df, table_ref):\n",
    "    \"\"\"데이터프레임을 빅쿼리 테이블로 업로드합니다.\"\"\"\n",
    "    job = client.load_table_from_dataframe(df, table_ref)\n",
    "    job.result()\n",
    "    print(f\"테이블 {table_ref}에 데이터가 성공적으로 업로드되었습니다.\")"
   ]
  },
  {
   "cell_type": "markdown",
   "metadata": {},
   "source": [
    "## 실행"
   ]
  },
  {
   "cell_type": "code",
   "execution_count": 160,
   "metadata": {},
   "outputs": [],
   "source": [
    "# 기존 데이터셋 수집\n",
    "dataset_id = 'airbridge_mart'\n",
    "table_id = 'app_df_2'\n",
    "table_ref = f'ballosodeuk.{dataset_id}.{table_id}'\n"
   ]
  },
  {
   "cell_type": "code",
   "execution_count": 205,
   "metadata": {},
   "outputs": [
    {
     "data": {
      "text/plain": [
       "Table(TableReference(DatasetReference('ballosodeuk', 'airbridge_mart'), 'app_df_2'))"
      ]
     },
     "execution_count": 205,
     "metadata": {},
     "output_type": "execute_result"
    }
   ],
   "source": [
    "client.get_table(table_ref)"
   ]
  },
  {
   "cell_type": "code",
   "execution_count": 237,
   "metadata": {},
   "outputs": [],
   "source": [
    "df = df_copy.copy()"
   ]
  },
  {
   "cell_type": "code",
   "execution_count": 240,
   "metadata": {},
   "outputs": [],
   "source": [
    "df['Event_Date'] = pd.to_datetime(df.Event_Date)\n",
    "new_schema = infer_schema_from_dataframe(df)\n",
    "tg_field = find_tg_field(new_schema)\n",
    "pop_error_new_df(df,tg_field)\n",
    "new_schema = infer_schema_from_dataframe(df)\n",
    "cur_schema = get_current_schema(table_ref)\n",
    "cur_schema = convert_schema_fields(cur_schema)\n",
    "merged_schema = merge_schemas(cur_schema, new_schema)\n",
    "merged_schema = order_schema(merged_schema, df.columns)\n",
    "merged_schema = convert_to_schema_fields(merged_schema)\n",
    "update_table_schema(table_ref, merged_schema)\n"
   ]
  },
  {
   "cell_type": "code",
   "execution_count": 249,
   "metadata": {},
   "outputs": [
    {
     "data": {
      "text/plain": [
       "{'Event_Count_Total': 'INTEGER',\n",
       " 'Event_Category': 'STRING',\n",
       " 'Airbridge_Device_ID_Type': 'STRING',\n",
       " 'Event_Date': 'DATE',\n",
       " 'i': {'fields': {'Target_Event_Timestamp': 'STRING',\n",
       "   'Client_IP_City': 'STRING',\n",
       "   'Is_First_Event_per_Device_ID': 'BOOLEAN',\n",
       "   'Device_Type': 'STRING',\n",
       "   'Term_ID': 'STRING',\n",
       "   'Client_IP_Country_Code': 'STRING',\n",
       "   'Platform': 'STRING',\n",
       "   'Is_First_Event_per_User_ID': 'BOOLEAN',\n",
       "   'Ad_Creative_ID': 'STRING',\n",
       "   'Campaign_ID': 'STRING',\n",
       "   'Device_Model': 'STRING',\n",
       "   'Ad_Group_ID': 'STRING',\n",
       "   'Target_Event_Category': 'STRING',\n",
       "   'Client_IP_Subdivision': 'STRING',\n",
       "   'Is_Re_engagement': 'STRING',\n",
       "   'Is_First_Target_Event_per_Device': 'STRING'},\n",
       "  'type': 'RECORD'},\n",
       " 'Event_Value_Total': 'FLOAT',\n",
       " 'e': {'type': 'RECORD',\n",
       "  'mode': 'REPEATED',\n",
       "  'fields': {'Label': 'STRING',\n",
       "   'Action': 'STRING',\n",
       "   'Event_Value_Sum': 'FLOAT',\n",
       "   'Event_Count': 'INTEGER',\n",
       "   'u': {'type': 'RECORD',\n",
       "    'mode': 'REPEATED',\n",
       "    'fields': {'User_ID': 'STRING'}},\n",
       "   'd': {'type': 'RECORD',\n",
       "    'mode': 'REPEATED',\n",
       "    'fields': {'Timestamp': 'STRING',\n",
       "     'Label': 'STRING',\n",
       "     'Action': 'STRING',\n",
       "     'Value': 'FLOAT',\n",
       "     'tester': 'STRING',\n",
       "     'name': 'STRING',\n",
       "     'price': 'STRING',\n",
       "     'productID': 'STRING',\n",
       "     'transactionID': 'STRING',\n",
       "     'products_struct_alias': {'type': 'RECORD',\n",
       "      'mode': 'REPEATED',\n",
       "      'fields': {'name': 'STRING',\n",
       "       'price': 'STRING',\n",
       "       'position': 'STRING'}}}}}},\n",
       " 'Airbridge_Device_ID': 'STRING'}"
      ]
     },
     "execution_count": 249,
     "metadata": {},
     "output_type": "execute_result"
    }
   ],
   "source": [
    "new_schema"
   ]
  },
  {
   "cell_type": "code",
   "execution_count": 239,
   "metadata": {},
   "outputs": [
    {
     "data": {
      "text/plain": [
       "{'Device_Model': 'SM-N971N',\n",
       " 'Device_Type': 'mobile',\n",
       " 'Platform': 'Android',\n",
       " 'Client_IP_Country_Code': 'KR',\n",
       " 'Client_IP_Subdivision': 'Gyeonggi-do',\n",
       " 'Client_IP_City': 'Suwon',\n",
       " 'Campaign_ID': None,\n",
       " 'Ad_Group_ID': None,\n",
       " 'Ad_Creative_ID': None,\n",
       " 'Term_ID': None,\n",
       " 'Is_Re_engagement': True,\n",
       " 'Is_First_Event_per_User_ID': False,\n",
       " 'Is_First_Event_per_Device_ID': False,\n",
       " 'Is_First_Target_Event_per_Device': False,\n",
       " 'Target_Event_Timestamp': Decimal('1720536693400.000000000'),\n",
       " 'Target_Event_Category': 'Deeplink Open (App)'}"
      ]
     },
     "execution_count": 239,
     "metadata": {},
     "output_type": "execute_result"
    }
   ],
   "source": [
    "df.loc[0]['i']"
   ]
  },
  {
   "cell_type": "code",
   "execution_count": 236,
   "metadata": {},
   "outputs": [
    {
     "data": {
      "text/plain": [
       "True"
      ]
     },
     "execution_count": 236,
     "metadata": {},
     "output_type": "execute_result"
    }
   ],
   "source": [
    "pd.api.types.is_bool_dtype(type(df.loc[0]['i']['Is_Re_engagement']))"
   ]
  },
  {
   "cell_type": "code",
   "execution_count": 232,
   "metadata": {},
   "outputs": [
    {
     "data": {
      "text/plain": [
       "{'Timestamp': '2024-07-11T22:03:18+09:00',\n",
       " 'Label': '상품상세_구매하기',\n",
       " 'Action': '아이스 카페 아메리카노 T',\n",
       " 'Value': 6429.0,\n",
       " 'tester': 'true',\n",
       " 'name': None,\n",
       " 'price': None,\n",
       " 'productID': None,\n",
       " 'transactionID': None,\n",
       " 'products_struct_alias': array([{'name': '아이스 카페 아메리카노 T', 'price': '6429', 'position': None}],\n",
       "       dtype=object)}"
      ]
     },
     "execution_count": 232,
     "metadata": {},
     "output_type": "execute_result"
    }
   ],
   "source": [
    "list(df.sample(10)['e'])[0][0]['d'][0]"
   ]
  },
  {
   "cell_type": "code",
   "execution_count": 167,
   "metadata": {},
   "outputs": [
    {
     "data": {
      "text/plain": [
       "{'Timestamp': '2024-07-11T15:57:48+09:00',\n",
       " 'Label': '상품상세_구매하기',\n",
       " 'Action': '동서)스타벅스커피라떼컵200ml',\n",
       " 'Value': 3000.0,\n",
       " 'tester': 'true',\n",
       " 'name': None,\n",
       " 'price': None,\n",
       " 'productID': None,\n",
       " 'transactionID': None,\n",
       " 'products_struct_alias': array([{'name': '동서)스타벅스커피라떼컵200ml', 'price': '3000', 'position': None}],\n",
       "       dtype=object)}"
      ]
     },
     "execution_count": 167,
     "metadata": {},
     "output_type": "execute_result"
    }
   ],
   "source": [
    "df['e'][0][0]['d'][0]"
   ]
  },
  {
   "cell_type": "code",
   "execution_count": 168,
   "metadata": {},
   "outputs": [
    {
     "data": {
      "text/plain": [
       "0       [{'Label': '상품상세_구매하기', 'Action': '동서)스타벅스커피라떼...\n",
       "1       [{'Label': '상품상세_구매하기', 'Action': '아이스 카페 아메리카...\n",
       "2       [{'Label': '상품상세_구매하기', 'Action': '아메리카노(ICED)...\n",
       "3       [{'Label': '상품상세_구매하기', 'Action': '농심)너구리얼큰(봉지...\n",
       "4       [{'Label': '상품상세_구매하기', 'Action': '싸이버거', 'Eve...\n",
       "                              ...                        \n",
       "1471    [{'Label': '상품상세_구매하기', 'Action': '허니콤보+콜라1.25...\n",
       "1472    [{'Label': '상품상세_구매하기', 'Action': '패밀리 아이스크림',...\n",
       "1473    [{'Label': '상품상세_구매하기', 'Action': '패밀리 아이스크림',...\n",
       "1474    [{'Label': '상품상세_구매하기', 'Action': '허니콤보+콜라1.25...\n",
       "1475    [{'Label': '상품상세_구매하기', 'Action': '허니콤보+콜라1.25...\n",
       "Name: e, Length: 1476, dtype: object"
      ]
     },
     "execution_count": 168,
     "metadata": {},
     "output_type": "execute_result"
    }
   ],
   "source": [
    "df['e']"
   ]
  },
  {
   "cell_type": "code",
   "execution_count": 169,
   "metadata": {},
   "outputs": [
    {
     "data": {
      "text/plain": [
       "{'Event_Category': 'STRING',\n",
       " 'Event_Count_Total': 'INTEGER',\n",
       " 'Airbridge_Device_ID_Type': 'STRING',\n",
       " 'Event_Date': 'STRING',\n",
       " 'i': {'fields': {'Target_Event_Timestamp': 'STRING',\n",
       "   'Client_IP_City': 'STRING',\n",
       "   'Is_First_Event_per_Device_ID': 'BOOLEAN',\n",
       "   'Device_Type': 'STRING',\n",
       "   'Term_ID': 'STRING',\n",
       "   'Client_IP_Country_Code': 'STRING',\n",
       "   'Platform': 'STRING',\n",
       "   'Is_First_Event_per_User_ID': 'BOOLEAN',\n",
       "   'Ad_Creative_ID': 'STRING',\n",
       "   'Campaign_ID': 'STRING',\n",
       "   'Device_Model': 'STRING',\n",
       "   'Ad_Group_ID': 'STRING',\n",
       "   'Target_Event_Category': 'STRING',\n",
       "   'Client_IP_Subdivision': 'STRING',\n",
       "   'Is_Re_engagement': 'STRING',\n",
       "   'Is_First_Target_Event_per_Device': 'STRING'},\n",
       "  'type': 'RECORD',\n",
       "  'mode': 'NULLABLE'},\n",
       " 'Event_Value_Total': 'FLOAT',\n",
       " 'e': {'fields': {'Event_Value_Sum': 'FLOAT',\n",
       "   'Action': 'STRING',\n",
       "   'Event_Count': 'INTEGER',\n",
       "   'u': {'type': 'RECORD',\n",
       "    'mode': 'REPEATED',\n",
       "    'fields': {'User_ID': 'STRING'}},\n",
       "   'Label': 'STRING',\n",
       "   'd': {'fields': {'name': 'STRING',\n",
       "     '_field_9': 'STRING',\n",
       "     '_field_10': 'STRING',\n",
       "     'Label': 'STRING',\n",
       "     'products_struct_alias': {'type': 'RECORD',\n",
       "      'mode': 'REPEATED',\n",
       "      'fields': {'name': 'STRING', 'price': 'STRING', 'position': 'STRING'}},\n",
       "     'price': 'STRING',\n",
       "     'productID': 'STRING',\n",
       "     'transactionID': 'STRING',\n",
       "     'Action': 'STRING',\n",
       "     'Timestamp': 'STRING',\n",
       "     'Value': 'FLOAT',\n",
       "     'field_test': 'STRING',\n",
       "     'tester': 'STRING'},\n",
       "    'type': 'RECORD',\n",
       "    'mode': 'REPEATED'}},\n",
       "  'type': 'RECORD',\n",
       "  'mode': 'REPEATED'},\n",
       " 'Airbridge_Device_ID': 'STRING'}"
      ]
     },
     "execution_count": 169,
     "metadata": {},
     "output_type": "execute_result"
    }
   ],
   "source": [
    "merged_schema"
   ]
  },
  {
   "cell_type": "code",
   "execution_count": null,
   "metadata": {},
   "outputs": [],
   "source": []
  },
  {
   "cell_type": "code",
   "execution_count": 243,
   "metadata": {},
   "outputs": [],
   "source": []
  },
  {
   "cell_type": "code",
   "execution_count": 246,
   "metadata": {},
   "outputs": [
    {
     "ename": "TypeError",
     "evalue": "unhashable type: 'dict'",
     "output_type": "error",
     "traceback": [
      "\u001b[0;31m---------------------------------------------------------------------------\u001b[0m",
      "\u001b[0;31mTypeError\u001b[0m                                 Traceback (most recent call last)",
      "Cell \u001b[0;32mIn[246], line 46\u001b[0m\n\u001b[1;32m     43\u001b[0m     \u001b[38;5;28;01mreturn\u001b[39;00m schema\n\u001b[1;32m     45\u001b[0m \u001b[38;5;66;03m# Usage\u001b[39;00m\n\u001b[0;32m---> 46\u001b[0m schema \u001b[38;5;241m=\u001b[39m \u001b[43minfer_schema_from_dataframe\u001b[49m\u001b[43m(\u001b[49m\u001b[43mdf\u001b[49m\u001b[43m)\u001b[49m\n\u001b[1;32m     47\u001b[0m \u001b[38;5;28mprint\u001b[39m(schema)\n",
      "Cell \u001b[0;32mIn[246], line 42\u001b[0m, in \u001b[0;36minfer_schema_from_dataframe\u001b[0;34m(df)\u001b[0m\n\u001b[1;32m     41\u001b[0m \u001b[38;5;28;01mdef\u001b[39;00m \u001b[38;5;21minfer_schema_from_dataframe\u001b[39m(df):\n\u001b[0;32m---> 42\u001b[0m     schema \u001b[38;5;241m=\u001b[39m {col: \u001b[43mdetermine_column_type\u001b[49m\u001b[43m(\u001b[49m\u001b[43mdf\u001b[49m\u001b[43m[\u001b[49m\u001b[43mcol\u001b[49m\u001b[43m]\u001b[49m\u001b[43m)\u001b[49m \u001b[38;5;28;01mfor\u001b[39;00m col \u001b[38;5;129;01min\u001b[39;00m df\u001b[38;5;241m.\u001b[39mcolumns}\n\u001b[1;32m     43\u001b[0m     \u001b[38;5;28;01mreturn\u001b[39;00m schema\n",
      "Cell \u001b[0;32mIn[246], line 33\u001b[0m, in \u001b[0;36mdetermine_column_type\u001b[0;34m(col)\u001b[0m\n\u001b[1;32m     31\u001b[0m types \u001b[38;5;241m=\u001b[39m \u001b[38;5;28mset\u001b[39m()\n\u001b[1;32m     32\u001b[0m \u001b[38;5;28;01mfor\u001b[39;00m val \u001b[38;5;129;01min\u001b[39;00m col:\n\u001b[0;32m---> 33\u001b[0m     \u001b[43mtypes\u001b[49m\u001b[38;5;241;43m.\u001b[39;49m\u001b[43madd\u001b[49m\u001b[43m(\u001b[49m\u001b[43minfer_field_type\u001b[49m\u001b[43m(\u001b[49m\u001b[43mval\u001b[49m\u001b[43m)\u001b[49m\u001b[43m)\u001b[49m\n\u001b[1;32m     34\u001b[0m \u001b[38;5;28;01mif\u001b[39;00m \u001b[38;5;28mlen\u001b[39m(types) \u001b[38;5;241m==\u001b[39m \u001b[38;5;241m1\u001b[39m:\n\u001b[1;32m     35\u001b[0m     \u001b[38;5;28;01mreturn\u001b[39;00m types\u001b[38;5;241m.\u001b[39mpop()\n",
      "\u001b[0;31mTypeError\u001b[0m: unhashable type: 'dict'"
     ]
    }
   ],
   "source": []
  }
 ],
 "metadata": {
  "kernelspec": {
   "display_name": "pymc_env",
   "language": "python",
   "name": "python3"
  },
  "language_info": {
   "codemirror_mode": {
    "name": "ipython",
    "version": 3
   },
   "file_extension": ".py",
   "mimetype": "text/x-python",
   "name": "python",
   "nbconvert_exporter": "python",
   "pygments_lexer": "ipython3",
   "version": "3.12.2"
  }
 },
 "nbformat": 4,
 "nbformat_minor": 2
}
