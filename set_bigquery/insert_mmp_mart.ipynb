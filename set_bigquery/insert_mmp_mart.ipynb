{
 "cells": [
  {
   "cell_type": "code",
   "execution_count": 1,
   "metadata": {},
   "outputs": [],
   "source": [
    "from google.cloud import bigquery\n",
    "from google.cloud.bigquery import job\n",
    "from google.cloud.bigquery import SchemaField\n",
    "import pandas as pd\n",
    "import datetime as dt\n",
    "import numpy as np\n",
    "import re\n",
    "import os\n",
    "from tqdm import tqdm\n",
    "import pandas as pd\n",
    "PROJCECT = 'ballosodeuk'\n",
    "bq = bigquery.Client(project=PROJCECT)"
   ]
  },
  {
   "cell_type": "code",
   "execution_count": 2,
   "metadata": {},
   "outputs": [],
   "source": [
    "# 클라이언트 설정\n",
    "client = bigquery.Client()\n",
    "query_name = \"0711_동적쿼리테스트\"\n",
    "# SQL 파일 읽기\n",
    "# file = './query/쿠팡0403_0509.sql'\n",
    "file = f'../query/{query_name}.sql'\n",
    "with open(file, 'r') as file:\n",
    "    query = file.read()\n"
   ]
  },
  {
   "cell_type": "code",
   "execution_count": 3,
   "metadata": {},
   "outputs": [],
   "source": [
    "\n",
    "# 쿼리 실행\n",
    "job_config = bigquery.QueryJobConfig()\n",
    "query_job = client.query(query, job_config=job_config)\n",
    "\n",
    "df = query_job.to_dataframe()"
   ]
  },
  {
   "cell_type": "markdown",
   "metadata": {},
   "source": [
    "### 1. 신규 DF의 field Key-Value 삭제"
   ]
  },
  {
   "cell_type": "code",
   "execution_count": null,
   "metadata": {},
   "outputs": [],
   "source": [
    "def pop_error_new_df(df,tg):\n",
    "    tg = '_field_9'\n",
    "    for index, row in df.iterrows():\n",
    "        for e_item in row['e']:\n",
    "            for d_item in e_item['d']:\n",
    "                if tg in d_item:\n",
    "                    d_item.pop(tg)"
   ]
  },
  {
   "cell_type": "markdown",
   "metadata": {},
   "source": [
    "### 2. 신규 DF의 컬럼 추론 & 정렬\n",
    "- 새로운 컬럼 생성 대응\n",
    "- 기존 스키마 Order 로 정렬"
   ]
  },
  {
   "cell_type": "code",
   "execution_count": null,
   "metadata": {},
   "outputs": [],
   "source": [
    "def infer_schema_from_dataframe(df):\n",
    "    \"\"\"데이터프레임에서 스키마 추론.\"\"\"\n",
    "    def infer_field_type(value):\n",
    "        if isinstance(value, dict):\n",
    "            subfields = {k: infer_field_type(v) for k, v in value.items()}\n",
    "            return {\"type\": \"RECORD\", \"fields\": subfields}\n",
    "        elif isinstance(value, (np.ndarray, list)) and len(value) > 0 and isinstance(value[0], dict):\n",
    "            subfields = {k: infer_field_type(v) for k, v in value[0].items()}\n",
    "            return {\"type\": \"RECORD\", \"mode\": \"REPEATED\", \"fields\": subfields}\n",
    "        elif isinstance(value, (np.ndarray, list)):\n",
    "            return {\"type\": \"STRING\", \"mode\": \"REPEATED\"}\n",
    "        elif pd.api.types.is_integer_dtype(type(value)):\n",
    "            return \"INTEGER\"\n",
    "        elif pd.api.types.is_float_dtype(type(value)):\n",
    "            return \"FLOAT\"\n",
    "        elif pd.api.types.is_bool_dtype(type(value)):\n",
    "            return \"BOOLEAN\"\n",
    "        elif pd.api.types.is_datetime64_any_dtype(type(value)):\n",
    "            return \"TIMESTAMP\"\n",
    "        elif isinstance(value, pd.Timestamp):\n",
    "            return \"DATE\"\n",
    "        else:\n",
    "            return \"STRING\"\n",
    "    \n",
    "    schema = {}\n",
    "    \n",
    "    for row in range(len(df)):\n",
    "        post_schema = {col: infer_field_type(df[col].iloc[row]) for col in df.columns}        \n",
    "        schema = merge_schemas(schema, post_schema)\n",
    "\n",
    "    return schema\n",
    "\n",
    "\n",
    "def order_schema(schema, order):\n",
    "    ordered_schema = {}\n",
    "    for key in order:\n",
    "        if key in schema:\n",
    "            ordered_schema[key] = schema[key]\n",
    "    return ordered_schema\n"
   ]
  },
  {
   "cell_type": "markdown",
   "metadata": {},
   "source": [
    "### 3. 기존 테이블 수집"
   ]
  },
  {
   "cell_type": "code",
   "execution_count": null,
   "metadata": {},
   "outputs": [],
   "source": [
    "def get_current_schema(table_ref):\n",
    "    \"\"\"기존 테이블의 스키마를 가져옵니다.\"\"\"\n",
    "    table = client.get_table(table_ref)\n",
    "    # return {field.name: field for field in table.schema}\n",
    "    return table.schema"
   ]
  },
  {
   "cell_type": "markdown",
   "metadata": {},
   "source": [
    "### 4. 기존 테이블 스키마의 객체화"
   ]
  },
  {
   "cell_type": "code",
   "execution_count": null,
   "metadata": {},
   "outputs": [],
   "source": [
    "# 기존 스키마 추출\n",
    "def convert_schema_fields(schema):\n",
    "    def convert_field(field):\n",
    "        if field.field_type == 'RECORD':\n",
    "            return {\n",
    "                \"type\": field.field_type,\n",
    "                \"mode\": field.mode,\n",
    "                \"fields\": {subfield.name: convert_field(subfield) for subfield in field.fields}\n",
    "            }\n",
    "        elif field.field_type == 'STRING' and field.mode == 'REPEATED':\n",
    "            return {\n",
    "                \"type\": field.field_type,\n",
    "                \"mode\": field.mode,\n",
    "                \"fields\": {subfield.name: convert_field(subfield) for subfield in field.fields} if field.fields else {}\n",
    "            }\n",
    "        else:\n",
    "            return field.field_type\n",
    "\n",
    "    return {field.name: convert_field(field) for field in schema}"
   ]
  },
  {
   "cell_type": "markdown",
   "metadata": {},
   "source": [
    "### 5. 신/구 스키마 병합\n",
    "- 교집합 요소는 구, 신규는 신"
   ]
  },
  {
   "cell_type": "code",
   "execution_count": null,
   "metadata": {},
   "outputs": [],
   "source": [
    "def merge_schemas(schema1, schema2):\n",
    "    if isinstance(schema1, dict) and isinstance(schema2, dict):\n",
    "        merged = {}\n",
    "        for key in set(schema1.keys()).union(set(schema2.keys())):\n",
    "            if key in schema1 and key in schema2:\n",
    "                if schema1[key] == schema2[key]:\n",
    "                    merged[key] = schema1[key]\n",
    "                else:\n",
    "                    merged[key] = merge_schemas(schema1[key], schema2[key])\n",
    "            elif key in schema1:\n",
    "                merged[key] = schema1[key]\n",
    "            elif key in schema2:\n",
    "                merged[key] = schema2[key]\n",
    "        return merged\n",
    "    else:\n",
    "        return schema1 if schema1 == schema2 else \"STRING\""
   ]
  },
  {
   "cell_type": "markdown",
   "metadata": {},
   "source": [
    "### 6. 통합 스키마 정렬"
   ]
  },
  {
   "cell_type": "code",
   "execution_count": null,
   "metadata": {},
   "outputs": [],
   "source": [
    "def order_schema(schema, order):\n",
    "    ordered_schema = {}\n",
    "    for key in order:\n",
    "        if key in schema:\n",
    "            ordered_schema[key] = schema[key]\n",
    "    return ordered_schema"
   ]
  },
  {
   "cell_type": "markdown",
   "metadata": {},
   "source": [
    "### 7. 통합 스키마의 BQ 스킴 변환"
   ]
  },
  {
   "cell_type": "code",
   "execution_count": null,
   "metadata": {},
   "outputs": [],
   "source": [
    "def convert_to_schema_fields(schema):\n",
    "    \"\"\"스키마 딕셔너리를 SchemaField 객체로 변환.\"\"\"\n",
    "    fields = []\n",
    "    for name, dtype in schema.items():\n",
    "        if isinstance(dtype, dict):\n",
    "            subfields = convert_to_schema_fields(dtype.get(\"fields\", {}))\n",
    "            mode = dtype.get(\"mode\", \"NULLABLE\")\n",
    "            fields.append(SchemaField(name, dtype[\"type\"], mode=mode, fields=subfields))\n",
    "        else:\n",
    "            fields.append(SchemaField(name, dtype))\n",
    "    return fields\n"
   ]
  },
  {
   "cell_type": "markdown",
   "metadata": {},
   "source": [
    "### 8. 기존 BQ 테이블 스키마 업데이트"
   ]
  },
  {
   "cell_type": "code",
   "execution_count": null,
   "metadata": {},
   "outputs": [],
   "source": [
    "def update_table_schema(table_ref, new_columns):\n",
    "    \"\"\"테이블 스키마에 새 열을 추가합니다.\"\"\"\n",
    "    client = bigquery.Client()\n",
    "    table = client.get_table(table_ref)\n",
    "    current_schema = {field.name: field for field in table.schema}\n",
    "    updated_schema = list(table.schema)  # 기존 스키마 유지\n",
    "\n",
    "    def add_new_fields(new_fields, parent_fields):\n",
    "        parent_fields_dict = {field.name: field for field in parent_fields}\n",
    "        for name, dtype in new_fields.items():\n",
    "            if name not in parent_fields_dict:\n",
    "                if isinstance(dtype, dict):\n",
    "                    subfields = convert_to_schema_fields(dtype.get(\"fields\", {}))\n",
    "                    mode = dtype.get(\"mode\", \"NULLABLE\")\n",
    "                    parent_fields.append(SchemaField(name, dtype[\"type\"], mode=mode, fields=subfields))\n",
    "                else:\n",
    "                    parent_fields.append(SchemaField(name, dtype))\n",
    "            else:\n",
    "                existing_field = parent_fields_dict[name]\n",
    "                if existing_field.field_type == 'RECORD' and 'fields' in dtype:\n",
    "                    existing_field_fields_list = list(existing_field.fields)\n",
    "                    add_new_fields(dtype['fields'], existing_field_fields_list)\n",
    "                    parent_fields[parent_fields.index(existing_field)] = SchemaField(\n",
    "                        name=existing_field.name,\n",
    "                        field_type=existing_field.field_type,\n",
    "                        mode=existing_field.mode,\n",
    "                        fields=tuple(existing_field_fields_list)\n",
    "                    )\n",
    "\n",
    "    add_new_fields(new_columns, updated_schema)\n",
    "\n",
    "    table.schema = updated_schema\n",
    "    client.update_table(table, [\"schema\"])\n",
    "    print(f\"테이블 {table_ref}의 스키마가 업데이트되었습니다: {new_columns}\")"
   ]
  },
  {
   "cell_type": "markdown",
   "metadata": {},
   "source": [
    "### 10. BQ 테이블로 현재 DF 업로드"
   ]
  },
  {
   "cell_type": "code",
   "execution_count": null,
   "metadata": {},
   "outputs": [],
   "source": [
    "def load_data_to_bigquery(df, table_ref):\n",
    "    \"\"\"데이터프레임을 빅쿼리 테이블로 업로드합니다.\"\"\"\n",
    "    job = client.load_table_from_dataframe(df, table_ref)\n",
    "    job.result()\n",
    "    print(f\"테이블 {table_ref}에 데이터가 성공적으로 업로드되었습니다.\")"
   ]
  }
 ],
 "metadata": {
  "kernelspec": {
   "display_name": "pymc_env",
   "language": "python",
   "name": "python3"
  },
  "language_info": {
   "codemirror_mode": {
    "name": "ipython",
    "version": 3
   },
   "file_extension": ".py",
   "mimetype": "text/x-python",
   "name": "python",
   "nbconvert_exporter": "python",
   "pygments_lexer": "ipython3",
   "version": "3.12.2"
  }
 },
 "nbformat": 4,
 "nbformat_minor": 2
}
