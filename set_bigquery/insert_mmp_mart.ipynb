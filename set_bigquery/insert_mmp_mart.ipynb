{
 "cells": [
  {
   "cell_type": "code",
   "execution_count": 267,
   "metadata": {},
   "outputs": [],
   "source": [
    "from google.cloud import bigquery\n",
    "from google.cloud.bigquery import job\n",
    "from google.cloud.bigquery import SchemaField\n",
    "import pandas as pd\n",
    "import datetime as dt\n",
    "import numpy as np\n",
    "import re\n",
    "import os\n",
    "from tqdm import tqdm\n",
    "import pandas as pd\n",
    "import copy\n",
    "PROJCECT = 'ballosodeuk'\n",
    "bq = bigquery.Client(project=PROJCECT)"
   ]
  },
  {
   "cell_type": "code",
   "execution_count": 268,
   "metadata": {},
   "outputs": [],
   "source": [
    "# 클라이언트 설정\n",
    "client = bigquery.Client()\n",
    "query_name = \"0711_동적쿼리테스트\"\n",
    "# SQL 파일 읽기\n",
    "# file = './query/쿠팡0403_0509.sql'\n",
    "file = f'../query/{query_name}.sql'\n",
    "with open(file, 'r') as file:\n",
    "    query = file.read()\n"
   ]
  },
  {
   "cell_type": "code",
   "execution_count": 468,
   "metadata": {},
   "outputs": [],
   "source": [
    "\n",
    "# 쿼리 실행\n",
    "job_config = bigquery.QueryJobConfig()\n",
    "query_job = client.query(query, job_config=job_config)\n",
    "\n",
    "df = query_job.to_dataframe()"
   ]
  },
  {
   "cell_type": "code",
   "execution_count": 271,
   "metadata": {},
   "outputs": [],
   "source": [
    "df_copy = copy.deepcopy(df)"
   ]
  },
  {
   "cell_type": "markdown",
   "metadata": {},
   "source": [
    "### 1. 신규 DF의 컬럼 추론\n",
    "- 새로운 컬럼 생성 대응\n",
    "- 기존 스키마 Order 로 정렬"
   ]
  },
  {
   "cell_type": "code",
   "execution_count": 272,
   "metadata": {},
   "outputs": [],
   "source": [
    "def infer_schema_from_dataframe(df):\n",
    "    \"\"\"데이터프레임에서 스키마 추론.\"\"\"\n",
    "    def infer_field_type(value):\n",
    "        if isinstance(value, dict):\n",
    "            subfields = {k: infer_field_type(v) for k, v in value.items()}\n",
    "            return {\"type\": \"RECORD\", \"fields\": subfields}\n",
    "        elif isinstance(value, (np.ndarray, list)) and len(value) > 0 and isinstance(value[0], dict):\n",
    "            subfields = {k: infer_field_type(v) for k, v in value[0].items()}\n",
    "            return {\"type\": \"RECORD\", \"mode\": \"REPEATED\", \"fields\": subfields}\n",
    "        elif isinstance(value, (np.ndarray, list)):\n",
    "            return {\"type\": \"STRING\", \"mode\": \"REPEATED\"}\n",
    "        elif pd.api.types.is_integer_dtype(type(value)):\n",
    "            return \"INTEGER\"\n",
    "        elif pd.api.types.is_float_dtype(type(value)):\n",
    "            return \"FLOAT\"\n",
    "        elif pd.api.types.is_bool_dtype(type(value)):\n",
    "            return \"BOOLEAN\"\n",
    "        elif pd.api.types.is_datetime64_any_dtype(type(value)):\n",
    "            return \"TIMESTAMP\"\n",
    "        elif isinstance(value, pd.Timestamp):\n",
    "            return \"DATE\"\n",
    "        else:\n",
    "            return \"STRING\"\n",
    "    \n",
    "    schema = {}\n",
    "    \n",
    "    for row in range(len(df)):\n",
    "        post_schema = {col: infer_field_type(df[col].iloc[row]) for col in df.columns}        \n",
    "        schema = merge_schemas(schema, post_schema)\n",
    "\n",
    "    return schema"
   ]
  },
  {
   "cell_type": "markdown",
   "metadata": {},
   "source": [
    "### 2. 신규 Df의 filed 타겟 값 찾기"
   ]
  },
  {
   "cell_type": "code",
   "execution_count": 273,
   "metadata": {},
   "outputs": [],
   "source": [
    "def find_tg_field(tg_schema):\n",
    "    \n",
    "    def find_keys(data, pattern):\n",
    "        matches = []\n",
    "        if isinstance(data, dict):\n",
    "            for key, value in data.items():\n",
    "                if re.match(pattern, key):\n",
    "                    matches.append(key)\n",
    "                if isinstance(value, dict):\n",
    "                    matches.extend(find_keys(value, pattern))\n",
    "                elif isinstance(value, list):\n",
    "                    for item in value:\n",
    "                        matches.extend(find_keys(item, pattern))\n",
    "        return matches\n",
    "\n",
    "    tg_field = tg_schema['e']['fields']['d']\n",
    "\n",
    "    pattern = r'^_field'\n",
    "    matches = find_keys(tg_field, pattern)\n",
    "\n",
    "    return matches[0]    "
   ]
  },
  {
   "cell_type": "markdown",
   "metadata": {},
   "source": [
    "### 2. 신규 DF의 field Key-Value 삭제"
   ]
  },
  {
   "cell_type": "code",
   "execution_count": 297,
   "metadata": {},
   "outputs": [],
   "source": [
    "def pop_error_new_df(df,tg):\n",
    "    print(f\"삭제할 key는 {tg}\")\n",
    "    for index, row in df.iterrows():\n",
    "        for e_item in row['e']:\n",
    "            for d_item in e_item['d']:\n",
    "                if tg in d_item:\n",
    "                    d_item.pop(tg)"
   ]
  },
  {
   "cell_type": "markdown",
   "metadata": {},
   "source": [
    "### 3. 기존 테이블 수집"
   ]
  },
  {
   "cell_type": "code",
   "execution_count": 275,
   "metadata": {},
   "outputs": [],
   "source": [
    "def get_current_schema(table_ref):\n",
    "    \"\"\"기존 테이블의 스키마를 가져옵니다.\"\"\"\n",
    "    table = client.get_table(table_ref)\n",
    "    # return {field.name: field for field in table.schema}\n",
    "    return table.schema"
   ]
  },
  {
   "cell_type": "markdown",
   "metadata": {},
   "source": [
    "### 4. 기존 테이블 스키마의 객체화"
   ]
  },
  {
   "cell_type": "code",
   "execution_count": 276,
   "metadata": {},
   "outputs": [],
   "source": [
    "# 기존 스키마 추출\n",
    "def convert_schema_fields(schema):\n",
    "    def convert_field(field):\n",
    "        if field.field_type == 'RECORD':\n",
    "            return {\n",
    "                \"type\": field.field_type,\n",
    "                \"mode\": field.mode,\n",
    "                \"fields\": {subfield.name: convert_field(subfield) for subfield in field.fields}\n",
    "            }\n",
    "        elif field.field_type == 'STRING' and field.mode == 'REPEATED':\n",
    "            return {\n",
    "                \"type\": field.field_type,\n",
    "                \"mode\": field.mode,\n",
    "                \"fields\": {subfield.name: convert_field(subfield) for subfield in field.fields} if field.fields else {}\n",
    "            }\n",
    "        else:\n",
    "            return field.field_type\n",
    "\n",
    "    return {field.name: convert_field(field) for field in schema}"
   ]
  },
  {
   "cell_type": "markdown",
   "metadata": {},
   "source": [
    "### 5. 신/구 스키마 병합\n",
    "- 교집합 요소는 구, 신규는 신"
   ]
  },
  {
   "cell_type": "code",
   "execution_count": 277,
   "metadata": {},
   "outputs": [],
   "source": [
    "def merge_schemas(cur, new):\n",
    "    if isinstance(cur, dict) and isinstance(new, dict):\n",
    "        merged = {}\n",
    "        for key in set(cur.keys()).union(set(new.keys())):\n",
    "            if key in cur:\n",
    "                if key in new:\n",
    "                    if isinstance(cur[key], dict) and isinstance(new[key], dict):\n",
    "                        merged[key] = merge_schemas(cur[key], new[key])\n",
    "                    else:\n",
    "                        merged[key] = cur[key]\n",
    "                else:\n",
    "                    merged[key] = cur[key]\n",
    "            else:\n",
    "                merged[key] = new[key]\n",
    "        return merged\n",
    "    else:\n",
    "        return cur if key in cur else new"
   ]
  },
  {
   "cell_type": "markdown",
   "metadata": {},
   "source": [
    "### 6. 통합 스키마 정렬"
   ]
  },
  {
   "cell_type": "code",
   "execution_count": 278,
   "metadata": {},
   "outputs": [],
   "source": [
    "def order_schema(schema, order):\n",
    "    ordered_schema = {}\n",
    "    for key in order:\n",
    "        if key in schema:\n",
    "            ordered_schema[key] = schema[key]\n",
    "    return ordered_schema"
   ]
  },
  {
   "cell_type": "markdown",
   "metadata": {},
   "source": [
    "### 7. 통합 스키마의 BQ 스킴 변환"
   ]
  },
  {
   "cell_type": "code",
   "execution_count": 279,
   "metadata": {},
   "outputs": [],
   "source": [
    "def convert_to_schema_fields(schema):\n",
    "    \"\"\"스키마 딕셔너리를 SchemaField 객체로 변환.\"\"\"\n",
    "    fields = []\n",
    "    for name, dtype in schema.items():\n",
    "        if isinstance(dtype, dict):\n",
    "            subfields = convert_to_schema_fields(dtype.get(\"fields\", {}))\n",
    "            mode = dtype.get(\"mode\", \"NULLABLE\")\n",
    "            fields.append(SchemaField(name, dtype[\"type\"], mode=mode, fields=subfields))\n",
    "        else:\n",
    "            fields.append(SchemaField(name, dtype))\n",
    "    return fields\n"
   ]
  },
  {
   "cell_type": "markdown",
   "metadata": {},
   "source": [
    "### 8. 기존 BQ 테이블 스키마 업데이트"
   ]
  },
  {
   "cell_type": "code",
   "execution_count": 280,
   "metadata": {},
   "outputs": [],
   "source": [
    "def update_table_schema(table_ref, merged_schema):\n",
    "    \"\"\"테이블 스키마에 새 열을 추가합니다.\"\"\"\n",
    "    table = client.get_table(table_ref)\n",
    "    table.schema = merged_schema\n",
    "    client.update_table(table, [\"schema\"])\n",
    "    print(f\"테이블 {table_ref}의 스키마가 업데이트되었습니다: {merged_schema}\")\n",
    "    "
   ]
  },
  {
   "cell_type": "markdown",
   "metadata": {},
   "source": [
    "### 10. BQ 테이블로 현재 DF 업로드"
   ]
  },
  {
   "cell_type": "code",
   "execution_count": 281,
   "metadata": {},
   "outputs": [],
   "source": [
    "def load_data_to_bigquery(df, table_ref):\n",
    "    \"\"\"데이터프레임을 빅쿼리 테이블로 업로드합니다.\"\"\"\n",
    "    client = bigquery.Client()\n",
    "\n",
    "    # Load job configuration\n",
    "    job_config = bigquery.LoadJobConfig(\n",
    "        write_disposition=\"WRITE_APPEND\",\n",
    "        schema_update_options=[\"ALLOW_FIELD_ADDITION\"]\n",
    "    )\n",
    "    \n",
    "    # 스키마 검증\n",
    "    table = client.get_table(table_ref)\n",
    "    print(\"Current table schema:\", table.schema)\n",
    "    \n",
    "    # 데이터 업로드\n",
    "    job = client.load_table_from_dataframe(df, table_ref, job_config=job_config)\n",
    "    job.result()\n",
    "    print(f\"테이블 {table_ref}에 데이터가 성공적으로 업로드되었습니다.\")\n",
    "    \n",
    "load_data_to_bigquery(df, table_ref)"
   ]
  },
  {
   "cell_type": "markdown",
   "metadata": {},
   "source": [
    "## 실행"
   ]
  },
  {
   "cell_type": "code",
   "execution_count": 291,
   "metadata": {},
   "outputs": [],
   "source": [
    "df = copy.deepcopy(df_copy)"
   ]
  },
  {
   "cell_type": "code",
   "execution_count": 289,
   "metadata": {},
   "outputs": [],
   "source": [
    "# 기존 데이터셋 수집\n",
    "dataset_id = 'airbridge_mart'\n",
    "table_id = 'app_df_2'\n",
    "table_ref = f'ballosodeuk.{dataset_id}.{table_id}'"
   ]
  },
  {
   "cell_type": "code",
   "execution_count": 470,
   "metadata": {},
   "outputs": [
    {
     "ename": "BadRequest",
     "evalue": "400 Invalid schema update. Cannot add fields (field: e.d._field_10); reason: invalid, message: Invalid schema update. Cannot add fields (field: e.d._field_10)",
     "output_type": "error",
     "traceback": [
      "\u001b[0;31m---------------------------------------------------------------------------\u001b[0m",
      "\u001b[0;31mBadRequest\u001b[0m                                Traceback (most recent call last)",
      "Cell \u001b[0;32mIn[470], line 12\u001b[0m\n\u001b[1;32m      1\u001b[0m \u001b[38;5;66;03m# df['Event_Date'] = pd.to_datetime(df.Event_Date)\u001b[39;00m\n\u001b[1;32m      2\u001b[0m \u001b[38;5;66;03m# new_schema = infer_schema_from_dataframe(df)\u001b[39;00m\n\u001b[1;32m      3\u001b[0m \u001b[38;5;66;03m# tg_field = find_tg_field(new_schema)\u001b[39;00m\n\u001b[0;32m   (...)\u001b[0m\n\u001b[1;32m     10\u001b[0m \u001b[38;5;66;03m# merged_schema = convert_to_schema_fields(merged_schema)\u001b[39;00m\n\u001b[1;32m     11\u001b[0m \u001b[38;5;66;03m# update_table_schema(table_ref, merged_schema)\u001b[39;00m\n\u001b[0;32m---> 12\u001b[0m \u001b[43mload_data_to_bigquery\u001b[49m\u001b[43m(\u001b[49m\u001b[43mdf\u001b[49m\u001b[38;5;241;43m.\u001b[39;49m\u001b[43mloc\u001b[49m\u001b[43m[\u001b[49m\u001b[38;5;241;43m1\u001b[39;49m\u001b[43m:\u001b[49m\u001b[38;5;241;43m10\u001b[39;49m\u001b[43m]\u001b[49m\u001b[43m,\u001b[49m\u001b[43m \u001b[49m\u001b[43mtable_ref\u001b[49m\u001b[43m)\u001b[49m\n",
      "Cell \u001b[0;32mIn[281], line 4\u001b[0m, in \u001b[0;36mload_data_to_bigquery\u001b[0;34m(df, table_ref)\u001b[0m\n\u001b[1;32m      2\u001b[0m \u001b[38;5;250m\u001b[39m\u001b[38;5;124;03m\"\"\"데이터프레임을 빅쿼리 테이블로 업로드합니다.\"\"\"\u001b[39;00m\n\u001b[1;32m      3\u001b[0m job \u001b[38;5;241m=\u001b[39m client\u001b[38;5;241m.\u001b[39mload_table_from_dataframe(df, table_ref)\n\u001b[0;32m----> 4\u001b[0m \u001b[43mjob\u001b[49m\u001b[38;5;241;43m.\u001b[39;49m\u001b[43mresult\u001b[49m\u001b[43m(\u001b[49m\u001b[43m)\u001b[49m\n\u001b[1;32m      5\u001b[0m \u001b[38;5;28mprint\u001b[39m(\u001b[38;5;124mf\u001b[39m\u001b[38;5;124m\"\u001b[39m\u001b[38;5;124m테이블 \u001b[39m\u001b[38;5;132;01m{\u001b[39;00mtable_ref\u001b[38;5;132;01m}\u001b[39;00m\u001b[38;5;124m에 데이터가 성공적으로 업로드되었습니다.\u001b[39m\u001b[38;5;124m\"\u001b[39m)\n",
      "File \u001b[0;32m~/miniforge3/envs/pymc_env/lib/python3.12/site-packages/google/cloud/bigquery/job/base.py:971\u001b[0m, in \u001b[0;36m_AsyncJob.result\u001b[0;34m(self, retry, timeout)\u001b[0m\n\u001b[1;32m    968\u001b[0m     \u001b[38;5;28mself\u001b[39m\u001b[38;5;241m.\u001b[39m_begin(retry\u001b[38;5;241m=\u001b[39mretry, timeout\u001b[38;5;241m=\u001b[39mtimeout)\n\u001b[1;32m    970\u001b[0m kwargs \u001b[38;5;241m=\u001b[39m {} \u001b[38;5;28;01mif\u001b[39;00m retry \u001b[38;5;129;01mis\u001b[39;00m DEFAULT_RETRY \u001b[38;5;28;01melse\u001b[39;00m {\u001b[38;5;124m\"\u001b[39m\u001b[38;5;124mretry\u001b[39m\u001b[38;5;124m\"\u001b[39m: retry}\n\u001b[0;32m--> 971\u001b[0m \u001b[38;5;28;01mreturn\u001b[39;00m \u001b[38;5;28;43msuper\u001b[39;49m\u001b[43m(\u001b[49m\u001b[43m_AsyncJob\u001b[49m\u001b[43m,\u001b[49m\u001b[43m \u001b[49m\u001b[38;5;28;43mself\u001b[39;49m\u001b[43m)\u001b[49m\u001b[38;5;241;43m.\u001b[39;49m\u001b[43mresult\u001b[49m\u001b[43m(\u001b[49m\u001b[43mtimeout\u001b[49m\u001b[38;5;241;43m=\u001b[39;49m\u001b[43mtimeout\u001b[49m\u001b[43m,\u001b[49m\u001b[43m \u001b[49m\u001b[38;5;241;43m*\u001b[39;49m\u001b[38;5;241;43m*\u001b[39;49m\u001b[43mkwargs\u001b[49m\u001b[43m)\u001b[49m\n",
      "File \u001b[0;32m~/miniforge3/envs/pymc_env/lib/python3.12/site-packages/google/api_core/future/polling.py:261\u001b[0m, in \u001b[0;36mPollingFuture.result\u001b[0;34m(self, timeout, retry, polling)\u001b[0m\n\u001b[1;32m    256\u001b[0m \u001b[38;5;28mself\u001b[39m\u001b[38;5;241m.\u001b[39m_blocking_poll(timeout\u001b[38;5;241m=\u001b[39mtimeout, retry\u001b[38;5;241m=\u001b[39mretry, polling\u001b[38;5;241m=\u001b[39mpolling)\n\u001b[1;32m    258\u001b[0m \u001b[38;5;28;01mif\u001b[39;00m \u001b[38;5;28mself\u001b[39m\u001b[38;5;241m.\u001b[39m_exception \u001b[38;5;129;01mis\u001b[39;00m \u001b[38;5;129;01mnot\u001b[39;00m \u001b[38;5;28;01mNone\u001b[39;00m:\n\u001b[1;32m    259\u001b[0m     \u001b[38;5;66;03m# pylint: disable=raising-bad-type\u001b[39;00m\n\u001b[1;32m    260\u001b[0m     \u001b[38;5;66;03m# Pylint doesn't recognize that this is valid in this case.\u001b[39;00m\n\u001b[0;32m--> 261\u001b[0m     \u001b[38;5;28;01mraise\u001b[39;00m \u001b[38;5;28mself\u001b[39m\u001b[38;5;241m.\u001b[39m_exception\n\u001b[1;32m    263\u001b[0m \u001b[38;5;28;01mreturn\u001b[39;00m \u001b[38;5;28mself\u001b[39m\u001b[38;5;241m.\u001b[39m_result\n",
      "\u001b[0;31mBadRequest\u001b[0m: 400 Invalid schema update. Cannot add fields (field: e.d._field_10); reason: invalid, message: Invalid schema update. Cannot add fields (field: e.d._field_10)"
     ]
    }
   ],
   "source": [
    "df['Event_Date'] = pd.to_datetime(df.Event_Date)\n",
    "new_schema = infer_schema_from_dataframe(df)\n",
    "tg_field = find_tg_field(new_schema)\n",
    "pop_error_new_df(df,tg_field)\n",
    "new_schema = infer_schema_from_dataframe(df)\n",
    "cur_schema = get_current_schema(table_ref)\n",
    "cur_schema = convert_schema_fields(cur_schema)\n",
    "merged_schema = merge_schemas(cur_schema, new_schema)\n",
    "merged_schema = order_schema(merged_schema, df.columns)\n",
    "merged_schema = convert_to_schema_fields(merged_schema)\n",
    "update_table_schema(table_ref, merged_schema)\n",
    "load_data_to_bigquery(df.loc[1:10], table_ref)\n"
   ]
  },
  {
   "cell_type": "code",
   "execution_count": 236,
   "metadata": {},
   "outputs": [
    {
     "data": {
      "text/plain": [
       "True"
      ]
     },
     "execution_count": 236,
     "metadata": {},
     "output_type": "execute_result"
    }
   ],
   "source": [
    "pd.api.types.is_bool_dtype(type(df.loc[0]['i']['Is_Re_engagement']))"
   ]
  },
  {
   "cell_type": "code",
   "execution_count": 407,
   "metadata": {},
   "outputs": [
    {
     "data": {
      "text/plain": [
       "{'Timestamp': '2024-07-11T12:19:38+09:00',\n",
       " 'Label': '상품상세_구매하기',\n",
       " 'Action': '아이스 카페 아메리카노 T',\n",
       " 'Value': 6429.0,\n",
       " 'tester': 'true',\n",
       " 'name': None,\n",
       " 'price': None,\n",
       " 'productID': None,\n",
       " 'transactionID': None,\n",
       " 'products_struct_alias': array([{'name': '아이스 카페 아메리카노 T', 'price': '6429', 'position': None}],\n",
       "       dtype=object)}"
      ]
     },
     "execution_count": 407,
     "metadata": {},
     "output_type": "execute_result"
    }
   ],
   "source": [
    "list(df.sample(10)['e'])[0][0]['d'][0]"
   ]
  },
  {
   "cell_type": "code",
   "execution_count": 167,
   "metadata": {},
   "outputs": [
    {
     "data": {
      "text/plain": [
       "{'Timestamp': '2024-07-11T15:57:48+09:00',\n",
       " 'Label': '상품상세_구매하기',\n",
       " 'Action': '동서)스타벅스커피라떼컵200ml',\n",
       " 'Value': 3000.0,\n",
       " 'tester': 'true',\n",
       " 'name': None,\n",
       " 'price': None,\n",
       " 'productID': None,\n",
       " 'transactionID': None,\n",
       " 'products_struct_alias': array([{'name': '동서)스타벅스커피라떼컵200ml', 'price': '3000', 'position': None}],\n",
       "       dtype=object)}"
      ]
     },
     "execution_count": 167,
     "metadata": {},
     "output_type": "execute_result"
    }
   ],
   "source": [
    "df['e'][0][0]['d'][0]"
   ]
  },
  {
   "cell_type": "code",
   "execution_count": 168,
   "metadata": {},
   "outputs": [
    {
     "data": {
      "text/plain": [
       "0       [{'Label': '상품상세_구매하기', 'Action': '동서)스타벅스커피라떼...\n",
       "1       [{'Label': '상품상세_구매하기', 'Action': '아이스 카페 아메리카...\n",
       "2       [{'Label': '상품상세_구매하기', 'Action': '아메리카노(ICED)...\n",
       "3       [{'Label': '상품상세_구매하기', 'Action': '농심)너구리얼큰(봉지...\n",
       "4       [{'Label': '상품상세_구매하기', 'Action': '싸이버거', 'Eve...\n",
       "                              ...                        \n",
       "1471    [{'Label': '상품상세_구매하기', 'Action': '허니콤보+콜라1.25...\n",
       "1472    [{'Label': '상품상세_구매하기', 'Action': '패밀리 아이스크림',...\n",
       "1473    [{'Label': '상품상세_구매하기', 'Action': '패밀리 아이스크림',...\n",
       "1474    [{'Label': '상품상세_구매하기', 'Action': '허니콤보+콜라1.25...\n",
       "1475    [{'Label': '상품상세_구매하기', 'Action': '허니콤보+콜라1.25...\n",
       "Name: e, Length: 1476, dtype: object"
      ]
     },
     "execution_count": 168,
     "metadata": {},
     "output_type": "execute_result"
    }
   ],
   "source": [
    "df['e']"
   ]
  },
  {
   "cell_type": "code",
   "execution_count": 169,
   "metadata": {},
   "outputs": [
    {
     "data": {
      "text/plain": [
       "{'Event_Category': 'STRING',\n",
       " 'Event_Count_Total': 'INTEGER',\n",
       " 'Airbridge_Device_ID_Type': 'STRING',\n",
       " 'Event_Date': 'STRING',\n",
       " 'i': {'fields': {'Target_Event_Timestamp': 'STRING',\n",
       "   'Client_IP_City': 'STRING',\n",
       "   'Is_First_Event_per_Device_ID': 'BOOLEAN',\n",
       "   'Device_Type': 'STRING',\n",
       "   'Term_ID': 'STRING',\n",
       "   'Client_IP_Country_Code': 'STRING',\n",
       "   'Platform': 'STRING',\n",
       "   'Is_First_Event_per_User_ID': 'BOOLEAN',\n",
       "   'Ad_Creative_ID': 'STRING',\n",
       "   'Campaign_ID': 'STRING',\n",
       "   'Device_Model': 'STRING',\n",
       "   'Ad_Group_ID': 'STRING',\n",
       "   'Target_Event_Category': 'STRING',\n",
       "   'Client_IP_Subdivision': 'STRING',\n",
       "   'Is_Re_engagement': 'STRING',\n",
       "   'Is_First_Target_Event_per_Device': 'STRING'},\n",
       "  'type': 'RECORD',\n",
       "  'mode': 'NULLABLE'},\n",
       " 'Event_Value_Total': 'FLOAT',\n",
       " 'e': {'fields': {'Event_Value_Sum': 'FLOAT',\n",
       "   'Action': 'STRING',\n",
       "   'Event_Count': 'INTEGER',\n",
       "   'u': {'type': 'RECORD',\n",
       "    'mode': 'REPEATED',\n",
       "    'fields': {'User_ID': 'STRING'}},\n",
       "   'Label': 'STRING',\n",
       "   'd': {'fields': {'name': 'STRING',\n",
       "     '_field_9': 'STRING',\n",
       "     '_field_10': 'STRING',\n",
       "     'Label': 'STRING',\n",
       "     'products_struct_alias': {'type': 'RECORD',\n",
       "      'mode': 'REPEATED',\n",
       "      'fields': {'name': 'STRING', 'price': 'STRING', 'position': 'STRING'}},\n",
       "     'price': 'STRING',\n",
       "     'productID': 'STRING',\n",
       "     'transactionID': 'STRING',\n",
       "     'Action': 'STRING',\n",
       "     'Timestamp': 'STRING',\n",
       "     'Value': 'FLOAT',\n",
       "     'field_test': 'STRING',\n",
       "     'tester': 'STRING'},\n",
       "    'type': 'RECORD',\n",
       "    'mode': 'REPEATED'}},\n",
       "  'type': 'RECORD',\n",
       "  'mode': 'REPEATED'},\n",
       " 'Airbridge_Device_ID': 'STRING'}"
      ]
     },
     "execution_count": 169,
     "metadata": {},
     "output_type": "execute_result"
    }
   ],
   "source": [
    "merged_schema"
   ]
  },
  {
   "cell_type": "code",
   "execution_count": null,
   "metadata": {},
   "outputs": [],
   "source": []
  },
  {
   "cell_type": "code",
   "execution_count": 243,
   "metadata": {},
   "outputs": [],
   "source": []
  },
  {
   "cell_type": "code",
   "execution_count": 251,
   "metadata": {},
   "outputs": [
    {
     "data": {
      "text/plain": [
       "{'Event_Date': 'DATE',\n",
       " 'Airbridge_Device_ID': 'STRING',\n",
       " 'Airbridge_Device_ID_Type': 'STRING',\n",
       " 'i': {'type': 'RECORD',\n",
       "  'mode': 'NULLABLE',\n",
       "  'fields': {'Device_Model': 'STRING',\n",
       "   'Device_Type': 'STRING',\n",
       "   'Platform': 'STRING',\n",
       "   'Client_IP_Country_Code': 'STRING',\n",
       "   'Client_IP_Subdivision': 'STRING',\n",
       "   'Client_IP_City': 'STRING',\n",
       "   'Campaign_ID': 'STRING',\n",
       "   'Ad_Group_ID': 'STRING',\n",
       "   'Ad_Creative_ID': 'STRING',\n",
       "   'Term_ID': 'STRING',\n",
       "   'Is_Re_engagement': 'BOOLEAN',\n",
       "   'Is_First_Event_per_User_ID': 'BOOLEAN',\n",
       "   'Is_First_Event_per_Device_ID': 'BOOLEAN',\n",
       "   'Is_First_Target_Event_per_Device': 'BOOLEAN',\n",
       "   'Target_Event_Timestamp': 'NUMERIC',\n",
       "   'Target_Event_Category': 'STRING'}},\n",
       " 'Event_Category': 'STRING',\n",
       " 'Event_Value_Total': 'FLOAT',\n",
       " 'Event_Count_Total': 'INTEGER',\n",
       " 'e': {'type': 'RECORD',\n",
       "  'mode': 'REPEATED',\n",
       "  'fields': {'Label': 'STRING',\n",
       "   'Action': 'STRING',\n",
       "   'Event_Value_Sum': 'FLOAT',\n",
       "   'Event_Count': 'INTEGER',\n",
       "   'u': {'type': 'RECORD',\n",
       "    'mode': 'REPEATED',\n",
       "    'fields': {'User_ID': 'STRING'}},\n",
       "   'd': {'type': 'RECORD',\n",
       "    'mode': 'REPEATED',\n",
       "    'fields': {'Timestamp': 'STRING',\n",
       "     'Label': 'STRING',\n",
       "     'Action': 'STRING',\n",
       "     'Value': 'FLOAT',\n",
       "     'tester': 'STRING',\n",
       "     'products_struct_alias': {'type': 'RECORD',\n",
       "      'mode': 'REPEATED',\n",
       "      'fields': {'name': 'STRING', 'price': 'STRING', 'position': 'STRING'}},\n",
       "     'productID': 'STRING',\n",
       "     'price': 'STRING',\n",
       "     'name': 'STRING',\n",
       "     '_field_9': 'STRING',\n",
       "     'transactionID': 'STRING',\n",
       "     'field_test': 'STRING'}}}}}"
      ]
     },
     "execution_count": 251,
     "metadata": {},
     "output_type": "execute_result"
    }
   ],
   "source": [
    "cur_schema"
   ]
  },
  {
   "cell_type": "markdown",
   "metadata": {},
   "source": [
    "#### 테스트 시발거"
   ]
  },
  {
   "cell_type": "code",
   "execution_count": 260,
   "metadata": {},
   "outputs": [
    {
     "name": "stdout",
     "output_type": "stream",
     "text": [
      "{'Target_Event_Timestamp': 'NUMERIC', 'Event_Date': 'STRING', 'nested': {'field2': 'STRING', 'field1': 'INTEGER', 'field3': 'FLOAT'}, 'new_field': 'BOOLEAN'}\n"
     ]
    }
   ],
   "source": [
    "def merge_schemas(cur, new):\n",
    "    if isinstance(cur, dict) and isinstance(new, dict):\n",
    "        merged = {}\n",
    "        for key in set(cur.keys()).union(set(new.keys())):\n",
    "            if key in cur:\n",
    "                if key in new:\n",
    "                    if isinstance(cur[key], dict) and isinstance(new[key], dict):\n",
    "                        merged[key] = merge_schemas(cur[key], new[key])\n",
    "                    else:\n",
    "                        merged[key] = cur[key]\n",
    "                else:\n",
    "                    merged[key] = cur[key]\n",
    "            else:\n",
    "                merged[key] = new[key]\n",
    "        return merged\n",
    "    else:\n",
    "        return cur if key in cur else new\n",
    "\n",
    "# Example usage\n",
    "cur = {\n",
    "    'Target_Event_Timestamp': 'NUMERIC',\n",
    "    'Event_Date': 'STRING',\n",
    "    'nested': {\n",
    "        'field1': 'INTEGER',\n",
    "        'field2': 'STRING'\n",
    "    }\n",
    "}\n",
    "\n",
    "new = {\n",
    "    'Target_Event_Timestamp': 'STRING',\n",
    "    'Event_Date': 'STRING',\n",
    "    'nested': {\n",
    "        'field1': 'INTEGER',\n",
    "        'field3': 'FLOAT'\n",
    "    },\n",
    "    'new_field': 'BOOLEAN'\n",
    "}\n",
    "\n",
    "merged_schema = merge_schemas(cur, new)\n",
    "print(merged_schema)\n"
   ]
  },
  {
   "cell_type": "code",
   "execution_count": 285,
   "metadata": {},
   "outputs": [
    {
     "data": {
      "text/plain": [
       "{'Event_Category': 'STRING',\n",
       " 'Event_Count_Total': 'INTEGER',\n",
       " 'Airbridge_Device_ID_Type': 'STRING',\n",
       " 'Event_Date': 'DATE',\n",
       " 'i': {'fields': {'Target_Event_Timestamp': 'NUMERIC',\n",
       "   'Client_IP_City': 'STRING',\n",
       "   'Is_First_Event_per_Device_ID': 'BOOLEAN',\n",
       "   'Device_Type': 'STRING',\n",
       "   'Term_ID': 'STRING',\n",
       "   'Client_IP_Country_Code': 'STRING',\n",
       "   'Platform': 'STRING',\n",
       "   'Is_First_Event_per_User_ID': 'BOOLEAN',\n",
       "   'Ad_Creative_ID': 'STRING',\n",
       "   'Campaign_ID': 'STRING',\n",
       "   'Device_Model': 'STRING',\n",
       "   'Ad_Group_ID': 'STRING',\n",
       "   'Target_Event_Category': 'STRING',\n",
       "   'Client_IP_Subdivision': 'STRING',\n",
       "   'Is_Re_engagement': 'BOOLEAN',\n",
       "   'Is_First_Target_Event_per_Device': 'BOOLEAN'},\n",
       "  'type': 'RECORD',\n",
       "  'mode': 'NULLABLE'},\n",
       " 'Event_Value_Total': 'FLOAT',\n",
       " 'e': {'fields': {'Event_Value_Sum': 'FLOAT',\n",
       "   'Action': 'STRING',\n",
       "   'Event_Count': 'INTEGER',\n",
       "   'u': {'fields': {'User_ID': 'STRING'},\n",
       "    'type': 'RECORD',\n",
       "    'mode': 'REPEATED'},\n",
       "   'Label': 'STRING',\n",
       "   'd': {'fields': {'name': 'STRING',\n",
       "     '_field_9': 'STRING',\n",
       "     'Label': 'STRING',\n",
       "     'products_struct_alias': {'fields': {'name': 'STRING',\n",
       "       'position': 'STRING',\n",
       "       'price': 'STRING'},\n",
       "      'type': 'RECORD',\n",
       "      'mode': 'REPEATED'},\n",
       "     'price': 'STRING',\n",
       "     'productID': 'STRING',\n",
       "     'transactionID': 'STRING',\n",
       "     'Action': 'STRING',\n",
       "     'Timestamp': 'STRING',\n",
       "     'Value': 'FLOAT',\n",
       "     'field_test': 'STRING',\n",
       "     'tester': 'STRING'},\n",
       "    'type': 'RECORD',\n",
       "    'mode': 'REPEATED'}},\n",
       "  'type': 'RECORD',\n",
       "  'mode': 'REPEATED'},\n",
       " 'Airbridge_Device_ID': 'STRING'}"
      ]
     },
     "execution_count": 285,
     "metadata": {},
     "output_type": "execute_result"
    }
   ],
   "source": [
    "merged_schema"
   ]
  },
  {
   "cell_type": "code",
   "execution_count": 259,
   "metadata": {},
   "outputs": [
    {
     "data": {
      "text/plain": [
       "{'Event_Date': 'DATE',\n",
       " 'Airbridge_Device_ID': 'STRING',\n",
       " 'Airbridge_Device_ID_Type': 'STRING',\n",
       " 'i': {'type': 'RECORD',\n",
       "  'mode': 'NULLABLE',\n",
       "  'fields': {'Device_Model': 'STRING',\n",
       "   'Device_Type': 'STRING',\n",
       "   'Platform': 'STRING',\n",
       "   'Client_IP_Country_Code': 'STRING',\n",
       "   'Client_IP_Subdivision': 'STRING',\n",
       "   'Client_IP_City': 'STRING',\n",
       "   'Campaign_ID': 'STRING',\n",
       "   'Ad_Group_ID': 'STRING',\n",
       "   'Ad_Creative_ID': 'STRING',\n",
       "   'Term_ID': 'STRING',\n",
       "   'Is_Re_engagement': 'BOOLEAN',\n",
       "   'Is_First_Event_per_User_ID': 'BOOLEAN',\n",
       "   'Is_First_Event_per_Device_ID': 'BOOLEAN',\n",
       "   'Is_First_Target_Event_per_Device': 'BOOLEAN',\n",
       "   'Target_Event_Timestamp': 'NUMERIC',\n",
       "   'Target_Event_Category': 'STRING'}},\n",
       " 'Event_Category': 'STRING',\n",
       " 'Event_Value_Total': 'FLOAT',\n",
       " 'Event_Count_Total': 'INTEGER',\n",
       " 'e': {'type': 'RECORD',\n",
       "  'mode': 'REPEATED',\n",
       "  'fields': {'Label': 'STRING',\n",
       "   'Action': 'STRING',\n",
       "   'Event_Value_Sum': 'FLOAT',\n",
       "   'Event_Count': 'INTEGER',\n",
       "   'u': {'type': 'RECORD',\n",
       "    'mode': 'REPEATED',\n",
       "    'fields': {'User_ID': 'STRING'}},\n",
       "   'd': {'type': 'RECORD',\n",
       "    'mode': 'REPEATED',\n",
       "    'fields': {'Timestamp': 'STRING',\n",
       "     'Label': 'STRING',\n",
       "     'Action': 'STRING',\n",
       "     'Value': 'FLOAT',\n",
       "     'tester': 'STRING',\n",
       "     'products_struct_alias': {'type': 'RECORD',\n",
       "      'mode': 'REPEATED',\n",
       "      'fields': {'name': 'STRING', 'price': 'STRING', 'position': 'STRING'}},\n",
       "     'productID': 'STRING',\n",
       "     'price': 'STRING',\n",
       "     'name': 'STRING',\n",
       "     '_field_9': 'STRING',\n",
       "     'transactionID': 'STRING',\n",
       "     'field_test': 'STRING'}}}}}"
      ]
     },
     "execution_count": 259,
     "metadata": {},
     "output_type": "execute_result"
    }
   ],
   "source": [
    "cur_schema"
   ]
  },
  {
   "cell_type": "code",
   "execution_count": null,
   "metadata": {},
   "outputs": [],
   "source": []
  },
  {
   "cell_type": "code",
   "execution_count": 254,
   "metadata": {},
   "outputs": [],
   "source": [
    "test_schema = {'Event_Count_Total': 'INTEGER',\n",
    " 'Event_Category': 'STRINGㅁ',\n",
    " 'Airbridge_Device_ID_Type': 'STRING',\n",
    " 'Event_Date': 'DATE',\n",
    " 'i': {'fields': {'Target_Event_Timestamp': 'STRING',\n",
    "   'Client_IP_City': 'STRING',\n",
    "   'Is_First_Event_per_Device_ID': 'BOOLEAN',\n",
    "   'Device_Type': 'STRING',\n",
    "   'Term_ID': 'STRING',\n",
    "   'Client_IP_Country_Code': 'STRING',\n",
    "   'Platform': 'STRING',\n",
    "   'Is_First_Event_per_User_ID': 'BOOLEAN',\n",
    "   'Ad_Creative_ID': 'STRING',\n",
    "   'Campaign_ID': 'STRING',\n",
    "   'Device_Model': 'STRING',\n",
    "   'Ad_Group_ID': 'STRING',\n",
    "   'Target_Event_Category': 'STRING',\n",
    "   'Client_IP_Subdivision': 'STRING',\n",
    "   'Is_Re_engagement': 'STRING',\n",
    "   'Is_First_Target_Event_per_Device': 'STRING'},\n",
    "  'type': 'RECORD'},\n",
    " 'Event_Value_Total': 'FLOAT',\n",
    " 'e': {'type': 'RECORD',\n",
    "  'mode': 'REPEATED',\n",
    "  'fields': {'Label': 'STRING',\n",
    "   'Action': 'STRING',\n",
    "   'Event_Value_Sum': 'FLOAT',\n",
    "   'Event_Count': 'INTEGER',\n",
    "   'u': {'type': 'RECORD',\n",
    "    'mode': 'REPEATED',\n",
    "    'fields': {'User_ID': 'STRING', 'newnewnew' : 'STRING'}},\n",
    "   'd': {'type': 'RECORD',\n",
    "    'mode': 'REPEATED',\n",
    "    'fields': {'Timestamp': 'STRING',\n",
    "     'Label': 'STRING',\n",
    "     'Action': 'STRING',\n",
    "     'Value': 'FLOAT',\n",
    "     'tester': 'STRING',\n",
    "     'name': 'STRING',\n",
    "     'price': 'STRING',\n",
    "     'productID': 'STRING',\n",
    "     'transactionID': 'STRING',\n",
    "     'products_struct_alias': {'type': 'RECORD',\n",
    "      'mode': 'REPEATED',\n",
    "      'fields': {'name': 'STRING',\n",
    "       'price': 'STRING',\n",
    "       'position': 'STRING',\n",
    "       'newnewnew' : 'STRING'\n",
    "       }}}}}},\n",
    " 'Airbridge_Device_ID': 'STRING'}"
   ]
  },
  {
   "cell_type": "code",
   "execution_count": 302,
   "metadata": {},
   "outputs": [
    {
     "data": {
      "text/plain": [
       "{'Event_Date': 'DATE',\n",
       " 'Airbridge_Device_ID': 'STRING',\n",
       " 'Airbridge_Device_ID_Type': 'STRING',\n",
       " 'i': {'type': 'RECORD',\n",
       "  'mode': 'NULLABLE',\n",
       "  'fields': {'Device_Model': 'STRING',\n",
       "   'Device_Type': 'STRING',\n",
       "   'Platform': 'STRING',\n",
       "   'Client_IP_Country_Code': 'STRING',\n",
       "   'Client_IP_Subdivision': 'STRING',\n",
       "   'Client_IP_City': 'STRING',\n",
       "   'Campaign_ID': 'STRING',\n",
       "   'Ad_Group_ID': 'STRING',\n",
       "   'Ad_Creative_ID': 'STRING',\n",
       "   'Term_ID': 'STRING',\n",
       "   'Is_Re_engagement': 'BOOLEAN',\n",
       "   'Is_First_Event_per_User_ID': 'BOOLEAN',\n",
       "   'Is_First_Event_per_Device_ID': 'BOOLEAN',\n",
       "   'Is_First_Target_Event_per_Device': 'BOOLEAN',\n",
       "   'Target_Event_Timestamp': 'NUMERIC',\n",
       "   'Target_Event_Category': 'STRING'}},\n",
       " 'Event_Category': 'STRING',\n",
       " 'Event_Value_Total': 'FLOAT',\n",
       " 'Event_Count_Total': 'INTEGER',\n",
       " 'e': {'type': 'RECORD',\n",
       "  'mode': 'REPEATED',\n",
       "  'fields': {'Label': 'STRING',\n",
       "   'Action': 'STRING',\n",
       "   'Event_Value_Sum': 'FLOAT',\n",
       "   'Event_Count': 'INTEGER',\n",
       "   'u': {'type': 'RECORD',\n",
       "    'mode': 'REPEATED',\n",
       "    'fields': {'User_ID': 'STRING'}},\n",
       "   'd': {'type': 'RECORD',\n",
       "    'mode': 'REPEATED',\n",
       "    'fields': {'Timestamp': 'STRING',\n",
       "     'Label': 'STRING',\n",
       "     'Action': 'STRING',\n",
       "     'Value': 'FLOAT',\n",
       "     'tester': 'STRING',\n",
       "     'products_struct_alias': {'type': 'RECORD',\n",
       "      'mode': 'REPEATED',\n",
       "      'fields': {'name': 'STRING', 'price': 'STRING', 'position': 'STRING'}},\n",
       "     'productID': 'STRING',\n",
       "     'price': 'STRING',\n",
       "     'name': 'STRING',\n",
       "     '_field_9': 'STRING',\n",
       "     'transactionID': 'STRING',\n",
       "     'field_test': 'STRING'}}}}}"
      ]
     },
     "execution_count": 302,
     "metadata": {},
     "output_type": "execute_result"
    }
   ],
   "source": [
    "cur_schema"
   ]
  },
  {
   "cell_type": "code",
   "execution_count": null,
   "metadata": {},
   "outputs": [],
   "source": [
    "for i in range(len(df)):\n",
    "    list(df.sample(10)['e'])[0][0]['d'][0]"
   ]
  },
  {
   "cell_type": "code",
   "execution_count": 413,
   "metadata": {},
   "outputs": [
    {
     "data": {
      "text/plain": [
       "{'Label': '상품상세_구매하기',\n",
       " 'Action': '제주 말차 크림 프라푸치노 T',\n",
       " 'Event_Value_Sum': 9000.0,\n",
       " 'Event_Count': 1,\n",
       " 'u': array([{'User_ID': '04432efd-e80f-4800-a0ba-ef4564abf3e2'}], dtype=object),\n",
       " 'd': array([{'Timestamp': '2024-07-11T15:34:46+09:00', 'Label': '상품상세_구매하기', 'Action': '제주 말차 크림 프라푸치노 T', 'Value': 9000.0, 'tester': 'true', 'name': None, 'price': None, 'productID': None, 'transactionID': None, 'products_struct_alias': array([{'name': '제주 말차 크림 프라푸치노 T', 'price': '9000', 'position': None}],\n",
       "              dtype=object)}                                                                                                                                                                                                                                                                                      ],\n",
       "       dtype=object)}"
      ]
     },
     "execution_count": 413,
     "metadata": {},
     "output_type": "execute_result"
    }
   ],
   "source": [
    "df.loc[0]['e'][1\n",
    "               ]\n"
   ]
  },
  {
   "cell_type": "code",
   "execution_count": 453,
   "metadata": {},
   "outputs": [
    {
     "data": {
      "text/html": [
       "<div>\n",
       "<style scoped>\n",
       "    .dataframe tbody tr th:only-of-type {\n",
       "        vertical-align: middle;\n",
       "    }\n",
       "\n",
       "    .dataframe tbody tr th {\n",
       "        vertical-align: top;\n",
       "    }\n",
       "\n",
       "    .dataframe thead th {\n",
       "        text-align: right;\n",
       "    }\n",
       "</style>\n",
       "<table border=\"1\" class=\"dataframe\">\n",
       "  <thead>\n",
       "    <tr style=\"text-align: right;\">\n",
       "      <th></th>\n",
       "      <th>Event_Date</th>\n",
       "      <th>Airbridge_Device_ID</th>\n",
       "      <th>Airbridge_Device_ID_Type</th>\n",
       "      <th>i</th>\n",
       "      <th>Event_Category</th>\n",
       "      <th>Event_Value_Total</th>\n",
       "      <th>Event_Count_Total</th>\n",
       "      <th>e</th>\n",
       "    </tr>\n",
       "  </thead>\n",
       "  <tbody>\n",
       "    <tr>\n",
       "      <th>1</th>\n",
       "      <td>2024-07-11</td>\n",
       "      <td>2B81606D-06E3-4554-9EA8-CED9801AC877</td>\n",
       "      <td>IDFV</td>\n",
       "      <td>{'Device_Model': 'iPhone', 'Device_Type': 'mob...</td>\n",
       "      <td>Spend Credits (App)</td>\n",
       "      <td>20714.0</td>\n",
       "      <td>1</td>\n",
       "      <td>[{'Label': '상품상세_구매하기', 'Action': '아이스 카페 아메리카...</td>\n",
       "    </tr>\n",
       "    <tr>\n",
       "      <th>2</th>\n",
       "      <td>2024-07-11</td>\n",
       "      <td>50f7e8d2-2d32-415f-9326-5599e8e6bcca</td>\n",
       "      <td>GAID</td>\n",
       "      <td>{'Device_Model': 'SM-G996N', 'Device_Type': 'm...</td>\n",
       "      <td>Spend Credits (App)</td>\n",
       "      <td>11143.0</td>\n",
       "      <td>3</td>\n",
       "      <td>[{'Label': '상품상세_구매하기', 'Action': '아메리카노(ICED)...</td>\n",
       "    </tr>\n",
       "    <tr>\n",
       "      <th>3</th>\n",
       "      <td>2024-07-11</td>\n",
       "      <td>a92b7b27-0da1-449b-bb85-e76710382bfc</td>\n",
       "      <td>GAID</td>\n",
       "      <td>{'Device_Model': 'SM-S928N', 'Device_Type': 'm...</td>\n",
       "      <td>Spend Credits (App)</td>\n",
       "      <td>4713.0</td>\n",
       "      <td>3</td>\n",
       "      <td>[{'Label': '상품상세_구매하기', 'Action': '농심)너구리얼큰(봉지...</td>\n",
       "    </tr>\n",
       "    <tr>\n",
       "      <th>4</th>\n",
       "      <td>2024-07-11</td>\n",
       "      <td>74b7ddb8-528e-47c6-8b3e-c4839771f84c</td>\n",
       "      <td>GAID</td>\n",
       "      <td>{'Device_Model': 'SM-G781N', 'Device_Type': 'm...</td>\n",
       "      <td>Spend Credits (App)</td>\n",
       "      <td>19713.0</td>\n",
       "      <td>3</td>\n",
       "      <td>[{'Label': '상품상세_구매하기', 'Action': '싸이버거', 'Eve...</td>\n",
       "    </tr>\n",
       "    <tr>\n",
       "      <th>5</th>\n",
       "      <td>2024-07-11</td>\n",
       "      <td>E4E6FBE5-1FF1-45A3-9375-5F37F8FC4D05</td>\n",
       "      <td>IDFA</td>\n",
       "      <td>{'Device_Model': 'iPhone', 'Device_Type': 'mob...</td>\n",
       "      <td>Spend Credits (App)</td>\n",
       "      <td>24143.0</td>\n",
       "      <td>1</td>\n",
       "      <td>[{'Label': '상품상세_구매하기', 'Action': '아이스 카페 라떼 T...</td>\n",
       "    </tr>\n",
       "  </tbody>\n",
       "</table>\n",
       "</div>"
      ],
      "text/plain": [
       "  Event_Date                   Airbridge_Device_ID Airbridge_Device_ID_Type  \\\n",
       "1 2024-07-11  2B81606D-06E3-4554-9EA8-CED9801AC877                     IDFV   \n",
       "2 2024-07-11  50f7e8d2-2d32-415f-9326-5599e8e6bcca                     GAID   \n",
       "3 2024-07-11  a92b7b27-0da1-449b-bb85-e76710382bfc                     GAID   \n",
       "4 2024-07-11  74b7ddb8-528e-47c6-8b3e-c4839771f84c                     GAID   \n",
       "5 2024-07-11  E4E6FBE5-1FF1-45A3-9375-5F37F8FC4D05                     IDFA   \n",
       "\n",
       "                                                   i       Event_Category  \\\n",
       "1  {'Device_Model': 'iPhone', 'Device_Type': 'mob...  Spend Credits (App)   \n",
       "2  {'Device_Model': 'SM-G996N', 'Device_Type': 'm...  Spend Credits (App)   \n",
       "3  {'Device_Model': 'SM-S928N', 'Device_Type': 'm...  Spend Credits (App)   \n",
       "4  {'Device_Model': 'SM-G781N', 'Device_Type': 'm...  Spend Credits (App)   \n",
       "5  {'Device_Model': 'iPhone', 'Device_Type': 'mob...  Spend Credits (App)   \n",
       "\n",
       "   Event_Value_Total  Event_Count_Total  \\\n",
       "1            20714.0                  1   \n",
       "2            11143.0                  3   \n",
       "3             4713.0                  3   \n",
       "4            19713.0                  3   \n",
       "5            24143.0                  1   \n",
       "\n",
       "                                                   e  \n",
       "1  [{'Label': '상품상세_구매하기', 'Action': '아이스 카페 아메리카...  \n",
       "2  [{'Label': '상품상세_구매하기', 'Action': '아메리카노(ICED)...  \n",
       "3  [{'Label': '상품상세_구매하기', 'Action': '농심)너구리얼큰(봉지...  \n",
       "4  [{'Label': '상품상세_구매하기', 'Action': '싸이버거', 'Eve...  \n",
       "5  [{'Label': '상품상세_구매하기', 'Action': '아이스 카페 라떼 T...  "
      ]
     },
     "execution_count": 453,
     "metadata": {},
     "output_type": "execute_result"
    }
   ],
   "source": [
    "df.loc[1:5]"
   ]
  },
  {
   "cell_type": "code",
   "execution_count": 460,
   "metadata": {},
   "outputs": [
    {
     "name": "stdout",
     "output_type": "stream",
     "text": [
      "field_10 exists: False\n"
     ]
    }
   ],
   "source": [
    "def check_for_field_10(df):\n",
    "    for index, row in df.iterrows():\n",
    "        if 'e' in row and isinstance(row['e'], list):\n",
    "            for e_item in row['e']:\n",
    "                if 'd' in e_item and isinstance(e_item['d'], list):\n",
    "                    for d_item in e_item['d']:\n",
    "                        if 'field_10' in d_item:\n",
    "                            print(f\"field_10 found in row {index}\")\n",
    "                            return True\n",
    "    return False\n",
    "\n",
    "# Usage example\n",
    "df = pd.DataFrame({\n",
    "    # 예시 데이터프레임 구성\n",
    "})\n",
    "\n",
    "field_10_exists = check_for_field_10(df)\n",
    "print(\"field_10 exists:\", field_10_exists)\n"
   ]
  },
  {
   "cell_type": "code",
   "execution_count": 467,
   "metadata": {},
   "outputs": [
    {
     "data": {
      "text/plain": [
       "'ballosodeuk.airbridge_mart.app_df_2'"
      ]
     },
     "execution_count": 467,
     "metadata": {},
     "output_type": "execute_result"
    }
   ],
   "source": [
    "table_ref"
   ]
  },
  {
   "cell_type": "code",
   "execution_count": 472,
   "metadata": {},
   "outputs": [
    {
     "name": "stdout",
     "output_type": "stream",
     "text": [
      "Current table schema: [SchemaField('Event_Date', 'DATE', 'NULLABLE', None, None, (), None), SchemaField('Airbridge_Device_ID', 'STRING', 'NULLABLE', None, None, (), None), SchemaField('Airbridge_Device_ID_Type', 'STRING', 'NULLABLE', None, None, (), None), SchemaField('i', 'RECORD', 'NULLABLE', None, None, (SchemaField('Device_Model', 'STRING', 'NULLABLE', None, None, (), None), SchemaField('Device_Type', 'STRING', 'NULLABLE', None, None, (), None), SchemaField('Platform', 'STRING', 'NULLABLE', None, None, (), None), SchemaField('Client_IP_Country_Code', 'STRING', 'NULLABLE', None, None, (), None), SchemaField('Client_IP_Subdivision', 'STRING', 'NULLABLE', None, None, (), None), SchemaField('Client_IP_City', 'STRING', 'NULLABLE', None, None, (), None), SchemaField('Campaign_ID', 'STRING', 'NULLABLE', None, None, (), None), SchemaField('Ad_Group_ID', 'STRING', 'NULLABLE', None, None, (), None), SchemaField('Ad_Creative_ID', 'STRING', 'NULLABLE', None, None, (), None), SchemaField('Term_ID', 'STRING', 'NULLABLE', None, None, (), None), SchemaField('Is_Re_engagement', 'BOOLEAN', 'NULLABLE', None, None, (), None), SchemaField('Is_First_Event_per_User_ID', 'BOOLEAN', 'NULLABLE', None, None, (), None), SchemaField('Is_First_Event_per_Device_ID', 'BOOLEAN', 'NULLABLE', None, None, (), None), SchemaField('Is_First_Target_Event_per_Device', 'BOOLEAN', 'NULLABLE', None, None, (), None), SchemaField('Target_Event_Timestamp', 'NUMERIC', 'NULLABLE', None, None, (), None), SchemaField('Target_Event_Category', 'STRING', 'NULLABLE', None, None, (), None)), None), SchemaField('Event_Category', 'STRING', 'NULLABLE', None, None, (), None), SchemaField('Event_Value_Total', 'FLOAT', 'NULLABLE', None, None, (), None), SchemaField('Event_Count_Total', 'INTEGER', 'NULLABLE', None, None, (), None), SchemaField('e', 'RECORD', 'REPEATED', None, None, (SchemaField('Label', 'STRING', 'NULLABLE', None, None, (), None), SchemaField('Action', 'STRING', 'NULLABLE', None, None, (), None), SchemaField('Event_Value_Sum', 'FLOAT', 'NULLABLE', None, None, (), None), SchemaField('Event_Count', 'INTEGER', 'NULLABLE', None, None, (), None), SchemaField('u', 'RECORD', 'REPEATED', None, None, (SchemaField('User_ID', 'STRING', 'NULLABLE', None, None, (), None),), None), SchemaField('d', 'RECORD', 'REPEATED', None, None, (SchemaField('Timestamp', 'STRING', 'NULLABLE', None, None, (), None), SchemaField('Label', 'STRING', 'NULLABLE', None, None, (), None), SchemaField('Action', 'STRING', 'NULLABLE', None, None, (), None), SchemaField('Value', 'FLOAT', 'NULLABLE', None, None, (), None), SchemaField('tester', 'STRING', 'NULLABLE', None, None, (), None), SchemaField('products_struct_alias', 'RECORD', 'REPEATED', None, None, (SchemaField('name', 'STRING', 'NULLABLE', None, None, (), None), SchemaField('price', 'STRING', 'NULLABLE', None, None, (), None), SchemaField('position', 'STRING', 'NULLABLE', None, None, (), None)), None), SchemaField('productID', 'STRING', 'NULLABLE', None, None, (), None), SchemaField('price', 'STRING', 'NULLABLE', None, None, (), None), SchemaField('name', 'STRING', 'NULLABLE', None, None, (), None), SchemaField('_field_9', 'STRING', 'NULLABLE', None, None, (), None), SchemaField('transactionID', 'STRING', 'NULLABLE', None, None, (), None), SchemaField('field_test', 'STRING', 'NULLABLE', None, None, (), None)), None)), None)]\n",
      "테이블 ballosodeuk.airbridge_mart.app_df_2에 데이터가 성공적으로 업로드되었습니다.\n"
     ]
    }
   ],
   "source": [
    "def load_data_to_bigquery(df, table_ref):\n",
    "    \"\"\"데이터프레임을 빅쿼리 테이블로 업로드합니다.\"\"\"\n",
    "    client = bigquery.Client()\n",
    "\n",
    "    # Load job configuration\n",
    "    job_config = bigquery.LoadJobConfig(\n",
    "        write_disposition=\"WRITE_APPEND\",\n",
    "        schema_update_options=[\"ALLOW_FIELD_ADDITION\"]\n",
    "    )\n",
    "    \n",
    "    # 스키마 검증\n",
    "    table = client.get_table(table_ref)\n",
    "    print(\"Current table schema:\", table.schema)\n",
    "    \n",
    "    # 데이터 업로드\n",
    "    job = client.load_table_from_dataframe(df, table_ref, job_config=job_config)\n",
    "    job.result()\n",
    "    print(f\"테이블 {table_ref}에 데이터가 성공적으로 업로드되었습니다.\")\n",
    "    \n",
    "load_data_to_bigquery(df, table_ref)"
   ]
  },
  {
   "cell_type": "code",
   "execution_count": 465,
   "metadata": {},
   "outputs": [
    {
     "data": {
      "text/plain": [
       "'ballosodeuk.airbridge_mart.app_df_2'"
      ]
     },
     "execution_count": 465,
     "metadata": {},
     "output_type": "execute_result"
    }
   ],
   "source": [
    "table_ref"
   ]
  },
  {
   "cell_type": "code",
   "execution_count": 462,
   "metadata": {},
   "outputs": [
    {
     "ename": "AttributeError",
     "evalue": "module 'google.cloud.bigquery.job' has no attribute 'result'",
     "output_type": "error",
     "traceback": [
      "\u001b[0;31m---------------------------------------------------------------------------\u001b[0m",
      "\u001b[0;31mAttributeError\u001b[0m                            Traceback (most recent call last)",
      "Cell \u001b[0;32mIn[462], line 1\u001b[0m\n\u001b[0;32m----> 1\u001b[0m \u001b[43mjob\u001b[49m\u001b[38;5;241;43m.\u001b[39;49m\u001b[43mresult\u001b[49m()\n",
      "\u001b[0;31mAttributeError\u001b[0m: module 'google.cloud.bigquery.job' has no attribute 'result'"
     ]
    }
   ],
   "source": [
    "job.result()"
   ]
  },
  {
   "cell_type": "code",
   "execution_count": null,
   "metadata": {},
   "outputs": [],
   "source": []
  },
  {
   "cell_type": "code",
   "execution_count": 471,
   "metadata": {},
   "outputs": [
    {
     "name": "stdout",
     "output_type": "stream",
     "text": [
      "field_10 exists: False\n",
      "테이블 ballosodeuk.airbridge_mart.app_df_2의 스키마가 업데이트되었습니다.\n",
      "Current table schema: [SchemaField('Event_Date', 'DATE', 'NULLABLE', None, None, (), None), SchemaField('Airbridge_Device_ID', 'STRING', 'NULLABLE', None, None, (), None), SchemaField('Airbridge_Device_ID_Type', 'STRING', 'NULLABLE', None, None, (), None), SchemaField('i', 'RECORD', 'NULLABLE', None, None, (SchemaField('Device_Model', 'STRING', 'NULLABLE', None, None, (), None), SchemaField('Device_Type', 'STRING', 'NULLABLE', None, None, (), None), SchemaField('Platform', 'STRING', 'NULLABLE', None, None, (), None), SchemaField('Client_IP_Country_Code', 'STRING', 'NULLABLE', None, None, (), None), SchemaField('Client_IP_Subdivision', 'STRING', 'NULLABLE', None, None, (), None), SchemaField('Client_IP_City', 'STRING', 'NULLABLE', None, None, (), None), SchemaField('Campaign_ID', 'STRING', 'NULLABLE', None, None, (), None), SchemaField('Ad_Group_ID', 'STRING', 'NULLABLE', None, None, (), None), SchemaField('Ad_Creative_ID', 'STRING', 'NULLABLE', None, None, (), None), SchemaField('Term_ID', 'STRING', 'NULLABLE', None, None, (), None), SchemaField('Is_Re_engagement', 'BOOLEAN', 'NULLABLE', None, None, (), None), SchemaField('Is_First_Event_per_User_ID', 'BOOLEAN', 'NULLABLE', None, None, (), None), SchemaField('Is_First_Event_per_Device_ID', 'BOOLEAN', 'NULLABLE', None, None, (), None), SchemaField('Is_First_Target_Event_per_Device', 'BOOLEAN', 'NULLABLE', None, None, (), None), SchemaField('Target_Event_Timestamp', 'NUMERIC', 'NULLABLE', None, None, (), None), SchemaField('Target_Event_Category', 'STRING', 'NULLABLE', None, None, (), None)), None), SchemaField('Event_Category', 'STRING', 'NULLABLE', None, None, (), None), SchemaField('Event_Value_Total', 'FLOAT', 'NULLABLE', None, None, (), None), SchemaField('Event_Count_Total', 'INTEGER', 'NULLABLE', None, None, (), None), SchemaField('e', 'RECORD', 'REPEATED', None, None, (SchemaField('Label', 'STRING', 'NULLABLE', None, None, (), None), SchemaField('Action', 'STRING', 'NULLABLE', None, None, (), None), SchemaField('Event_Value_Sum', 'FLOAT', 'NULLABLE', None, None, (), None), SchemaField('Event_Count', 'INTEGER', 'NULLABLE', None, None, (), None), SchemaField('u', 'RECORD', 'REPEATED', None, None, (SchemaField('User_ID', 'STRING', 'NULLABLE', None, None, (), None),), None), SchemaField('d', 'RECORD', 'REPEATED', None, None, (SchemaField('Timestamp', 'STRING', 'NULLABLE', None, None, (), None), SchemaField('Label', 'STRING', 'NULLABLE', None, None, (), None), SchemaField('Action', 'STRING', 'NULLABLE', None, None, (), None), SchemaField('Value', 'FLOAT', 'NULLABLE', None, None, (), None), SchemaField('tester', 'STRING', 'NULLABLE', None, None, (), None), SchemaField('products_struct_alias', 'RECORD', 'REPEATED', None, None, (SchemaField('name', 'STRING', 'NULLABLE', None, None, (), None), SchemaField('price', 'STRING', 'NULLABLE', None, None, (), None), SchemaField('position', 'STRING', 'NULLABLE', None, None, (), None)), None), SchemaField('productID', 'STRING', 'NULLABLE', None, None, (), None), SchemaField('price', 'STRING', 'NULLABLE', None, None, (), None), SchemaField('name', 'STRING', 'NULLABLE', None, None, (), None), SchemaField('_field_9', 'STRING', 'NULLABLE', None, None, (), None), SchemaField('transactionID', 'STRING', 'NULLABLE', None, None, (), None), SchemaField('field_test', 'STRING', 'NULLABLE', None, None, (), None)), None)), None)]\n"
     ]
    },
    {
     "ename": "BadRequest",
     "evalue": "400 Invalid schema update. Cannot add fields (field: e.d._field_10); reason: invalid, message: Invalid schema update. Cannot add fields (field: e.d._field_10)",
     "output_type": "error",
     "traceback": [
      "\u001b[0;31m---------------------------------------------------------------------------\u001b[0m",
      "\u001b[0;31mBadRequest\u001b[0m                                Traceback (most recent call last)",
      "Cell \u001b[0;32mIn[471], line 36\u001b[0m\n\u001b[1;32m     33\u001b[0m     \u001b[38;5;28mprint\u001b[39m(\u001b[38;5;124mf\u001b[39m\u001b[38;5;124m\"\u001b[39m\u001b[38;5;124m테이블 \u001b[39m\u001b[38;5;132;01m{\u001b[39;00mtable_ref\u001b[38;5;132;01m}\u001b[39;00m\u001b[38;5;124m에 데이터가 성공적으로 업로드되었습니다.\u001b[39m\u001b[38;5;124m\"\u001b[39m)\n\u001b[1;32m     35\u001b[0m update_table_schema(table_ref, merged_schema)\n\u001b[0;32m---> 36\u001b[0m \u001b[43mload_data_to_bigquery\u001b[49m\u001b[43m(\u001b[49m\u001b[43mdf\u001b[49m\u001b[38;5;241;43m.\u001b[39;49m\u001b[43mloc\u001b[49m\u001b[43m[\u001b[49m\u001b[38;5;241;43m1\u001b[39;49m\u001b[43m:\u001b[49m\u001b[38;5;241;43m10\u001b[39;49m\u001b[43m]\u001b[49m\u001b[43m,\u001b[49m\u001b[43m \u001b[49m\u001b[43mtable_ref\u001b[49m\u001b[43m)\u001b[49m\n",
      "Cell \u001b[0;32mIn[471], line 32\u001b[0m, in \u001b[0;36mload_data_to_bigquery\u001b[0;34m(df, table_ref)\u001b[0m\n\u001b[1;32m     29\u001b[0m \u001b[38;5;28mprint\u001b[39m(\u001b[38;5;124m\"\u001b[39m\u001b[38;5;124mCurrent table schema:\u001b[39m\u001b[38;5;124m\"\u001b[39m, table\u001b[38;5;241m.\u001b[39mschema)\n\u001b[1;32m     31\u001b[0m job \u001b[38;5;241m=\u001b[39m client\u001b[38;5;241m.\u001b[39mload_table_from_dataframe(df, table_ref)\n\u001b[0;32m---> 32\u001b[0m \u001b[43mjob\u001b[49m\u001b[38;5;241;43m.\u001b[39;49m\u001b[43mresult\u001b[49m\u001b[43m(\u001b[49m\u001b[43m)\u001b[49m\n\u001b[1;32m     33\u001b[0m \u001b[38;5;28mprint\u001b[39m(\u001b[38;5;124mf\u001b[39m\u001b[38;5;124m\"\u001b[39m\u001b[38;5;124m테이블 \u001b[39m\u001b[38;5;132;01m{\u001b[39;00mtable_ref\u001b[38;5;132;01m}\u001b[39;00m\u001b[38;5;124m에 데이터가 성공적으로 업로드되었습니다.\u001b[39m\u001b[38;5;124m\"\u001b[39m)\n",
      "File \u001b[0;32m~/miniforge3/envs/pymc_env/lib/python3.12/site-packages/google/cloud/bigquery/job/base.py:971\u001b[0m, in \u001b[0;36m_AsyncJob.result\u001b[0;34m(self, retry, timeout)\u001b[0m\n\u001b[1;32m    968\u001b[0m     \u001b[38;5;28mself\u001b[39m\u001b[38;5;241m.\u001b[39m_begin(retry\u001b[38;5;241m=\u001b[39mretry, timeout\u001b[38;5;241m=\u001b[39mtimeout)\n\u001b[1;32m    970\u001b[0m kwargs \u001b[38;5;241m=\u001b[39m {} \u001b[38;5;28;01mif\u001b[39;00m retry \u001b[38;5;129;01mis\u001b[39;00m DEFAULT_RETRY \u001b[38;5;28;01melse\u001b[39;00m {\u001b[38;5;124m\"\u001b[39m\u001b[38;5;124mretry\u001b[39m\u001b[38;5;124m\"\u001b[39m: retry}\n\u001b[0;32m--> 971\u001b[0m \u001b[38;5;28;01mreturn\u001b[39;00m \u001b[38;5;28;43msuper\u001b[39;49m\u001b[43m(\u001b[49m\u001b[43m_AsyncJob\u001b[49m\u001b[43m,\u001b[49m\u001b[43m \u001b[49m\u001b[38;5;28;43mself\u001b[39;49m\u001b[43m)\u001b[49m\u001b[38;5;241;43m.\u001b[39;49m\u001b[43mresult\u001b[49m\u001b[43m(\u001b[49m\u001b[43mtimeout\u001b[49m\u001b[38;5;241;43m=\u001b[39;49m\u001b[43mtimeout\u001b[49m\u001b[43m,\u001b[49m\u001b[43m \u001b[49m\u001b[38;5;241;43m*\u001b[39;49m\u001b[38;5;241;43m*\u001b[39;49m\u001b[43mkwargs\u001b[49m\u001b[43m)\u001b[49m\n",
      "File \u001b[0;32m~/miniforge3/envs/pymc_env/lib/python3.12/site-packages/google/api_core/future/polling.py:261\u001b[0m, in \u001b[0;36mPollingFuture.result\u001b[0;34m(self, timeout, retry, polling)\u001b[0m\n\u001b[1;32m    256\u001b[0m \u001b[38;5;28mself\u001b[39m\u001b[38;5;241m.\u001b[39m_blocking_poll(timeout\u001b[38;5;241m=\u001b[39mtimeout, retry\u001b[38;5;241m=\u001b[39mretry, polling\u001b[38;5;241m=\u001b[39mpolling)\n\u001b[1;32m    258\u001b[0m \u001b[38;5;28;01mif\u001b[39;00m \u001b[38;5;28mself\u001b[39m\u001b[38;5;241m.\u001b[39m_exception \u001b[38;5;129;01mis\u001b[39;00m \u001b[38;5;129;01mnot\u001b[39;00m \u001b[38;5;28;01mNone\u001b[39;00m:\n\u001b[1;32m    259\u001b[0m     \u001b[38;5;66;03m# pylint: disable=raising-bad-type\u001b[39;00m\n\u001b[1;32m    260\u001b[0m     \u001b[38;5;66;03m# Pylint doesn't recognize that this is valid in this case.\u001b[39;00m\n\u001b[0;32m--> 261\u001b[0m     \u001b[38;5;28;01mraise\u001b[39;00m \u001b[38;5;28mself\u001b[39m\u001b[38;5;241m.\u001b[39m_exception\n\u001b[1;32m    263\u001b[0m \u001b[38;5;28;01mreturn\u001b[39;00m \u001b[38;5;28mself\u001b[39m\u001b[38;5;241m.\u001b[39m_result\n",
      "\u001b[0;31mBadRequest\u001b[0m: 400 Invalid schema update. Cannot add fields (field: e.d._field_10); reason: invalid, message: Invalid schema update. Cannot add fields (field: e.d._field_10)"
     ]
    }
   ],
   "source": [
    "def check_for_field(df, field_name):\n",
    "    \"\"\"Check if a specific field exists in the dataframe.\"\"\"\n",
    "    for index, row in df.iterrows():\n",
    "        for e_item in row['e']:\n",
    "            for d_item in e_item['d']:\n",
    "                if field_name in d_item:\n",
    "                    print(f\"Field {field_name} found in row {index}\")\n",
    "                    return True\n",
    "    return False\n",
    "\n",
    "# Check for field_10 in dataframe\n",
    "field_exists = check_for_field(df, 'field_10')\n",
    "print(\"field_10 exists:\", field_exists)\n",
    "\n",
    "def update_table_schema(table_ref, merged_schema):\n",
    "    \"\"\"테이블 스키마에 새 열을 추가합니다.\"\"\"\n",
    "    table = client.get_table(table_ref)\n",
    "    table.schema = merged_schema\n",
    "    table = client.update_table(table, [\"schema\"])\n",
    "    print(f\"테이블 {table_ref}의 스키마가 업데이트되었습니다.\")\n",
    "    return table.schema\n",
    "\n",
    "def load_data_to_bigquery(df, table_ref):\n",
    "    \"\"\"데이터프레임을 빅쿼리 테이블로 업로드합니다.\"\"\"\n",
    "    client = bigquery.Client()\n",
    "    \n",
    "    # 스키마 검증\n",
    "    table = client.get_table(table_ref)\n",
    "    print(\"Current table schema:\", table.schema)\n",
    "    \n",
    "    job = client.load_table_from_dataframe(df, table_ref)\n",
    "    job.result()\n",
    "    print(f\"테이블 {table_ref}에 데이터가 성공적으로 업로드되었습니다.\")\n",
    "\n",
    "update_table_schema(table_ref, merged_schema)\n",
    "load_data_to_bigquery(df.loc[1:10], table_ref)"
   ]
  },
  {
   "cell_type": "code",
   "execution_count": null,
   "metadata": {},
   "outputs": [],
   "source": []
  }
 ],
 "metadata": {
  "kernelspec": {
   "display_name": "pymc_env",
   "language": "python",
   "name": "python3"
  },
  "language_info": {
   "codemirror_mode": {
    "name": "ipython",
    "version": 3
   },
   "file_extension": ".py",
   "mimetype": "text/x-python",
   "name": "python",
   "nbconvert_exporter": "python",
   "pygments_lexer": "ipython3",
   "version": "3.12.2"
  }
 },
 "nbformat": 4,
 "nbformat_minor": 2
}
