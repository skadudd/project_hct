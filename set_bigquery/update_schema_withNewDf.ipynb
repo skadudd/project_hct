{
 "cells": [
  {
   "cell_type": "code",
   "execution_count": 12,
   "metadata": {},
   "outputs": [
    {
     "name": "stdout",
     "output_type": "stream",
     "text": [
      "target :  ballosodeuk.airbridge_mart.test_append\n",
      "to :  ballosodeuk.airbridge_mart.app_keyfeatures\n"
     ]
    }
   ],
   "source": [
    "from google.cloud import bigquery\n",
    "from google.cloud.bigquery import job\n",
    "from google.cloud.bigquery import SchemaField\n",
    "import pandas as pd\n",
    "import datetime as dt\n",
    "import numpy as np\n",
    "import re\n",
    "import os\n",
    "from tqdm import tqdm\n",
    "import pandas as pd\n",
    "import copy\n",
    "\n",
    "PROJCECT = 'ballosodeuk'\n",
    "bq = bigquery.Client(project=PROJCECT)\n",
    "dataset_id = 'airbridge_mart'\n",
    "new_table = str(input('incomming table : '))\n",
    "tg_table = str(input('target table : '))\n",
    "\n",
    "new_table_ref = f'ballosodeuk.{dataset_id}.{new_table}'\n",
    "tg_table_ref = f'ballosodeuk.{dataset_id}.{tg_table}'\n",
    "\n",
    "print(\"target : \",new_table_ref)\n",
    "print(\"to : \",tg_table_ref)\n",
    "\n",
    "client = bigquery.Client()"
   ]
  },
  {
   "cell_type": "markdown",
   "metadata": {},
   "source": [
    "### 스키마 업데이트 시 SQL 문의 fin_table 순서가 바뀌지 않도록 주의"
   ]
  },
  {
   "cell_type": "code",
   "execution_count": 30,
   "metadata": {},
   "outputs": [],
   "source": [
    "def get_current_schema(table_ref):\n",
    "    \"\"\"기존 테이블의 스키마를 가져옵니다.\"\"\"\n",
    "    table = client.get_table(table_ref)\n",
    "    # return {field.name: field for field in table.schema}\n",
    "    return table.schema\n",
    "\n",
    "# 기존 스키마 추출\n",
    "def convert_schema_fields(schema):\n",
    "    def convert_field(field):\n",
    "        if field.field_type == 'RECORD':\n",
    "            return {\n",
    "                \"type\": field.field_type,\n",
    "                \"mode\": field.mode,\n",
    "                \"fields\": {subfield.name: convert_field(subfield) for subfield in field.fields}\n",
    "            }\n",
    "        elif field.field_type == 'STRING' and field.mode == 'REPEATED':\n",
    "            return {\n",
    "                \"type\": field.field_type,\n",
    "                \"mode\": field.mode,\n",
    "                \"fields\": {subfield.name: convert_field(subfield) for subfield in field.fields} if field.fields else {}\n",
    "            }\n",
    "        else:\n",
    "            return field.field_type\n",
    "\n",
    "    return {field.name: convert_field(field) for field in schema}\n",
    "\n",
    "def order_schema(schema, order):\n",
    "    ordered_schema = {}\n",
    "    for key in order:\n",
    "        if key in schema:\n",
    "            ordered_schema[key] = schema[key]\n",
    "    return ordered_schema\n",
    "\n",
    "def convert_to_schema_fields(schema):\n",
    "    \"\"\"스키마 딕셔너리를 SchemaField 객체로 변환.\"\"\"\n",
    "    fields = []\n",
    "    for name, dtype in schema.items():\n",
    "        if isinstance(dtype, dict):\n",
    "            subfields = convert_to_schema_fields(dtype.get(\"fields\", {}))\n",
    "            mode = dtype.get(\"mode\", \"NULLABLE\")\n",
    "            fields.append(SchemaField(name, dtype[\"type\"], mode=mode, fields=subfields))\n",
    "        else:\n",
    "            fields.append(SchemaField(name, dtype))\n",
    "    return fields\n",
    "\n",
    "\n",
    "def update_table_schema(table_ref, merged_schema):\n",
    "    \"\"\"테이블 스키마에 새 열을 추가합니다.\"\"\"\n",
    "    table = client.get_table(table_ref)\n",
    "    table.schema = merged_schema\n",
    "    client.update_table(table, [\"schema\"])\n",
    "    print(f\"테이블 {table_ref}의 스키마가 업데이트되었습니다: {merged_schema}\")\n",
    "\n",
    "# def reorder_schema(schema, desired_order):\n",
    "#     \"\"\"스키마를 원하는 순서로 재정렬합니다.\"\"\"\n",
    "#     field_dict = {field.name: field for field in schema}\n",
    "#     new_schema = [field_dict[field_name] for field_name in desired_order]\n",
    "#     return new_schema"
   ]
  },
  {
   "cell_type": "markdown",
   "metadata": {},
   "source": [
    "### 데이터 추가\n",
    "새로운 임시테이블로 해야함"
   ]
  },
  {
   "cell_type": "code",
   "execution_count": 43,
   "metadata": {},
   "outputs": [
    {
     "data": {
      "text/plain": [
       "<google.cloud.bigquery.table._EmptyRowIterator at 0x23b8ee311f0>"
      ]
     },
     "execution_count": 43,
     "metadata": {},
     "output_type": "execute_result"
    }
   ],
   "source": [
    "## 신규 데이터의 임시 테이블 생성\n",
    "\n",
    "query_name = \"0716_정적쿼리앱\"\n",
    "# SQL 파일 읽기\n",
    "# file = './query/쿠팡0403_0509.sql'\n",
    "file = f'../query/{query_name}.sql'\n",
    "with open(file, 'r') as file:\n",
    "    query = file.read()\n",
    "    \n",
    "job_config = bigquery.QueryJobConfig()\n",
    "query_job = client.query(query, job_config=job_config)\n",
    "query_job.result()"
   ]
  },
  {
   "cell_type": "markdown",
   "metadata": {},
   "source": [
    "### 뉴스키마는 생성된 임시 테이블일것. 순서는 기존에 맞춰서 추가해야함."
   ]
  },
  {
   "cell_type": "code",
   "execution_count": 31,
   "metadata": {},
   "outputs": [
    {
     "name": "stdout",
     "output_type": "stream",
     "text": [
      "테이블 ballosodeuk.airbridge_mart.test_append의 스키마가 업데이트되었습니다: [SchemaField('Event_Date', 'DATE', 'NULLABLE', None, (), None), SchemaField('Airbridge_Device_ID', 'STRING', 'NULLABLE', None, (), None), SchemaField('Airbridge_Device_ID_Type', 'STRING', 'NULLABLE', None, (), None), SchemaField('User_ID', 'STRING', 'NULLABLE', None, (), None), SchemaField('Platform', 'STRING', 'NULLABLE', None, (), None), SchemaField('i', 'RECORD', 'NULLABLE', None, (SchemaField('Device_Model', 'STRING', 'NULLABLE', None, (), None), SchemaField('Device_Type', 'STRING', 'NULLABLE', None, (), None), SchemaField('Platform', 'STRING', 'NULLABLE', None, (), None), SchemaField('Client_IP_Country_Code', 'STRING', 'NULLABLE', None, (), None), SchemaField('Client_IP_Subdivision', 'STRING', 'NULLABLE', None, (), None), SchemaField('Client_IP_City', 'STRING', 'NULLABLE', None, (), None), SchemaField('Channel', 'STRING', 'NULLABLE', None, (), None), SchemaField('Campaign_ID', 'STRING', 'NULLABLE', None, (), None), SchemaField('Ad_Group_ID', 'STRING', 'NULLABLE', None, (), None), SchemaField('Ad_Creative_ID', 'STRING', 'NULLABLE', None, (), None), SchemaField('Term_ID', 'STRING', 'NULLABLE', None, (), None), SchemaField('Is_Re_engagement', 'BOOLEAN', 'NULLABLE', None, (), None), SchemaField('Is_First_Event_per_User_ID', 'BOOLEAN', 'NULLABLE', None, (), None), SchemaField('Is_First_Event_per_Device_ID', 'BOOLEAN', 'NULLABLE', None, (), None), SchemaField('Is_First_Target_Event_per_Device', 'BOOLEAN', 'NULLABLE', None, (), None), SchemaField('Target_Event_Timestamp', 'NUMERIC', 'NULLABLE', None, (), None), SchemaField('Target_Event_Category', 'STRING', 'NULLABLE', None, (), None)), None), SchemaField('Event_Category', 'STRING', 'NULLABLE', None, (), None), SchemaField('Event_Value_Total', 'FLOAT', 'NULLABLE', None, (), None), SchemaField('Event_Count_Total', 'INTEGER', 'NULLABLE', None, (), None), SchemaField('e', 'RECORD', 'REPEATED', None, (SchemaField('Label', 'STRING', 'NULLABLE', None, (), None), SchemaField('Action', 'STRING', 'NULLABLE', None, (), None), SchemaField('Event_Value_Sum', 'FLOAT', 'NULLABLE', None, (), None), SchemaField('Event_Count', 'INTEGER', 'NULLABLE', None, (), None), SchemaField('u', 'RECORD', 'REPEATED', None, (SchemaField('User_ID', 'STRING', 'NULLABLE', None, (), None),), None), SchemaField('d', 'RECORD', 'REPEATED', None, (SchemaField('Timestamp', 'STRING', 'NULLABLE', None, (), None), SchemaField('Label', 'STRING', 'NULLABLE', None, (), None), SchemaField('Action', 'STRING', 'NULLABLE', None, (), None), SchemaField('Value', 'FLOAT', 'NULLABLE', None, (), None), SchemaField('commission', 'STRING', 'NULLABLE', None, (), None), SchemaField('param', 'STRING', 'NULLABLE', None, (), None), SchemaField('challenge_id', 'STRING', 'NULLABLE', None, (), None), SchemaField('campaignType', 'STRING', 'NULLABLE', None, (), None), SchemaField('campaignName', 'STRING', 'NULLABLE', None, (), None), SchemaField('gettableCash', 'STRING', 'NULLABLE', None, (), None), SchemaField('quantity', 'STRING', 'NULLABLE', None, (), None), SchemaField('score', 'STRING', 'NULLABLE', None, (), None), SchemaField('position', 'STRING', 'NULLABLE', None, (), None), SchemaField('scheduleID', 'STRING', 'NULLABLE', None, (), None), SchemaField('type', 'STRING', 'NULLABLE', None, (), None), SchemaField('achievementID', 'STRING', 'NULLABLE', None, (), None), SchemaField('rate', 'STRING', 'NULLABLE', None, (), None), SchemaField('price', 'STRING', 'NULLABLE', None, (), None), SchemaField('tester', 'STRING', 'NULLABLE', None, (), None), SchemaField('incentive_product_name', 'STRING', 'NULLABLE', None, (), None), SchemaField('list_order', 'STRING', 'NULLABLE', None, (), None), SchemaField('contributionMargin', 'STRING', 'NULLABLE', None, (), None), SchemaField('sharedChannel', 'STRING', 'NULLABLE', None, (), None), SchemaField('listID', 'STRING', 'NULLABLE', None, (), None), SchemaField('transactionID', 'STRING', 'NULLABLE', None, (), None), SchemaField('brandID', 'STRING', 'NULLABLE', None, (), None), SchemaField('transactionPairedEventCategory', 'STRING', 'NULLABLE', None, (), None), SchemaField('originalContributionMargin', 'STRING', 'NULLABLE', None, (), None), SchemaField('productListID', 'STRING', 'NULLABLE', None, (), None), SchemaField('datetime', 'STRING', 'NULLABLE', None, (), None), SchemaField('place', 'STRING', 'NULLABLE', None, (), None), SchemaField('name', 'STRING', 'NULLABLE', None, (), None), SchemaField('totalQuantity', 'STRING', 'NULLABLE', None, (), None), SchemaField('productID', 'STRING', 'NULLABLE', None, (), None), SchemaField('transactionType', 'STRING', 'NULLABLE', None, (), None), SchemaField('products_str', 'RECORD', 'REPEATED', None, (SchemaField('name', 'STRING', 'NULLABLE', None, (), None), SchemaField('price', 'STRING', 'NULLABLE', None, (), None), SchemaField('position', 'STRING', 'NULLABLE', None, (), None), SchemaField('quantity', 'STRING', 'NULLABLE', None, (), None), SchemaField('productID', 'STRING', 'NULLABLE', None, (), None), SchemaField('brandID', 'STRING', 'NULLABLE', None, (), None), SchemaField('currency', 'STRING', 'NULLABLE', None, (), None)), None), SchemaField('query', 'STRING', 'NULLABLE', None, (), None), SchemaField('isRenewal', 'STRING', 'NULLABLE', None, (), None)), None)), None)]\n",
      "테이블 ballosodeuk.airbridge_mart.app_keyfeatures의 스키마가 업데이트되었습니다: [SchemaField('Event_Date', 'DATE', 'NULLABLE', None, (), None), SchemaField('Airbridge_Device_ID', 'STRING', 'NULLABLE', None, (), None), SchemaField('Airbridge_Device_ID_Type', 'STRING', 'NULLABLE', None, (), None), SchemaField('User_ID', 'STRING', 'NULLABLE', None, (), None), SchemaField('Platform', 'STRING', 'NULLABLE', None, (), None), SchemaField('i', 'RECORD', 'NULLABLE', None, (SchemaField('Device_Model', 'STRING', 'NULLABLE', None, (), None), SchemaField('Device_Type', 'STRING', 'NULLABLE', None, (), None), SchemaField('Platform', 'STRING', 'NULLABLE', None, (), None), SchemaField('Client_IP_Country_Code', 'STRING', 'NULLABLE', None, (), None), SchemaField('Client_IP_Subdivision', 'STRING', 'NULLABLE', None, (), None), SchemaField('Client_IP_City', 'STRING', 'NULLABLE', None, (), None), SchemaField('Channel', 'STRING', 'NULLABLE', None, (), None), SchemaField('Campaign_ID', 'STRING', 'NULLABLE', None, (), None), SchemaField('Ad_Group_ID', 'STRING', 'NULLABLE', None, (), None), SchemaField('Ad_Creative_ID', 'STRING', 'NULLABLE', None, (), None), SchemaField('Term_ID', 'STRING', 'NULLABLE', None, (), None), SchemaField('Is_Re_engagement', 'BOOLEAN', 'NULLABLE', None, (), None), SchemaField('Is_First_Event_per_User_ID', 'BOOLEAN', 'NULLABLE', None, (), None), SchemaField('Is_First_Event_per_Device_ID', 'BOOLEAN', 'NULLABLE', None, (), None), SchemaField('Is_First_Target_Event_per_Device', 'BOOLEAN', 'NULLABLE', None, (), None), SchemaField('Target_Event_Timestamp', 'NUMERIC', 'NULLABLE', None, (), None), SchemaField('Target_Event_Category', 'STRING', 'NULLABLE', None, (), None)), None), SchemaField('Event_Category', 'STRING', 'NULLABLE', None, (), None), SchemaField('Event_Value_Total', 'FLOAT', 'NULLABLE', None, (), None), SchemaField('Event_Count_Total', 'INTEGER', 'NULLABLE', None, (), None), SchemaField('e', 'RECORD', 'REPEATED', None, (SchemaField('Label', 'STRING', 'NULLABLE', None, (), None), SchemaField('Action', 'STRING', 'NULLABLE', None, (), None), SchemaField('Event_Value_Sum', 'FLOAT', 'NULLABLE', None, (), None), SchemaField('Event_Count', 'INTEGER', 'NULLABLE', None, (), None), SchemaField('u', 'RECORD', 'REPEATED', None, (SchemaField('User_ID', 'STRING', 'NULLABLE', None, (), None),), None), SchemaField('d', 'RECORD', 'REPEATED', None, (SchemaField('Timestamp', 'STRING', 'NULLABLE', None, (), None), SchemaField('Label', 'STRING', 'NULLABLE', None, (), None), SchemaField('Action', 'STRING', 'NULLABLE', None, (), None), SchemaField('Value', 'FLOAT', 'NULLABLE', None, (), None), SchemaField('commission', 'STRING', 'NULLABLE', None, (), None), SchemaField('param', 'STRING', 'NULLABLE', None, (), None), SchemaField('challenge_id', 'STRING', 'NULLABLE', None, (), None), SchemaField('campaignType', 'STRING', 'NULLABLE', None, (), None), SchemaField('campaignName', 'STRING', 'NULLABLE', None, (), None), SchemaField('gettableCash', 'STRING', 'NULLABLE', None, (), None), SchemaField('quantity', 'STRING', 'NULLABLE', None, (), None), SchemaField('score', 'STRING', 'NULLABLE', None, (), None), SchemaField('position', 'STRING', 'NULLABLE', None, (), None), SchemaField('scheduleID', 'STRING', 'NULLABLE', None, (), None), SchemaField('type', 'STRING', 'NULLABLE', None, (), None), SchemaField('achievementID', 'STRING', 'NULLABLE', None, (), None), SchemaField('rate', 'STRING', 'NULLABLE', None, (), None), SchemaField('price', 'STRING', 'NULLABLE', None, (), None), SchemaField('tester', 'STRING', 'NULLABLE', None, (), None), SchemaField('incentive_product_name', 'STRING', 'NULLABLE', None, (), None), SchemaField('list_order', 'STRING', 'NULLABLE', None, (), None), SchemaField('contributionMargin', 'STRING', 'NULLABLE', None, (), None), SchemaField('sharedChannel', 'STRING', 'NULLABLE', None, (), None), SchemaField('listID', 'STRING', 'NULLABLE', None, (), None), SchemaField('transactionID', 'STRING', 'NULLABLE', None, (), None), SchemaField('brandID', 'STRING', 'NULLABLE', None, (), None), SchemaField('transactionPairedEventCategory', 'STRING', 'NULLABLE', None, (), None), SchemaField('originalContributionMargin', 'STRING', 'NULLABLE', None, (), None), SchemaField('productListID', 'STRING', 'NULLABLE', None, (), None), SchemaField('datetime', 'STRING', 'NULLABLE', None, (), None), SchemaField('place', 'STRING', 'NULLABLE', None, (), None), SchemaField('name', 'STRING', 'NULLABLE', None, (), None), SchemaField('totalQuantity', 'STRING', 'NULLABLE', None, (), None), SchemaField('productID', 'STRING', 'NULLABLE', None, (), None), SchemaField('transactionType', 'STRING', 'NULLABLE', None, (), None), SchemaField('products_str', 'RECORD', 'REPEATED', None, (SchemaField('name', 'STRING', 'NULLABLE', None, (), None), SchemaField('price', 'STRING', 'NULLABLE', None, (), None), SchemaField('position', 'STRING', 'NULLABLE', None, (), None), SchemaField('quantity', 'STRING', 'NULLABLE', None, (), None), SchemaField('productID', 'STRING', 'NULLABLE', None, (), None), SchemaField('brandID', 'STRING', 'NULLABLE', None, (), None), SchemaField('currency', 'STRING', 'NULLABLE', None, (), None)), None), SchemaField('query', 'STRING', 'NULLABLE', None, (), None), SchemaField('isRenewal', 'STRING', 'NULLABLE', None, (), None)), None)), None)]\n"
     ]
    }
   ],
   "source": [
    "new_schema = get_current_schema(new_table_ref)\n",
    "current_schema = get_current_schema(tg_table_ref)\n",
    "\n",
    "cur_dict = convert_schema_fields(current_schema)\n",
    "new_dict = convert_schema_fields(new_schema)\n",
    "\n",
    "result_dict = order_schema(new_dict, cur_dict)\n",
    "scheme = convert_to_schema_fields(result_dict)\n",
    "update_table_schema(new_table_ref, scheme)\n",
    "update_table_schema(tg_table_ref, scheme)"
   ]
  },
  {
   "cell_type": "code",
   "execution_count": 34,
   "metadata": {},
   "outputs": [
    {
     "name": "stdout",
     "output_type": "stream",
     "text": [
      "테이블 ballosodeuk.airbridge_mart.test_append의 스키마가 업데이트되었습니다: [SchemaField('Event_Date', 'DATE', 'NULLABLE', None, (), None), SchemaField('Airbridge_Device_ID', 'STRING', 'NULLABLE', None, (), None), SchemaField('Airbridge_Device_ID_Type', 'STRING', 'NULLABLE', None, (), None), SchemaField('User_ID', 'STRING', 'NULLABLE', None, (), None), SchemaField('Platform', 'STRING', 'NULLABLE', None, (), None), SchemaField('i', 'RECORD', 'NULLABLE', None, (SchemaField('Device_Model', 'STRING', 'NULLABLE', None, (), None), SchemaField('Device_Type', 'STRING', 'NULLABLE', None, (), None), SchemaField('Platform', 'STRING', 'NULLABLE', None, (), None), SchemaField('Client_IP_Country_Code', 'STRING', 'NULLABLE', None, (), None), SchemaField('Client_IP_Subdivision', 'STRING', 'NULLABLE', None, (), None), SchemaField('Client_IP_City', 'STRING', 'NULLABLE', None, (), None), SchemaField('Channel', 'STRING', 'NULLABLE', None, (), None), SchemaField('Campaign_ID', 'STRING', 'NULLABLE', None, (), None), SchemaField('Ad_Group_ID', 'STRING', 'NULLABLE', None, (), None), SchemaField('Ad_Creative_ID', 'STRING', 'NULLABLE', None, (), None), SchemaField('Term_ID', 'STRING', 'NULLABLE', None, (), None), SchemaField('Is_Re_engagement', 'BOOLEAN', 'NULLABLE', None, (), None), SchemaField('Is_First_Event_per_User_ID', 'BOOLEAN', 'NULLABLE', None, (), None), SchemaField('Is_First_Event_per_Device_ID', 'BOOLEAN', 'NULLABLE', None, (), None), SchemaField('Is_First_Target_Event_per_Device', 'BOOLEAN', 'NULLABLE', None, (), None), SchemaField('Target_Event_Timestamp', 'NUMERIC', 'NULLABLE', None, (), None), SchemaField('Target_Event_Category', 'STRING', 'NULLABLE', None, (), None)), None), SchemaField('Event_Category', 'STRING', 'NULLABLE', None, (), None), SchemaField('Event_Value_Total', 'FLOAT', 'NULLABLE', None, (), None), SchemaField('Event_Count_Total', 'INTEGER', 'NULLABLE', None, (), None), SchemaField('e', 'RECORD', 'REPEATED', None, (SchemaField('Label', 'STRING', 'NULLABLE', None, (), None), SchemaField('Action', 'STRING', 'NULLABLE', None, (), None), SchemaField('Event_Value_Sum', 'FLOAT', 'NULLABLE', None, (), None), SchemaField('Event_Count', 'INTEGER', 'NULLABLE', None, (), None), SchemaField('u', 'RECORD', 'REPEATED', None, (SchemaField('User_ID', 'STRING', 'NULLABLE', None, (), None),), None), SchemaField('d', 'RECORD', 'REPEATED', None, (SchemaField('Timestamp', 'STRING', 'NULLABLE', None, (), None), SchemaField('Label', 'STRING', 'NULLABLE', None, (), None), SchemaField('Action', 'STRING', 'NULLABLE', None, (), None), SchemaField('Value', 'FLOAT', 'NULLABLE', None, (), None), SchemaField('commission', 'STRING', 'NULLABLE', None, (), None), SchemaField('param', 'STRING', 'NULLABLE', None, (), None), SchemaField('challenge_id', 'STRING', 'NULLABLE', None, (), None), SchemaField('campaignType', 'STRING', 'NULLABLE', None, (), None), SchemaField('campaignName', 'STRING', 'NULLABLE', None, (), None), SchemaField('gettableCash', 'STRING', 'NULLABLE', None, (), None), SchemaField('quantity', 'STRING', 'NULLABLE', None, (), None), SchemaField('score', 'STRING', 'NULLABLE', None, (), None), SchemaField('position', 'STRING', 'NULLABLE', None, (), None), SchemaField('scheduleID', 'STRING', 'NULLABLE', None, (), None), SchemaField('type', 'STRING', 'NULLABLE', None, (), None), SchemaField('achievementID', 'STRING', 'NULLABLE', None, (), None), SchemaField('rate', 'STRING', 'NULLABLE', None, (), None), SchemaField('price', 'STRING', 'NULLABLE', None, (), None), SchemaField('tester', 'STRING', 'NULLABLE', None, (), None), SchemaField('incentive_product_name', 'STRING', 'NULLABLE', None, (), None), SchemaField('list_order', 'STRING', 'NULLABLE', None, (), None), SchemaField('contributionMargin', 'STRING', 'NULLABLE', None, (), None), SchemaField('sharedChannel', 'STRING', 'NULLABLE', None, (), None), SchemaField('listID', 'STRING', 'NULLABLE', None, (), None), SchemaField('transactionID', 'STRING', 'NULLABLE', None, (), None), SchemaField('brandID', 'STRING', 'NULLABLE', None, (), None), SchemaField('transactionPairedEventCategory', 'STRING', 'NULLABLE', None, (), None), SchemaField('originalContributionMargin', 'STRING', 'NULLABLE', None, (), None), SchemaField('productListID', 'STRING', 'NULLABLE', None, (), None), SchemaField('datetime', 'STRING', 'NULLABLE', None, (), None), SchemaField('place', 'STRING', 'NULLABLE', None, (), None), SchemaField('name', 'STRING', 'NULLABLE', None, (), None), SchemaField('totalQuantity', 'STRING', 'NULLABLE', None, (), None), SchemaField('productID', 'STRING', 'NULLABLE', None, (), None), SchemaField('transactionType', 'STRING', 'NULLABLE', None, (), None), SchemaField('products_str', 'RECORD', 'REPEATED', None, (SchemaField('name', 'STRING', 'NULLABLE', None, (), None), SchemaField('price', 'STRING', 'NULLABLE', None, (), None), SchemaField('position', 'STRING', 'NULLABLE', None, (), None), SchemaField('quantity', 'STRING', 'NULLABLE', None, (), None), SchemaField('productID', 'STRING', 'NULLABLE', None, (), None), SchemaField('brandID', 'STRING', 'NULLABLE', None, (), None), SchemaField('currency', 'STRING', 'NULLABLE', None, (), None)), None), SchemaField('query', 'STRING', 'NULLABLE', None, (), None), SchemaField('isRenewal', 'STRING', 'NULLABLE', None, (), None)), None)), None)]\n"
     ]
    }
   ],
   "source": [
    "update_table_schema(new_table_ref, scheme)"
   ]
  },
  {
   "cell_type": "markdown",
   "metadata": {},
   "source": [
    "### 안될때 아래"
   ]
  },
  {
   "cell_type": "code",
   "execution_count": 38,
   "metadata": {},
   "outputs": [
    {
     "name": "stdout",
     "output_type": "stream",
     "text": [
      "target :  ballosodeuk.airbridge_mart.test_append\n",
      "to :  ballosodeuk.airbridge_mart.app_keyfeatures\n",
      "테이블 ballosodeuk.airbridge_mart.test_append의 스키마가 업데이트되었습니다: [SchemaField('Event_Date', 'DATE', 'NULLABLE', None, (), None), SchemaField('Airbridge_Device_ID', 'STRING', 'NULLABLE', None, (), None), SchemaField('Airbridge_Device_ID_Type', 'STRING', 'NULLABLE', None, (), None), SchemaField('User_ID', 'STRING', 'NULLABLE', None, (), None), SchemaField('Platform', 'STRING', 'NULLABLE', None, (), None), SchemaField('i', 'RECORD', 'NULLABLE', None, (SchemaField('Device_Model', 'STRING', 'NULLABLE', None, (), None), SchemaField('Device_Type', 'STRING', 'NULLABLE', None, (), None), SchemaField('Platform', 'STRING', 'NULLABLE', None, (), None), SchemaField('Client_IP_Country_Code', 'STRING', 'NULLABLE', None, (), None), SchemaField('Client_IP_Subdivision', 'STRING', 'NULLABLE', None, (), None), SchemaField('Client_IP_City', 'STRING', 'NULLABLE', None, (), None), SchemaField('Channel', 'STRING', 'NULLABLE', None, (), None), SchemaField('Campaign_ID', 'STRING', 'NULLABLE', None, (), None), SchemaField('Ad_Group_ID', 'STRING', 'NULLABLE', None, (), None), SchemaField('Ad_Creative_ID', 'STRING', 'NULLABLE', None, (), None), SchemaField('Term_ID', 'STRING', 'NULLABLE', None, (), None), SchemaField('Is_Re_engagement', 'BOOLEAN', 'NULLABLE', None, (), None), SchemaField('Is_First_Event_per_User_ID', 'BOOLEAN', 'NULLABLE', None, (), None), SchemaField('Is_First_Event_per_Device_ID', 'BOOLEAN', 'NULLABLE', None, (), None), SchemaField('Is_First_Target_Event_per_Device', 'BOOLEAN', 'NULLABLE', None, (), None), SchemaField('Target_Event_Timestamp', 'NUMERIC', 'NULLABLE', None, (), None), SchemaField('Target_Event_Category', 'STRING', 'NULLABLE', None, (), None)), None), SchemaField('Event_Category', 'STRING', 'NULLABLE', None, (), None), SchemaField('Event_Value_Total', 'FLOAT', 'NULLABLE', None, (), None), SchemaField('Event_Count_Total', 'INTEGER', 'NULLABLE', None, (), None), SchemaField('e', 'RECORD', 'REPEATED', None, (SchemaField('Label', 'STRING', 'NULLABLE', None, (), None), SchemaField('Action', 'STRING', 'NULLABLE', None, (), None), SchemaField('Event_Value_Sum', 'FLOAT', 'NULLABLE', None, (), None), SchemaField('Event_Count', 'INTEGER', 'NULLABLE', None, (), None), SchemaField('u', 'RECORD', 'REPEATED', None, (SchemaField('User_ID', 'STRING', 'NULLABLE', None, (), None),), None), SchemaField('d', 'RECORD', 'REPEATED', None, (SchemaField('Timestamp', 'STRING', 'NULLABLE', None, (), None), SchemaField('Label', 'STRING', 'NULLABLE', None, (), None), SchemaField('Action', 'STRING', 'NULLABLE', None, (), None), SchemaField('Value', 'FLOAT', 'NULLABLE', None, (), None), SchemaField('commission', 'STRING', 'NULLABLE', None, (), None), SchemaField('param', 'STRING', 'NULLABLE', None, (), None), SchemaField('challenge_id', 'STRING', 'NULLABLE', None, (), None), SchemaField('campaignType', 'STRING', 'NULLABLE', None, (), None), SchemaField('campaignName', 'STRING', 'NULLABLE', None, (), None), SchemaField('gettableCash', 'STRING', 'NULLABLE', None, (), None), SchemaField('quantity', 'STRING', 'NULLABLE', None, (), None), SchemaField('score', 'STRING', 'NULLABLE', None, (), None), SchemaField('position', 'STRING', 'NULLABLE', None, (), None), SchemaField('scheduleID', 'STRING', 'NULLABLE', None, (), None), SchemaField('type', 'STRING', 'NULLABLE', None, (), None), SchemaField('achievementID', 'STRING', 'NULLABLE', None, (), None), SchemaField('rate', 'STRING', 'NULLABLE', None, (), None), SchemaField('price', 'STRING', 'NULLABLE', None, (), None), SchemaField('tester', 'STRING', 'NULLABLE', None, (), None), SchemaField('incentive_product_name', 'STRING', 'NULLABLE', None, (), None), SchemaField('list_order', 'STRING', 'NULLABLE', None, (), None), SchemaField('contributionMargin', 'STRING', 'NULLABLE', None, (), None), SchemaField('sharedChannel', 'STRING', 'NULLABLE', None, (), None), SchemaField('listID', 'STRING', 'NULLABLE', None, (), None), SchemaField('transactionID', 'STRING', 'NULLABLE', None, (), None), SchemaField('brandID', 'STRING', 'NULLABLE', None, (), None), SchemaField('transactionPairedEventCategory', 'STRING', 'NULLABLE', None, (), None), SchemaField('originalContributionMargin', 'STRING', 'NULLABLE', None, (), None), SchemaField('productListID', 'STRING', 'NULLABLE', None, (), None), SchemaField('datetime', 'STRING', 'NULLABLE', None, (), None), SchemaField('place', 'STRING', 'NULLABLE', None, (), None), SchemaField('name', 'STRING', 'NULLABLE', None, (), None), SchemaField('totalQuantity', 'STRING', 'NULLABLE', None, (), None), SchemaField('productID', 'STRING', 'NULLABLE', None, (), None), SchemaField('transactionType', 'STRING', 'NULLABLE', None, (), None), SchemaField('products_str', 'RECORD', 'REPEATED', None, (SchemaField('name', 'STRING', 'NULLABLE', None, (), None), SchemaField('price', 'STRING', 'NULLABLE', None, (), None), SchemaField('position', 'STRING', 'NULLABLE', None, (), None), SchemaField('quantity', 'STRING', 'NULLABLE', None, (), None), SchemaField('productID', 'STRING', 'NULLABLE', None, (), None), SchemaField('brandID', 'STRING', 'NULLABLE', None, (), None), SchemaField('currency', 'STRING', 'NULLABLE', None, (), None)), None), SchemaField('query', 'STRING', 'NULLABLE', None, (), None), SchemaField('isRenewal', 'STRING', 'NULLABLE', None, (), None)), None)), None)]\n"
     ]
    }
   ],
   "source": [
    "from google.cloud import bigquery\n",
    "from google.cloud.bigquery import SchemaField\n",
    "\n",
    "PROJCECT = 'ballosodeuk'\n",
    "bq = bigquery.Client(project=PROJCECT)\n",
    "dataset_id = 'airbridge_mart'\n",
    "new_table = str(input('incomming table : '))\n",
    "tg_table = str(input('target table : '))\n",
    "\n",
    "new_table_ref = f'ballosodeuk.{dataset_id}.{new_table}'\n",
    "tg_table_ref = f'ballosodeuk.{dataset_id}.{tg_table}'\n",
    "\n",
    "print(\"target : \", new_table_ref)\n",
    "print(\"to : \", tg_table_ref)\n",
    "\n",
    "client = bigquery.Client()\n",
    "\n",
    "def get_current_schema(table_ref):\n",
    "    \"\"\"기존 테이블의 스키마를 가져옵니다.\"\"\"\n",
    "    table = client.get_table(table_ref)\n",
    "    return table.schema\n",
    "\n",
    "def reorder_schema(schema, desired_order):\n",
    "    \"\"\"스키마를 원하는 순서로 재정렬합니다.\"\"\"\n",
    "    field_dict = {field.name: field for field in schema}\n",
    "    new_schema = []\n",
    "    for field_name in desired_order:\n",
    "        if field_name in field_dict:\n",
    "            field = field_dict[field_name]\n",
    "            if field.field_type == 'RECORD':\n",
    "                # Nested fields: reorder recursively\n",
    "                nested_schema = reorder_schema(field.fields, [f.name for f in field.fields])\n",
    "                new_field = SchemaField(name=field.name, field_type=field.field_type, mode=field.mode, fields=nested_schema)\n",
    "            else:\n",
    "                new_field = field\n",
    "            new_schema.append(new_field)\n",
    "    return new_schema\n",
    "\n",
    "def update_table_schema(table_ref, new_schema):\n",
    "    \"\"\"테이블 스키마를 업데이트합니다.\"\"\"\n",
    "    table = client.get_table(table_ref)\n",
    "    table.schema = new_schema\n",
    "    client.update_table(table, [\"schema\"])\n",
    "    print(f\"테이블 {table_ref}의 스키마가 업데이트되었습니다: {new_schema}\")\n",
    "\n",
    "# 기존 스키마 가져오기\n",
    "current_schema = get_current_schema(tg_table_ref)\n",
    "\n",
    "# 원하는 순서 정의\n",
    "desired_order = [\n",
    "    'Event_Date', 'Airbridge_Device_ID', 'Airbridge_Device_ID_Type', 'User_ID', 'Platform',\n",
    "    'i', 'Event_Category', 'Event_Value_Total', 'Event_Count_Total', 'e'\n",
    "    # 나머지 필드들도 원하는 순서대로 추가\n",
    "]\n",
    "\n",
    "# 스키마 재정렬\n",
    "new_schema = reorder_schema(current_schema, desired_order)\n",
    "\n",
    "# 테이블 스키마 업데이트\n",
    "update_table_schema(new_table_ref, new_schema)\n"
   ]
  },
  {
   "cell_type": "code",
   "execution_count": 40,
   "metadata": {},
   "outputs": [
    {
     "name": "stdout",
     "output_type": "stream",
     "text": [
      "target :  ballosodeuk.airbridge_mart.test_append\n",
      "to :  ballosodeuk.airbridge_mart.app_keyfeatures\n",
      "Event_Date\n",
      "Airbridge_Device_ID\n",
      "Airbridge_Device_ID_Type\n",
      "User_ID\n",
      "Platform\n",
      "i\n",
      "Event_Category\n",
      "Event_Value_Total\n",
      "Event_Count_Total\n",
      "e\n"
     ]
    },
    {
     "data": {
      "text/plain": [
       "[SchemaField('Event_Date', 'DATE', 'NULLABLE', None, (), None),\n",
       " SchemaField('Airbridge_Device_ID', 'STRING', 'NULLABLE', None, (), None),\n",
       " SchemaField('Airbridge_Device_ID_Type', 'STRING', 'NULLABLE', None, (), None),\n",
       " SchemaField('User_ID', 'STRING', 'NULLABLE', None, (), None),\n",
       " SchemaField('Platform', 'STRING', 'NULLABLE', None, (), None),\n",
       " SchemaField('i', 'RECORD', 'NULLABLE', None, (SchemaField('Device_Model', 'STRING', 'NULLABLE', None, (), None), SchemaField('Device_Type', 'STRING', 'NULLABLE', None, (), None), SchemaField('Platform', 'STRING', 'NULLABLE', None, (), None), SchemaField('Client_IP_Country_Code', 'STRING', 'NULLABLE', None, (), None), SchemaField('Client_IP_Subdivision', 'STRING', 'NULLABLE', None, (), None), SchemaField('Client_IP_City', 'STRING', 'NULLABLE', None, (), None), SchemaField('Channel', 'STRING', 'NULLABLE', None, (), None), SchemaField('Campaign_ID', 'STRING', 'NULLABLE', None, (), None), SchemaField('Ad_Group_ID', 'STRING', 'NULLABLE', None, (), None), SchemaField('Ad_Creative_ID', 'STRING', 'NULLABLE', None, (), None), SchemaField('Term_ID', 'STRING', 'NULLABLE', None, (), None), SchemaField('Is_Re_engagement', 'BOOLEAN', 'NULLABLE', None, (), None), SchemaField('Is_First_Event_per_User_ID', 'BOOLEAN', 'NULLABLE', None, (), None), SchemaField('Is_First_Event_per_Device_ID', 'BOOLEAN', 'NULLABLE', None, (), None), SchemaField('Is_First_Target_Event_per_Device', 'BOOLEAN', 'NULLABLE', None, (), None), SchemaField('Target_Event_Timestamp', 'NUMERIC', 'NULLABLE', None, (), None), SchemaField('Target_Event_Category', 'STRING', 'NULLABLE', None, (), None)), None),\n",
       " SchemaField('Event_Category', 'STRING', 'NULLABLE', None, (), None),\n",
       " SchemaField('Event_Value_Total', 'FLOAT', 'NULLABLE', None, (), None),\n",
       " SchemaField('Event_Count_Total', 'INTEGER', 'NULLABLE', None, (), None),\n",
       " SchemaField('e', 'RECORD', 'REPEATED', None, (SchemaField('Label', 'STRING', 'NULLABLE', None, (), None), SchemaField('Action', 'STRING', 'NULLABLE', None, (), None), SchemaField('Event_Value_Sum', 'FLOAT', 'NULLABLE', None, (), None), SchemaField('Event_Count', 'INTEGER', 'NULLABLE', None, (), None), SchemaField('u', 'RECORD', 'REPEATED', None, (SchemaField('User_ID', 'STRING', 'NULLABLE', None, (), None),), None), SchemaField('d', 'RECORD', 'REPEATED', None, (SchemaField('Timestamp', 'STRING', 'NULLABLE', None, (), None), SchemaField('Label', 'STRING', 'NULLABLE', None, (), None), SchemaField('Action', 'STRING', 'NULLABLE', None, (), None), SchemaField('Value', 'FLOAT', 'NULLABLE', None, (), None), SchemaField('commission', 'STRING', 'NULLABLE', None, (), None), SchemaField('param', 'STRING', 'NULLABLE', None, (), None), SchemaField('challenge_id', 'STRING', 'NULLABLE', None, (), None), SchemaField('campaignType', 'STRING', 'NULLABLE', None, (), None), SchemaField('campaignName', 'STRING', 'NULLABLE', None, (), None), SchemaField('gettableCash', 'STRING', 'NULLABLE', None, (), None), SchemaField('quantity', 'STRING', 'NULLABLE', None, (), None), SchemaField('score', 'STRING', 'NULLABLE', None, (), None), SchemaField('position', 'STRING', 'NULLABLE', None, (), None), SchemaField('scheduleID', 'STRING', 'NULLABLE', None, (), None), SchemaField('type', 'STRING', 'NULLABLE', None, (), None), SchemaField('achievementID', 'STRING', 'NULLABLE', None, (), None), SchemaField('rate', 'STRING', 'NULLABLE', None, (), None), SchemaField('price', 'STRING', 'NULLABLE', None, (), None), SchemaField('tester', 'STRING', 'NULLABLE', None, (), None), SchemaField('incentive_product_name', 'STRING', 'NULLABLE', None, (), None), SchemaField('list_order', 'STRING', 'NULLABLE', None, (), None), SchemaField('contributionMargin', 'STRING', 'NULLABLE', None, (), None), SchemaField('sharedChannel', 'STRING', 'NULLABLE', None, (), None), SchemaField('listID', 'STRING', 'NULLABLE', None, (), None), SchemaField('transactionID', 'STRING', 'NULLABLE', None, (), None), SchemaField('brandID', 'STRING', 'NULLABLE', None, (), None), SchemaField('transactionPairedEventCategory', 'STRING', 'NULLABLE', None, (), None), SchemaField('originalContributionMargin', 'STRING', 'NULLABLE', None, (), None), SchemaField('productListID', 'STRING', 'NULLABLE', None, (), None), SchemaField('datetime', 'STRING', 'NULLABLE', None, (), None), SchemaField('place', 'STRING', 'NULLABLE', None, (), None), SchemaField('name', 'STRING', 'NULLABLE', None, (), None), SchemaField('totalQuantity', 'STRING', 'NULLABLE', None, (), None), SchemaField('productID', 'STRING', 'NULLABLE', None, (), None), SchemaField('transactionType', 'STRING', 'NULLABLE', None, (), None), SchemaField('products_str', 'RECORD', 'REPEATED', None, (SchemaField('name', 'STRING', 'NULLABLE', None, (), None), SchemaField('price', 'STRING', 'NULLABLE', None, (), None), SchemaField('position', 'STRING', 'NULLABLE', None, (), None), SchemaField('quantity', 'STRING', 'NULLABLE', None, (), None), SchemaField('productID', 'STRING', 'NULLABLE', None, (), None), SchemaField('brandID', 'STRING', 'NULLABLE', None, (), None), SchemaField('currency', 'STRING', 'NULLABLE', None, (), None)), None), SchemaField('query', 'STRING', 'NULLABLE', None, (), None), SchemaField('isRenewal', 'STRING', 'NULLABLE', None, (), None)), None)), None)]"
      ]
     },
     "execution_count": 40,
     "metadata": {},
     "output_type": "execute_result"
    }
   ],
   "source": [
    "from google.cloud import bigquery\n",
    "from google.cloud.bigquery import SchemaField\n",
    "\n",
    "PROJCECT = 'ballosodeuk'\n",
    "bq = bigquery.Client(project=PROJCECT)\n",
    "dataset_id = 'airbridge_mart'\n",
    "new_table = str(input('incomming table : '))\n",
    "tg_table = str(input('target table : '))\n",
    "\n",
    "new_table_ref = f'ballosodeuk.{dataset_id}.{new_table}'\n",
    "tg_table_ref = f'ballosodeuk.{dataset_id}.{tg_table}'\n",
    "\n",
    "print(\"target : \", new_table_ref)\n",
    "print(\"to : \", tg_table_ref)\n",
    "\n",
    "client = bigquery.Client()\n",
    "\n",
    "def get_current_schema(table_ref):\n",
    "    \"\"\"기존 테이블의 스키마를 가져옵니다.\"\"\"\n",
    "    table = client.get_table(table_ref)\n",
    "    return table.schema\n",
    "\n",
    "def convert_schema_to_dict(schema):\n",
    "    \"\"\"SchemaField 객체를 딕셔너리로 변환.\"\"\"\n",
    "    def convert_field(field):\n",
    "        if field.field_type == 'RECORD':\n",
    "            return {\n",
    "                \"type\": field.field_type,\n",
    "                \"mode\": field.mode,\n",
    "                \"fields\": convert_schema_to_dict(field.fields)\n",
    "            }\n",
    "        else:\n",
    "            return {\n",
    "                \"type\": field.field_type,\n",
    "                \"mode\": field.mode\n",
    "            }\n",
    "    return {field.name: convert_field(field) for field in schema}\n",
    "\n",
    "def reorder_schema_dict(schema_dict, desired_order):\n",
    "    \"\"\"스키마 딕셔너리를 원하는 순서로 재정렬.\"\"\"\n",
    "    ordered_schema = {}\n",
    "    for key in desired_order:\n",
    "        if key in schema_dict:\n",
    "            print(key)\n",
    "            ordered_schema[key] = schema_dict[key]\n",
    "    return ordered_schema\n",
    "\n",
    "def convert_dict_to_schema(schema_dict):\n",
    "    \"\"\"딕셔너리를 SchemaField 객체로 변환.\"\"\"\n",
    "    def convert_field(name, field_info):\n",
    "        if field_info[\"type\"] == \"RECORD\":\n",
    "            return SchemaField(name, field_info[\"type\"], mode=field_info[\"mode\"], fields=convert_dict_to_schema(field_info[\"fields\"]))\n",
    "        else:\n",
    "            return SchemaField(name, field_info[\"type\"], mode=field_info[\"mode\"])\n",
    "    return [convert_field(name, field_info) for name, field_info in schema_dict.items()]\n",
    "\n",
    "def update_table_schema(table_ref, new_schema):\n",
    "    \"\"\"테이블 스키마를 업데이트합니다.\"\"\"\n",
    "    table = client.get_table(table_ref)\n",
    "    table.schema = new_schema\n",
    "    client.update_table(table, [\"schema\"])\n",
    "    print(f\"테이블 {table_ref}의 스키마가 업데이트되었습니다: {new_schema}\")\n",
    "\n",
    "# 기존 스키마 가져오기\n",
    "current_schema = get_current_schema(tg_table_ref)\n",
    "\n",
    "# 스키마를 딕셔너리로 변환\n",
    "current_schema_dict = convert_schema_to_dict(current_schema)\n",
    "\n",
    "# 원하는 순서 정의\n",
    "desired_order = [\n",
    "    'Event_Date', 'Airbridge_Device_ID', 'Airbridge_Device_ID_Type', 'User_ID', 'Platform',\n",
    "    'i', 'Event_Category', 'Event_Value_Total', 'Event_Count_Total', 'e'\n",
    "    # 나머지 필드들도 원하는 순서대로 추가\n",
    "]\n",
    "\n",
    "# 스키마 딕셔너리를 재정렬\n",
    "ordered_schema_dict = reorder_schema_dict(current_schema_dict, desired_order)\n",
    "\n",
    "# 스키마 딕셔너리를 SchemaField 객체로 변환\n",
    "new_schema = convert_dict_to_schema(ordered_schema_dict)\n",
    "\n",
    "# 테이블 스키마 업데이트\n",
    "update_table_schema(tg_table_ref, new_schema)\n",
    "new_schema\n"
   ]
  },
  {
   "cell_type": "code",
   "execution_count": null,
   "metadata": {},
   "outputs": [],
   "source": [
    "update_table_schema(tg_table_ref, new_schema)"
   ]
  }
 ],
 "metadata": {
  "kernelspec": {
   "display_name": "pymc",
   "language": "python",
   "name": "python3"
  },
  "language_info": {
   "codemirror_mode": {
    "name": "ipython",
    "version": 3
   },
   "file_extension": ".py",
   "mimetype": "text/x-python",
   "name": "python",
   "nbconvert_exporter": "python",
   "pygments_lexer": "ipython3",
   "version": "3.9.18"
  }
 },
 "nbformat": 4,
 "nbformat_minor": 2
}
