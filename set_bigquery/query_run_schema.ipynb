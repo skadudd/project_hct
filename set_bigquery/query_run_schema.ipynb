{
 "cells": [
  {
   "cell_type": "code",
   "execution_count": 6,
   "metadata": {},
   "outputs": [],
   "source": [
    "from google.cloud import bigquery\n",
    "from google.cloud.bigquery import job\n",
    "from google.cloud.bigquery import SchemaField\n",
    "import pandas as pd\n",
    "import os\n",
    "from tqdm import tqdm\n",
    "import pandas as pd\n",
    "PROJCECT = 'ballosodeuk'\n",
    "bq = bigquery.Client(project=PROJCECT)\n",
    "\n",
    "# 클라이언트 설정\n",
    "client = bigquery.Client()\n",
    "query_name = \"0711_동적쿼리테스트\"\n",
    "# SQL 파일 읽기\n",
    "# file = './query/쿠팡0403_0509.sql'\n",
    "file = f'C://FTC_downloads/code/git/project_hct/query/{query_name}.sql'\n",
    "with open(file, 'r') as file:\n",
    "    query = file.read()\n",
    "\n"
   ]
  },
  {
   "cell_type": "code",
   "execution_count": 7,
   "metadata": {},
   "outputs": [],
   "source": [
    "\n",
    "# 쿼리 실행\n",
    "job_config = bigquery.QueryJobConfig()\n",
    "query_job = client.query(query, job_config=job_config)\n",
    "\n",
    "df = query_job.to_dataframe()"
   ]
  },
  {
   "cell_type": "markdown",
   "metadata": {},
   "source": [
    "### 스키마 확인 및 업데이트 "
   ]
  },
  {
   "cell_type": "code",
   "execution_count": 16,
   "metadata": {},
   "outputs": [],
   "source": [
    "# 데이터셋 및 테이블 ID 설정\n",
    "dataset_id = 'airbridge_mart'\n",
    "table_id = 'app_df_2'\n",
    "table_ref = f'ballosodeuk.{dataset_id}.{table_id}'\n"
   ]
  },
  {
   "cell_type": "code",
   "execution_count": 24,
   "metadata": {},
   "outputs": [],
   "source": [
    "def infer_schema_from_dataframe(df):\n",
    "    \"\"\"데이터프레임에서 스키마 추론.\"\"\"\n",
    "    schema = {}\n",
    "    for col in df.columns:\n",
    "        if isinstance(df[col].iloc[0], dict):\n",
    "            # STRUCT 필드 처리\n",
    "            subfields = {k: \"STRING\" for k in df[col].iloc[0].keys()}  # 서브필드 모두 STRING으로 가정\n",
    "            schema[col] = subfields\n",
    "        else:\n",
    "            dtype = df[col].dtype\n",
    "            if pd.api.types.is_integer_dtype(dtype):\n",
    "                schema[col] = \"INTEGER\"\n",
    "            elif pd.api.types.is_float_dtype(dtype):\n",
    "                schema[col] = \"FLOAT\"\n",
    "            elif pd.api.types.is_bool_dtype(dtype):\n",
    "                schema[col] = \"BOOLEAN\"\n",
    "            else:\n",
    "                schema[col] = \"STRING\"\n",
    "    return schema"
   ]
  },
  {
   "cell_type": "code",
   "execution_count": 25,
   "metadata": {},
   "outputs": [],
   "source": [
    "def get_current_schema(table_ref):\n",
    "    \"\"\"기존 테이블의 스키마를 가져옵니다.\"\"\"\n",
    "    table = client.get_table(table_ref)\n",
    "    return {field.name: field for field in table.schema}"
   ]
  },
  {
   "cell_type": "code",
   "execution_count": 11,
   "metadata": {},
   "outputs": [],
   "source": [
    "def update_table_schema(table_ref, new_columns):\n",
    "    \"\"\"테이블 스키마에 새 열을 추가합니다.\"\"\"\n",
    "    current_schema = get_current_schema(table_ref)\n",
    "    new_fields = []\n",
    "\n",
    "    for name, dtype in new_columns.items():\n",
    "        if name not in current_schema:\n",
    "            if isinstance(dtype, dict):\n",
    "                # STRUCT 필드 처리\n",
    "                subfields = [SchemaField(subname, subtype) for subname, subtype in dtype.items()]\n",
    "                new_fields.append(SchemaField(name, \"RECORD\", fields=subfields))\n",
    "            else:\n",
    "                new_fields.append(SchemaField(name, dtype))\n",
    "\n",
    "    if new_fields:\n",
    "        table = client.get_table(table_ref)\n",
    "        updated_schema = table.schema + new_fields\n",
    "        table.schema = updated_schema\n",
    "        client.update_table(table, [\"schema\"])\n",
    "        print(f\"테이블 {table_ref}의 스키마가 업데이트되었습니다: {new_columns}\")"
   ]
  },
  {
   "cell_type": "code",
   "execution_count": 12,
   "metadata": {},
   "outputs": [],
   "source": [
    "def load_data_to_bigquery(df, table_ref):\n",
    "    \"\"\"데이터프레임을 빅쿼리 테이블로 업로드합니다.\"\"\"\n",
    "    job = client.load_table_from_dataframe(df, table_ref)\n",
    "    job.result()\n",
    "    print(f\"테이블 {table_ref}에 데이터가 성공적으로 업로드되었습니다.\")"
   ]
  },
  {
   "cell_type": "code",
   "execution_count": 23,
   "metadata": {},
   "outputs": [
    {
     "data": {
      "text/plain": [
       "{'Airbridge_Device_ID',\n",
       " 'Airbridge_Device_ID_Type',\n",
       " 'Event_Category',\n",
       " 'Event_Count_Total',\n",
       " 'Event_Date',\n",
       " 'Event_Value_Total',\n",
       " 'e',\n",
       " 'i'}"
      ]
     },
     "execution_count": 23,
     "metadata": {},
     "output_type": "execute_result"
    }
   ],
   "source": [
    "# 새 데이터의 스키마 추론 및 기존 스키마 비교 및 업데이트\n",
    "new_columns = infer_schema_from_dataframe(df)\n",
    "current_schema = get_current_schema(table_ref)\n",
    "missing_columns = {col: dtype for col, dtype in new_columns.items() if col not in current_schema}\n",
    "\n",
    "if missing_columns:\n",
    "    update_table_schema(table_ref, missing_columns)\n",
    "\n",
    "# 데이터 업로드\n",
    "load_data_to_bigquery(df, table_ref)"
   ]
  },
  {
   "cell_type": "code",
   "execution_count": null,
   "metadata": {},
   "outputs": [],
   "source": [
    "if missing_columns:\n",
    "    update_table_schema(table_ref, missing_columns)"
   ]
  }
 ],
 "metadata": {
  "kernelspec": {
   "display_name": "pymc",
   "language": "python",
   "name": "python3"
  },
  "language_info": {
   "codemirror_mode": {
    "name": "ipython",
    "version": 3
   },
   "file_extension": ".py",
   "mimetype": "text/x-python",
   "name": "python",
   "nbconvert_exporter": "python",
   "pygments_lexer": "ipython3",
   "version": "3.9.18"
  }
 },
 "nbformat": 4,
 "nbformat_minor": 2
}
