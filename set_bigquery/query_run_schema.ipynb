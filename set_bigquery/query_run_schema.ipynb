{
 "cells": [
  {
   "cell_type": "code",
   "execution_count": 3,
   "metadata": {},
   "outputs": [],
   "source": [
    "from google.cloud import bigquery\n",
    "from google.cloud.bigquery import job\n",
    "from google.cloud.bigquery import SchemaField\n",
    "import os\n",
    "# os.environ[\"GOOGLE_APPLICATION_CREDENTIALS\"] = \"C:\\\\Users\\\\Owner\\\\Downloads\\\\json\\\\ballosodeuk-4811d21b3452.json\"\n",
    "\n",
    "import pandas as pd\n",
    "import numpy as np\n",
    "import os\n",
    "from tqdm import tqdm\n",
    "import pandas as pd\n",
    "PROJCECT = 'ballosodeuk'\n",
    "bq = bigquery.Client(project=PROJCECT)\n",
    "\n",
    "# 클라이언트 설정\n",
    "client = bigquery.Client()\n",
    "query_name = \"0711_동적쿼리테스트\"\n",
    "# SQL 파일 읽기\n",
    "# file = './query/쿠팡0403_0509.sql'\n",
    "file = f'C://FTC_downloads/code/git/project_hct/query/{query_name}.sql'\n",
    "with open(file, 'r') as file:\n",
    "    query = file.read()\n",
    "\n"
   ]
  },
  {
   "cell_type": "code",
   "execution_count": 129,
   "metadata": {},
   "outputs": [
    {
     "name": "stdout",
     "output_type": "stream",
     "text": [
      "현재 gcloud 로그인 계정: balsohecto@gmail.com\n"
     ]
    }
   ],
   "source": [
    "import subprocess\n",
    "import json\n",
    "import os\n",
    "\n",
    "def get_gcloud_account():\n",
    "    try:\n",
    "        # gcloud auth list 명령어를 실행하여 JSON 형식의 출력을 얻음\n",
    "        result = subprocess.run(\n",
    "            ['gcloud', 'auth', 'list', '--format=json'],\n",
    "            capture_output=True,\n",
    "            text=True,\n",
    "            check=True,\n",
    "            shell=True  # Windows에서는 shell=True가 필요할 수 있습니다.\n",
    "        )\n",
    "        # JSON 파싱\n",
    "        accounts = json.loads(result.stdout)\n",
    "        \n",
    "        # 활성 계정 찾기\n",
    "        active_account = None\n",
    "        for account in accounts:\n",
    "            if account.get('status') == 'ACTIVE':\n",
    "                active_account = account.get('account')\n",
    "                break\n",
    "        \n",
    "        return active_account\n",
    "\n",
    "    except subprocess.CalledProcessError as e:\n",
    "        print(f\"An error occurred: {e}\")\n",
    "        return None\n",
    "    except FileNotFoundError as e:\n",
    "        print(\"gcloud 명령어를 찾을 수 없습니다. gcloud SDK가 설치되었는지 확인하고 PATH에 추가하세요.\")\n",
    "        return None\n",
    "\n",
    "# 현재 gcloud 로그인 계정 확인\n",
    "current_account = get_gcloud_account()\n",
    "if current_account:\n",
    "    print(f\"현재 gcloud 로그인 계정: {current_account}\")\n",
    "else:\n",
    "    print(\"gcloud 로그인 계정을 확인할 수 없습니다.\")\n"
   ]
  },
  {
   "cell_type": "code",
   "execution_count": 7,
   "metadata": {},
   "outputs": [
    {
     "ename": "Forbidden",
     "evalue": "403 POST https://bigquery.googleapis.com/bigquery/v2/projects/ballosodeuk/jobs?prettyPrint=false: Access Denied: Project ballosodeuk: User does not have bigquery.jobs.create permission in project ballosodeuk.\n\nLocation: None\nJob ID: 6070f00a-bb42-45dd-bcce-2b5123e9c573\n",
     "output_type": "error",
     "traceback": [
      "\u001b[1;31m---------------------------------------------------------------------------\u001b[0m",
      "\u001b[1;31mForbidden\u001b[0m                                 Traceback (most recent call last)",
      "Cell \u001b[1;32mIn[7], line 3\u001b[0m\n\u001b[0;32m      1\u001b[0m \u001b[38;5;66;03m# 쿼리 실행\u001b[39;00m\n\u001b[0;32m      2\u001b[0m job_config \u001b[38;5;241m=\u001b[39m bigquery\u001b[38;5;241m.\u001b[39mQueryJobConfig()\n\u001b[1;32m----> 3\u001b[0m query_job \u001b[38;5;241m=\u001b[39m \u001b[43mclient\u001b[49m\u001b[38;5;241;43m.\u001b[39;49m\u001b[43mquery\u001b[49m\u001b[43m(\u001b[49m\u001b[43mquery\u001b[49m\u001b[43m,\u001b[49m\u001b[43m \u001b[49m\u001b[43mjob_config\u001b[49m\u001b[38;5;241;43m=\u001b[39;49m\u001b[43mjob_config\u001b[49m\u001b[43m)\u001b[49m\n\u001b[0;32m      5\u001b[0m df_2 \u001b[38;5;241m=\u001b[39m query_job\u001b[38;5;241m.\u001b[39mto_dataframe()\n",
      "File \u001b[1;32mc:\\Users\\Owner\\miniconda3\\envs\\pymc\\lib\\site-packages\\google\\cloud\\bigquery\\client.py:3331\u001b[0m, in \u001b[0;36mClient.query\u001b[1;34m(self, query, job_config, job_id, job_id_prefix, location, project, retry, timeout, job_retry, api_method)\u001b[0m\n\u001b[0;32m   3320\u001b[0m     \u001b[38;5;28;01mreturn\u001b[39;00m _job_helpers\u001b[38;5;241m.\u001b[39mquery_jobs_query(\n\u001b[0;32m   3321\u001b[0m         \u001b[38;5;28mself\u001b[39m,\n\u001b[0;32m   3322\u001b[0m         query,\n\u001b[1;32m   (...)\u001b[0m\n\u001b[0;32m   3328\u001b[0m         job_retry,\n\u001b[0;32m   3329\u001b[0m     )\n\u001b[0;32m   3330\u001b[0m \u001b[38;5;28;01melif\u001b[39;00m api_method \u001b[38;5;241m==\u001b[39m enums\u001b[38;5;241m.\u001b[39mQueryApiMethod\u001b[38;5;241m.\u001b[39mINSERT:\n\u001b[1;32m-> 3331\u001b[0m     \u001b[38;5;28;01mreturn\u001b[39;00m \u001b[43m_job_helpers\u001b[49m\u001b[38;5;241;43m.\u001b[39;49m\u001b[43mquery_jobs_insert\u001b[49m\u001b[43m(\u001b[49m\n\u001b[0;32m   3332\u001b[0m \u001b[43m        \u001b[49m\u001b[38;5;28;43mself\u001b[39;49m\u001b[43m,\u001b[49m\n\u001b[0;32m   3333\u001b[0m \u001b[43m        \u001b[49m\u001b[43mquery\u001b[49m\u001b[43m,\u001b[49m\n\u001b[0;32m   3334\u001b[0m \u001b[43m        \u001b[49m\u001b[43mjob_config\u001b[49m\u001b[43m,\u001b[49m\n\u001b[0;32m   3335\u001b[0m \u001b[43m        \u001b[49m\u001b[43mjob_id\u001b[49m\u001b[43m,\u001b[49m\n\u001b[0;32m   3336\u001b[0m \u001b[43m        \u001b[49m\u001b[43mjob_id_prefix\u001b[49m\u001b[43m,\u001b[49m\n\u001b[0;32m   3337\u001b[0m \u001b[43m        \u001b[49m\u001b[43mlocation\u001b[49m\u001b[43m,\u001b[49m\n\u001b[0;32m   3338\u001b[0m \u001b[43m        \u001b[49m\u001b[43mproject\u001b[49m\u001b[43m,\u001b[49m\n\u001b[0;32m   3339\u001b[0m \u001b[43m        \u001b[49m\u001b[43mretry\u001b[49m\u001b[43m,\u001b[49m\n\u001b[0;32m   3340\u001b[0m \u001b[43m        \u001b[49m\u001b[43mtimeout\u001b[49m\u001b[43m,\u001b[49m\n\u001b[0;32m   3341\u001b[0m \u001b[43m        \u001b[49m\u001b[43mjob_retry\u001b[49m\u001b[43m,\u001b[49m\n\u001b[0;32m   3342\u001b[0m \u001b[43m    \u001b[49m\u001b[43m)\u001b[49m\n\u001b[0;32m   3343\u001b[0m \u001b[38;5;28;01melse\u001b[39;00m:\n\u001b[0;32m   3344\u001b[0m     \u001b[38;5;28;01mraise\u001b[39;00m \u001b[38;5;167;01mValueError\u001b[39;00m(\u001b[38;5;124mf\u001b[39m\u001b[38;5;124m\"\u001b[39m\u001b[38;5;124mGot unexpected value for api_method: \u001b[39m\u001b[38;5;132;01m{\u001b[39;00m\u001b[38;5;28mrepr\u001b[39m(api_method)\u001b[38;5;132;01m}\u001b[39;00m\u001b[38;5;124m\"\u001b[39m)\n",
      "File \u001b[1;32mc:\\Users\\Owner\\miniconda3\\envs\\pymc\\lib\\site-packages\\google\\cloud\\bigquery\\_job_helpers.py:114\u001b[0m, in \u001b[0;36mquery_jobs_insert\u001b[1;34m(client, query, job_config, job_id, job_id_prefix, location, project, retry, timeout, job_retry)\u001b[0m\n\u001b[0;32m    111\u001b[0m     \u001b[38;5;28;01melse\u001b[39;00m:\n\u001b[0;32m    112\u001b[0m         \u001b[38;5;28;01mreturn\u001b[39;00m query_job\n\u001b[1;32m--> 114\u001b[0m future \u001b[38;5;241m=\u001b[39m \u001b[43mdo_query\u001b[49m\u001b[43m(\u001b[49m\u001b[43m)\u001b[49m\n\u001b[0;32m    115\u001b[0m \u001b[38;5;66;03m# The future might be in a failed state now, but if it's\u001b[39;00m\n\u001b[0;32m    116\u001b[0m \u001b[38;5;66;03m# unrecoverable, we'll find out when we ask for it's result, at which\u001b[39;00m\n\u001b[0;32m    117\u001b[0m \u001b[38;5;66;03m# point, we may retry.\u001b[39;00m\n\u001b[0;32m    118\u001b[0m \u001b[38;5;28;01mif\u001b[39;00m \u001b[38;5;129;01mnot\u001b[39;00m job_id_given:\n",
      "File \u001b[1;32mc:\\Users\\Owner\\miniconda3\\envs\\pymc\\lib\\site-packages\\google\\cloud\\bigquery\\_job_helpers.py:91\u001b[0m, in \u001b[0;36mquery_jobs_insert.<locals>.do_query\u001b[1;34m()\u001b[0m\n\u001b[0;32m     88\u001b[0m query_job \u001b[38;5;241m=\u001b[39m job\u001b[38;5;241m.\u001b[39mQueryJob(job_ref, query, client\u001b[38;5;241m=\u001b[39mclient, job_config\u001b[38;5;241m=\u001b[39mjob_config)\n\u001b[0;32m     90\u001b[0m \u001b[38;5;28;01mtry\u001b[39;00m:\n\u001b[1;32m---> 91\u001b[0m     \u001b[43mquery_job\u001b[49m\u001b[38;5;241;43m.\u001b[39;49m\u001b[43m_begin\u001b[49m\u001b[43m(\u001b[49m\u001b[43mretry\u001b[49m\u001b[38;5;241;43m=\u001b[39;49m\u001b[43mretry\u001b[49m\u001b[43m,\u001b[49m\u001b[43m \u001b[49m\u001b[43mtimeout\u001b[49m\u001b[38;5;241;43m=\u001b[39;49m\u001b[43mtimeout\u001b[49m\u001b[43m)\u001b[49m\n\u001b[0;32m     92\u001b[0m \u001b[38;5;28;01mexcept\u001b[39;00m core_exceptions\u001b[38;5;241m.\u001b[39mConflict \u001b[38;5;28;01mas\u001b[39;00m create_exc:\n\u001b[0;32m     93\u001b[0m     \u001b[38;5;66;03m# The thought is if someone is providing their own job IDs and they get\u001b[39;00m\n\u001b[0;32m     94\u001b[0m     \u001b[38;5;66;03m# their job ID generation wrong, this could end up returning results for\u001b[39;00m\n\u001b[0;32m     95\u001b[0m     \u001b[38;5;66;03m# the wrong query. We thus only try to recover if job ID was not given.\u001b[39;00m\n\u001b[0;32m     96\u001b[0m     \u001b[38;5;28;01mif\u001b[39;00m job_id_given:\n",
      "File \u001b[1;32mc:\\Users\\Owner\\miniconda3\\envs\\pymc\\lib\\site-packages\\google\\cloud\\bigquery\\job\\query.py:1298\u001b[0m, in \u001b[0;36mQueryJob._begin\u001b[1;34m(self, client, retry, timeout)\u001b[0m\n\u001b[0;32m   1278\u001b[0m \u001b[38;5;250m\u001b[39m\u001b[38;5;124;03m\"\"\"API call:  begin the job via a POST request\u001b[39;00m\n\u001b[0;32m   1279\u001b[0m \n\u001b[0;32m   1280\u001b[0m \u001b[38;5;124;03mSee\u001b[39;00m\n\u001b[1;32m   (...)\u001b[0m\n\u001b[0;32m   1294\u001b[0m \u001b[38;5;124;03m    ValueError: If the job has already begun.\u001b[39;00m\n\u001b[0;32m   1295\u001b[0m \u001b[38;5;124;03m\"\"\"\u001b[39;00m\n\u001b[0;32m   1297\u001b[0m \u001b[38;5;28;01mtry\u001b[39;00m:\n\u001b[1;32m-> 1298\u001b[0m     \u001b[38;5;28;43msuper\u001b[39;49m\u001b[43m(\u001b[49m\u001b[43mQueryJob\u001b[49m\u001b[43m,\u001b[49m\u001b[43m \u001b[49m\u001b[38;5;28;43mself\u001b[39;49m\u001b[43m)\u001b[49m\u001b[38;5;241;43m.\u001b[39;49m\u001b[43m_begin\u001b[49m\u001b[43m(\u001b[49m\u001b[43mclient\u001b[49m\u001b[38;5;241;43m=\u001b[39;49m\u001b[43mclient\u001b[49m\u001b[43m,\u001b[49m\u001b[43m \u001b[49m\u001b[43mretry\u001b[49m\u001b[38;5;241;43m=\u001b[39;49m\u001b[43mretry\u001b[49m\u001b[43m,\u001b[49m\u001b[43m \u001b[49m\u001b[43mtimeout\u001b[49m\u001b[38;5;241;43m=\u001b[39;49m\u001b[43mtimeout\u001b[49m\u001b[43m)\u001b[49m\n\u001b[0;32m   1299\u001b[0m \u001b[38;5;28;01mexcept\u001b[39;00m exceptions\u001b[38;5;241m.\u001b[39mGoogleAPICallError \u001b[38;5;28;01mas\u001b[39;00m exc:\n\u001b[0;32m   1300\u001b[0m     exc\u001b[38;5;241m.\u001b[39mmessage \u001b[38;5;241m=\u001b[39m _EXCEPTION_FOOTER_TEMPLATE\u001b[38;5;241m.\u001b[39mformat(\n\u001b[0;32m   1301\u001b[0m         message\u001b[38;5;241m=\u001b[39mexc\u001b[38;5;241m.\u001b[39mmessage, location\u001b[38;5;241m=\u001b[39m\u001b[38;5;28mself\u001b[39m\u001b[38;5;241m.\u001b[39mlocation, job_id\u001b[38;5;241m=\u001b[39m\u001b[38;5;28mself\u001b[39m\u001b[38;5;241m.\u001b[39mjob_id\n\u001b[0;32m   1302\u001b[0m     )\n",
      "File \u001b[1;32mc:\\Users\\Owner\\miniconda3\\envs\\pymc\\lib\\site-packages\\google\\cloud\\bigquery\\job\\base.py:510\u001b[0m, in \u001b[0;36m_AsyncJob._begin\u001b[1;34m(self, client, retry, timeout)\u001b[0m\n\u001b[0;32m    507\u001b[0m \u001b[38;5;66;03m# jobs.insert is idempotent because we ensure that every new\u001b[39;00m\n\u001b[0;32m    508\u001b[0m \u001b[38;5;66;03m# job has an ID.\u001b[39;00m\n\u001b[0;32m    509\u001b[0m span_attributes \u001b[38;5;241m=\u001b[39m {\u001b[38;5;124m\"\u001b[39m\u001b[38;5;124mpath\u001b[39m\u001b[38;5;124m\"\u001b[39m: path}\n\u001b[1;32m--> 510\u001b[0m api_response \u001b[38;5;241m=\u001b[39m \u001b[43mclient\u001b[49m\u001b[38;5;241;43m.\u001b[39;49m\u001b[43m_call_api\u001b[49m\u001b[43m(\u001b[49m\n\u001b[0;32m    511\u001b[0m \u001b[43m    \u001b[49m\u001b[43mretry\u001b[49m\u001b[43m,\u001b[49m\n\u001b[0;32m    512\u001b[0m \u001b[43m    \u001b[49m\u001b[43mspan_name\u001b[49m\u001b[38;5;241;43m=\u001b[39;49m\u001b[38;5;124;43m\"\u001b[39;49m\u001b[38;5;124;43mBigQuery.job.begin\u001b[39;49m\u001b[38;5;124;43m\"\u001b[39;49m\u001b[43m,\u001b[49m\n\u001b[0;32m    513\u001b[0m \u001b[43m    \u001b[49m\u001b[43mspan_attributes\u001b[49m\u001b[38;5;241;43m=\u001b[39;49m\u001b[43mspan_attributes\u001b[49m\u001b[43m,\u001b[49m\n\u001b[0;32m    514\u001b[0m \u001b[43m    \u001b[49m\u001b[43mjob_ref\u001b[49m\u001b[38;5;241;43m=\u001b[39;49m\u001b[38;5;28;43mself\u001b[39;49m\u001b[43m,\u001b[49m\n\u001b[0;32m    515\u001b[0m \u001b[43m    \u001b[49m\u001b[43mmethod\u001b[49m\u001b[38;5;241;43m=\u001b[39;49m\u001b[38;5;124;43m\"\u001b[39;49m\u001b[38;5;124;43mPOST\u001b[39;49m\u001b[38;5;124;43m\"\u001b[39;49m\u001b[43m,\u001b[49m\n\u001b[0;32m    516\u001b[0m \u001b[43m    \u001b[49m\u001b[43mpath\u001b[49m\u001b[38;5;241;43m=\u001b[39;49m\u001b[43mpath\u001b[49m\u001b[43m,\u001b[49m\n\u001b[0;32m    517\u001b[0m \u001b[43m    \u001b[49m\u001b[43mdata\u001b[49m\u001b[38;5;241;43m=\u001b[39;49m\u001b[38;5;28;43mself\u001b[39;49m\u001b[38;5;241;43m.\u001b[39;49m\u001b[43mto_api_repr\u001b[49m\u001b[43m(\u001b[49m\u001b[43m)\u001b[49m\u001b[43m,\u001b[49m\n\u001b[0;32m    518\u001b[0m \u001b[43m    \u001b[49m\u001b[43mtimeout\u001b[49m\u001b[38;5;241;43m=\u001b[39;49m\u001b[43mtimeout\u001b[49m\u001b[43m,\u001b[49m\n\u001b[0;32m    519\u001b[0m \u001b[43m\u001b[49m\u001b[43m)\u001b[49m\n\u001b[0;32m    520\u001b[0m \u001b[38;5;28mself\u001b[39m\u001b[38;5;241m.\u001b[39m_set_properties(api_response)\n",
      "File \u001b[1;32mc:\\Users\\Owner\\miniconda3\\envs\\pymc\\lib\\site-packages\\google\\cloud\\bigquery\\client.py:756\u001b[0m, in \u001b[0;36mClient._call_api\u001b[1;34m(self, retry, span_name, span_attributes, job_ref, headers, **kwargs)\u001b[0m\n\u001b[0;32m    752\u001b[0m \u001b[38;5;28;01mif\u001b[39;00m span_name \u001b[38;5;129;01mis\u001b[39;00m \u001b[38;5;129;01mnot\u001b[39;00m \u001b[38;5;28;01mNone\u001b[39;00m:\n\u001b[0;32m    753\u001b[0m     \u001b[38;5;28;01mwith\u001b[39;00m create_span(\n\u001b[0;32m    754\u001b[0m         name\u001b[38;5;241m=\u001b[39mspan_name, attributes\u001b[38;5;241m=\u001b[39mspan_attributes, client\u001b[38;5;241m=\u001b[39m\u001b[38;5;28mself\u001b[39m, job_ref\u001b[38;5;241m=\u001b[39mjob_ref\n\u001b[0;32m    755\u001b[0m     ):\n\u001b[1;32m--> 756\u001b[0m         \u001b[38;5;28;01mreturn\u001b[39;00m \u001b[43mcall\u001b[49m\u001b[43m(\u001b[49m\u001b[43m)\u001b[49m\n\u001b[0;32m    758\u001b[0m \u001b[38;5;28;01mreturn\u001b[39;00m call()\n",
      "File \u001b[1;32mc:\\Users\\Owner\\miniconda3\\envs\\pymc\\lib\\site-packages\\google\\api_core\\retry\\retry_unary.py:293\u001b[0m, in \u001b[0;36mRetry.__call__.<locals>.retry_wrapped_func\u001b[1;34m(*args, **kwargs)\u001b[0m\n\u001b[0;32m    289\u001b[0m target \u001b[38;5;241m=\u001b[39m functools\u001b[38;5;241m.\u001b[39mpartial(func, \u001b[38;5;241m*\u001b[39margs, \u001b[38;5;241m*\u001b[39m\u001b[38;5;241m*\u001b[39mkwargs)\n\u001b[0;32m    290\u001b[0m sleep_generator \u001b[38;5;241m=\u001b[39m exponential_sleep_generator(\n\u001b[0;32m    291\u001b[0m     \u001b[38;5;28mself\u001b[39m\u001b[38;5;241m.\u001b[39m_initial, \u001b[38;5;28mself\u001b[39m\u001b[38;5;241m.\u001b[39m_maximum, multiplier\u001b[38;5;241m=\u001b[39m\u001b[38;5;28mself\u001b[39m\u001b[38;5;241m.\u001b[39m_multiplier\n\u001b[0;32m    292\u001b[0m )\n\u001b[1;32m--> 293\u001b[0m \u001b[38;5;28;01mreturn\u001b[39;00m \u001b[43mretry_target\u001b[49m\u001b[43m(\u001b[49m\n\u001b[0;32m    294\u001b[0m \u001b[43m    \u001b[49m\u001b[43mtarget\u001b[49m\u001b[43m,\u001b[49m\n\u001b[0;32m    295\u001b[0m \u001b[43m    \u001b[49m\u001b[38;5;28;43mself\u001b[39;49m\u001b[38;5;241;43m.\u001b[39;49m\u001b[43m_predicate\u001b[49m\u001b[43m,\u001b[49m\n\u001b[0;32m    296\u001b[0m \u001b[43m    \u001b[49m\u001b[43msleep_generator\u001b[49m\u001b[43m,\u001b[49m\n\u001b[0;32m    297\u001b[0m \u001b[43m    \u001b[49m\u001b[43mtimeout\u001b[49m\u001b[38;5;241;43m=\u001b[39;49m\u001b[38;5;28;43mself\u001b[39;49m\u001b[38;5;241;43m.\u001b[39;49m\u001b[43m_timeout\u001b[49m\u001b[43m,\u001b[49m\n\u001b[0;32m    298\u001b[0m \u001b[43m    \u001b[49m\u001b[43mon_error\u001b[49m\u001b[38;5;241;43m=\u001b[39;49m\u001b[43mon_error\u001b[49m\u001b[43m,\u001b[49m\n\u001b[0;32m    299\u001b[0m \u001b[43m\u001b[49m\u001b[43m)\u001b[49m\n",
      "File \u001b[1;32mc:\\Users\\Owner\\miniconda3\\envs\\pymc\\lib\\site-packages\\google\\api_core\\retry\\retry_unary.py:153\u001b[0m, in \u001b[0;36mretry_target\u001b[1;34m(target, predicate, sleep_generator, timeout, on_error, exception_factory, **kwargs)\u001b[0m\n\u001b[0;32m    149\u001b[0m \u001b[38;5;66;03m# pylint: disable=broad-except\u001b[39;00m\n\u001b[0;32m    150\u001b[0m \u001b[38;5;66;03m# This function explicitly must deal with broad exceptions.\u001b[39;00m\n\u001b[0;32m    151\u001b[0m \u001b[38;5;28;01mexcept\u001b[39;00m \u001b[38;5;167;01mException\u001b[39;00m \u001b[38;5;28;01mas\u001b[39;00m exc:\n\u001b[0;32m    152\u001b[0m     \u001b[38;5;66;03m# defer to shared logic for handling errors\u001b[39;00m\n\u001b[1;32m--> 153\u001b[0m     \u001b[43m_retry_error_helper\u001b[49m\u001b[43m(\u001b[49m\n\u001b[0;32m    154\u001b[0m \u001b[43m        \u001b[49m\u001b[43mexc\u001b[49m\u001b[43m,\u001b[49m\n\u001b[0;32m    155\u001b[0m \u001b[43m        \u001b[49m\u001b[43mdeadline\u001b[49m\u001b[43m,\u001b[49m\n\u001b[0;32m    156\u001b[0m \u001b[43m        \u001b[49m\u001b[43msleep\u001b[49m\u001b[43m,\u001b[49m\n\u001b[0;32m    157\u001b[0m \u001b[43m        \u001b[49m\u001b[43merror_list\u001b[49m\u001b[43m,\u001b[49m\n\u001b[0;32m    158\u001b[0m \u001b[43m        \u001b[49m\u001b[43mpredicate\u001b[49m\u001b[43m,\u001b[49m\n\u001b[0;32m    159\u001b[0m \u001b[43m        \u001b[49m\u001b[43mon_error\u001b[49m\u001b[43m,\u001b[49m\n\u001b[0;32m    160\u001b[0m \u001b[43m        \u001b[49m\u001b[43mexception_factory\u001b[49m\u001b[43m,\u001b[49m\n\u001b[0;32m    161\u001b[0m \u001b[43m        \u001b[49m\u001b[43mtimeout\u001b[49m\u001b[43m,\u001b[49m\n\u001b[0;32m    162\u001b[0m \u001b[43m    \u001b[49m\u001b[43m)\u001b[49m\n\u001b[0;32m    163\u001b[0m     \u001b[38;5;66;03m# if exception not raised, sleep before next attempt\u001b[39;00m\n\u001b[0;32m    164\u001b[0m     time\u001b[38;5;241m.\u001b[39msleep(sleep)\n",
      "File \u001b[1;32mc:\\Users\\Owner\\miniconda3\\envs\\pymc\\lib\\site-packages\\google\\api_core\\retry\\retry_base.py:212\u001b[0m, in \u001b[0;36m_retry_error_helper\u001b[1;34m(exc, deadline, next_sleep, error_list, predicate_fn, on_error_fn, exc_factory_fn, original_timeout)\u001b[0m\n\u001b[0;32m    206\u001b[0m \u001b[38;5;28;01mif\u001b[39;00m \u001b[38;5;129;01mnot\u001b[39;00m predicate_fn(exc):\n\u001b[0;32m    207\u001b[0m     final_exc, source_exc \u001b[38;5;241m=\u001b[39m exc_factory_fn(\n\u001b[0;32m    208\u001b[0m         error_list,\n\u001b[0;32m    209\u001b[0m         RetryFailureReason\u001b[38;5;241m.\u001b[39mNON_RETRYABLE_ERROR,\n\u001b[0;32m    210\u001b[0m         original_timeout,\n\u001b[0;32m    211\u001b[0m     )\n\u001b[1;32m--> 212\u001b[0m     \u001b[38;5;28;01mraise\u001b[39;00m final_exc \u001b[38;5;28;01mfrom\u001b[39;00m \u001b[38;5;21;01msource_exc\u001b[39;00m\n\u001b[0;32m    213\u001b[0m \u001b[38;5;28;01mif\u001b[39;00m on_error_fn \u001b[38;5;129;01mis\u001b[39;00m \u001b[38;5;129;01mnot\u001b[39;00m \u001b[38;5;28;01mNone\u001b[39;00m:\n\u001b[0;32m    214\u001b[0m     on_error_fn(exc)\n",
      "File \u001b[1;32mc:\\Users\\Owner\\miniconda3\\envs\\pymc\\lib\\site-packages\\google\\api_core\\retry\\retry_unary.py:144\u001b[0m, in \u001b[0;36mretry_target\u001b[1;34m(target, predicate, sleep_generator, timeout, on_error, exception_factory, **kwargs)\u001b[0m\n\u001b[0;32m    142\u001b[0m \u001b[38;5;28;01mfor\u001b[39;00m sleep \u001b[38;5;129;01min\u001b[39;00m sleep_generator:\n\u001b[0;32m    143\u001b[0m     \u001b[38;5;28;01mtry\u001b[39;00m:\n\u001b[1;32m--> 144\u001b[0m         result \u001b[38;5;241m=\u001b[39m \u001b[43mtarget\u001b[49m\u001b[43m(\u001b[49m\u001b[43m)\u001b[49m\n\u001b[0;32m    145\u001b[0m         \u001b[38;5;28;01mif\u001b[39;00m inspect\u001b[38;5;241m.\u001b[39misawaitable(result):\n\u001b[0;32m    146\u001b[0m             warnings\u001b[38;5;241m.\u001b[39mwarn(_ASYNC_RETRY_WARNING)\n",
      "File \u001b[1;32mc:\\Users\\Owner\\miniconda3\\envs\\pymc\\lib\\site-packages\\google\\cloud\\_http\\__init__.py:494\u001b[0m, in \u001b[0;36mJSONConnection.api_request\u001b[1;34m(self, method, path, query_params, data, content_type, headers, api_base_url, api_version, expect_json, _target_object, timeout, extra_api_info)\u001b[0m\n\u001b[0;32m    482\u001b[0m response \u001b[38;5;241m=\u001b[39m \u001b[38;5;28mself\u001b[39m\u001b[38;5;241m.\u001b[39m_make_request(\n\u001b[0;32m    483\u001b[0m     method\u001b[38;5;241m=\u001b[39mmethod,\n\u001b[0;32m    484\u001b[0m     url\u001b[38;5;241m=\u001b[39murl,\n\u001b[1;32m   (...)\u001b[0m\n\u001b[0;32m    490\u001b[0m     extra_api_info\u001b[38;5;241m=\u001b[39mextra_api_info,\n\u001b[0;32m    491\u001b[0m )\n\u001b[0;32m    493\u001b[0m \u001b[38;5;28;01mif\u001b[39;00m \u001b[38;5;129;01mnot\u001b[39;00m \u001b[38;5;241m200\u001b[39m \u001b[38;5;241m<\u001b[39m\u001b[38;5;241m=\u001b[39m response\u001b[38;5;241m.\u001b[39mstatus_code \u001b[38;5;241m<\u001b[39m \u001b[38;5;241m300\u001b[39m:\n\u001b[1;32m--> 494\u001b[0m     \u001b[38;5;28;01mraise\u001b[39;00m exceptions\u001b[38;5;241m.\u001b[39mfrom_http_response(response)\n\u001b[0;32m    496\u001b[0m \u001b[38;5;28;01mif\u001b[39;00m expect_json \u001b[38;5;129;01mand\u001b[39;00m response\u001b[38;5;241m.\u001b[39mcontent:\n\u001b[0;32m    497\u001b[0m     \u001b[38;5;28;01mreturn\u001b[39;00m response\u001b[38;5;241m.\u001b[39mjson()\n",
      "\u001b[1;31mForbidden\u001b[0m: 403 POST https://bigquery.googleapis.com/bigquery/v2/projects/ballosodeuk/jobs?prettyPrint=false: Access Denied: Project ballosodeuk: User does not have bigquery.jobs.create permission in project ballosodeuk.\n\nLocation: None\nJob ID: 6070f00a-bb42-45dd-bcce-2b5123e9c573\n"
     ]
    }
   ],
   "source": [
    "\n",
    "# 쿼리 실행\n",
    "job_config = bigquery.QueryJobConfig()\n",
    "query_job = client.query(query, job_config=job_config)\n",
    "\n",
    "df_2 = query_job.to_dataframe()"
   ]
  },
  {
   "cell_type": "code",
   "execution_count": null,
   "metadata": {},
   "outputs": [
    {
     "data": {
      "text/html": [
       "<div>\n",
       "<style scoped>\n",
       "    .dataframe tbody tr th:only-of-type {\n",
       "        vertical-align: middle;\n",
       "    }\n",
       "\n",
       "    .dataframe tbody tr th {\n",
       "        vertical-align: top;\n",
       "    }\n",
       "\n",
       "    .dataframe thead th {\n",
       "        text-align: right;\n",
       "    }\n",
       "</style>\n",
       "<table border=\"1\" class=\"dataframe\">\n",
       "  <thead>\n",
       "    <tr style=\"text-align: right;\">\n",
       "      <th></th>\n",
       "      <th>Event_Date</th>\n",
       "      <th>Airbridge_Device_ID</th>\n",
       "      <th>Airbridge_Device_ID_Type</th>\n",
       "      <th>i</th>\n",
       "      <th>Event_Category</th>\n",
       "      <th>Event_Value_Total</th>\n",
       "      <th>Event_Count_Total</th>\n",
       "      <th>e</th>\n",
       "    </tr>\n",
       "  </thead>\n",
       "  <tbody>\n",
       "  </tbody>\n",
       "</table>\n",
       "</div>"
      ],
      "text/plain": [
       "Empty DataFrame\n",
       "Columns: [Event_Date, Airbridge_Device_ID, Airbridge_Device_ID_Type, i, Event_Category, Event_Value_Total, Event_Count_Total, e]\n",
       "Index: []"
      ]
     },
     "execution_count": 119,
     "metadata": {},
     "output_type": "execute_result"
    }
   ],
   "source": [
    "df_2"
   ]
  },
  {
   "cell_type": "markdown",
   "metadata": {},
   "source": [
    "### 스키마 확인 및 업데이트 "
   ]
  },
  {
   "cell_type": "code",
   "execution_count": 5,
   "metadata": {},
   "outputs": [],
   "source": [
    "# 데이터셋 및 테이블 ID 설정\n",
    "dataset_id = 'airbridge_mart'\n",
    "table_id = 'app_df_2'\n",
    "table_ref = f'ballosodeuk.{dataset_id}.{table_id}'\n"
   ]
  },
  {
   "cell_type": "code",
   "execution_count": 33,
   "metadata": {},
   "outputs": [],
   "source": [
    "def infer_schema_from_dataframe(df):\n",
    "    \"\"\"데이터프레임에서 스키마 추론.\"\"\"\n",
    "    def infer_field_type(value):\n",
    "        if isinstance(value, dict):\n",
    "            subfields = {k: infer_field_type(v) for k, v in value.items()}\n",
    "            return subfields\n",
    "        elif isinstance(value, list) and len(value) > 0 and isinstance(value[0], dict):\n",
    "            subfields = {k: infer_field_type(v) for k, v in value[0].items()}\n",
    "            return {\"type\": \"RECORD\", \"mode\": \"REPEATED\", \"fields\": subfields}\n",
    "        elif pd.api.types.is_integer_dtype(type(value)):\n",
    "            return \"INTEGER\"\n",
    "        elif pd.api.types.is_float_dtype(type(value)):\n",
    "            return \"FLOAT\"\n",
    "        elif pd.api.types.is_bool_dtype(type(value)):\n",
    "            return \"BOOLEAN\"\n",
    "        else:\n",
    "            return \"STRING\"\n",
    "    \n",
    "    schema = {col: infer_field_type(df[col].iloc[0]) for col in df.columns}\n",
    "    return schema"
   ]
  },
  {
   "cell_type": "code",
   "execution_count": 16,
   "metadata": {},
   "outputs": [],
   "source": [
    "def get_current_schema(table_ref):\n",
    "    \"\"\"기존 테이블의 스키마를 가져옵니다.\"\"\"\n",
    "    table = client.get_table(table_ref)\n",
    "    return {field.name: field for field in table.schema}"
   ]
  },
  {
   "cell_type": "code",
   "execution_count": 17,
   "metadata": {},
   "outputs": [],
   "source": [
    "def update_table_schema(table_ref, new_columns):\n",
    "    \"\"\"테이블 스키마에 새 열을 추가합니다.\"\"\"\n",
    "    current_schema = get_current_schema(table_ref)\n",
    "    new_fields = []\n",
    "\n",
    "    for name, dtype in new_columns.items():\n",
    "        if name not in current_schema:\n",
    "            if isinstance(dtype, dict):\n",
    "                # STRUCT 필드 처리\n",
    "                subfields = [SchemaField(subname, subtype) for subname, subtype in dtype.items()]\n",
    "                new_fields.append(SchemaField(name, \"RECORD\", fields=subfields))\n",
    "            else:\n",
    "                new_fields.append(SchemaField(name, dtype))\n",
    "\n",
    "    if new_fields:\n",
    "        table = client.get_table(table_ref)\n",
    "        updated_schema = table.schema + new_fields\n",
    "        table.schema = updated_schema\n",
    "        client.update_table(table, [\"schema\"])\n",
    "        print(f\"테이블 {table_ref}의 스키마가 업데이트되었습니다: {new_columns}\")"
   ]
  },
  {
   "cell_type": "code",
   "execution_count": 9,
   "metadata": {},
   "outputs": [],
   "source": [
    "def load_data_to_bigquery(df, table_ref):\n",
    "    \"\"\"데이터프레임을 빅쿼리 테이블로 업로드합니다.\"\"\"\n",
    "    job = client.load_table_from_dataframe(df, table_ref)\n",
    "    job.result()\n",
    "    print(f\"테이블 {table_ref}에 데이터가 성공적으로 업로드되었습니다.\")"
   ]
  },
  {
   "cell_type": "code",
   "execution_count": 34,
   "metadata": {},
   "outputs": [],
   "source": [
    "new_columns = infer_schema_from_dataframe(df)\n",
    "current_schema = get_current_schema(table_ref)"
   ]
  },
  {
   "cell_type": "code",
   "execution_count": 35,
   "metadata": {},
   "outputs": [
    {
     "data": {
      "text/plain": [
       "array([{'Timestamp': '2024-07-09T01:47:59+09:00', 'Label': '챌린지', 'Action': '챌린지둘러보기', 'Value': 150.0, 'contributionMargin': None, 'datetime': None, 'listID': None, 'originalContributionMargin': None, 'place': None, 'rate': None, 'scheduleID': None, 'score': None, 'type': None, 'sharedChannel': None, 'achievementID': None, 'tester': 'true', 'campaignName': None, 'campaignType': None, 'commission': None, 'gettableCash': None, '_field_21': None, 'incentive_product_name': None, 'products_struct_alias': array([], dtype=object)}],\n",
       "      dtype=object)"
      ]
     },
     "execution_count": 35,
     "metadata": {},
     "output_type": "execute_result"
    }
   ],
   "source": [
    "df['e'].iloc[0][0]['d']"
   ]
  },
  {
   "cell_type": "code",
   "execution_count": 37,
   "metadata": {},
   "outputs": [
    {
     "data": {
      "text/html": [
       "<div>\n",
       "<style scoped>\n",
       "    .dataframe tbody tr th:only-of-type {\n",
       "        vertical-align: middle;\n",
       "    }\n",
       "\n",
       "    .dataframe tbody tr th {\n",
       "        vertical-align: top;\n",
       "    }\n",
       "\n",
       "    .dataframe thead th {\n",
       "        text-align: right;\n",
       "    }\n",
       "</style>\n",
       "<table border=\"1\" class=\"dataframe\">\n",
       "  <thead>\n",
       "    <tr style=\"text-align: right;\">\n",
       "      <th></th>\n",
       "      <th>Event_Date</th>\n",
       "      <th>Airbridge_Device_ID</th>\n",
       "      <th>Airbridge_Device_ID_Type</th>\n",
       "      <th>i</th>\n",
       "      <th>Event_Category</th>\n",
       "      <th>Event_Value_Total</th>\n",
       "      <th>Event_Count_Total</th>\n",
       "      <th>e</th>\n",
       "    </tr>\n",
       "  </thead>\n",
       "  <tbody>\n",
       "    <tr>\n",
       "      <th>0</th>\n",
       "      <td>2024-07-09</td>\n",
       "      <td>5e460020-fc23-44f6-8100-e8d4a00390c1</td>\n",
       "      <td>GAID</td>\n",
       "      <td>{'Device_Model': 'SM-A156L', 'Device_Type': 'm...</td>\n",
       "      <td>view_get__reward_done (App)</td>\n",
       "      <td>150.0</td>\n",
       "      <td>1</td>\n",
       "      <td>[{'Label': '챌린지', 'Action': '챌린지둘러보기', 'Event_...</td>\n",
       "    </tr>\n",
       "    <tr>\n",
       "      <th>1</th>\n",
       "      <td>2024-07-09</td>\n",
       "      <td>12405fb3-fcc6-488b-a62f-20f74e703902</td>\n",
       "      <td>GAID</td>\n",
       "      <td>{'Device_Model': 'SM-S908N', 'Device_Type': 'm...</td>\n",
       "      <td>view_get__reward_done (App)</td>\n",
       "      <td>-22.0</td>\n",
       "      <td>2</td>\n",
       "      <td>[{'Label': '오퍼월', 'Action': '애드팝콘', 'Event_Val...</td>\n",
       "    </tr>\n",
       "    <tr>\n",
       "      <th>2</th>\n",
       "      <td>2024-07-09</td>\n",
       "      <td>d3200538-8e0a-4d2b-88f2-3025586236fa</td>\n",
       "      <td>GAID</td>\n",
       "      <td>{'Device_Model': 'null', 'Device_Type': 'mobil...</td>\n",
       "      <td>view_get__reward_done (App)</td>\n",
       "      <td>1.0</td>\n",
       "      <td>1</td>\n",
       "      <td>[{'Label': '오퍼월', 'Action': '애드팝콘', 'Event_Val...</td>\n",
       "    </tr>\n",
       "    <tr>\n",
       "      <th>3</th>\n",
       "      <td>2024-07-09</td>\n",
       "      <td>e450347f-c22d-405c-be68-ba110a639532</td>\n",
       "      <td>GAID</td>\n",
       "      <td>{'Device_Model': 'SM-N976N', 'Device_Type': 'm...</td>\n",
       "      <td>view_get__reward_done (App)</td>\n",
       "      <td>18.0</td>\n",
       "      <td>2</td>\n",
       "      <td>[{'Label': '오퍼월', 'Action': '애드팝콘', 'Event_Val...</td>\n",
       "    </tr>\n",
       "    <tr>\n",
       "      <th>4</th>\n",
       "      <td>2024-07-09</td>\n",
       "      <td>bf24a645-a71b-409b-a424-5842252a3041</td>\n",
       "      <td>GAID</td>\n",
       "      <td>{'Device_Model': 'null', 'Device_Type': 'mobil...</td>\n",
       "      <td>view_get__reward_done (App)</td>\n",
       "      <td>1.0</td>\n",
       "      <td>1</td>\n",
       "      <td>[{'Label': '오퍼월', 'Action': '애드팝콘', 'Event_Val...</td>\n",
       "    </tr>\n",
       "    <tr>\n",
       "      <th>...</th>\n",
       "      <td>...</td>\n",
       "      <td>...</td>\n",
       "      <td>...</td>\n",
       "      <td>...</td>\n",
       "      <td>...</td>\n",
       "      <td>...</td>\n",
       "      <td>...</td>\n",
       "      <td>...</td>\n",
       "    </tr>\n",
       "    <tr>\n",
       "      <th>8331</th>\n",
       "      <td>2024-07-09</td>\n",
       "      <td>8721a665-8c01-4996-a59d-358688941953</td>\n",
       "      <td>GAID</td>\n",
       "      <td>{'Device_Model': 'SM-A516N', 'Device_Type': 'm...</td>\n",
       "      <td>view_get__reward_done (App)</td>\n",
       "      <td>4.0</td>\n",
       "      <td>2</td>\n",
       "      <td>[{'Label': '박터뜨리기', 'Action': '박터뜨리기', 'Event_...</td>\n",
       "    </tr>\n",
       "    <tr>\n",
       "      <th>8332</th>\n",
       "      <td>2024-07-09</td>\n",
       "      <td>f02ff5cc-6020-40cc-a20e-f2f5b99c3c37</td>\n",
       "      <td>GAID</td>\n",
       "      <td>{'Device_Model': 'SM-A716S', 'Device_Type': 'm...</td>\n",
       "      <td>view_get__reward_done (App)</td>\n",
       "      <td>20.0</td>\n",
       "      <td>1</td>\n",
       "      <td>[{'Label': '보너스봉투_메인', 'Action': '보너스봉투', 'Eve...</td>\n",
       "    </tr>\n",
       "    <tr>\n",
       "      <th>8333</th>\n",
       "      <td>2024-07-09</td>\n",
       "      <td>02295a8b-4bce-4554-8eea-f7da23c51755</td>\n",
       "      <td>GAID</td>\n",
       "      <td>{'Device_Model': 'SM-A326K', 'Device_Type': 'm...</td>\n",
       "      <td>view_get__reward_done (App)</td>\n",
       "      <td>18.0</td>\n",
       "      <td>1</td>\n",
       "      <td>[{'Label': '보너스봉투_메인', 'Action': '보너스봉투', 'Eve...</td>\n",
       "    </tr>\n",
       "    <tr>\n",
       "      <th>8334</th>\n",
       "      <td>2024-07-09</td>\n",
       "      <td>fa139c31-ed99-45c1-ad38-81b957b14237</td>\n",
       "      <td>GAID</td>\n",
       "      <td>{'Device_Model': 'null', 'Device_Type': 'mobil...</td>\n",
       "      <td>view_get__reward_done (App)</td>\n",
       "      <td>1.0</td>\n",
       "      <td>1</td>\n",
       "      <td>[{'Label': '오퍼월', 'Action': '애드팝콘', 'Event_Val...</td>\n",
       "    </tr>\n",
       "    <tr>\n",
       "      <th>8335</th>\n",
       "      <td>2024-07-09</td>\n",
       "      <td>6b5ea372-7a6e-47ea-8cdb-eaaa5d6e9c70</td>\n",
       "      <td>GAID</td>\n",
       "      <td>{'Device_Model': 'null', 'Device_Type': 'mobil...</td>\n",
       "      <td>view_get__reward_done (App)</td>\n",
       "      <td>1.0</td>\n",
       "      <td>1</td>\n",
       "      <td>[{'Label': '오퍼월', 'Action': '애드팝콘', 'Event_Val...</td>\n",
       "    </tr>\n",
       "  </tbody>\n",
       "</table>\n",
       "<p>8336 rows × 8 columns</p>\n",
       "</div>"
      ],
      "text/plain": [
       "      Event_Date                   Airbridge_Device_ID  \\\n",
       "0     2024-07-09  5e460020-fc23-44f6-8100-e8d4a00390c1   \n",
       "1     2024-07-09  12405fb3-fcc6-488b-a62f-20f74e703902   \n",
       "2     2024-07-09  d3200538-8e0a-4d2b-88f2-3025586236fa   \n",
       "3     2024-07-09  e450347f-c22d-405c-be68-ba110a639532   \n",
       "4     2024-07-09  bf24a645-a71b-409b-a424-5842252a3041   \n",
       "...          ...                                   ...   \n",
       "8331  2024-07-09  8721a665-8c01-4996-a59d-358688941953   \n",
       "8332  2024-07-09  f02ff5cc-6020-40cc-a20e-f2f5b99c3c37   \n",
       "8333  2024-07-09  02295a8b-4bce-4554-8eea-f7da23c51755   \n",
       "8334  2024-07-09  fa139c31-ed99-45c1-ad38-81b957b14237   \n",
       "8335  2024-07-09  6b5ea372-7a6e-47ea-8cdb-eaaa5d6e9c70   \n",
       "\n",
       "     Airbridge_Device_ID_Type  \\\n",
       "0                        GAID   \n",
       "1                        GAID   \n",
       "2                        GAID   \n",
       "3                        GAID   \n",
       "4                        GAID   \n",
       "...                       ...   \n",
       "8331                     GAID   \n",
       "8332                     GAID   \n",
       "8333                     GAID   \n",
       "8334                     GAID   \n",
       "8335                     GAID   \n",
       "\n",
       "                                                      i  \\\n",
       "0     {'Device_Model': 'SM-A156L', 'Device_Type': 'm...   \n",
       "1     {'Device_Model': 'SM-S908N', 'Device_Type': 'm...   \n",
       "2     {'Device_Model': 'null', 'Device_Type': 'mobil...   \n",
       "3     {'Device_Model': 'SM-N976N', 'Device_Type': 'm...   \n",
       "4     {'Device_Model': 'null', 'Device_Type': 'mobil...   \n",
       "...                                                 ...   \n",
       "8331  {'Device_Model': 'SM-A516N', 'Device_Type': 'm...   \n",
       "8332  {'Device_Model': 'SM-A716S', 'Device_Type': 'm...   \n",
       "8333  {'Device_Model': 'SM-A326K', 'Device_Type': 'm...   \n",
       "8334  {'Device_Model': 'null', 'Device_Type': 'mobil...   \n",
       "8335  {'Device_Model': 'null', 'Device_Type': 'mobil...   \n",
       "\n",
       "                   Event_Category  Event_Value_Total  Event_Count_Total  \\\n",
       "0     view_get__reward_done (App)              150.0                  1   \n",
       "1     view_get__reward_done (App)              -22.0                  2   \n",
       "2     view_get__reward_done (App)                1.0                  1   \n",
       "3     view_get__reward_done (App)               18.0                  2   \n",
       "4     view_get__reward_done (App)                1.0                  1   \n",
       "...                           ...                ...                ...   \n",
       "8331  view_get__reward_done (App)                4.0                  2   \n",
       "8332  view_get__reward_done (App)               20.0                  1   \n",
       "8333  view_get__reward_done (App)               18.0                  1   \n",
       "8334  view_get__reward_done (App)                1.0                  1   \n",
       "8335  view_get__reward_done (App)                1.0                  1   \n",
       "\n",
       "                                                      e  \n",
       "0     [{'Label': '챌린지', 'Action': '챌린지둘러보기', 'Event_...  \n",
       "1     [{'Label': '오퍼월', 'Action': '애드팝콘', 'Event_Val...  \n",
       "2     [{'Label': '오퍼월', 'Action': '애드팝콘', 'Event_Val...  \n",
       "3     [{'Label': '오퍼월', 'Action': '애드팝콘', 'Event_Val...  \n",
       "4     [{'Label': '오퍼월', 'Action': '애드팝콘', 'Event_Val...  \n",
       "...                                                 ...  \n",
       "8331  [{'Label': '박터뜨리기', 'Action': '박터뜨리기', 'Event_...  \n",
       "8332  [{'Label': '보너스봉투_메인', 'Action': '보너스봉투', 'Eve...  \n",
       "8333  [{'Label': '보너스봉투_메인', 'Action': '보너스봉투', 'Eve...  \n",
       "8334  [{'Label': '오퍼월', 'Action': '애드팝콘', 'Event_Val...  \n",
       "8335  [{'Label': '오퍼월', 'Action': '애드팝콘', 'Event_Val...  \n",
       "\n",
       "[8336 rows x 8 columns]"
      ]
     },
     "execution_count": 37,
     "metadata": {},
     "output_type": "execute_result"
    }
   ],
   "source": [
    "df"
   ]
  },
  {
   "cell_type": "code",
   "execution_count": 22,
   "metadata": {},
   "outputs": [
    {
     "data": {
      "text/plain": [
       "{'Event_Date': SchemaField('Event_Date', 'DATE', 'NULLABLE', None, (), None),\n",
       " 'Airbridge_Device_ID': SchemaField('Airbridge_Device_ID', 'STRING', 'NULLABLE', None, (), None),\n",
       " 'Airbridge_Device_ID_Type': SchemaField('Airbridge_Device_ID_Type', 'STRING', 'NULLABLE', None, (), None),\n",
       " 'i': SchemaField('i', 'RECORD', 'NULLABLE', None, (SchemaField('Device_Model', 'STRING', 'NULLABLE', None, (), None), SchemaField('Device_Type', 'STRING', 'NULLABLE', None, (), None), SchemaField('Platform', 'STRING', 'NULLABLE', None, (), None), SchemaField('Client_IP_Country_Code', 'STRING', 'NULLABLE', None, (), None), SchemaField('Client_IP_Subdivision', 'STRING', 'NULLABLE', None, (), None), SchemaField('Client_IP_City', 'STRING', 'NULLABLE', None, (), None), SchemaField('Campaign_ID', 'STRING', 'NULLABLE', None, (), None), SchemaField('Ad_Group_ID', 'STRING', 'NULLABLE', None, (), None), SchemaField('Ad_Creative_ID', 'STRING', 'NULLABLE', None, (), None), SchemaField('Term_ID', 'STRING', 'NULLABLE', None, (), None), SchemaField('Is_Re_engagement', 'BOOLEAN', 'NULLABLE', None, (), None), SchemaField('Is_First_Event_per_User_ID', 'BOOLEAN', 'NULLABLE', None, (), None), SchemaField('Is_First_Event_per_Device_ID', 'BOOLEAN', 'NULLABLE', None, (), None), SchemaField('Is_First_Target_Event_per_Device', 'BOOLEAN', 'NULLABLE', None, (), None), SchemaField('Target_Event_Timestamp', 'NUMERIC', 'NULLABLE', None, (), None), SchemaField('Target_Event_Category', 'STRING', 'NULLABLE', None, (), None)), None),\n",
       " 'Event_Category': SchemaField('Event_Category', 'STRING', 'NULLABLE', None, (), None),\n",
       " 'Event_Value_Total': SchemaField('Event_Value_Total', 'FLOAT', 'NULLABLE', None, (), None),\n",
       " 'Event_Count_Total': SchemaField('Event_Count_Total', 'INTEGER', 'NULLABLE', None, (), None),\n",
       " 'e': SchemaField('e', 'RECORD', 'REPEATED', None, (SchemaField('Label', 'STRING', 'NULLABLE', None, (), None), SchemaField('Action', 'STRING', 'NULLABLE', None, (), None), SchemaField('Event_Value_Sum', 'FLOAT', 'NULLABLE', None, (), None), SchemaField('Event_Count', 'INTEGER', 'NULLABLE', None, (), None), SchemaField('u', 'RECORD', 'REPEATED', None, (SchemaField('User_ID', 'STRING', 'NULLABLE', None, (), None),), None), SchemaField('d', 'RECORD', 'REPEATED', None, (SchemaField('Timestamp', 'STRING', 'NULLABLE', None, (), None), SchemaField('Label', 'STRING', 'NULLABLE', None, (), None), SchemaField('Action', 'STRING', 'NULLABLE', None, (), None), SchemaField('Value', 'FLOAT', 'NULLABLE', None, (), None), SchemaField('tester', 'STRING', 'NULLABLE', None, (), None), SchemaField('products_struct_alias', 'RECORD', 'REPEATED', None, (SchemaField('name', 'STRING', 'NULLABLE', None, (), None), SchemaField('price', 'STRING', 'NULLABLE', None, (), None), SchemaField('position', 'STRING', 'NULLABLE', None, (), None)), None)), None)), None)}"
      ]
     },
     "execution_count": 22,
     "metadata": {},
     "output_type": "execute_result"
    }
   ],
   "source": [
    "current_schema"
   ]
  },
  {
   "cell_type": "code",
   "execution_count": 23,
   "metadata": {},
   "outputs": [
    {
     "data": {
      "text/plain": [
       "{'Airbridge_Device_ID',\n",
       " 'Airbridge_Device_ID_Type',\n",
       " 'Event_Category',\n",
       " 'Event_Count_Total',\n",
       " 'Event_Date',\n",
       " 'Event_Value_Total',\n",
       " 'e',\n",
       " 'i'}"
      ]
     },
     "execution_count": 23,
     "metadata": {},
     "output_type": "execute_result"
    }
   ],
   "source": [
    "# 새 데이터의 스키마 추론 및 기존 스키마 비교 및 업데이트\n",
    "new_columns = infer_schema_from_dataframe(df)\n",
    "current_schema = get_current_schema(table_ref)\n",
    "missing_columns = {col: dtype for col, dtype in new_columns.items() if col not in current_schema}\n",
    "\n",
    "if missing_columns:\n",
    "    update_table_schema(table_ref, missing_columns)\n",
    "\n",
    "# 데이터 업로드\n",
    "load_data_to_bigquery(df, table_ref)"
   ]
  },
  {
   "cell_type": "code",
   "execution_count": null,
   "metadata": {},
   "outputs": [],
   "source": [
    "if missing_columns:\n",
    "    update_table_schema(table_ref, missing_columns)"
   ]
  },
  {
   "cell_type": "code",
   "execution_count": 45,
   "metadata": {},
   "outputs": [
    {
     "data": {
      "text/plain": [
       "{'Event_Date': 'STRING',\n",
       " 'Airbridge_Device_ID': 'STRING',\n",
       " 'Airbridge_Device_ID_Type': 'STRING',\n",
       " 'i': {'Device_Model': 'STRING',\n",
       "  'Device_Type': 'STRING',\n",
       "  'Platform': 'STRING',\n",
       "  'Client_IP_Country_Code': 'STRING',\n",
       "  'Client_IP_Subdivision': 'STRING',\n",
       "  'Client_IP_City': 'STRING',\n",
       "  'Campaign_ID': 'STRING',\n",
       "  'Ad_Group_ID': 'STRING',\n",
       "  'Ad_Creative_ID': 'STRING',\n",
       "  'Term_ID': 'STRING',\n",
       "  'Is_Re_engagement': 'STRING',\n",
       "  'Is_First_Event_per_User_ID': 'BOOLEAN',\n",
       "  'Is_First_Event_per_Device_ID': 'BOOLEAN',\n",
       "  'Is_First_Target_Event_per_Device': 'BOOLEAN',\n",
       "  'Target_Event_Timestamp': 'STRING',\n",
       "  'Target_Event_Category': 'STRING'},\n",
       " 'Event_Category': 'STRING',\n",
       " 'Event_Value_Total': 'FLOAT',\n",
       " 'Event_Count_Total': 'INTEGER',\n",
       " 'e': 'STRING'}"
      ]
     },
     "execution_count": 45,
     "metadata": {},
     "output_type": "execute_result"
    }
   ],
   "source": [
    "\n",
    "# # 예제 데이터프레임 (매일 추가되는 데이터)\n",
    "# new_data = {\n",
    "#     \"Event_Date\": [\"2024-07-10\"],\n",
    "#     \"Airbridge_Device_ID\": [\"abcd1234\"],\n",
    "#     \"Airbridge_Device_ID_Type\": [\"type1\"],\n",
    "#     \"i\": [{\"Device_Model\": \"model1\", \"Device_Type\": \"type1\"}],\n",
    "#     \"Event_Category\": [\"category1\"],\n",
    "#     \"Event_Value_Total\": [123.45],\n",
    "#     \"Event_Count_Total\": [1],\n",
    "#     \"e\": [[{\n",
    "#         \"Label\": \"label1\", \n",
    "#         \"Action\": \"action1\", \n",
    "#         \"Event_Value_Sum\": 12.34, \n",
    "#         \"Event_Count\": 1,\n",
    "#         \"u\": [{\"User_ID\": \"user1\"}],\n",
    "#         \"d\": [{\"Timestamp\": \"2024-07-09T01:47:59+09:00\", \"Label\": \"챌린지\", \"Action\": \"챌린지둘러보기\", \"Value\": 150.0, \"contributionMargin\": None, \"datetime\": None, \"listID\": None, \"originalContributionMargin\": None, \"place\": None, \"rate\": None, \"scheduleID\": None, \"score\": None, \"type\": None, \"sharedChannel\": None, \"achievementID\": None, \"tester\": 'true', 'campaignName': None, 'campaignType': None, 'commission': None, 'gettableCash': None, '_field_21': None, 'incentive_product_name': None, 'products_struct_alias': []}]\n",
    "#     }]]\n",
    "# }\n",
    "# df = pd.DataFrame(new_data)\n",
    "\n",
    "def infer_schema_from_dataframe(df):\n",
    "    \"\"\"데이터프레임에서 스키마 추론.\"\"\"\n",
    "    def infer_field_type(value):\n",
    "        if isinstance(value, dict):\n",
    "            subfields = {k: infer_field_type(v) for k, v in value.items()}\n",
    "            return subfields\n",
    "        elif isinstance(value, list) and len(value) > 0 and isinstance(value[0], dict):\n",
    "            subfields = {k: infer_field_type(v) for k, v in value[0].items()}\n",
    "            return {\"type\": \"RECORD\", \"mode\": \"REPEATED\", \"fields\": subfields}\n",
    "        elif pd.api.types.is_integer_dtype(type(value)):\n",
    "            return \"INTEGER\"\n",
    "        elif pd.api.types.is_float_dtype(type(value)):\n",
    "            return \"FLOAT\"\n",
    "        elif pd.api.types.is_bool_dtype(type(value)):\n",
    "            return \"BOOLEAN\"\n",
    "        else:\n",
    "            return \"STRING\"\n",
    "    \n",
    "    schema = {col: infer_field_type(df[col].iloc[0]) for col in df.columns}\n",
    "    return schema\n",
    "\n",
    "new_columns = infer_schema_from_dataframe(df)\n",
    "current_schema = get_current_schema(table_ref)\n",
    "\n",
    "new_columns"
   ]
  },
  {
   "cell_type": "code",
   "execution_count": 52,
   "metadata": {},
   "outputs": [
    {
     "data": {
      "text/plain": [
       "array([{'Label': '챌린지', 'Action': '챌린지둘러보기', 'Event_Value_Sum': 150.0, 'Event_Count': 1, 'u': array([{'User_ID': '7b1acc51-3759-4ace-8f7b-fb6312e9d889'}], dtype=object), 'd': array([{'Timestamp': '2024-07-09T01:47:59+09:00', 'Label': '챌린지', 'Action': '챌린지둘러보기', 'Value': 150.0, 'tester': 'true', 'campaignName': None, 'campaignType': None, 'commission': None, 'gettableCash': None, '_field_10': None, 'incentive_product_name': None, 'contributionMargin': None, 'datetime': None, 'listID': None, 'originalContributionMargin': None, 'place': None, 'rate': None, 'scheduleID': None, 'score': None, 'type': None, 'sharedChannel': None, 'achievementID': None, 'products_struct_alias': array([], dtype=object)}],\n",
       "             dtype=object)}                                                                                                                                                                                                                                                                                                                                                                                                                                                                                                                                                                                                                                                                                                       ],\n",
       "      dtype=object)"
      ]
     },
     "execution_count": 52,
     "metadata": {},
     "output_type": "execute_result"
    }
   ],
   "source": [
    "df.head()['e'][0]"
   ]
  },
  {
   "cell_type": "code",
   "execution_count": 104,
   "metadata": {},
   "outputs": [
    {
     "data": {
      "text/plain": [
       "array([], dtype=object)"
      ]
     },
     "execution_count": 104,
     "metadata": {},
     "output_type": "execute_result"
    }
   ],
   "source": [
    "df['e'][0][0].keys()\n",
    "df['e'][0][0]['d'][0].keys()\n",
    "df['e'][1002][0]['d'][0]['products_struct_alias']"
   ]
  },
  {
   "cell_type": "markdown",
   "metadata": {},
   "source": [
    "스키마 추론"
   ]
  },
  {
   "cell_type": "code",
   "execution_count": 79,
   "metadata": {},
   "outputs": [],
   "source": [
    "def infer_schema_from_dataframe(df):\n",
    "    \"\"\"데이터프레임에서 스키마 추론.\"\"\"\n",
    "    def infer_field_type(value):\n",
    "        if isinstance(value, dict):\n",
    "            subfields = {k: infer_field_type(v) for k, v in value.items()}\n",
    "            return {\"type\": \"RECORD\", \"fields\": subfields}\n",
    "        elif isinstance(value, (np.ndarray, list)) and len(value) > 0 and isinstance(value[0], dict):\n",
    "            subfields = {k: infer_field_type(v) for k, v in value[0].items()}\n",
    "            return {\"type\": \"RECORD\", \"mode\": \"REPEATED\", \"fields\": subfields}\n",
    "        elif isinstance(value, (np.ndarray, list)):\n",
    "            return {\"type\": \"STRING\", \"mode\": \"REPEATED\"}\n",
    "        elif pd.api.types.is_integer_dtype(type(value)):\n",
    "            return \"INTEGER\"\n",
    "        elif pd.api.types.is_float_dtype(type(value)):\n",
    "            return \"FLOAT\"\n",
    "        elif pd.api.types.is_bool_dtype(type(value)):\n",
    "            return \"BOOLEAN\"\n",
    "        elif pd.api.types.is_datetime64_any_dtype(type(value)):\n",
    "            return \"TIMESTAMP\"\n",
    "        else:\n",
    "            return \"STRING\"\n",
    "    \n",
    "    schema = {col: infer_field_type(df[col].iloc[0]) for col in df.columns}\n",
    "    return schema"
   ]
  },
  {
   "cell_type": "code",
   "execution_count": 80,
   "metadata": {},
   "outputs": [
    {
     "data": {
      "text/plain": [
       "Index(['Event_Date', 'Airbridge_Device_ID', 'Airbridge_Device_ID_Type', 'i',\n",
       "       'Event_Category', 'Event_Value_Total', 'Event_Count_Total', 'e'],\n",
       "      dtype='object')"
      ]
     },
     "execution_count": 80,
     "metadata": {},
     "output_type": "execute_result"
    }
   ],
   "source": [
    "df.columns"
   ]
  },
  {
   "cell_type": "code",
   "execution_count": 81,
   "metadata": {},
   "outputs": [
    {
     "data": {
      "text/plain": [
       "{'Event_Date': 'STRING',\n",
       " 'Airbridge_Device_ID': 'STRING',\n",
       " 'Airbridge_Device_ID_Type': 'STRING',\n",
       " 'i': {'type': 'RECORD',\n",
       "  'fields': {'Device_Model': 'STRING',\n",
       "   'Device_Type': 'STRING',\n",
       "   'Platform': 'STRING',\n",
       "   'Client_IP_Country_Code': 'STRING',\n",
       "   'Client_IP_Subdivision': 'STRING',\n",
       "   'Client_IP_City': 'STRING',\n",
       "   'Campaign_ID': 'STRING',\n",
       "   'Ad_Group_ID': 'STRING',\n",
       "   'Ad_Creative_ID': 'STRING',\n",
       "   'Term_ID': 'STRING',\n",
       "   'Is_Re_engagement': 'STRING',\n",
       "   'Is_First_Event_per_User_ID': 'BOOLEAN',\n",
       "   'Is_First_Event_per_Device_ID': 'BOOLEAN',\n",
       "   'Is_First_Target_Event_per_Device': 'BOOLEAN',\n",
       "   'Target_Event_Timestamp': 'STRING',\n",
       "   'Target_Event_Category': 'STRING'}},\n",
       " 'Event_Category': 'STRING',\n",
       " 'Event_Value_Total': 'FLOAT',\n",
       " 'Event_Count_Total': 'INTEGER',\n",
       " 'e': {'type': 'RECORD',\n",
       "  'mode': 'REPEATED',\n",
       "  'fields': {'Label': 'STRING',\n",
       "   'Action': 'STRING',\n",
       "   'Event_Value_Sum': 'FLOAT',\n",
       "   'Event_Count': 'INTEGER',\n",
       "   'u': {'type': 'RECORD',\n",
       "    'mode': 'REPEATED',\n",
       "    'fields': {'User_ID': 'STRING'}},\n",
       "   'd': {'type': 'RECORD',\n",
       "    'mode': 'REPEATED',\n",
       "    'fields': {'Timestamp': 'STRING',\n",
       "     'Label': 'STRING',\n",
       "     'Action': 'STRING',\n",
       "     'Value': 'FLOAT',\n",
       "     'tester': 'STRING',\n",
       "     'campaignName': 'STRING',\n",
       "     'campaignType': 'STRING',\n",
       "     'commission': 'STRING',\n",
       "     'gettableCash': 'STRING',\n",
       "     '_field_10': 'STRING',\n",
       "     'incentive_product_name': 'STRING',\n",
       "     'contributionMargin': 'STRING',\n",
       "     'datetime': 'STRING',\n",
       "     'listID': 'STRING',\n",
       "     'originalContributionMargin': 'STRING',\n",
       "     'place': 'STRING',\n",
       "     'rate': 'STRING',\n",
       "     'scheduleID': 'STRING',\n",
       "     'score': 'STRING',\n",
       "     'type': 'STRING',\n",
       "     'sharedChannel': 'STRING',\n",
       "     'achievementID': 'STRING',\n",
       "     'products_struct_alias': {'type': 'STRING', 'mode': 'REPEATED'}}}}}}"
      ]
     },
     "execution_count": 81,
     "metadata": {},
     "output_type": "execute_result"
    }
   ],
   "source": [
    "infer_schema_from_dataframe(df)"
   ]
  },
  {
   "cell_type": "code",
   "execution_count": 107,
   "metadata": {},
   "outputs": [
    {
     "data": {
      "text/plain": [
       "{'Event_Date': SchemaField('Event_Date', 'DATE', 'NULLABLE', None, (), None),\n",
       " 'Airbridge_Device_ID': SchemaField('Airbridge_Device_ID', 'STRING', 'NULLABLE', None, (), None),\n",
       " 'Airbridge_Device_ID_Type': SchemaField('Airbridge_Device_ID_Type', 'STRING', 'NULLABLE', None, (), None),\n",
       " 'i': SchemaField('i', 'RECORD', 'NULLABLE', None, (SchemaField('Device_Model', 'STRING', 'NULLABLE', None, (), None), SchemaField('Device_Type', 'STRING', 'NULLABLE', None, (), None), SchemaField('Platform', 'STRING', 'NULLABLE', None, (), None), SchemaField('Client_IP_Country_Code', 'STRING', 'NULLABLE', None, (), None), SchemaField('Client_IP_Subdivision', 'STRING', 'NULLABLE', None, (), None), SchemaField('Client_IP_City', 'STRING', 'NULLABLE', None, (), None), SchemaField('Campaign_ID', 'STRING', 'NULLABLE', None, (), None), SchemaField('Ad_Group_ID', 'STRING', 'NULLABLE', None, (), None), SchemaField('Ad_Creative_ID', 'STRING', 'NULLABLE', None, (), None), SchemaField('Term_ID', 'STRING', 'NULLABLE', None, (), None), SchemaField('Is_Re_engagement', 'BOOLEAN', 'NULLABLE', None, (), None), SchemaField('Is_First_Event_per_User_ID', 'BOOLEAN', 'NULLABLE', None, (), None), SchemaField('Is_First_Event_per_Device_ID', 'BOOLEAN', 'NULLABLE', None, (), None), SchemaField('Is_First_Target_Event_per_Device', 'BOOLEAN', 'NULLABLE', None, (), None), SchemaField('Target_Event_Timestamp', 'NUMERIC', 'NULLABLE', None, (), None), SchemaField('Target_Event_Category', 'STRING', 'NULLABLE', None, (), None)), None),\n",
       " 'Event_Category': SchemaField('Event_Category', 'STRING', 'NULLABLE', None, (), None),\n",
       " 'Event_Value_Total': SchemaField('Event_Value_Total', 'FLOAT', 'NULLABLE', None, (), None),\n",
       " 'Event_Count_Total': SchemaField('Event_Count_Total', 'INTEGER', 'NULLABLE', None, (), None),\n",
       " 'e': SchemaField('e', 'RECORD', 'REPEATED', None, (SchemaField('Label', 'STRING', 'NULLABLE', None, (), None), SchemaField('Action', 'STRING', 'NULLABLE', None, (), None), SchemaField('Event_Value_Sum', 'FLOAT', 'NULLABLE', None, (), None), SchemaField('Event_Count', 'INTEGER', 'NULLABLE', None, (), None), SchemaField('u', 'RECORD', 'REPEATED', None, (SchemaField('User_ID', 'STRING', 'NULLABLE', None, (), None),), None), SchemaField('d', 'RECORD', 'REPEATED', None, (SchemaField('Timestamp', 'STRING', 'NULLABLE', None, (), None), SchemaField('Label', 'STRING', 'NULLABLE', None, (), None), SchemaField('Action', 'STRING', 'NULLABLE', None, (), None), SchemaField('Value', 'FLOAT', 'NULLABLE', None, (), None), SchemaField('tester', 'STRING', 'NULLABLE', None, (), None), SchemaField('products_struct_alias', 'RECORD', 'REPEATED', None, (SchemaField('name', 'STRING', 'NULLABLE', None, (), None), SchemaField('price', 'STRING', 'NULLABLE', None, (), None), SchemaField('position', 'STRING', 'NULLABLE', None, (), None)), None)), None)), None)}"
      ]
     },
     "execution_count": 107,
     "metadata": {},
     "output_type": "execute_result"
    }
   ],
   "source": [
    "current_schema"
   ]
  },
  {
   "cell_type": "code",
   "execution_count": null,
   "metadata": {},
   "outputs": [],
   "source": [
    "def infer_field_type(value):\n",
    "    if isinstance(value, dict):\n",
    "        subfields = {k: infer_field_type(v) for k, v in value.items()}\n",
    "        return {\"type\": \"RECORD\", \"fields\": subfields}\n",
    "    elif isinstance(value, (np.ndarray, list)) and len(value) > 0 and isinstance(value[0], dict):\n",
    "        subfields = {k: infer_field_type(v) for k, v in value[0].items()}\n",
    "        return {\"type\": \"RECORD\", \"mode\": \"REPEATED\", \"fields\": subfields}\n",
    "    elif isinstance(value, (np.ndarray, list)):\n",
    "        return {\"type\": \"STRING\", \"mode\": \"REPEATED\"}\n",
    "    elif pd.api.types.is_integer_dtype(type(value)):\n",
    "        return \"INTEGER\"\n",
    "    elif pd.api.types.is_float_dtype(type(value)):\n",
    "        return \"FLOAT\"\n",
    "    elif pd.api.types.is_bool_dtype(type(value)):\n",
    "        return \"BOOLEAN\"\n",
    "    elif pd.api.types.is_datetime64_any_dtype(type(value)):\n",
    "        return \"TIMESTAMP\"\n",
    "    else:\n",
    "        return \"STRING\"\n",
    "\n",
    "def merge_schemas(schema1, schema2):\n",
    "    if schema1[\"type\"] != schema2[\"type\"]:\n",
    "        return \"STRING\"\n",
    "    if schema1[\"type\"] == \"RECORD\":\n",
    "        merged_fields = schema1[\"fields\"]\n",
    "        for k, v in schema2[\"fields\"].items():\n",
    "            if k in merged_fields:\n",
    "                merged_fields[k] = merge_schemas(merged_fields[k], v)\n",
    "            else:\n",
    "                merged_fields[k] = v\n",
    "        return {\"type\": \"RECORD\", \"fields\": merged_fields}\n",
    "    return schema1\n",
    "\n",
    "def infer_schema_from_dataframe(df):\n",
    "    \"\"\"데이터프레임에서 스키마 추론.\"\"\"\n",
    "    schema = {}\n",
    "\n",
    "    for col in df.columns:\n",
    "        col_schema = None\n",
    "        for value in df[col]:\n",
    "            inferred_type = infer_field_type(value)\n",
    "            if col_schema is None:\n",
    "                col_schema = inferred_type\n",
    "            else:\n",
    "                col_schema = merge_schemas(col_schema, inferred_type)\n",
    "        schema[col] = col_schema\n",
    "\n",
    "    return schema"
   ]
  }
 ],
 "metadata": {
  "kernelspec": {
   "display_name": "pymc",
   "language": "python",
   "name": "python3"
  },
  "language_info": {
   "codemirror_mode": {
    "name": "ipython",
    "version": 3
   },
   "file_extension": ".py",
   "mimetype": "text/x-python",
   "name": "python",
   "nbconvert_exporter": "python",
   "pygments_lexer": "ipython3",
   "version": "3.9.18"
  }
 },
 "nbformat": 4,
 "nbformat_minor": 2
}
