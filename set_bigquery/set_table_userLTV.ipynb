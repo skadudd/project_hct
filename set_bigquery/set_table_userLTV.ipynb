{
 "cells": [
  {
   "cell_type": "code",
   "execution_count": 1,
   "metadata": {},
   "outputs": [],
   "source": [
    "from google.cloud import bigquery\n",
    "from google.cloud.bigquery import job\n",
    "from google.cloud.bigquery import SchemaField\n",
    "import pandas as pd\n",
    "import datetime as dt\n"
   ]
  },
  {
   "cell_type": "code",
   "execution_count": 3,
   "metadata": {},
   "outputs": [],
   "source": [
    "PROJECT = 'ballosodeuk'\n",
    "client = bigquery.Client(project=PROJECT)"
   ]
  },
  {
   "cell_type": "code",
   "execution_count": 38,
   "metadata": {},
   "outputs": [],
   "source": [
    "def estimate_query_cost(client, query):\n",
    "    job_config = bigquery.QueryJobConfig(\n",
    "        dry_run=True,\n",
    "        use_query_cache=False\n",
    "    )\n",
    "    query_job = client.query(query, job_config=job_config)\n",
    "    bytes_processed = query_job.total_bytes_processed\n",
    "    kb = round(bytes_processed / 1024, 2)\n",
    "    gb = round(bytes_processed / (1024 ** 3), 2)\n",
    "    print(\"예상 쿼리 용량: {} KB, ({} GB)\".format(kb, gb))"
   ]
  },
  {
   "cell_type": "code",
   "execution_count": 40,
   "metadata": {},
   "outputs": [],
   "source": [
    "def run_query(client, query):\n",
    "    job_config = bigquery.QueryJobConfig()\n",
    "    query_job = client.query(query, job_config=job_config)\n",
    "    return query_job"
   ]
  },
  {
   "cell_type": "code",
   "execution_count": 54,
   "metadata": {},
   "outputs": [
    {
     "name": "stdout",
     "output_type": "stream",
     "text": [
      "예상 쿼리 용량: 177.32 KB, (0.0 GB)\n"
     ]
    }
   ],
   "source": [
    "query_name = \"0718_유저LTV_생성\"\n",
    "file = f'../query/{query_name}.sql'\n",
    "with open(file, 'r') as file:\n",
    "    query = file.read()\n",
    "\n",
    "estimate_query_cost(client,query)"
   ]
  },
  {
   "cell_type": "code",
   "execution_count": 53,
   "metadata": {},
   "outputs": [
    {
     "data": {
      "text/html": [
       "<div>\n",
       "<style scoped>\n",
       "    .dataframe tbody tr th:only-of-type {\n",
       "        vertical-align: middle;\n",
       "    }\n",
       "\n",
       "    .dataframe tbody tr th {\n",
       "        vertical-align: top;\n",
       "    }\n",
       "\n",
       "    .dataframe thead th {\n",
       "        text-align: right;\n",
       "    }\n",
       "</style>\n",
       "<table border=\"1\" class=\"dataframe\">\n",
       "  <thead>\n",
       "    <tr style=\"text-align: right;\">\n",
       "      <th></th>\n",
       "      <th>subParam</th>\n",
       "      <th>gmv</th>\n",
       "      <th>commission</th>\n",
       "    </tr>\n",
       "  </thead>\n",
       "  <tbody>\n",
       "    <tr>\n",
       "      <th>0</th>\n",
       "      <td>1eced8e0-0d34-467a-b56b-3b64703bf371</td>\n",
       "      <td>21540.0</td>\n",
       "      <td>970.0</td>\n",
       "    </tr>\n",
       "    <tr>\n",
       "      <th>1</th>\n",
       "      <td>4a20e7e0-1429-4f58-bdb2-a549634e8d40</td>\n",
       "      <td>11590.0</td>\n",
       "      <td>523.0</td>\n",
       "    </tr>\n",
       "    <tr>\n",
       "      <th>2</th>\n",
       "      <td>b4d35085-865c-409d-afd7-107f2ff2cc19</td>\n",
       "      <td>55420.0</td>\n",
       "      <td>2495.0</td>\n",
       "    </tr>\n",
       "    <tr>\n",
       "      <th>3</th>\n",
       "      <td>b70d1ecc-2310-413b-aa0a-c6240368b9f6</td>\n",
       "      <td>0.0</td>\n",
       "      <td>0.0</td>\n",
       "    </tr>\n",
       "    <tr>\n",
       "      <th>4</th>\n",
       "      <td>bcfc7195-e991-4646-b2b7-20ecb66beba7</td>\n",
       "      <td>24960.0</td>\n",
       "      <td>1124.0</td>\n",
       "    </tr>\n",
       "    <tr>\n",
       "      <th>...</th>\n",
       "      <td>...</td>\n",
       "      <td>...</td>\n",
       "      <td>...</td>\n",
       "    </tr>\n",
       "    <tr>\n",
       "      <th>852</th>\n",
       "      <td>4a628023-253c-4b76-b820-bd027beaf603</td>\n",
       "      <td>49760.0</td>\n",
       "      <td>2240.0</td>\n",
       "    </tr>\n",
       "    <tr>\n",
       "      <th>853</th>\n",
       "      <td>82985081-dff3-4f56-8938-8d5490913185</td>\n",
       "      <td>25420.0</td>\n",
       "      <td>1144.0</td>\n",
       "    </tr>\n",
       "    <tr>\n",
       "      <th>854</th>\n",
       "      <td>acff2a95-0fa7-4a4a-979a-50df518c1c6a</td>\n",
       "      <td>110330.0</td>\n",
       "      <td>4967.0</td>\n",
       "    </tr>\n",
       "    <tr>\n",
       "      <th>855</th>\n",
       "      <td>b2e689e8-82c4-4f10-a587-590c2cb3841b</td>\n",
       "      <td>12960.0</td>\n",
       "      <td>584.0</td>\n",
       "    </tr>\n",
       "    <tr>\n",
       "      <th>856</th>\n",
       "      <td>ce0e2177-b344-47d1-b439-db45f83ceae3</td>\n",
       "      <td>18270.0</td>\n",
       "      <td>824.0</td>\n",
       "    </tr>\n",
       "  </tbody>\n",
       "</table>\n",
       "<p>857 rows × 3 columns</p>\n",
       "</div>"
      ],
      "text/plain": [
       "                                 subParam       gmv  commission\n",
       "0    1eced8e0-0d34-467a-b56b-3b64703bf371   21540.0       970.0\n",
       "1    4a20e7e0-1429-4f58-bdb2-a549634e8d40   11590.0       523.0\n",
       "2    b4d35085-865c-409d-afd7-107f2ff2cc19   55420.0      2495.0\n",
       "3    b70d1ecc-2310-413b-aa0a-c6240368b9f6       0.0         0.0\n",
       "4    bcfc7195-e991-4646-b2b7-20ecb66beba7   24960.0      1124.0\n",
       "..                                    ...       ...         ...\n",
       "852  4a628023-253c-4b76-b820-bd027beaf603   49760.0      2240.0\n",
       "853  82985081-dff3-4f56-8938-8d5490913185   25420.0      1144.0\n",
       "854  acff2a95-0fa7-4a4a-979a-50df518c1c6a  110330.0      4967.0\n",
       "855  b2e689e8-82c4-4f10-a587-590c2cb3841b   12960.0       584.0\n",
       "856  ce0e2177-b344-47d1-b439-db45f83ceae3   18270.0       824.0\n",
       "\n",
       "[857 rows x 3 columns]"
      ]
     },
     "execution_count": 53,
     "metadata": {},
     "output_type": "execute_result"
    }
   ],
   "source": [
    "\n",
    "df = run_query(client,query).to_dataframe()\n",
    "df"
   ]
  },
  {
   "cell_type": "code",
   "execution_count": 45,
   "metadata": {},
   "outputs": [
    {
     "data": {
      "text/html": [
       "<div>\n",
       "<style scoped>\n",
       "    .dataframe tbody tr th:only-of-type {\n",
       "        vertical-align: middle;\n",
       "    }\n",
       "\n",
       "    .dataframe tbody tr th {\n",
       "        vertical-align: top;\n",
       "    }\n",
       "\n",
       "    .dataframe thead th {\n",
       "        text-align: right;\n",
       "    }\n",
       "</style>\n",
       "<table border=\"1\" class=\"dataframe\">\n",
       "  <thead>\n",
       "    <tr style=\"text-align: right;\">\n",
       "      <th></th>\n",
       "      <th>subParam</th>\n",
       "      <th>gmv</th>\n",
       "      <th>commission</th>\n",
       "    </tr>\n",
       "  </thead>\n",
       "  <tbody>\n",
       "  </tbody>\n",
       "</table>\n",
       "</div>"
      ],
      "text/plain": [
       "Empty DataFrame\n",
       "Columns: [subParam, gmv, commission]\n",
       "Index: []"
      ]
     },
     "execution_count": 45,
     "metadata": {},
     "output_type": "execute_result"
    }
   ],
   "source": [
    "df.query(\"subParam.isna()\")"
   ]
  },
  {
   "cell_type": "code",
   "execution_count": 49,
   "metadata": {},
   "outputs": [
    {
     "data": {
      "text/plain": [
       "subParam                \n",
       "gmv           41030359.0\n",
       "commission     1209165.0\n",
       "Name: 857, dtype: object"
      ]
     },
     "execution_count": 49,
     "metadata": {},
     "output_type": "execute_result"
    }
   ],
   "source": [
    "df.loc[857]"
   ]
  }
 ],
 "metadata": {
  "kernelspec": {
   "display_name": "pymc",
   "language": "python",
   "name": "python3"
  },
  "language_info": {
   "codemirror_mode": {
    "name": "ipython",
    "version": 3
   },
   "file_extension": ".py",
   "mimetype": "text/x-python",
   "name": "python",
   "nbconvert_exporter": "python",
   "pygments_lexer": "ipython3",
   "version": "3.9.18"
  }
 },
 "nbformat": 4,
 "nbformat_minor": 2
}
