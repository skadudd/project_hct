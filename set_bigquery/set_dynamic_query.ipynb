{
 "cells": [
  {
   "cell_type": "code",
   "execution_count": 1,
   "metadata": {},
   "outputs": [],
   "source": [
    "from google.cloud import bigquery\n",
    "from google.cloud.bigquery import job\n",
    "import pandas as pd\n",
    "import os\n",
    "from tqdm import tqdm\n",
    "import pandas as pd\n",
    "import datetime\n",
    "import pytz\n",
    "import re\n",
    "PROJCECT = 'ballosodeuk'\n",
    "bq = bigquery.Client(project=PROJCECT)"
   ]
  },
  {
   "cell_type": "code",
   "execution_count": 2,
   "metadata": {},
   "outputs": [
    {
     "name": "stdout",
     "output_type": "stream",
     "text": [
      "2024-07-02 18:04:57.972018+09:00\n"
     ]
    }
   ],
   "source": [
    "# BigQuery 클라이언트 생성\n",
    "client = bigquery.Client()\n",
    "\n",
    "utc_now = datetime.datetime.now(pytz.utc)\n",
    "kst = pytz.timezone('Asia/Seoul')\n",
    "kst_now = utc_now.astimezone(kst)\n",
    "print(kst_now)\n",
    "yesterday = kst_now - datetime.timedelta(days=1)\n",
    "date_str = yesterday.strftime(\"%Y-%m-%d\")\n",
    "\n",
    "# 데이터셋 및 테이블 설정\n",
    "dataset_id = 'airbridge_lake'\n",
    "table_id = 'app_2024'\n",
    "\n",
    "# 특정 Event_Category에 해당하는 데이터를 쿼리\n",
    "query = f\"\"\"\n",
    "    SELECT Semantic_Event_Properties, Custom_Event_Properties\n",
    "    FROM `{dataset_id}.{table_id}`\n",
    "    WHERE Event_Date = '{date_str}'\n",
    "\"\"\"\n",
    "\n",
    "query_job = client.query(query)\n",
    "results = query_job.result()\n",
    "result_list = list(results)"
   ]
  },
  {
   "cell_type": "markdown",
   "metadata": {},
   "source": [
    "key-value 쌍이 늘어날 수 있는 점을 동적으로 대응하기 위함"
   ]
  },
  {
   "cell_type": "code",
   "execution_count": 11,
   "metadata": {},
   "outputs": [],
   "source": [
    "for col in ['Semantic_Event_Properties', 'Custom_Event_Properties']:\n",
    "    for row in result_list:\n",
    "        json_data = getattr(row, col)\n",
    "        if json_data:\n",
    "            keys.update(re.findall(r'\"([^\"]+)\":', json_data))\n",
    "\n",
    "# 동적 쿼리 생성을 위한 SELECT 절 구성\n",
    "select_statements = [f\"MAX(CASE WHEN key = '{key}' THEN value END) AS {key}\" for key in keys]\n",
    "select_clause = \",\\n  \".join(select_statements)"
   ]
  },
  {
   "cell_type": "code",
   "execution_count": 13,
   "metadata": {},
   "outputs": [
    {
     "data": {
      "text/plain": [
       "\"MAX(CASE WHEN key = 'datetime' THEN value END) AS datetime,\\n  MAX(CASE WHEN key = 'incentive_product_name' THEN value END) AS incentive_product_name,\\n  MAX(CASE WHEN key = 'achievementID' THEN value END) AS achievementID,\\n  MAX(CASE WHEN key = 'transactionID' THEN value END) AS transactionID,\\n  MAX(CASE WHEN key = 'score' THEN value END) AS score,\\n  MAX(CASE WHEN key = 'challenge_id' THEN value END) AS challenge_id,\\n  MAX(CASE WHEN key = 'productID' THEN value END) AS productID,\\n  MAX(CASE WHEN key = 'place' THEN value END) AS place,\\n  MAX(CASE WHEN key = 'listID' THEN value END) AS listID,\\n  MAX(CASE WHEN key = 'campaignName' THEN value END) AS campaignName,\\n  MAX(CASE WHEN key = 'price' THEN value END) AS price,\\n  MAX(CASE WHEN key = 'rate' THEN value END) AS rate,\\n  MAX(CASE WHEN key = 'originalContributionMargin' THEN value END) AS originalContributionMargin,\\n  MAX(CASE WHEN key = 'scheduleID' THEN value END) AS scheduleID,\\n  MAX(CASE WHEN key = 'sharedChannel' THEN value END) AS sharedChannel,\\n  MAX(CASE WHEN key = 'campaignType' THEN value END) AS campaignType,\\n  MAX(CASE WHEN key = 'name' THEN value END) AS name,\\n  MAX(CASE WHEN key = 'type' THEN value END) AS type,\\n  MAX(CASE WHEN key = 'gettableCash' THEN value END) AS gettableCash,\\n  MAX(CASE WHEN key = 'position' THEN value END) AS position,\\n  MAX(CASE WHEN key = 'timeStamp' THEN value END) AS timeStamp,\\n  MAX(CASE WHEN key = 'commission' THEN value END) AS commission,\\n  MAX(CASE WHEN key = 'products' THEN value END) AS products,\\n  MAX(CASE WHEN key = 'contributionMargin' THEN value END) AS contributionMargin,\\n  MAX(CASE WHEN key = 'param' THEN value END) AS param,\\n  MAX(CASE WHEN key = 'list_order' THEN value END) AS list_order\""
      ]
     },
     "execution_count": 13,
     "metadata": {},
     "output_type": "execute_result"
    }
   ],
   "source": [
    "select_clause"
   ]
  },
  {
   "cell_type": "code",
   "execution_count": null,
   "metadata": {},
   "outputs": [],
   "source": [
    "dynamic_query = f\"\"\"\n",
    "WITH json_table AS (\n",
    "    SELECT \n",
    "        Event_Date, Event_Datetime, Airbridge_Device_ID_Type,Airbridge_Device_ID,User_ID,\n",
    "        Country, Client_IP_Country_Code,Client_IP_Subdivision,Client_IP_City\n",
    "        Channel, Campaign, Ad_Group, Ad_Creative, Is_Re_engagement,\n",
    "        Event_Category, Event_Label, Event_Action, Event_Value,\n",
    "        Semantic_Event_Properties, Custom_Event_Properties, \n",
    "    FROM \n",
    "        `{dataset_id}.{table_id}`\n",
    "    WHERE\n",
    "        Event_Date = '{date_str}'\n",
    ")\n",
    "\n",
    ",keys_extracted AS (\n",
    "  SELECT\n",
    "    *,\n",
    "    REGEXP_EXTRACT_ALL(Semantic_Event_Properties, r'\"([^\"]+)\":') AS semantic_keys,\n",
    "    REGEXP_EXTRACT_ALL(Custom_Event_Properties, r'\"([^\"]+)\":') AS custom_keys\n",
    "  FROM\n",
    "    json_table\n",
    ")\n",
    "\n",
    ",unnested_keys AS (\n",
    "  SELECT\n",
    "    Event_Date, Event_Datetime, Airbridge_Device_ID_Type,Airbridge_Device_ID,User_ID,\n",
    "    Country, Client_IP_Country_Code,Client_IP_Subdivision,Client_IP_City\n",
    "    Channel, Campaign, Ad_Group, Ad_Creative, Is_Re_engagement,\n",
    "    Event_Category, Event_Label, Event_Action, Event_Value,\n",
    "    key,\n",
    "    JSON_EXTRACT_SCALAR(Semantic_Event_Properties, CONCAT('$.', key)) AS value\n",
    "  FROM\n",
    "    keys_extracted,\n",
    "    UNNEST(semantic_keys) AS key\n",
    "  UNION ALL\n",
    "  SELECT\n",
    "    Event_Date, Event_Datetime, Airbridge_Device_ID_Type,Airbridge_Device_ID,User_ID,\n",
    "    Country, Client_IP_Country_Code,Client_IP_Subdivision,Client_IP_City\n",
    "    Channel, Campaign, Ad_Group, Ad_Creative, Is_Re_engagement,\n",
    "    Event_Category, Event_Label, Event_Action, Event_Value,\n",
    "    key,\n",
    "    JSON_EXTRACT_SCALAR(Custom_Event_Properties, CONCAT('$.', key)) AS value\n",
    "  FROM\n",
    "    keys_extracted,\n",
    "    UNNEST(custom_keys) AS key\n",
    "),\n",
    "pivot_table AS (\n",
    "  SELECT\n",
    "    Event_Date, Event_Datetime, Airbridge_Device_ID_Type,Airbridge_Device_ID,User_ID,\n",
    "    Country, Client_IP_Country_Code,Client_IP_Subdivision,Client_IP_City\n",
    "    Channel, Campaign, Ad_Group, Ad_Creative, Is_Re_engagement,\n",
    "    Event_Category, Event_Label, Event_Action, Event_Value,\n",
    "    key,value\n",
    "  FROM\n",
    "    unnested_keys\n",
    "),\n",
    "grp AS (\n",
    "  SELECT \n",
    "    Event_Date, Airbridge_Device_ID, Event_Category, Event_Label, Event_Action, key, value, \n",
    "    SUM(Event_Value) AS Event_Value, COUNT(*) AS cnt, \n",
    "    ARRAY_AGG(Event_Datetime) AS Event_Datetimes,\n",
    "    ARRAY_AGG(User_ID) AS User_IDs,\n",
    "    MIN(Airbridge_Device_ID_Type) AS Airbridge_Device_ID_Type, \n",
    "    MIN(Country) AS Country, MIN(Client_IP_Country_Code) AS Client_IP_Country_Code,\n",
    "    MIN(Client_IP_Subdivision) AS Client_IP_Subdivision, MIN(Client_IP_City) AS Client_IP_City, \n",
    "    MIN(Channel) AS Channel, MIN(Campaign) AS Campaign, MIN(Ad_Group) AS Ad_Group, \n",
    "    MIN(Ad_Creative) AS Ad_Creative, MIN(Is_Re_engagement) AS Is_Re_engagement\n",
    "  FROM \n",
    "    pivot_table\n",
    "  GROUP BY \n",
    "    Event_Date, Airbridge_Device_ID, Event_Category, Event_Label, Event_Action, key, value\n",
    "),\n",
    "total_grp AS (\n",
    "  SELECT \n",
    "    Event_Date, Airbridge_Device_ID, Event_Category, \n",
    "    SUM(Event_Value) AS Event_Value, COUNT(*) AS Count,\n",
    "    ARRAY_AGG(\n",
    "      STRUCT(\n",
    "        Event_Action AS Action, Event_Label AS Label, cnt AS count, Event_Value AS Value, key, value, Event_Datetimes, User_IDs)) AS Detail\n",
    "  FROM \n",
    "    grp\n",
    "  GROUP BY \n",
    "    Event_Date, Airbridge_Device_ID, Event_Category\n",
    ")\n",
    "SELECT * FROM total_grp;\n",
    "\n",
    "\"\"\"\n"
   ]
  },
  {
   "cell_type": "code",
   "execution_count": null,
   "metadata": {},
   "outputs": [],
   "source": [
    "\n",
    "# 동적 쿼리 실행\n",
    "dynamic_query_job = client.query(dynamic_query)\n",
    "dynamic_results = dynamic_query_job.result()\n",
    "\n",
    "# 결과 출력\n",
    "for row in dynamic_results:\n",
    "    print(row)"
   ]
  }
 ],
 "metadata": {
  "kernelspec": {
   "display_name": "pymc",
   "language": "python",
   "name": "python3"
  },
  "language_info": {
   "codemirror_mode": {
    "name": "ipython",
    "version": 3
   },
   "file_extension": ".py",
   "mimetype": "text/x-python",
   "name": "python",
   "nbconvert_exporter": "python",
   "pygments_lexer": "ipython3",
   "version": "3.9.18"
  }
 },
 "nbformat": 4,
 "nbformat_minor": 2
}
