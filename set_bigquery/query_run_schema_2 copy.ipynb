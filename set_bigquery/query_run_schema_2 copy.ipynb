{
 "cells": [
  {
   "cell_type": "code",
   "execution_count": 14,
   "metadata": {},
   "outputs": [],
   "source": [
    "from google.cloud import bigquery\n",
    "from google.cloud.bigquery import job\n",
    "from google.cloud.bigquery import SchemaField\n",
    "import pandas as pd\n",
    "import datetime as dt\n",
    "import numpy as np\n",
    "import re\n",
    "import os\n",
    "from tqdm import tqdm\n",
    "import pandas as pd\n",
    "PROJCECT = 'ballosodeuk'\n",
    "bq = bigquery.Client(project=PROJCECT)"
   ]
  },
  {
   "cell_type": "code",
   "execution_count": 2,
   "metadata": {},
   "outputs": [],
   "source": [
    "# 클라이언트 설정\n",
    "client = bigquery.Client()\n",
    "query_name = \"0711_동적쿼리테스트\"\n",
    "# SQL 파일 읽기\n",
    "# file = './query/쿠팡0403_0509.sql'\n",
    "file = f'../query/{query_name}.sql'\n",
    "with open(file, 'r') as file:\n",
    "    query = file.read()\n"
   ]
  },
  {
   "cell_type": "code",
   "execution_count": 3,
   "metadata": {},
   "outputs": [],
   "source": [
    "\n",
    "# 쿼리 실행\n",
    "job_config = bigquery.QueryJobConfig()\n",
    "query_job = client.query(query, job_config=job_config)\n",
    "\n",
    "df = query_job.to_dataframe()"
   ]
  },
  {
   "cell_type": "code",
   "execution_count": 4,
   "metadata": {},
   "outputs": [],
   "source": [
    "df.loc[0]['e'][0]['d'][0]['products_struct_alias'] = []\n",
    "df.loc[0]['e'][0]['d'][1]['products_struct_alias'] = []"
   ]
  },
  {
   "cell_type": "code",
   "execution_count": 5,
   "metadata": {},
   "outputs": [
    {
     "data": {
      "text/plain": [
       "{'Event_Date': 'STRING',\n",
       " 'Airbridge_Device_ID': 'STRING',\n",
       " 'Airbridge_Device_ID_Type': 'STRING',\n",
       " 'i': {'type': 'RECORD',\n",
       "  'fields': {'Device_Model': 'STRING',\n",
       "   'Device_Type': 'STRING',\n",
       "   'Platform': 'STRING',\n",
       "   'Client_IP_Country_Code': 'STRING',\n",
       "   'Client_IP_Subdivision': 'STRING',\n",
       "   'Client_IP_City': 'STRING',\n",
       "   'Campaign_ID': 'STRING',\n",
       "   'Ad_Group_ID': 'STRING',\n",
       "   'Ad_Creative_ID': 'STRING',\n",
       "   'Term_ID': 'STRING',\n",
       "   'Is_Re_engagement': 'BOOLEAN',\n",
       "   'Is_First_Event_per_User_ID': 'BOOLEAN',\n",
       "   'Is_First_Event_per_Device_ID': 'BOOLEAN',\n",
       "   'Is_First_Target_Event_per_Device': 'BOOLEAN',\n",
       "   'Target_Event_Timestamp': 'STRING',\n",
       "   'Target_Event_Category': 'STRING'}},\n",
       " 'Event_Category': 'STRING',\n",
       " 'Event_Value_Total': 'FLOAT',\n",
       " 'Event_Count_Total': 'INTEGER',\n",
       " 'e': {'type': 'RECORD',\n",
       "  'mode': 'REPEATED',\n",
       "  'fields': {'Label': 'STRING',\n",
       "   'Action': 'STRING',\n",
       "   'Event_Value_Sum': 'FLOAT',\n",
       "   'Event_Count': 'INTEGER',\n",
       "   'u': {'type': 'RECORD',\n",
       "    'mode': 'REPEATED',\n",
       "    'fields': {'User_ID': 'STRING'}},\n",
       "   'd': {'type': 'RECORD',\n",
       "    'mode': 'REPEATED',\n",
       "    'fields': {'Timestamp': 'STRING',\n",
       "     'Label': 'STRING',\n",
       "     'Action': 'STRING',\n",
       "     'Value': 'FLOAT',\n",
       "     'name': 'STRING',\n",
       "     'price': 'STRING',\n",
       "     'productID': 'STRING',\n",
       "     'transactionID': 'STRING',\n",
       "     '_field_9': 'STRING',\n",
       "     'tester': 'STRING',\n",
       "     'products_struct_alias': {'type': 'STRING', 'mode': 'REPEATED'}}}}}}"
      ]
     },
     "execution_count": 5,
     "metadata": {},
     "output_type": "execute_result"
    }
   ],
   "source": [
    "def infer_schema_from_dataframe(df):\n",
    "    \"\"\"데이터프레임에서 스키마 추론.\"\"\"\n",
    "    def infer_field_type(value):\n",
    "        if isinstance(value, dict):\n",
    "            subfields = {k: infer_field_type(v) for k, v in value.items()}\n",
    "            return {\"type\": \"RECORD\", \"fields\": subfields}\n",
    "        elif isinstance(value, (np.ndarray, list)) and len(value) > 0 and isinstance(value[0], dict):\n",
    "            subfields = {k: infer_field_type(v) for k, v in value[0].items()}\n",
    "            return {\"type\": \"RECORD\", \"mode\": \"REPEATED\", \"fields\": subfields}\n",
    "        elif isinstance(value, (np.ndarray, list)):\n",
    "            return {\"type\": \"STRING\", \"mode\": \"REPEATED\"}\n",
    "        elif pd.api.types.is_integer_dtype(type(value)):\n",
    "            return \"INTEGER\"\n",
    "        elif pd.api.types.is_float_dtype(type(value)):\n",
    "            return \"FLOAT\"\n",
    "        elif pd.api.types.is_bool_dtype(type(value)):\n",
    "            return \"BOOLEAN\"\n",
    "        elif pd.api.types.is_datetime64_any_dtype(type(value)):\n",
    "            return \"TIMESTAMP\"\n",
    "        else:\n",
    "            return \"STRING\"\n",
    "    \n",
    "    schema = {col: infer_field_type(df[col].iloc[0]) for col in df.columns}\n",
    "\n",
    "    return schema\n",
    "\n",
    "\n",
    "infer_schema_from_dataframe(df)\n"
   ]
  },
  {
   "cell_type": "code",
   "execution_count": 66,
   "metadata": {},
   "outputs": [
    {
     "data": {
      "text/plain": [
       "array([{'Label': '상품상세_구매하기', 'Action': '동서)스타벅스커피라떼컵200ml', 'Event_Value_Sum': 6000.0, 'Event_Count': 2, 'u': array([{'User_ID': '04432efd-e80f-4800-a0ba-ef4564abf3e2'},\n",
       "              {'User_ID': '04432efd-e80f-4800-a0ba-ef4564abf3e2'}], dtype=object), 'd': array([{'Timestamp': '2024-07-11T15:57:48+09:00', 'Label': '상품상세_구매하기', 'Action': '동서)스타벅스커피라떼컵200ml', 'Value': 3000.0, 'name': None, 'price': None, 'productID': None, 'transactionID': None, '_field_9': None, 'tester': 'true', 'products_struct_alias': []},\n",
       "              {'Timestamp': '2024-07-11T15:58:12+09:00', 'Label': '상품상세_구매하기', 'Action': '동서)스타벅스커피라떼컵200ml', 'Value': 3000.0, 'name': None, 'price': None, 'productID': None, 'transactionID': None, '_field_9': None, 'tester': 'true', 'products_struct_alias': []}],\n",
       "             dtype=object)}                                                                                                                                                                                                                                                                                                                             ,\n",
       "       {'Label': '상품상세_구매하기', 'Action': '제주 말차 크림 프라푸치노 T', 'Event_Value_Sum': 9000.0, 'Event_Count': 1, 'u': array([{'User_ID': '04432efd-e80f-4800-a0ba-ef4564abf3e2'}], dtype=object), 'd': array([{'Timestamp': '2024-07-11T15:34:46+09:00', 'Label': '상품상세_구매하기', 'Action': '제주 말차 크림 프라푸치노 T', 'Value': 9000.0, 'name': None, 'price': None, 'productID': None, 'transactionID': None, '_field_9': None, 'tester': 'true', 'products_struct_alias': array([{'name': '제주 말차 크림 프라푸치노 T', 'price': '9000', 'position': None}],\n",
       "                    dtype=object)}                                                                                                                                                                                                                                                                                                        ],\n",
       "             dtype=object)}                                                                                                                                                                                                                                                                                                                                                                                                                                                                                                       ],\n",
       "      dtype=object)"
      ]
     },
     "execution_count": 66,
     "metadata": {},
     "output_type": "execute_result"
    }
   ],
   "source": [
    "\n",
    "df[df.columns[-1]].iloc[0]"
   ]
  },
  {
   "cell_type": "code",
   "execution_count": 192,
   "metadata": {},
   "outputs": [
    {
     "data": {
      "text/plain": [
       "{'Device_Model': 'SM-N971N',\n",
       " 'Device_Type': 'mobile',\n",
       " 'Platform': 'Android',\n",
       " 'Client_IP_Country_Code': 'KR',\n",
       " 'Client_IP_Subdivision': 'Gyeonggi-do',\n",
       " 'Client_IP_City': 'Suwon',\n",
       " 'Campaign_ID': None,\n",
       " 'Ad_Group_ID': None,\n",
       " 'Ad_Creative_ID': None,\n",
       " 'Term_ID': None,\n",
       " 'Is_Re_engagement': True,\n",
       " 'Is_First_Event_per_User_ID': False,\n",
       " 'Is_First_Event_per_Device_ID': False,\n",
       " 'Is_First_Target_Event_per_Device': False,\n",
       " 'Target_Event_Timestamp': Decimal('1720536693400.000000000'),\n",
       " 'Target_Event_Category': 'Deeplink Open (App)'}"
      ]
     },
     "execution_count": 192,
     "metadata": {},
     "output_type": "execute_result"
    }
   ],
   "source": [
    "df.loc[0]['i']"
   ]
  },
  {
   "cell_type": "code",
   "execution_count": 55,
   "metadata": {},
   "outputs": [
    {
     "data": {
      "text/plain": [
       "array([{'Label': '상품상세_구매하기', 'Action': '동서)스타벅스커피라떼컵200ml', 'Event_Value_Sum': 6000.0, 'Event_Count': 2, 'u': array([{'User_ID': '04432efd-e80f-4800-a0ba-ef4564abf3e2'},\n",
       "              {'User_ID': '04432efd-e80f-4800-a0ba-ef4564abf3e2'}], dtype=object), 'd': array([{'Timestamp': '2024-07-11T15:57:48+09:00', 'Label': '상품상세_구매하기', 'Action': '동서)스타벅스커피라떼컵200ml', 'Value': 3000.0, 'name': None, 'price': None, 'productID': None, 'transactionID': None, '_field_9': None, 'tester': 'true', 'products_struct_alias': []},\n",
       "              {'Timestamp': '2024-07-11T15:58:12+09:00', 'Label': '상품상세_구매하기', 'Action': '동서)스타벅스커피라떼컵200ml', 'Value': 3000.0, 'name': None, 'price': None, 'productID': None, 'transactionID': None, '_field_9': None, 'tester': 'true', 'products_struct_alias': []}],\n",
       "             dtype=object)}                                                                                                                                                                                                                                                                                                                             ,\n",
       "       {'Label': '상품상세_구매하기', 'Action': '제주 말차 크림 프라푸치노 T', 'Event_Value_Sum': 9000.0, 'Event_Count': 1, 'u': array([{'User_ID': '04432efd-e80f-4800-a0ba-ef4564abf3e2'}], dtype=object), 'd': array([{'Timestamp': '2024-07-11T15:34:46+09:00', 'Label': '상품상세_구매하기', 'Action': '제주 말차 크림 프라푸치노 T', 'Value': 9000.0, 'name': None, 'price': None, 'productID': None, 'transactionID': None, '_field_9': None, 'tester': 'true', 'products_struct_alias': array([{'name': '제주 말차 크림 프라푸치노 T', 'price': '9000', 'position': None}],\n",
       "                    dtype=object)}                                                                                                                                                                                                                                                                                                        ],\n",
       "             dtype=object)}                                                                                                                                                                                                                                                                                                                                                                                                                                                                                                       ],\n",
       "      dtype=object)"
      ]
     },
     "execution_count": 55,
     "metadata": {},
     "output_type": "execute_result"
    }
   ],
   "source": [
    "df[df.columns[-1]].iloc[0]"
   ]
  },
  {
   "cell_type": "markdown",
   "metadata": {},
   "source": [
    "전체 스키마 조회 및 승자독식 구현"
   ]
  },
  {
   "cell_type": "code",
   "execution_count": 6,
   "metadata": {},
   "outputs": [
    {
     "name": "stdout",
     "output_type": "stream",
     "text": [
      "<class 'pandas.core.frame.DataFrame'>\n",
      "RangeIndex: 1476 entries, 0 to 1475\n",
      "Data columns (total 8 columns):\n",
      " #   Column                    Non-Null Count  Dtype         \n",
      "---  ------                    --------------  -----         \n",
      " 0   Event_Date                1476 non-null   datetime64[ns]\n",
      " 1   Airbridge_Device_ID       1476 non-null   object        \n",
      " 2   Airbridge_Device_ID_Type  1476 non-null   object        \n",
      " 3   i                         1476 non-null   object        \n",
      " 4   Event_Category            1476 non-null   object        \n",
      " 5   Event_Value_Total         1476 non-null   float64       \n",
      " 6   Event_Count_Total         1476 non-null   Int64         \n",
      " 7   e                         1476 non-null   object        \n",
      "dtypes: Int64(1), datetime64[ns](1), float64(1), object(5)\n",
      "memory usage: 93.8+ KB\n"
     ]
    }
   ],
   "source": [
    "\n",
    "df['Event_Date'] = pd.to_datetime(df.Event_Date)\n",
    "df.info()"
   ]
  },
  {
   "cell_type": "code",
   "execution_count": 7,
   "metadata": {},
   "outputs": [
    {
     "data": {
      "text/plain": [
       "{'Device_Model': 'SM-N971N',\n",
       " 'Device_Type': 'mobile',\n",
       " 'Platform': 'Android',\n",
       " 'Client_IP_Country_Code': 'KR',\n",
       " 'Client_IP_Subdivision': 'Gyeonggi-do',\n",
       " 'Client_IP_City': 'Suwon',\n",
       " 'Campaign_ID': None,\n",
       " 'Ad_Group_ID': None,\n",
       " 'Ad_Creative_ID': None,\n",
       " 'Term_ID': None,\n",
       " 'Is_Re_engagement': True,\n",
       " 'Is_First_Event_per_User_ID': False,\n",
       " 'Is_First_Event_per_Device_ID': False,\n",
       " 'Is_First_Target_Event_per_Device': False,\n",
       " 'Target_Event_Timestamp': Decimal('1720536693400.000000000'),\n",
       " 'Target_Event_Category': 'Deeplink Open (App)'}"
      ]
     },
     "execution_count": 7,
     "metadata": {},
     "output_type": "execute_result"
    }
   ],
   "source": [
    "df.loc[0]['i']"
   ]
  },
  {
   "cell_type": "code",
   "execution_count": 8,
   "metadata": {},
   "outputs": [
    {
     "data": {
      "text/plain": [
       "True"
      ]
     },
     "execution_count": 8,
     "metadata": {},
     "output_type": "execute_result"
    }
   ],
   "source": [
    "pd.api.types.is_bool_dtype(type(df.loc[0]['i']['Is_First_Target_Event_per_Device']))\n",
    "# df.loc[0]['i']"
   ]
  },
  {
   "cell_type": "code",
   "execution_count": 4,
   "metadata": {},
   "outputs": [],
   "source": [
    "def infer_schema_from_dataframe(df):\n",
    "    \"\"\"데이터프레임에서 스키마 추론.\"\"\"\n",
    "    def infer_field_type(value):\n",
    "        if isinstance(value, dict):\n",
    "            subfields = {k: infer_field_type(v) for k, v in value.items()}\n",
    "            return {\"type\": \"RECORD\", \"fields\": subfields}\n",
    "        elif isinstance(value, (np.ndarray, list)) and len(value) > 0 and isinstance(value[0], dict):\n",
    "            subfields = {k: infer_field_type(v) for k, v in value[0].items()}\n",
    "            return {\"type\": \"RECORD\", \"mode\": \"REPEATED\", \"fields\": subfields}\n",
    "        elif isinstance(value, (np.ndarray, list)):\n",
    "            return {\"type\": \"STRING\", \"mode\": \"REPEATED\"}\n",
    "        elif pd.api.types.is_integer_dtype(type(value)):\n",
    "            return \"INTEGER\"\n",
    "        elif pd.api.types.is_float_dtype(type(value)):\n",
    "            return \"FLOAT\"\n",
    "        elif pd.api.types.is_bool_dtype(type(value)):\n",
    "            return \"BOOLEAN\"\n",
    "        elif pd.api.types.is_datetime64_any_dtype(type(value)):\n",
    "            return \"TIMESTAMP\"\n",
    "        elif isinstance(value, pd.Timestamp):\n",
    "            return \"DATE\"\n",
    "        else:\n",
    "            return \"STRING\"\n",
    "    \n",
    "    schema = {}\n",
    "    \n",
    "    for row in range(len(df)):\n",
    "        post_schema = {col: infer_field_type(df[col].iloc[row]) for col in df.columns}        \n",
    "        schema = merge_schemas(schema, post_schema)\n",
    "\n",
    "    return schema\n",
    "\n",
    "\n",
    "def order_schema(schema, order):\n",
    "    ordered_schema = {}\n",
    "    for key in order:\n",
    "        if key in schema:\n",
    "            ordered_schema[key] = schema[key]\n",
    "    return ordered_schema\n"
   ]
  },
  {
   "cell_type": "code",
   "execution_count": 5,
   "metadata": {},
   "outputs": [],
   "source": [
    "def merge_schemas(schema1, schema2):\n",
    "    if isinstance(schema1, dict) and isinstance(schema2, dict):\n",
    "        merged = {}\n",
    "        for key in set(schema1.keys()).union(set(schema2.keys())):\n",
    "            if key in schema1 and key in schema2:\n",
    "                if schema1[key] == schema2[key]:\n",
    "                    merged[key] = schema1[key]\n",
    "                else:\n",
    "                    merged[key] = merge_schemas(schema1[key], schema2[key])\n",
    "            elif key in schema1:\n",
    "                merged[key] = schema1[key]\n",
    "            elif key in schema2:\n",
    "                merged[key] = schema2[key]\n",
    "        return merged\n",
    "    else:\n",
    "        return schema1 if schema1 == schema2 else \"STRING\""
   ]
  },
  {
   "cell_type": "code",
   "execution_count": 6,
   "metadata": {},
   "outputs": [],
   "source": [
    "def convert_to_schema_fields(schema):\n",
    "    \"\"\"스키마 딕셔너리를 SchemaField 객체로 변환.\"\"\"\n",
    "    fields = []\n",
    "    for name, dtype in schema.items():\n",
    "        if isinstance(dtype, dict):\n",
    "            subfields = convert_to_schema_fields(dtype.get(\"fields\", {}))\n",
    "            mode = dtype.get(\"mode\", \"NULLABLE\")\n",
    "            fields.append(SchemaField(name, dtype[\"type\"], mode=mode, fields=subfields))\n",
    "        else:\n",
    "            fields.append(SchemaField(name, dtype))\n",
    "    return fields\n"
   ]
  },
  {
   "cell_type": "code",
   "execution_count": 7,
   "metadata": {},
   "outputs": [],
   "source": [
    "def get_current_schema(table_ref):\n",
    "    \"\"\"기존 테이블의 스키마를 가져옵니다.\"\"\"\n",
    "    table = client.get_table(table_ref)\n",
    "    # return {field.name: field for field in table.schema}\n",
    "    return table.schema\n",
    "    \n",
    "def update_table_schema(table_ref, new_columns):\n",
    "    \"\"\"테이블 스키마에 새 열을 추가합니다.\"\"\"\n",
    "    current_schema = get_current_schema(table_ref)\n",
    "    new_fields = []\n",
    "\n",
    "    for name, dtype in new_columns.items():\n",
    "        if name not in current_schema:\n",
    "            if isinstance(dtype, dict):\n",
    "                new_fields.extend(convert_to_schema_fields({name: dtype}))\n",
    "            else:\n",
    "                new_fields.append(SchemaField(name, dtype))\n",
    "\n",
    "    if new_fields:\n",
    "        table = client.get_table(table_ref)\n",
    "        updated_schema = table.schema + new_fields\n",
    "        table.schema = updated_schema\n",
    "        client.update_table(table, [\"schema\"])\n",
    "        print(f\"테이블 {table_ref}의 스키마가 업데이트되었습니다: {new_columns}\")\n",
    "\n",
    "def load_data_to_bigquery(df, table_ref):\n",
    "    \"\"\"데이터프레임을 빅쿼리 테이블로 업로드합니다.\"\"\"\n",
    "    job = client.load_table_from_dataframe(df, table_ref)\n",
    "    job.result()\n",
    "    print(f\"테이블 {table_ref}에 데이터가 성공적으로 업로드되었습니다.\")"
   ]
  },
  {
   "cell_type": "code",
   "execution_count": 8,
   "metadata": {},
   "outputs": [],
   "source": [
    "def update_table_schema(table_ref, new_columns):\n",
    "    \"\"\"테이블 스키마에 새 열을 추가합니다.\"\"\"\n",
    "    client = bigquery.Client()\n",
    "    table = client.get_table(table_ref)\n",
    "    current_schema = {field.name: field for field in table.schema}\n",
    "    updated_schema = list(table.schema)  # 기존 스키마 유지\n",
    "\n",
    "    def add_new_fields(new_fields, parent_fields):\n",
    "        parent_fields_dict = {field.name: field for field in parent_fields}\n",
    "        for name, dtype in new_fields.items():\n",
    "            if name not in parent_fields_dict:\n",
    "                if isinstance(dtype, dict):\n",
    "                    subfields = convert_to_schema_fields(dtype.get(\"fields\", {}))\n",
    "                    mode = dtype.get(\"mode\", \"NULLABLE\")\n",
    "                    parent_fields.append(SchemaField(name, dtype[\"type\"], mode=mode, fields=subfields))\n",
    "                else:\n",
    "                    parent_fields.append(SchemaField(name, dtype))\n",
    "            else:\n",
    "                existing_field = parent_fields_dict[name]\n",
    "                if existing_field.field_type == 'RECORD' and 'fields' in dtype:\n",
    "                    existing_field_fields_list = list(existing_field.fields)\n",
    "                    add_new_fields(dtype['fields'], existing_field_fields_list)\n",
    "                    parent_fields[parent_fields.index(existing_field)] = SchemaField(\n",
    "                        name=existing_field.name,\n",
    "                        field_type=existing_field.field_type,\n",
    "                        mode=existing_field.mode,\n",
    "                        fields=tuple(existing_field_fields_list)\n",
    "                    )\n",
    "\n",
    "    add_new_fields(new_columns, updated_schema)\n",
    "\n",
    "    table.schema = updated_schema\n",
    "    client.update_table(table, [\"schema\"])\n",
    "    print(f\"테이블 {table_ref}의 스키마가 업데이트되었습니다: {new_columns}\")"
   ]
  },
  {
   "cell_type": "code",
   "execution_count": 10,
   "metadata": {},
   "outputs": [],
   "source": [
    "# 기존 스키마 추출\n",
    "def convert_schema_fields(schema):\n",
    "    def convert_field(field):\n",
    "        if field.field_type == 'RECORD':\n",
    "            return {\n",
    "                \"type\": field.field_type,\n",
    "                \"mode\": field.mode,\n",
    "                \"fields\": {subfield.name: convert_field(subfield) for subfield in field.fields}\n",
    "            }\n",
    "        elif field.field_type == 'STRING' and field.mode == 'REPEATED':\n",
    "            return {\n",
    "                \"type\": field.field_type,\n",
    "                \"mode\": field.mode,\n",
    "                \"fields\": {subfield.name: convert_field(subfield) for subfield in field.fields} if field.fields else {}\n",
    "            }\n",
    "        else:\n",
    "            return field.field_type\n",
    "\n",
    "    return {field.name: convert_field(field) for field in schema}\n",
    "\n",
    "def find_keys(data, pattern):\n",
    "    matches = []\n",
    "    if isinstance(data, dict):\n",
    "        for key, value in data.items():\n",
    "            if re.match(pattern, key):\n",
    "                matches.append(key)\n",
    "            if isinstance(value, dict):\n",
    "                matches.extend(find_keys(value, pattern))\n",
    "            elif isinstance(value, list):\n",
    "                for item in value:\n",
    "                    matches.extend(find_keys(item, pattern))\n",
    "    return matches\n",
    "\n",
    "# tg_field = new_data['e']['fields']['d']\n",
    "\n",
    "# pattern = r'^_field'\n",
    "# matches = find_keys(tg_field, pattern)\n",
    "# matches[0]\n",
    "\n",
    "def replace_keys(data, pattern, replacement):\n",
    "    if isinstance(data, dict):\n",
    "        new_data = {}\n",
    "        for key, value in data.items():\n",
    "            new_key = re.sub(pattern, replacement, key)\n",
    "            new_data[new_key] = replace_keys(value, pattern, replacement)\n",
    "        return new_data\n",
    "    elif isinstance(data, list):\n",
    "        return [replace_keys(item, pattern, replacement) for item in data]\n",
    "    else:\n",
    "        return data\n"
   ]
  },
  {
   "cell_type": "code",
   "execution_count": 11,
   "metadata": {},
   "outputs": [],
   "source": [
    "def load_data_to_bigquery(df, table_ref):\n",
    "    \"\"\"데이터프레임을 빅쿼리 테이블로 업로드합니다.\"\"\"\n",
    "    job = client.load_table_from_dataframe(df, table_ref)\n",
    "    job.result()\n",
    "    print(f\"테이블 {table_ref}에 데이터가 성공적으로 업로드되었습니다.\")"
   ]
  },
  {
   "cell_type": "code",
   "execution_count": 12,
   "metadata": {},
   "outputs": [],
   "source": [
    "def pop_error_new_df(df,tg):\n",
    "    tg = '_field_9'\n",
    "    for index, row in df.iterrows():\n",
    "        for e_item in row['e']:\n",
    "            for d_item in e_item['d']:\n",
    "                if tg in d_item:\n",
    "                    d_item.pop(tg)\n"
   ]
  },
  {
   "cell_type": "code",
   "execution_count": 13,
   "metadata": {},
   "outputs": [],
   "source": [
    "# 기존 데이터셋 수집\n",
    "dataset_id = 'airbridge_mart'\n",
    "table_id = 'app_df_2'\n",
    "table_ref = f'ballosodeuk.{dataset_id}.{table_id}'\n"
   ]
  },
  {
   "cell_type": "code",
   "execution_count": 22,
   "metadata": {},
   "outputs": [
    {
     "data": {
      "text/plain": [
       "'_field_9'"
      ]
     },
     "execution_count": 22,
     "metadata": {},
     "output_type": "execute_result"
    }
   ],
   "source": [
    "## --- 신규 데이터 스키마 --- ##\n",
    "new_columns = infer_schema_from_dataframe(df)\n",
    "\n",
    "## --- 신규 스키마 <> 기존 스키마 --- ##\n",
    "current_schema = get_current_schema(table_ref)\n",
    "\n",
    "existed_schema = convert_schema_fields(current_schema)\n",
    "# 기존 스키마의 field 값 찾기\n",
    "tg_field = existed_schema['e']['fields']['d']\n",
    "\n",
    "pattern = r'^_field'\n",
    "matches = find_keys(tg_field, pattern)\n",
    "field_name = matches[0]\n",
    "\n",
    "# 새로운 스키마 의 field 값 변경\n",
    "pattern = r'^_field_(\\d+)$'\n",
    "# replacement = field_name\n",
    "replacement = 'field_test'\n",
    "print(replacement)\n",
    "\n",
    "# new_data = replace_keys(new_columns, pattern, replacement)\n",
    "# # print(new_data)\n",
    "\n",
    "# # # --- 신규 스키마 정렬 및 bq 스키마화 -- ##\n",
    "# schema = order_schema(new_data,df.columns)\n",
    "# schema = convert_to_schema_fields(schema)\n",
    "\n",
    "# print(\"-- 정렬 및 스키마 화 완료 --\")\n",
    "\n",
    "# # ## --- 테이블 스키마 Update --- ##\n",
    "# update_table_schema(table_ref, new_data)\n",
    "\n",
    "# # ## --- 데이터 업로드 --- ##\n",
    "# # load_data_to_bigquery(df, table_ref)\n"
   ]
  },
  {
   "cell_type": "markdown",
   "metadata": {},
   "source": [
    "데이터프레임"
   ]
  },
  {
   "cell_type": "code",
   "execution_count": 253,
   "metadata": {},
   "outputs": [
    {
     "data": {
      "text/plain": [
       "array([{'Label': '상품상세_구매하기', 'Action': '동서)스타벅스커피라떼컵200ml', 'Event_Value_Sum': 6000.0, 'Event_Count': 2, 'u': array([{'User_ID': '04432efd-e80f-4800-a0ba-ef4564abf3e2'},\n",
       "              {'User_ID': '04432efd-e80f-4800-a0ba-ef4564abf3e2'}], dtype=object), 'd': array([{'Timestamp': '2024-07-11T15:57:48+09:00', 'Label': '상품상세_구매하기', 'Action': '동서)스타벅스커피라떼컵200ml', 'Value': 3000.0, 'name': None, 'price': None, 'productID': None, 'transactionID': None, '_field_9': None, 'tester': 'true', 'products_struct_alias': []},\n",
       "              {'Timestamp': '2024-07-11T15:58:12+09:00', 'Label': '상품상세_구매하기', 'Action': '동서)스타벅스커피라떼컵200ml', 'Value': 3000.0, 'name': None, 'price': None, 'productID': None, 'transactionID': None, '_field_9': None, 'tester': 'true', 'products_struct_alias': []}],\n",
       "             dtype=object)}                                                                                                                                                                                                                                                                                                                             ,\n",
       "       {'Label': '상품상세_구매하기', 'Action': '제주 말차 크림 프라푸치노 T', 'Event_Value_Sum': 9000.0, 'Event_Count': 1, 'u': array([{'User_ID': '04432efd-e80f-4800-a0ba-ef4564abf3e2'}], dtype=object), 'd': array([{'Timestamp': '2024-07-11T15:34:46+09:00', 'Label': '상품상세_구매하기', 'Action': '제주 말차 크림 프라푸치노 T', 'Value': 9000.0, 'name': None, 'price': None, 'productID': None, 'transactionID': None, '_field_9': None, 'tester': 'true', 'products_struct_alias': array([{'name': '제주 말차 크림 프라푸치노 T', 'price': '9000', 'position': None}],\n",
       "                    dtype=object)}                                                                                                                                                                                                                                                                                                        ],\n",
       "             dtype=object)}                                                                                                                                                                                                                                                                                                                                                                                                                                                                                                       ],\n",
       "      dtype=object)"
      ]
     },
     "execution_count": 253,
     "metadata": {},
     "output_type": "execute_result"
    }
   ],
   "source": [
    "def rename_specific_key(obj, old_key, new_key):\n",
    "    if isinstance(obj, list):\n",
    "        return [rename_specific_key(item, old_key, new_key) for item in obj]\n",
    "    elif isinstance(obj, dict):\n",
    "        return {new_key if k == old_key else k: rename_specific_key(v, old_key, new_key) for k, v in obj.items()}\n",
    "    return obj\n",
    "\n",
    "df['e'] = df['e'].apply(lambda arr: np.array([rename_specific_key(item, '_field_9', '_field_8') for item in arr], dtype=object))\n",
    "\n",
    "df['e'][0]\n"
   ]
  },
  {
   "cell_type": "code",
   "execution_count": null,
   "metadata": {},
   "outputs": [
    {
     "data": {
      "text/plain": [
       "'_field_1'"
      ]
     },
     "metadata": {},
     "output_type": "display_data"
    }
   ],
   "source": [
    "def find_keys(data, pattern):\n",
    "    matches = []\n",
    "    if isinstance(data, dict):\n",
    "        for key, value in data.items():\n",
    "            if re.match(pattern, key):\n",
    "                matches.append(key)\n",
    "            if isinstance(value, dict):\n",
    "                matches.extend(find_keys(value, pattern))\n",
    "            elif isinstance(value, list):\n",
    "                for item in value:\n",
    "                    matches.extend(find_keys(item, pattern))\n",
    "    return matches\n",
    "\n",
    "tg_field = new_data['e']['fields']['d']\n",
    "\n",
    "pattern = r'^_field'\n",
    "matches = find_keys(tg_field, pattern)\n",
    "matches[0]"
   ]
  },
  {
   "cell_type": "code",
   "execution_count": 276,
   "metadata": {},
   "outputs": [],
   "source": [
    "df['e'][0][0]['d'][0].pop('_field_9', None)"
   ]
  },
  {
   "cell_type": "code",
   "execution_count": 278,
   "metadata": {},
   "outputs": [
    {
     "data": {
      "text/plain": [
       "{'Timestamp': '2024-07-11T15:34:46+09:00',\n",
       " 'Label': '상품상세_구매하기',\n",
       " 'Action': '제주 말차 크림 프라푸치노 T',\n",
       " 'Value': 9000.0,\n",
       " 'name': None,\n",
       " 'price': None,\n",
       " 'productID': None,\n",
       " 'transactionID': None,\n",
       " '_field_9': None,\n",
       " 'tester': 'true',\n",
       " 'products_struct_alias': array([{'name': '제주 말차 크림 프라푸치노 T', 'price': '9000', 'position': None}],\n",
       "       dtype=object)}"
      ]
     },
     "execution_count": 278,
     "metadata": {},
     "output_type": "execute_result"
    }
   ],
   "source": [
    "df['e'][0][1]['d'][0]"
   ]
  },
  {
   "cell_type": "code",
   "execution_count": 308,
   "metadata": {},
   "outputs": [
    {
     "name": "stdout",
     "output_type": "stream",
     "text": [
      "[{'Timestamp': '2024-07-11T15:57:48+09:00', 'Label': '상품상세_구매하기', 'Action': '동서)스타벅스커피라떼컵200ml', 'Value': 3000.0, 'name': None, 'price': None, 'productID': None, 'transactionID': None, 'tester': 'true', 'products_struct_alias': []}\n",
      " {'Timestamp': '2024-07-11T15:58:12+09:00', 'Label': '상품상세_구매하기', 'Action': '동서)스타벅스커피라떼컵200ml', 'Value': 3000.0, 'name': None, 'price': None, 'productID': None, 'transactionID': None, '_field_9': None, 'tester': 'true', 'products_struct_alias': []}]\n",
      "[{'Timestamp': '2024-07-11T15:34:46+09:00', 'Label': '상품상세_구매하기', 'Action': '제주 말차 크림 프라푸치노 T', 'Value': 9000.0, 'name': None, 'price': None, 'productID': None, 'transactionID': None, '_field_9': None, 'tester': 'true', 'products_struct_alias': array([{'name': '제주 말차 크림 프라푸치노 T', 'price': '9000', 'position': None}],\n",
      "       dtype=object)}                                                                                                                                                                                                                                                                                                        ]\n",
      "[{'Timestamp': '2024-07-11T15:47:45+09:00', 'Label': '상품상세_구매하기', 'Action': '아이스 카페 아메리카노 T 2잔+클라우드 치즈 케이크', 'Value': 20714.0, 'name': None, 'price': None, 'productID': None, 'transactionID': None, '_field_9': None, 'tester': 'true', 'products_struct_alias': array([{'name': '아이스 카페 아메리카노 T 2잔+클라우드 치즈 케이크', 'price': '20714', 'position': None}],\n",
      "       dtype=object)}                                                                                                                                                                                                                                                                                                                                    ]\n",
      "[{'Timestamp': '2024-07-11T12:22:18+09:00', 'Label': '상품상세_구매하기', 'Action': '아메리카노(ICED)', 'Value': 2857.0, 'name': None, 'price': None, 'productID': None, 'transactionID': None, '_field_9': None, 'tester': 'true', 'products_struct_alias': array([{'name': '아메리카노(ICED)', 'price': '2857', 'position': None}],\n",
      "       dtype=object)}\n",
      " {'Timestamp': '2024-07-11T12:22:09+09:00', 'Label': '상품상세_구매하기', 'Action': '아메리카노(ICED)', 'Value': 2857.0, 'name': None, 'price': None, 'productID': None, 'transactionID': None, '_field_9': None, 'tester': 'true', 'products_struct_alias': array([{'name': '아메리카노(ICED)', 'price': '2857', 'position': None}],\n",
      "       dtype=object)}                                                                                                                                                                                                                                                                                              ]\n",
      "[{'Timestamp': '2024-07-11T12:56:50+09:00', 'Label': '상품상세_구매하기', 'Action': '초코빽스치노(베이직)', 'Value': 5429.0, 'name': None, 'price': None, 'productID': None, 'transactionID': None, '_field_9': None, 'tester': 'true', 'products_struct_alias': array([{'name': '초코빽스치노(베이직)', 'price': '5429', 'position': None}],\n",
      "       dtype=object)}                                                                                                                                                                                                                                                                                              ]\n",
      "[{'Timestamp': '2024-07-11T16:43:30+09:00', 'Label': '상품상세_구매하기', 'Action': '농심)너구리얼큰(봉지)', 'Value': 1571.0, 'name': None, 'price': None, 'productID': None, 'transactionID': None, '_field_9': None, 'tester': 'true', 'products_struct_alias': array([{'name': '농심)너구리얼큰(봉지)', 'price': '1571', 'position': None}],\n",
      "       dtype=object)}\n",
      " {'Timestamp': '2024-07-11T16:43:54+09:00', 'Label': '상품상세_구매하기', 'Action': '농심)너구리얼큰(봉지)', 'Value': 1571.0, 'name': None, 'price': None, 'productID': None, 'transactionID': None, '_field_9': None, 'tester': 'true', 'products_struct_alias': array([{'name': '농심)너구리얼큰(봉지)', 'price': '1571', 'position': None}],\n",
      "       dtype=object)}\n",
      " {'Timestamp': '2024-07-11T16:43:42+09:00', 'Label': '상품상세_구매하기', 'Action': '농심)너구리얼큰(봉지)', 'Value': 1571.0, 'name': None, 'price': None, 'productID': None, 'transactionID': None, '_field_9': None, 'tester': 'true', 'products_struct_alias': array([{'name': '농심)너구리얼큰(봉지)', 'price': '1571', 'position': None}],\n",
      "       dtype=object)}                                                                                                                                                                                                                                                                                                ]\n"
     ]
    },
    {
     "ename": "IndexError",
     "evalue": "index 1 is out of bounds for axis 0 with size 1",
     "output_type": "error",
     "traceback": [
      "\u001b[1;31m---------------------------------------------------------------------------\u001b[0m",
      "\u001b[1;31mIndexError\u001b[0m                                Traceback (most recent call last)",
      "Cell \u001b[1;32mIn[308], line 5\u001b[0m\n\u001b[0;32m      3\u001b[0m tg \u001b[38;5;241m=\u001b[39m \u001b[38;5;28mlen\u001b[39m(row[\u001b[38;5;124m'\u001b[39m\u001b[38;5;124me\u001b[39m\u001b[38;5;124m'\u001b[39m][\u001b[38;5;241m0\u001b[39m][\u001b[38;5;124m'\u001b[39m\u001b[38;5;124md\u001b[39m\u001b[38;5;124m'\u001b[39m])\n\u001b[0;32m      4\u001b[0m \u001b[38;5;28;01mfor\u001b[39;00m i \u001b[38;5;129;01min\u001b[39;00m \u001b[38;5;28mrange\u001b[39m(tg):\n\u001b[1;32m----> 5\u001b[0m     \u001b[38;5;28mprint\u001b[39m(\u001b[43mrow\u001b[49m\u001b[43m[\u001b[49m\u001b[38;5;124;43m'\u001b[39;49m\u001b[38;5;124;43me\u001b[39;49m\u001b[38;5;124;43m'\u001b[39;49m\u001b[43m]\u001b[49m\u001b[43m[\u001b[49m\u001b[43mi\u001b[49m\u001b[43m]\u001b[49m[\u001b[38;5;124m'\u001b[39m\u001b[38;5;124md\u001b[39m\u001b[38;5;124m'\u001b[39m])\n",
      "\u001b[1;31mIndexError\u001b[0m: index 1 is out of bounds for axis 0 with size 1"
     ]
    }
   ],
   "source": [
    "for index, row in df.iterrows():\n",
    "    tg = len(df['e'][0][1]['d'])\n",
    "    tg = len(row['e'][0]['d'])\n",
    "    for i in range(tg):\n",
    "        print(row['e'][i]['d'])"
   ]
  },
  {
   "cell_type": "code",
   "execution_count": 309,
   "metadata": {},
   "outputs": [],
   "source": [
    "def pop_error_new_df(df,tg):\n",
    "    tg = '_field_9'\n",
    "    for index, row in df.iterrows():\n",
    "        for e_item in row['e']:\n",
    "            for d_item in e_item['d']:\n",
    "                if tg in d_item:\n",
    "                    d_item.pop(tg)\n",
    "\n"
   ]
  },
  {
   "cell_type": "code",
   "execution_count": 318,
   "metadata": {},
   "outputs": [
    {
     "data": {
      "text/plain": [
       "{'Label': '상품상세_구매하기',\n",
       " 'Action': '불싸이버거',\n",
       " 'Event_Value_Sum': 6857.0,\n",
       " 'Event_Count': 1,\n",
       " 'u': array([{'User_ID': 'a2429cdd-b07f-4a91-9352-0cda4b956d39'}], dtype=object),\n",
       " 'd': array([{'Timestamp': '2024-07-11T17:12:13+09:00', 'Label': '상품상세_구매하기', 'Action': '불싸이버거', 'Value': 6857.0, 'name': None, 'price': None, 'productID': None, 'transactionID': None, 'tester': 'true', 'products_struct_alias': array([{'name': '불싸이버거', 'price': '6857', 'position': None}], dtype=object)}],\n",
       "       dtype=object)}"
      ]
     },
     "execution_count": 318,
     "metadata": {},
     "output_type": "execute_result"
    }
   ],
   "source": [
    "df.e[200][0]"
   ]
  },
  {
   "cell_type": "code",
   "execution_count": 283,
   "metadata": {},
   "outputs": [
    {
     "data": {
      "text/plain": [
       "1"
      ]
     },
     "execution_count": 283,
     "metadata": {},
     "output_type": "execute_result"
    }
   ],
   "source": [
    "for i in len(df):\n",
    "len(df['e'][0][1]['d'])"
   ]
  },
  {
   "cell_type": "code",
   "execution_count": 280,
   "metadata": {},
   "outputs": [
    {
     "data": {
      "text/plain": [
       "array([{'Label': '상품상세_구매하기', 'Action': '서울)올데이프룻오렌지250ml', 'Event_Value_Sum': 6858.0, 'Event_Count': 3, 'u': array([{'User_ID': '6498c9f5-da63-4307-bff3-f601259bae4f'},\n",
       "              {'User_ID': '6498c9f5-da63-4307-bff3-f601259bae4f'},\n",
       "              {'User_ID': '6498c9f5-da63-4307-bff3-f601259bae4f'}], dtype=object), 'd': array([{'Timestamp': '2024-07-11T16:30:50+09:00', 'Label': '상품상세_구매하기', 'Action': '서울)올데이프룻오렌지250ml', 'Value': 2286.0, 'name': None, 'price': None, 'productID': None, 'transactionID': None, '_field_9': None, 'tester': 'true', 'products_struct_alias': array([{'name': '서울)올데이프룻오렌지250ml', 'price': '2286', 'position': None}],\n",
       "                    dtype=object)}                                                                                                                                                                                                                                                                                                        ,\n",
       "              {'Timestamp': '2024-07-11T16:31:13+09:00', 'Label': '상품상세_구매하기', 'Action': '서울)올데이프룻오렌지250ml', 'Value': 2286.0, 'name': None, 'price': None, 'productID': None, 'transactionID': None, '_field_9': None, 'tester': 'true', 'products_struct_alias': array([{'name': '서울)올데이프룻오렌지250ml', 'price': '2286', 'position': None}],\n",
       "                    dtype=object)}                                                                                                                                                                                                                                                                                                        ,\n",
       "              {'Timestamp': '2024-07-11T16:29:37+09:00', 'Label': '상품상세_구매하기', 'Action': '서울)올데이프룻오렌지250ml', 'Value': 2286.0, 'name': None, 'price': None, 'productID': None, 'transactionID': None, '_field_9': None, 'tester': 'true', 'products_struct_alias': array([{'name': '서울)올데이프룻오렌지250ml', 'price': '2286', 'position': None}],\n",
       "                    dtype=object)}                                                                                                                                                                                                                                                                                                        ],\n",
       "             dtype=object)}                                                                                                                                                                                                                                                                                                                                                                                                ],\n",
       "      dtype=object)"
      ]
     },
     "execution_count": 280,
     "metadata": {},
     "output_type": "execute_result"
    }
   ],
   "source": [
    "def remove_field_9(obj):\n",
    "    if isinstance(obj, list):\n",
    "        return [remove_field_9(item) for item in obj]\n",
    "    elif isinstance(obj, dict):\n",
    "        if '_field_9' in obj:\n",
    "            obj.pop('_field_9', None)\n",
    "        for k, v in obj.items():\n",
    "            obj[k] = remove_field_9(v)\n",
    "    return obj\n",
    "\n",
    "# Apply the function to remove '_field_9' in the nested dictionaries within the DataFrame\n",
    "df['e'] = df['e'].apply(lambda arr: np.array([remove_field_9(item) for item in arr], dtype=object))\n",
    "\n",
    "\n",
    "df['e'][100]"
   ]
  }
 ],
 "metadata": {
  "kernelspec": {
   "display_name": "pymc",
   "language": "python",
   "name": "python3"
  },
  "language_info": {
   "codemirror_mode": {
    "name": "ipython",
    "version": 3
   },
   "file_extension": ".py",
   "mimetype": "text/x-python",
   "name": "python",
   "nbconvert_exporter": "python",
   "pygments_lexer": "ipython3",
   "version": "3.12.2"
  }
 },
 "nbformat": 4,
 "nbformat_minor": 2
}
