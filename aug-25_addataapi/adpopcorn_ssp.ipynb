{
 "cells": [
  {
   "cell_type": "code",
   "execution_count": null,
   "id": "e3d70b11",
   "metadata": {},
   "outputs": [],
   "source": [
    "import requests\n",
    "import pandas as pd\n",
    "import datetime\n",
    "\n",
    "# API 변수 설정\n",
    "COMPANY_KEY = '여기에_회사키_입력'  # 실제 회사키로 교체\n",
    "API_URL = f\"http://dev.ssp-web-apis.adpopcorn.com/v3/analytics/data/{COMPANY_KEY}\"\n",
    "\n",
    "# 오늘 날짜 기준 전일 데이터 추출 (fromDate == toDate)\n",
    "today = datetime.date.today()\n",
    "yesterday = today - datetime.timedelta(days=1)\n",
    "from_date = yesterday.strftime('%Y%m%d')\n",
    "to_date = yesterday.strftime('%Y%m%d')\n",
    "\n",
    "params = {\n",
    "    'fromDate': from_date,\n",
    "    'toDate': to_date\n",
    "}\n",
    "\n",
    "headers = {'Content-Type': 'application/json'}\n",
    "\n",
    "# API 요청 및 응답 처리\n",
    "response = requests.get(API_URL, params=params, headers=headers)\n",
    "data = response.json()\n",
    "\n",
    "# 'items' 필드 추출\n",
    "items = data.get('items', [])\n",
    "\n",
    "# DataFrame 변환 및 CSV 저장\n",
    "df = pd.DataFrame(items)\n",
    "csv_filename = f\"ssp_report_{from_date}.csv\"\n",
    "df.to_csv(csv_filename, index=False, encoding='utf-8-sig')\n",
    "\n",
    "print(f\"완료: {csv_filename} 저장\")\n"
   ]
  }
 ],
 "metadata": {
  "kernelspec": {
   "display_name": "pymc",
   "language": "python",
   "name": "python3"
  },
  "language_info": {
   "name": "python",
   "version": "3.9.18"
  }
 },
 "nbformat": 4,
 "nbformat_minor": 5
}
