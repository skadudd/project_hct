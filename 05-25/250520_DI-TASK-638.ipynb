{
 "cells": [
  {
   "cell_type": "code",
   "execution_count": 1,
   "metadata": {},
   "outputs": [
    {
     "name": "stderr",
     "output_type": "stream",
     "text": [
      "c:\\Users\\Owner\\miniconda3\\envs\\stats\\Lib\\site-packages\\requests\\__init__.py:86: RequestsDependencyWarning: Unable to find acceptable character detection dependency (chardet or charset_normalizer).\n",
      "  warnings.warn(\n"
     ]
    }
   ],
   "source": [
    "import pandas as pd\n",
    "from google.cloud import bigquery\n",
    "from datetime import datetime, timedelta\n",
    "from google.cloud.bigquery import job\n",
    "PROJECT = 'ballosodeuk'\n",
    "bq = bigquery.Client(project=PROJECT)\n",
    "\n",
    "\n",
    "# https://www.notion.so/hecto1app/2-1f90b8e5ab1680f69e1ce36a566995ad 처리건\n",
    "# Query-64"
   ]
  },
  {
   "cell_type": "code",
   "execution_count": null,
   "metadata": {},
   "outputs": [],
   "source": []
  },
  {
   "cell_type": "code",
   "execution_count": 2,
   "metadata": {},
   "outputs": [],
   "source": [
    "\n",
    "\n",
    "query = \"\"\"\n",
    "select * from ballosodeuk.ynam.rfm_table_byshop_category_power\n",
    "\"\"\"\n",
    "df = bq.query(query).to_dataframe()"
   ]
  },
  {
   "cell_type": "code",
   "execution_count": 16,
   "metadata": {},
   "outputs": [],
   "source": [
    "query = \"\"\" \n",
    "with tg as \n",
    "  (select b.wk_id as user_id\n",
    "  from\n",
    "    (select distinct member_no\n",
    "    from `dw.fact_shopby_reward`\n",
    "    where \n",
    "      -- register_dt >= current_date() -31 \n",
    "      -- register_dt between \"2025-04-19\" and \"2025-05-18\"\n",
    "      register_dt between \"2025-04-19\" and \"2025-05-18\"\n",
    "      and reason_detail like \"[챌린지]%\") a\n",
    "  inner join `dw.dim_shopby_member` b on a.member_no = b.member_no)\n",
    "\n",
    ",ft_tg as \n",
    "  (select user_id, current_shoji\n",
    "  from\n",
    "    (select \n",
    "      user_id, current_shoji,\n",
    "      row_number() over (partition by user_id order by register_dt desc) as rn\n",
    "    from `dm.agg_user_cash_daily`\n",
    "    where signout_dt is null and user_id in (\n",
    "      select user_id from tg ))\n",
    "  where rn = 1)\n",
    "\n",
    "\n",
    ",chg_joined as (\n",
    "  select distinct user_id\n",
    "  from dw.fact_airbridge_event\n",
    "    ,unnest(event_detail) ed with offset as offset_ed\n",
    "  where 1=1\n",
    "    and event_dt between \"2025-03-19\" and \"2025-04-19\"\n",
    "    and event_category = 'view_get__ch_join_done (App)'\n",
    "    and event_action in (\"1163\", \"1161\", \"1107\")\n",
    ")\n",
    "\n",
    ",fn_tg as (\n",
    "  select *\n",
    "  from ft_tg\n",
    "  where user_id not in (\n",
    "    select user_id\n",
    "    from chg_joined\n",
    "  )\n",
    ")\n",
    "\n",
    ",shoji_range_df as\n",
    "  (select user_id,\n",
    "    case \n",
    "      when current_shoji is Null then 'No-shoji'\n",
    "      when current_shoji = 0 then '0'\n",
    "      when current_shoji between 1 and 999 then '1~999'\n",
    "      else \n",
    "        concat(\n",
    "            cast(floor(current_shoji / 1000) * 1000 as int64),\n",
    "            '~',\n",
    "            cast(floor(current_shoji / 1000) * 1000 + 999 as int64)\n",
    "        ) \n",
    "    end as shoji_range, \n",
    "    case \n",
    "      when current_shoji is Null then null\n",
    "      when current_shoji = 0 then 0\n",
    "      when current_shoji between 1 and 999 then 999\n",
    "      else cast(floor(current_shoji / 1000) * 1000 + 999 as int64)\n",
    "    end as max_shoji_range,\n",
    "    current_shoji\n",
    "  from fn_tg)\n",
    "\n",
    "\n",
    "select max_shoji_range, shoji_range, user_id\n",
    "from shoji_range_df\n",
    "where max_shoji_range between 1999 and 9999\n",
    "order by max_shoji_range\n",
    "\n",
    "\"\"\""
   ]
  },
  {
   "cell_type": "code",
   "execution_count": 17,
   "metadata": {},
   "outputs": [
    {
     "data": {
      "text/html": [
       "<div>\n",
       "<style scoped>\n",
       "    .dataframe tbody tr th:only-of-type {\n",
       "        vertical-align: middle;\n",
       "    }\n",
       "\n",
       "    .dataframe tbody tr th {\n",
       "        vertical-align: top;\n",
       "    }\n",
       "\n",
       "    .dataframe thead th {\n",
       "        text-align: right;\n",
       "    }\n",
       "</style>\n",
       "<table border=\"1\" class=\"dataframe\">\n",
       "  <thead>\n",
       "    <tr style=\"text-align: right;\">\n",
       "      <th></th>\n",
       "      <th>max_shoji_range</th>\n",
       "      <th>shoji_range</th>\n",
       "      <th>user_id</th>\n",
       "    </tr>\n",
       "  </thead>\n",
       "  <tbody>\n",
       "    <tr>\n",
       "      <th>0</th>\n",
       "      <td>1999</td>\n",
       "      <td>1000~1999</td>\n",
       "      <td>8d3a034c-e28d-41ad-a4de-a73e3635d917</td>\n",
       "    </tr>\n",
       "    <tr>\n",
       "      <th>1</th>\n",
       "      <td>1999</td>\n",
       "      <td>1000~1999</td>\n",
       "      <td>ba73f753-a829-40ce-9082-fba110d250ff</td>\n",
       "    </tr>\n",
       "    <tr>\n",
       "      <th>2</th>\n",
       "      <td>1999</td>\n",
       "      <td>1000~1999</td>\n",
       "      <td>e7ab2217-ad5e-4eb0-a68e-cb8dedc06698</td>\n",
       "    </tr>\n",
       "    <tr>\n",
       "      <th>3</th>\n",
       "      <td>1999</td>\n",
       "      <td>1000~1999</td>\n",
       "      <td>f9303ae9-e6bc-4dc7-9b6b-8f662186abcd</td>\n",
       "    </tr>\n",
       "    <tr>\n",
       "      <th>4</th>\n",
       "      <td>1999</td>\n",
       "      <td>1000~1999</td>\n",
       "      <td>3cb0fc47-f7cb-4759-8bd8-3d9c4315871c</td>\n",
       "    </tr>\n",
       "  </tbody>\n",
       "</table>\n",
       "</div>"
      ],
      "text/plain": [
       "   max_shoji_range shoji_range                               user_id\n",
       "0             1999   1000~1999  8d3a034c-e28d-41ad-a4de-a73e3635d917\n",
       "1             1999   1000~1999  ba73f753-a829-40ce-9082-fba110d250ff\n",
       "2             1999   1000~1999  e7ab2217-ad5e-4eb0-a68e-cb8dedc06698\n",
       "3             1999   1000~1999  f9303ae9-e6bc-4dc7-9b6b-8f662186abcd\n",
       "4             1999   1000~1999  3cb0fc47-f7cb-4759-8bd8-3d9c4315871c"
      ]
     },
     "execution_count": 17,
     "metadata": {},
     "output_type": "execute_result"
    }
   ],
   "source": [
    "df = bq.query(query).to_dataframe()\n",
    "df.head()"
   ]
  },
  {
   "cell_type": "code",
   "execution_count": 19,
   "metadata": {},
   "outputs": [],
   "source": [
    "df.to_excel(\"C:\\\\Users\\\\Owner\\\\Documents\\\\업무 문서\\\\1. Project\\\\250520_추출_DI-TASK-638\\\\250516_get_rcvr_raw.xlsx\")"
   ]
  },
  {
   "cell_type": "code",
   "execution_count": 18,
   "metadata": {},
   "outputs": [
    {
     "data": {
      "text/plain": [
       "36724"
      ]
     },
     "execution_count": 18,
     "metadata": {},
     "output_type": "execute_result"
    }
   ],
   "source": [
    "df.user_id.nunique()"
   ]
  }
 ],
 "metadata": {
  "kernelspec": {
   "display_name": "stats",
   "language": "python",
   "name": "python3"
  },
  "language_info": {
   "codemirror_mode": {
    "name": "ipython",
    "version": 3
   },
   "file_extension": ".py",
   "mimetype": "text/x-python",
   "name": "python",
   "nbconvert_exporter": "python",
   "pygments_lexer": "ipython3",
   "version": "3.11.4"
  }
 },
 "nbformat": 4,
 "nbformat_minor": 2
}
