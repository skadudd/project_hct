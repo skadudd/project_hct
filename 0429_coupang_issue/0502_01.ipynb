{
 "cells": [
  {
   "cell_type": "code",
   "execution_count": 2,
   "metadata": {},
   "outputs": [
    {
     "name": "stderr",
     "output_type": "stream",
     "text": [
      "c:\\Users\\Owner\\miniconda3\\envs\\stats\\Lib\\site-packages\\pandas\\core\\arrays\\masked.py:60: UserWarning: Pandas requires version '1.3.6' or newer of 'bottleneck' (version '1.3.5' currently installed).\n",
      "  from pandas.core import (\n",
      "c:\\Users\\Owner\\miniconda3\\envs\\stats\\Lib\\site-packages\\google\\auth\\_default.py:76: UserWarning: Your application has authenticated using end user credentials from Google Cloud SDK without a quota project. You might receive a \"quota exceeded\" or \"API not enabled\" error. See the following page for troubleshooting: https://cloud.google.com/docs/authentication/adc-troubleshooting/user-creds. \n",
      "  warnings.warn(_CLOUD_SDK_CREDENTIALS_WARNING)\n"
     ]
    }
   ],
   "source": [
    "from google.cloud import bigquery\n",
    "from google.cloud.bigquery import job\n",
    "import pandas as pd\n",
    "\n",
    "PROJCECT = 'ballosodeuk'\n",
    "bq = bigquery.Client(project=PROJCECT)"
   ]
  },
  {
   "cell_type": "code",
   "execution_count": 4,
   "metadata": {},
   "outputs": [],
   "source": [
    "query = \"\"\"\n",
    "WITH prod as (\n",
    "  SELECT Event_Date,User_ID, JSON_EXTRACT_ARRAY(Semantic_Event_Properties, '$.products') AS products\n",
    "  FROM `ballosodeuk.airbridge_lake.app`\n",
    "  WHERE  \n",
    "    TIMESTAMP_TRUNC(_PARTITIONTIME, DAY) >= TIMESTAMP(\"2024-04-29\") AND\n",
    "    Event_Category = 'Ad Impression (App)' AND Event_Label = '홈_상단_캐시버튼' AND Event_Action = '직광고_쿠팡' And\n",
    "    Semantic_Event_Properties is not Null AND\n",
    "    Event_Date between \"2024-04-11\" AND \"2024-04-24\"\n",
    "    ) \n",
    "    ,\n",
    "\n",
    "click as (\n",
    "  select distinct User_ID\n",
    "  from `ballosodeuk.airbridge_lake.app`\n",
    "  where \n",
    "    TIMESTAMP_TRUNC(_PARTITIONTIME, DAY) >= TIMESTAMP(\"2024-04-29\") AND \n",
    "    Event_Category = 'Ad Click (App)' AND\n",
    "    Event_Date between \"2024-04-11\" AND \"2024-04-24\"\n",
    ")\n",
    "  \n",
    "select p.Event_Date, p.User_ID,\n",
    "  ARRAY_TO_STRING(ARRAY(\n",
    "  select JSON_EXTRACT_SCALAR(products, '$.name')\n",
    "  from UNNEST(p.products) As products\n",
    "  ),',') as product_names,\n",
    "  IF(p.Event_Date between \"2024-04-11\" AND \"2024-04-17\",'before','after') as period\n",
    "from prod p\n",
    "join \n",
    "  click c on p.User_ID = c.User_ID\n",
    "\n",
    "\"\"\""
   ]
  },
  {
   "cell_type": "code",
   "execution_count": 5,
   "metadata": {},
   "outputs": [],
   "source": [
    "job_config = bigquery.QueryJobConfig()\n",
    "job_config.use_query_cache = False\n",
    "job_config.allow_large_results = True"
   ]
  },
  {
   "cell_type": "code",
   "execution_count": 6,
   "metadata": {},
   "outputs": [],
   "source": [
    "query_job = bq.query(query,job_config=job_config)"
   ]
  },
  {
   "cell_type": "code",
   "execution_count": null,
   "metadata": {},
   "outputs": [],
   "source": [
    "# 쿼리 실행 및 결과 저장\n",
    "query_job = bq.query(query)\n",
    "\n",
    "# 결과를 날짜별로 Parquet 파일로 저장\n",
    "try:\n",
    "    for partition in query_job.result().to_dataframe_iterable():\n",
    "        if not partition.empty:\n",
    "            # 이벤트 날짜를 YYYY-mm-dd 형식으로 변환하여 파일명 생성\n",
    "            partition_date = partition['Event_Date'].iloc[0]\n",
    "            # 저장할 경로 확인 및 생성\n",
    "            save_path = f'../result/{partition_date}.parquet'\n",
    "            # os.makedirs(os.path.dirname(save_path), exist_ok=True)\n",
    "            # Parquet 파일로 저장\n",
    "            partition.to_parquet(save_path)\n",
    "except Exception as e:\n",
    "    print(f'error: {e}')"
   ]
  }
 ],
 "metadata": {
  "kernelspec": {
   "display_name": "stats",
   "language": "python",
   "name": "python3"
  },
  "language_info": {
   "codemirror_mode": {
    "name": "ipython",
    "version": 3
   },
   "file_extension": ".py",
   "mimetype": "text/x-python",
   "name": "python",
   "nbconvert_exporter": "python",
   "pygments_lexer": "ipython3",
   "version": "3.11.4"
  }
 },
 "nbformat": 4,
 "nbformat_minor": 2
}
