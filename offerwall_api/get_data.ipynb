{
 "cells": [
  {
   "cell_type": "code",
   "execution_count": 20,
   "metadata": {},
   "outputs": [],
   "source": [
    "import pandas as pd\n",
    "import json\n",
    "import requests\n",
    "import datetime as dt\n",
    "from datetime import date, timedelta"
   ]
  },
  {
   "cell_type": "code",
   "execution_count": 22,
   "metadata": {},
   "outputs": [
    {
     "name": "stdout",
     "output_type": "stream",
     "text": [
      "2024-08-19 2024-08-19\n"
     ]
    }
   ],
   "source": [
    "token = pd.read_csv('./access.csv').loc[0]['token']\n",
    "start_date = date.today() - timedelta(days=1)\n",
    "end_date = date.today() - timedelta(days=1)\n",
    "start_date = start_date.strftime('%Y-%m-%d')\n",
    "end_date = end_date.strftime('%Y-%m-%d')\n",
    "\n",
    "print(start_date, end_date)"
   ]
  },
  {
   "cell_type": "code",
   "execution_count": 24,
   "metadata": {},
   "outputs": [
    {
     "name": "stdout",
     "output_type": "stream",
     "text": [
      "{\n",
      "    \"generatedDate\": \"2024-08-20T09:35:52.7191601+09:00\",\n",
      "    \"startDate\": \"2024-08-19T00:00:00\",\n",
      "    \"endDate\": \"2024-08-19T00:00:00\",\n",
      "    \"version\": \"1.0\",\n",
      "    \"Datas\": [\n",
      "        {\n",
      "            \"ReportDate\": \"20240819\",\n",
      "            \"TotalRevenue\": 366070.0,\n",
      "            \"DAU\": 0,\n",
      "            \"Offerwall\": {\n",
      "                \"OfferwallVisit\": 8715,\n",
      "                \"Conversion\": 15833,\n",
      "                \"CVR\": 181.68,\n",
      "                \"Revenue\": 227509.0\n",
      "            },\n",
      "            \"RCPM\": {\n",
      "                \"Impression\": 72001,\n",
      "                \"Click\": 39595,\n",
      "                \"CTR\": 54.99,\n",
      "                \"eCPM\": 1924.43,\n",
      "                \"Revenue\": 138561.0\n",
      "            },\n",
      "            \"ContentsClick\": {\n",
      "                \"Impression\": 0,\n",
      "                \"Click\": 0,\n",
      "                \"CVR\": 0.0,\n",
      "                \"Revenue\": 0.0\n",
      "            }\n",
      "        }\n",
      "    ]\n",
      "}\n"
     ]
    }
   ],
   "source": [
    "def get_json_from_url(url):\n",
    "    try:\n",
    "        response = requests.get(url)\n",
    "        response.raise_for_status()  # 요청이 성공하지 못하면 예외 발생\n",
    "        data = response.json()  # 응답을 JSON 형식으로 파싱\n",
    "        return data\n",
    "    except requests.exceptions.HTTPError as http_err:\n",
    "        print(f\"HTTP error occurred: {http_err}\")  # HTTP 오류 처리\n",
    "    except Exception as err:\n",
    "        print(f\"An error occurred: {err}\")  # 기타 오류 처리\n",
    "    return None\n",
    "\n",
    "def pretty_print_json(data):\n",
    "    if data:\n",
    "        pretty_json = json.dumps(data, indent=4)\n",
    "        print(pretty_json)\n",
    "\n",
    "url = f\"https://report.ad-brix.com/v1/Revenue?access_token={token}&startDate={start_date}&endDate={end_date}&format=json\"\n",
    "json_data = get_json_from_url(url)\n",
    "\n",
    "if json_data:\n",
    "    pretty_print_json(json_data)\n",
    "    \n"
   ]
  },
  {
   "cell_type": "markdown",
   "metadata": {},
   "source": [
    "https://report.ad-brix.com/v1/Revenue?access_token=81289be620467f6efd4e2d522febc1cd&startDate=2024-08-01&endDate=2024-08-02&format=json"
   ]
  },
  {
   "cell_type": "code",
   "execution_count": null,
   "metadata": {},
   "outputs": [],
   "source": [
    "\n",
    "url = f\"https://report.ad-brix.com/v1/Revenue?access_token={token}&startDate={start_date}&endDate={end_date}&format=json\""
   ]
  }
 ],
 "metadata": {
  "kernelspec": {
   "display_name": "pymc",
   "language": "python",
   "name": "python3"
  },
  "language_info": {
   "codemirror_mode": {
    "name": "ipython",
    "version": 3
   },
   "file_extension": ".py",
   "mimetype": "text/x-python",
   "name": "python",
   "nbconvert_exporter": "python",
   "pygments_lexer": "ipython3",
   "version": "3.9.18"
  }
 },
 "nbformat": 4,
 "nbformat_minor": 2
}
