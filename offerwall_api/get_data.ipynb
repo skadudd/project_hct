{
 "cells": [
  {
   "cell_type": "code",
   "execution_count": 18,
   "metadata": {},
   "outputs": [],
   "source": [
    "import pandas as pd\n",
    "import json\n",
    "import requests\n",
    "import datetime as dt\n",
    "from datetime import date, timedelta\n",
    "import sys\n",
    "from bs4 import BeautifulSoup\n",
    "from datetime import datetime, timedelta\n"
   ]
  },
  {
   "cell_type": "code",
   "execution_count": 19,
   "metadata": {},
   "outputs": [
    {
     "name": "stdout",
     "output_type": "stream",
     "text": [
      "2024-08-19 2024-08-21\n"
     ]
    }
   ],
   "source": [
    "token = pd.read_csv('./access.csv').loc[0]['token']\n",
    "start_date = date.today() - timedelta(days=3)\n",
    "end_date = date.today() - timedelta(days=1)\n",
    "start_date = start_date.strftime('%Y-%m-%d')\n",
    "end_date = end_date.strftime('%Y-%m-%d')\n",
    "\n",
    "print(start_date, end_date)"
   ]
  },
  {
   "cell_type": "markdown",
   "metadata": {},
   "source": [
    "## 아바티 크롤링\n",
    "아바티 로그인 및 데이터 수집\n",
    "> iOS의 경우 1일 전 데이터가 안들어오는듯? 대시보드상에는 들어옴\n",
    "`> 일단 API 요청했으니 구글시트로 temp"
   ]
  },
  {
   "cell_type": "code",
   "execution_count": 190,
   "metadata": {},
   "outputs": [],
   "source": [
    "end_date = date.today().strftime('%Y-%m-%d')\n",
    "end_date = date.today() - timedelta(days=8)\n",
    "end_date = end_date.strftime('%Y-%m-%d')"
   ]
  },
  {
   "cell_type": "code",
   "execution_count": 188,
   "metadata": {},
   "outputs": [
    {
     "name": "stdout",
     "output_type": "stream",
     "text": [
      "2024-08-21\n"
     ]
    }
   ],
   "source": [
    "print(end_date)"
   ]
  },
  {
   "cell_type": "code",
   "execution_count": 1,
   "metadata": {},
   "outputs": [],
   "source": [
    "start_date = \"2024-05-23\"\n",
    "end_date = \"2024-08-21\"\n",
    "platforms = {\n",
    "    'ios':'d3a74845654442c38a77a1579c94e078',\n",
    "    'aos':'6d5760ccfd9748d3a1ab2ffaa72c938f'\n",
    "}\n",
    "app_id = ''"
   ]
  },
  {
   "cell_type": "code",
   "execution_count": 245,
   "metadata": {},
   "outputs": [
    {
     "name": "stdout",
     "output_type": "stream",
     "text": [
      "login_success\n",
      "<Response [200]>\n",
      "<Response [200]>\n"
     ]
    },
    {
     "name": "stderr",
     "output_type": "stream",
     "text": [
      "C:\\Users\\Owner\\AppData\\Local\\Temp\\ipykernel_43084\\3394774253.py:81: FutureWarning: Downcasting object dtype arrays on .fillna, .ffill, .bfill is deprecated and will change in a future version. Call result.infer_objects(copy=False) instead. To opt-in to the future behavior, set `pd.set_option('future.no_silent_downcasting', True)`\n",
      "  result_data.fillna(0)\n"
     ]
    },
    {
     "data": {
      "text/html": [
       "<div>\n",
       "<style scoped>\n",
       "    .dataframe tbody tr th:only-of-type {\n",
       "        vertical-align: middle;\n",
       "    }\n",
       "\n",
       "    .dataframe tbody tr th {\n",
       "        vertical-align: top;\n",
       "    }\n",
       "\n",
       "    .dataframe thead th {\n",
       "        text-align: right;\n",
       "    }\n",
       "</style>\n",
       "<table border=\"1\" class=\"dataframe\">\n",
       "  <thead>\n",
       "    <tr style=\"text-align: right;\">\n",
       "      <th></th>\n",
       "      <th>event_date</th>\n",
       "      <th>newAccount</th>\n",
       "      <th>dau</th>\n",
       "      <th>appDau</th>\n",
       "      <th>touchCount</th>\n",
       "      <th>touchPerUser</th>\n",
       "      <th>invitedCount</th>\n",
       "      <th>totalRevenue</th>\n",
       "      <th>totalExpense</th>\n",
       "      <th>expectedRevenue</th>\n",
       "      <th>totalSales</th>\n",
       "      <th>platform</th>\n",
       "    </tr>\n",
       "  </thead>\n",
       "  <tbody>\n",
       "    <tr>\n",
       "      <th>0</th>\n",
       "      <td>2024-08-21</td>\n",
       "      <td>581</td>\n",
       "      <td>15249</td>\n",
       "      <td>301594</td>\n",
       "      <td>1707971</td>\n",
       "      <td>112.0</td>\n",
       "      <td>None</td>\n",
       "      <td>460091</td>\n",
       "      <td>280000</td>\n",
       "      <td>460091</td>\n",
       "      <td>460091</td>\n",
       "      <td>aos</td>\n",
       "    </tr>\n",
       "    <tr>\n",
       "      <th>1</th>\n",
       "      <td>2024-08-20</td>\n",
       "      <td>569</td>\n",
       "      <td>15012</td>\n",
       "      <td>381316</td>\n",
       "      <td>1697318</td>\n",
       "      <td>113.0</td>\n",
       "      <td>None</td>\n",
       "      <td>555461</td>\n",
       "      <td>261000</td>\n",
       "      <td>555461</td>\n",
       "      <td>555461</td>\n",
       "      <td>aos</td>\n",
       "    </tr>\n",
       "    <tr>\n",
       "      <th>2</th>\n",
       "      <td>2024-08-19</td>\n",
       "      <td>851</td>\n",
       "      <td>15728</td>\n",
       "      <td>236787</td>\n",
       "      <td>1732752</td>\n",
       "      <td>110.0</td>\n",
       "      <td>None</td>\n",
       "      <td>664332</td>\n",
       "      <td>247000</td>\n",
       "      <td>664332</td>\n",
       "      <td>664332</td>\n",
       "      <td>aos</td>\n",
       "    </tr>\n",
       "    <tr>\n",
       "      <th>3</th>\n",
       "      <td>2024-08-18</td>\n",
       "      <td>853</td>\n",
       "      <td>15183</td>\n",
       "      <td>205041</td>\n",
       "      <td>1659410</td>\n",
       "      <td>109.0</td>\n",
       "      <td>None</td>\n",
       "      <td>661936</td>\n",
       "      <td>308000</td>\n",
       "      <td>661936</td>\n",
       "      <td>661936</td>\n",
       "      <td>aos</td>\n",
       "    </tr>\n",
       "    <tr>\n",
       "      <th>4</th>\n",
       "      <td>2024-08-17</td>\n",
       "      <td>543</td>\n",
       "      <td>14445</td>\n",
       "      <td>210727</td>\n",
       "      <td>1605526</td>\n",
       "      <td>111.0</td>\n",
       "      <td>None</td>\n",
       "      <td>635040</td>\n",
       "      <td>333000</td>\n",
       "      <td>635040</td>\n",
       "      <td>635040</td>\n",
       "      <td>aos</td>\n",
       "    </tr>\n",
       "    <tr>\n",
       "      <th>...</th>\n",
       "      <td>...</td>\n",
       "      <td>...</td>\n",
       "      <td>...</td>\n",
       "      <td>...</td>\n",
       "      <td>...</td>\n",
       "      <td>...</td>\n",
       "      <td>...</td>\n",
       "      <td>...</td>\n",
       "      <td>...</td>\n",
       "      <td>...</td>\n",
       "      <td>...</td>\n",
       "      <td>...</td>\n",
       "    </tr>\n",
       "    <tr>\n",
       "      <th>102</th>\n",
       "      <td>2024-05-11</td>\n",
       "      <td>0</td>\n",
       "      <td>0</td>\n",
       "      <td>0</td>\n",
       "      <td>0</td>\n",
       "      <td>NaN</td>\n",
       "      <td>None</td>\n",
       "      <td>0</td>\n",
       "      <td>0</td>\n",
       "      <td>0</td>\n",
       "      <td>0</td>\n",
       "      <td>ios</td>\n",
       "    </tr>\n",
       "    <tr>\n",
       "      <th>103</th>\n",
       "      <td>2024-05-10</td>\n",
       "      <td>0</td>\n",
       "      <td>0</td>\n",
       "      <td>0</td>\n",
       "      <td>0</td>\n",
       "      <td>NaN</td>\n",
       "      <td>None</td>\n",
       "      <td>0</td>\n",
       "      <td>0</td>\n",
       "      <td>0</td>\n",
       "      <td>0</td>\n",
       "      <td>ios</td>\n",
       "    </tr>\n",
       "    <tr>\n",
       "      <th>104</th>\n",
       "      <td>2024-05-09</td>\n",
       "      <td>0</td>\n",
       "      <td>0</td>\n",
       "      <td>0</td>\n",
       "      <td>0</td>\n",
       "      <td>NaN</td>\n",
       "      <td>None</td>\n",
       "      <td>0</td>\n",
       "      <td>0</td>\n",
       "      <td>0</td>\n",
       "      <td>0</td>\n",
       "      <td>ios</td>\n",
       "    </tr>\n",
       "    <tr>\n",
       "      <th>105</th>\n",
       "      <td>2024-05-08</td>\n",
       "      <td>0</td>\n",
       "      <td>0</td>\n",
       "      <td>0</td>\n",
       "      <td>0</td>\n",
       "      <td>NaN</td>\n",
       "      <td>None</td>\n",
       "      <td>0</td>\n",
       "      <td>0</td>\n",
       "      <td>0</td>\n",
       "      <td>0</td>\n",
       "      <td>ios</td>\n",
       "    </tr>\n",
       "    <tr>\n",
       "      <th>106</th>\n",
       "      <td>2024-05-07</td>\n",
       "      <td>0</td>\n",
       "      <td>0</td>\n",
       "      <td>0</td>\n",
       "      <td>0</td>\n",
       "      <td>NaN</td>\n",
       "      <td>None</td>\n",
       "      <td>0</td>\n",
       "      <td>0</td>\n",
       "      <td>0</td>\n",
       "      <td>0</td>\n",
       "      <td>ios</td>\n",
       "    </tr>\n",
       "  </tbody>\n",
       "</table>\n",
       "<p>219 rows × 12 columns</p>\n",
       "</div>"
      ],
      "text/plain": [
       "    event_date  newAccount    dau  appDau  touchCount  touchPerUser  \\\n",
       "0   2024-08-21         581  15249  301594     1707971         112.0   \n",
       "1   2024-08-20         569  15012  381316     1697318         113.0   \n",
       "2   2024-08-19         851  15728  236787     1732752         110.0   \n",
       "3   2024-08-18         853  15183  205041     1659410         109.0   \n",
       "4   2024-08-17         543  14445  210727     1605526         111.0   \n",
       "..         ...         ...    ...     ...         ...           ...   \n",
       "102 2024-05-11           0      0       0           0           NaN   \n",
       "103 2024-05-10           0      0       0           0           NaN   \n",
       "104 2024-05-09           0      0       0           0           NaN   \n",
       "105 2024-05-08           0      0       0           0           NaN   \n",
       "106 2024-05-07           0      0       0           0           NaN   \n",
       "\n",
       "    invitedCount  totalRevenue  totalExpense  expectedRevenue  totalSales  \\\n",
       "0           None        460091        280000           460091      460091   \n",
       "1           None        555461        261000           555461      555461   \n",
       "2           None        664332        247000           664332      664332   \n",
       "3           None        661936        308000           661936      661936   \n",
       "4           None        635040        333000           635040      635040   \n",
       "..           ...           ...           ...              ...         ...   \n",
       "102         None             0             0                0           0   \n",
       "103         None             0             0                0           0   \n",
       "104         None             0             0                0           0   \n",
       "105         None             0             0                0           0   \n",
       "106         None             0             0                0           0   \n",
       "\n",
       "    platform  \n",
       "0        aos  \n",
       "1        aos  \n",
       "2        aos  \n",
       "3        aos  \n",
       "4        aos  \n",
       "..       ...  \n",
       "102      ios  \n",
       "103      ios  \n",
       "104      ios  \n",
       "105      ios  \n",
       "106      ios  \n",
       "\n",
       "[219 rows x 12 columns]"
      ]
     },
     "execution_count": 245,
     "metadata": {},
     "output_type": "execute_result"
    }
   ],
   "source": [
    "#7일씩 가져옴. 마지막 날짜 기준\n",
    "login_url = \"https://partner.avatye.com/api/auth/check\"\n",
    "data_url = f\"https://partner.avatye.com/api/cashButton/report/list?appID={app_id}&startDate={start_date}&endDate={end_date}&limit=999\"\n",
    "login_data = {\n",
    "    'emailID' : \"iehong@hecto.co.kr\",\n",
    "    'password' : \"cash!1234\"\n",
    "}\n",
    "\n",
    "headers = {\n",
    "    'User-Agent': 'Mozilla/5.0 (Windows NT 10.0; Win64; x64) AppleWebKit/537.36 (KHTML, like Gecko) Chrome/90.0.4430.93 Safari/537.36',\n",
    "    'User-Agent': 'Mozilla/5.0 (Windows NT 10.0; Win64; x64) AppleWebKit/537.36 (KHTML, like Gecko) Chrome/127.0.0.0',\n",
    "    'Content-Type': 'application/json', \n",
    "}\n",
    "def get_login(login_url,json,headers):\n",
    "    response = session.post(login_url, json=login_data, headers=headers)\n",
    "    if response.status_code == 200:\n",
    "        return response\n",
    "    else:\n",
    "        False\n",
    "        \n",
    "# 웹 페이지 URL\n",
    "def get_data(data_url):\n",
    "    url = data_url\n",
    "    # 웹 페이지의 HTML 가져오기\n",
    "    response = requests.get(url)\n",
    "    print(response)\n",
    "    return response.json()\n",
    "\n",
    "def convert_timezone(utc) :\n",
    "    from datetime import datetime, timedelta\n",
    "\n",
    "    utc_time = datetime.strptime(utc, \"%Y-%m-%dT%H:%M:%S.%fZ\")\n",
    "    kst_time = utc_time + timedelta(hours=9)\n",
    "    return kst_time.strftime(\"%Y-%m-%d %H:%M:%S\")\n",
    "\n",
    "def get_avati_report(json_data):\n",
    "    df = pd.json_normalize(\n",
    "        json_data['list'],\n",
    "        # record_path=['data'],\n",
    "        # meta=['appID', 'appName'],\n",
    "        # errors='ignore'\n",
    "    )\n",
    "\n",
    "    df['actionDateTime'] = df['actionDateTime'].apply(convert_timezone)\n",
    "\n",
    "    return df\n",
    "\n",
    "def set_header(data_url, app_id, start_date, end_date):\n",
    "    data_url = f\"https://partner.avatye.com/api/cashButton/report/list?appID={app_id}&startDate={start_date}&endDate={end_date}&limit=999\"\n",
    "    return data_url\n",
    "\n",
    "with requests.Session() as session:\n",
    "    response = get_login(login_url, json=login_data, headers=headers)\n",
    "    if response == False:\n",
    "        print(\"login_failed\")\n",
    "        sys.exit(1)\n",
    "    else:\n",
    "        print(\"login_success\")\n",
    "        pass\n",
    "    \n",
    "    key = 'ios'\n",
    "    data_url = set_header(data_url,platforms[key],\"2024-04-01\",\"2024-08-21\")\n",
    "    json_data = get_data(data_url)\n",
    "\n",
    "    result_data_ios = get_avati_report(json_data)\n",
    "    result_data_ios['platform'] = key\n",
    "    result_data_ios['actionDateTime'] = pd.to_datetime(result_data_ios['actionDateTime'])\n",
    "    result_data_ios.rename(columns={'actionDateTime':'event_date'},inplace=True)\n",
    "\n",
    "    key = 'aos'\n",
    "    data_url = set_header(data_url,platforms[key],\"2024-04-01\",\"2024-08-21\")\n",
    "    json_data = get_data(data_url)\n",
    "\n",
    "    result_data_aos = get_avati_report(json_data)\n",
    "    result_data_aos['platform'] = key\n",
    "    result_data_aos['actionDateTime'] = pd.to_datetime(result_data_aos['actionDateTime'])\n",
    "    result_data_aos.rename(columns={'actionDateTime':'event_date'},inplace=True)\n",
    "    \n",
    "\n",
    "result_data = pd.concat([result_data_aos, result_data_ios],axis=0)\n",
    "result_data.fillna(0)\n",
    "\n",
    "result_data\n",
    "\n",
    "\n"
   ]
  },
  {
   "cell_type": "code",
   "execution_count": 246,
   "metadata": {},
   "outputs": [
    {
     "name": "stdout",
     "output_type": "stream",
     "text": [
      "<class 'pandas.core.frame.DataFrame'>\n",
      "Index: 219 entries, 0 to 106\n",
      "Data columns (total 12 columns):\n",
      " #   Column           Non-Null Count  Dtype         \n",
      "---  ------           --------------  -----         \n",
      " 0   actionDateTime   219 non-null    datetime64[ns]\n",
      " 1   newAccount       219 non-null    int64         \n",
      " 2   dau              219 non-null    int64         \n",
      " 3   appDau           219 non-null    int64         \n",
      " 4   touchCount       219 non-null    int64         \n",
      " 5   touchPerUser     219 non-null    float64       \n",
      " 6   invitedCount     219 non-null    int64         \n",
      " 7   totalRevenue     219 non-null    int64         \n",
      " 8   totalExpense     219 non-null    int64         \n",
      " 9   expectedRevenue  219 non-null    int64         \n",
      " 10  totalSales       219 non-null    int64         \n",
      " 11  platform         219 non-null    object        \n",
      "dtypes: datetime64[ns](1), float64(1), int64(9), object(1)\n",
      "memory usage: 22.2+ KB\n"
     ]
    }
   ],
   "source": [
    "avati_df.info()"
   ]
  },
  {
   "cell_type": "markdown",
   "metadata": {},
   "source": [
    "## 애드팝콘 revenue api"
   ]
  },
  {
   "cell_type": "code",
   "execution_count": 226,
   "metadata": {},
   "outputs": [],
   "source": [
    "import datetime\n",
    "import calendar\n",
    "\n",
    "token = pd.read_csv('./access.csv').loc[0]['token']\n",
    "\n",
    "start_date = date.today() - timedelta(days=120)\n",
    "end_date = date.today() - timedelta(days=1)\n",
    "start_date = start_date.strftime('%Y-%m-%d')\n",
    "end_date = end_date.strftime('%Y-%m-%d')\n",
    "\n",
    "\n",
    "def get_daterange(year, month):\n",
    "    \n",
    "    start_date = datetime.date(year,month,1)\n",
    "    end_date = datetime.date(year,month,calendar.monthrange(year,month)[1])\n",
    "    start_date = start_date.strftime('%Y-%m-%d')\n",
    "    end_date = end_date.strftime('%Y-%m-%d')\n",
    "\n",
    "    return start_date, end_date\n",
    "\n",
    "def get_json_from_url(url):\n",
    "    try:\n",
    "        response = requests.get(url)\n",
    "        response.raise_for_status()  # 요청이 성공하지 못하면 예외 발생\n",
    "        data = response.json()  # 응답을 JSON 형식으로 파싱\n",
    "        return data\n",
    "    except requests.exceptions.HTTPError as http_err:\n",
    "        print(f\"HTTP error occurred: {http_err}\")  # HTTP 오류 처리\n",
    "    except Exception as err:\n",
    "        print(f\"An error occurred: {err}\")  # 기타 오류 처리\n",
    "    return None\n",
    "\n",
    "def get_table(token, start_date,end_date):\n",
    "    url = f\"https://report.ad-brix.com/v1/Revenue?access_token={token}&startDate={start_date}&endDate={end_date}&format=json\"\n",
    "    json_data = get_json_from_url(url)\n",
    "    \n",
    "    try:\n",
    "        df = pd.json_normalize(\n",
    "            json_data['Datas']\n",
    "        )    \n",
    "\n",
    "        df['ReportDate'] = pd.to_datetime(df['ReportDate'])\n",
    "        df.rename(columns={'ReportDate':'event_date'},inplace=True)\n",
    "        return df\n",
    "    except Exception as e:\n",
    "        print(json_data)\n",
    "        print(e)\n",
    "\n",
    "def init():\n",
    "    temp = pd.DataFrame()\n",
    "    token = pd.read_csv('./access.csv').loc[0]['token']\n",
    "    for m in range(4,9):\n",
    "        start_date, end_date = get_daterange(2024,m)\n",
    "        df = get_table(token,start_date,end_date)\n",
    "        temp = pd.concat([temp,df],axis=0)\n",
    "    \n",
    "    return temp\n",
    "\n",
    "adpopcorn_df = init()"
   ]
  },
  {
   "cell_type": "code",
   "execution_count": 233,
   "metadata": {},
   "outputs": [
    {
     "name": "stdout",
     "output_type": "stream",
     "text": [
      "<class 'pandas.core.frame.DataFrame'>\n",
      "Index: 153 entries, 0 to 30\n",
      "Data columns (total 16 columns):\n",
      " #   Column                    Non-Null Count  Dtype         \n",
      "---  ------                    --------------  -----         \n",
      " 0   event_date                153 non-null    datetime64[ns]\n",
      " 1   TotalRevenue              153 non-null    float64       \n",
      " 2   DAU                       153 non-null    int64         \n",
      " 3   Offerwall.OfferwallVisit  153 non-null    int64         \n",
      " 4   Offerwall.Conversion      153 non-null    int64         \n",
      " 5   Offerwall.CVR             153 non-null    float64       \n",
      " 6   Offerwall.Revenue         153 non-null    float64       \n",
      " 7   RCPM.Impression           153 non-null    int64         \n",
      " 8   RCPM.Click                153 non-null    int64         \n",
      " 9   RCPM.CTR                  153 non-null    float64       \n",
      " 10  RCPM.eCPM                 153 non-null    float64       \n",
      " 11  RCPM.Revenue              153 non-null    float64       \n",
      " 12  ContentsClick.Impression  153 non-null    int64         \n",
      " 13  ContentsClick.Click       153 non-null    int64         \n",
      " 14  ContentsClick.CVR         153 non-null    float64       \n",
      " 15  ContentsClick.Revenue     153 non-null    float64       \n",
      "dtypes: datetime64[ns](1), float64(8), int64(7)\n",
      "memory usage: 20.3 KB\n"
     ]
    }
   ],
   "source": [
    "adpopcorn_df.info()"
   ]
  },
  {
   "cell_type": "markdown",
   "metadata": {},
   "source": [
    "https://report.ad-brix.com/v1/Revenue?access_token=81289be620467f6efd4e2d522febc1cd&startDate=2024-08-01&endDate=2024-08-02&format=json"
   ]
  },
  {
   "cell_type": "markdown",
   "metadata": {},
   "source": [
    "## 핀크럭스"
   ]
  },
  {
   "cell_type": "code",
   "execution_count": 207,
   "metadata": {},
   "outputs": [],
   "source": [
    "meta = {\n",
    "    'pubkey':{\n",
    "        'aos' : '911707',\n",
    "        'ios' : '911708'\n",
    "    },\n",
    "    'account_id':'admin@hectobalso.com'\n",
    "}"
   ]
  },
  {
   "cell_type": "code",
   "execution_count": 110,
   "metadata": {},
   "outputs": [],
   "source": [
    "start_date = '2024-08-01'\n",
    "end_date = '2024-08-05'"
   ]
  },
  {
   "cell_type": "code",
   "execution_count": 234,
   "metadata": {},
   "outputs": [],
   "source": [
    "def set_meta(target_date,platform):\n",
    "    url = 'https://ssl.pincrux.com/api/pub_report.pin'\n",
    "    params = {\n",
    "        'account_id': meta['account_id'],\n",
    "        'api_token':'sffubhoaqzywecasaranovlybhgeunwc',\n",
    "        'pubkey':meta['pubkey'][platform],\n",
    "        'start_date':target_date,\n",
    "        'end_date':target_date\n",
    "    }\n",
    "\n",
    "    return url, params\n",
    "\n",
    "def get_data(url, params):\n",
    "    response = requests.get(url,params=params)\n",
    "    if response.status_code == 200:\n",
    "        json_data = response.json()\n",
    "    else:\n",
    "        print('error')\n",
    "        \n",
    "    df = pd.json_normalize(\n",
    "        json_data['item_list'],\n",
    "    )\n",
    "\n",
    "    return df\n",
    "\n",
    "def get_run_loop(diff,start_date_dt,platform):\n",
    "    temp_ = pd.DataFrame()\n",
    "    for i in range(diff+1):\n",
    "        target_date = start_date_dt + timedelta(days=i)\n",
    "        target_date = datetime.datetime.strftime(target_date,'%Y-%m-%d')\n",
    "        url, params = set_meta(target_date,platform)\n",
    "        df = get_data(url, params)\n",
    "        df['event_date'] = target_date\n",
    "        df['platform'] = platform\n",
    "        temp_ = pd.concat([temp_,df],axis=0)\n",
    "    \n",
    "    return temp_\n",
    "\n",
    "def init():\n",
    "    start_date = '2024-05-01'\n",
    "    end_date = '2024-08-21'\n",
    "    start_date_dt = datetime.datetime.strptime(start_date, '%Y-%m-%d')\n",
    "    end_date_dt = datetime.datetime.strptime(end_date, '%Y-%m-%d')\n",
    "\n",
    "    diff = end_date_dt - start_date_dt\n",
    "    diff = diff.days\n",
    "\n",
    "    aos_df = get_run_loop(diff,start_date_dt,platform='aos')\n",
    "    ios_df = get_run_loop(diff,start_date_dt,platform='ios')\n",
    "    \n",
    "    fin_df = pd.concat([aos_df,ios_df],axis=0)\n",
    "    fin_df['event_date'] = pd.to_datetime(fin_df['event_date'])\n",
    "    \n",
    "    return fin_df\n",
    "\n",
    "pincrux_df = init()\n"
   ]
  },
  {
   "cell_type": "code",
   "execution_count": 235,
   "metadata": {},
   "outputs": [
    {
     "name": "stdout",
     "output_type": "stream",
     "text": [
      "<class 'pandas.core.frame.DataFrame'>\n",
      "Index: 22107 entries, 0 to 33\n",
      "Data columns (total 9 columns):\n",
      " #   Column        Non-Null Count  Dtype         \n",
      "---  ------        --------------  -----         \n",
      " 0   event_date    22107 non-null  datetime64[ns]\n",
      " 1   platform      22107 non-null  object        \n",
      " 2   pubkey        22107 non-null  float64       \n",
      " 3   pub_nm        22107 non-null  object        \n",
      " 4   appkey        22107 non-null  float64       \n",
      " 5   app_nm        22107 non-null  object        \n",
      " 6   click_cnt     22107 non-null  float64       \n",
      " 7   complete_cnt  22107 non-null  float64       \n",
      " 8   commission    22107 non-null  float64       \n",
      "dtypes: datetime64[ns](1), float64(5), object(3)\n",
      "memory usage: 1.7+ MB\n"
     ]
    }
   ],
   "source": [
    "\n",
    "pincrux_df.info()"
   ]
  },
  {
   "cell_type": "markdown",
   "metadata": {},
   "source": [
    "## GCP 테이블 생성"
   ]
  },
  {
   "cell_type": "code",
   "execution_count": 39,
   "metadata": {},
   "outputs": [],
   "source": [
    "from google.cloud import bigquery\n",
    "from google.cloud.bigquery import job\n",
    "import pandas as pd\n",
    "import os\n",
    "from tqdm import tqdm\n",
    "import pandas as pd\n",
    "from google.oauth2 import service_account\n",
    "PROJCECT = 'ballosodeuk'\n",
    "bq = bigquery.Client(project=PROJCECT)"
   ]
  },
  {
   "cell_type": "code",
   "execution_count": 40,
   "metadata": {},
   "outputs": [],
   "source": [
    "def set_table(df, table_id):\n",
    "    project_id = 'ballosodeuk'\n",
    "    dataset_id = 'external_mart'\n",
    "    table_id = table_id\n",
    "    table_full_id = f'{project_id}.{dataset_id}.{table_id}'\n",
    "    \n",
    "    df.columns = df.columns.str.replace('.', '_')\n",
    "\n",
    "    try:\n",
    "        # BigQuery 클라이언트 생성\n",
    "        client = bigquery.Client(project=project_id)\n",
    "        \n",
    "        # 테이블에 대한 job 설정\n",
    "        job_config = bigquery.LoadJobConfig(\n",
    "            write_disposition=bigquery.WriteDisposition.WRITE_TRUNCATE  # 기존 테이블을 대체\n",
    "        )\n",
    "        \n",
    "        # DataFrame을 BigQuery 테이블로 업로드\n",
    "        job = client.load_table_from_dataframe(df, table_full_id, job_config=job_config)\n",
    "        job.result()  # 작업이 완료될 때까지 대기\n",
    "        \n",
    "        print(\"Table is set successfully.\")\n",
    "    except Exception as e:\n",
    "        print(f\"An error occurred: {e}\")"
   ]
  },
  {
   "cell_type": "code",
   "execution_count": 96,
   "metadata": {},
   "outputs": [
    {
     "name": "stdout",
     "output_type": "stream",
     "text": [
      "Table is set successfully.\n"
     ]
    }
   ],
   "source": [
    "set_table(df,'offerwall_adpopcorn_optincome')"
   ]
  },
  {
   "cell_type": "code",
   "execution_count": 59,
   "metadata": {},
   "outputs": [
    {
     "name": "stdout",
     "output_type": "stream",
     "text": [
      "Table is set successfully.\n"
     ]
    }
   ],
   "source": [
    "set_table(result_data,'offerwall_avati_pnl')"
   ]
  },
  {
   "cell_type": "code",
   "execution_count": 213,
   "metadata": {},
   "outputs": [
    {
     "name": "stdout",
     "output_type": "stream",
     "text": [
      "Table is set successfully.\n"
     ]
    }
   ],
   "source": [
    "set_table(df,'offerwall_pincrux_revenue')"
   ]
  },
  {
   "cell_type": "code",
   "execution_count": 58,
   "metadata": {},
   "outputs": [
    {
     "name": "stderr",
     "output_type": "stream",
     "text": [
      "C:\\Users\\Owner\\AppData\\Local\\Temp\\ipykernel_43084\\3727451725.py:1: FutureWarning: Downcasting object dtype arrays on .fillna, .ffill, .bfill is deprecated and will change in a future version. Call result.infer_objects(copy=False) instead. To opt-in to the future behavior, set `pd.set_option('future.no_silent_downcasting', True)`\n",
      "  result_data.fillna(0,inplace=True)\n"
     ]
    }
   ],
   "source": [
    "result_data.fillna(0,inplace=True)"
   ]
  }
 ],
 "metadata": {
  "kernelspec": {
   "display_name": "pymc",
   "language": "python",
   "name": "python3"
  },
  "language_info": {
   "codemirror_mode": {
    "name": "ipython",
    "version": 3
   },
   "file_extension": ".py",
   "mimetype": "text/x-python",
   "name": "python",
   "nbconvert_exporter": "python",
   "pygments_lexer": "ipython3",
   "version": "3.9.18"
  }
 },
 "nbformat": 4,
 "nbformat_minor": 2
}
